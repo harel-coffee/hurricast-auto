{
 "cells": [
  {
   "cell_type": "code",
   "execution_count": 88,
   "metadata": {
    "collapsed": true,
    "deletable": true,
    "editable": true
   },
   "outputs": [],
   "source": [
    "from __future__ import print_function\n",
    "import torch\n",
    "import numpy as np\n",
    "\n",
    "dtype = torch.float\n",
    "device = torch.device(\"cpu\")\n",
    "# device = torch.device(\"cuda:0\") # Uncomment this to run on GPU\n",
    "\n"
   ]
  },
  {
   "cell_type": "code",
   "execution_count": null,
   "metadata": {
    "collapsed": true
   },
   "outputs": [],
   "source": [
    "#Create a randon tensor\n",
    "\n",
    "#tensor size\n",
    "m,n,t= 6,6,6\n",
    "# create sparse tensor X with ones at idx \n",
    "idx = torch.LongTensor([[0, 1, 1],\n",
    "                          [2, 0, 2],\n",
    "                           [1,1,2]]) #idx for \n",
    "value = torch.ones(3)\n",
    "X=torch.sparse.FloatTensor(idx, value, torch.Size([m,n,t])).to_dense()"
   ]
  },
  {
   "cell_type": "code",
   "execution_count": 89,
   "metadata": {
    "collapsed": false,
    "deletable": true,
    "editable": true
   },
   "outputs": [
    {
     "data": {
      "text/plain": [
       "(tensor([[0., 1., 0.],\n",
       "         [1., 0., 0.],\n",
       "         [0., 0., 0.],\n",
       "         [0., 0., 0.],\n",
       "         [0., 0., 1.],\n",
       "         [0., 0., 0.]]), tensor([[-0., -0.,  0.],\n",
       "         [-1., -0.,  0.],\n",
       "         [-0., -1.,  0.],\n",
       "         [-0., -0.,  0.],\n",
       "         [-0., -0.,  1.],\n",
       "         [-0., -0.,  0.]]))"
      ]
     },
     "execution_count": 89,
     "metadata": {},
     "output_type": "execute_result"
    }
   ],
   "source": [
    "#SVD \n",
    "def svd(X):\n",
    "    r=3 \n",
    "    #Mode-1 folding\n",
    "    X1= X.reshape(m,n*t)\n",
    "    U,S,V= torch.svd(X1,some=True, compute_uv=True) \n",
    "    U1=U[:,:r]\n",
    "    #Mode-2 folding\n",
    "    X2= X.reshape(m*t,n) \n",
    "    U,S,V= torch.svd(X2,some=True, compute_uv=True) \n",
    "    V1=V[:,:r]\n",
    "    return U1,V1\n",
    "U1,V1= svd(X)\n",
    "U1,V1\n"
   ]
  },
  {
   "cell_type": "code",
   "execution_count": 92,
   "metadata": {
    "collapsed": true,
    "deletable": true,
    "editable": true
   },
   "outputs": [],
   "source": [
    "#Update S based on U1, V1\n",
    "def update_s(U, X, V):\n",
    "    new_s = torch.empty((r,r,t))\n",
    "    for i in range(t): \n",
    "        m1 = torch.mm(torch.t(U),X[i]) #torch.t = transpose\n",
    "        m2 = torch.mm(m1,V)\n",
    "        new_s[:,:,i]=m2\n",
    "    return new_s\n",
    "S=update_s(U1,X,V1)"
   ]
  },
  {
   "cell_type": "code",
   "execution_count": 103,
   "metadata": {
    "collapsed": true,
    "deletable": true,
    "editable": true
   },
   "outputs": [],
   "source": [
    "#Compute Z:\n",
    "def update_z(U,V,S):\n",
    "    new_z = torch.empty((m,n,t))\n",
    "    for i in range(t): \n",
    "        S_t=S[:,:,i]\n",
    "        m1 = torch.mm(U,S_t)\n",
    "        m2 = torch.mm(m1,torch.t(V))\n",
    "        new_z[:,:,i]=m2\n",
    "    return new_z\n",
    "Z=update_z(U1,V1,S)\n",
    "\n"
   ]
  },
  {
   "cell_type": "code",
   "execution_count": null,
   "metadata": {
    "collapsed": true,
    "deletable": true,
    "editable": true
   },
   "outputs": [],
   "source": [
    "  "
   ]
  },
  {
   "cell_type": "code",
   "execution_count": 28,
   "metadata": {
    "collapsed": false,
    "deletable": true,
    "editable": true
   },
   "outputs": [
    {
     "data": {
      "text/plain": [
       "(array([[0., 1., 0.],\n",
       "        [1., 0., 0.],\n",
       "        [0., 0., 1.]], dtype=float32),\n",
       " array([1.4142135, 1.       , 0.       ], dtype=float32),\n",
       " array([[ 0.        ,  0.70710677,  0.        ,  0.        ,  0.        ,\n",
       "          0.        ,  0.        ,  0.        ,  0.70710677],\n",
       "        [ 0.        ,  0.        ,  0.        ,  0.        ,  0.        ,\n",
       "          0.        ,  0.        ,  1.        ,  0.        ],\n",
       "        [ 0.        ,  0.        ,  1.        ,  0.        ,  0.        ,\n",
       "          0.        ,  0.        ,  0.        ,  0.        ],\n",
       "        [ 0.        ,  0.        ,  0.        ,  1.        ,  0.        ,\n",
       "          0.        ,  0.        ,  0.        ,  0.        ],\n",
       "        [ 0.        ,  0.        ,  0.        ,  0.        ,  1.        ,\n",
       "          0.        ,  0.        ,  0.        ,  0.        ],\n",
       "        [ 0.        ,  0.        ,  0.        ,  0.        ,  0.        ,\n",
       "          1.        ,  0.        ,  0.        ,  0.        ],\n",
       "        [ 0.        ,  0.        ,  0.        ,  0.        ,  0.        ,\n",
       "          0.        ,  1.        ,  0.        ,  0.        ],\n",
       "        [-1.        ,  0.        ,  0.        ,  0.        ,  0.        ,\n",
       "          0.        ,  0.        ,  0.        ,  0.        ],\n",
       "        [ 0.        , -0.70710677,  0.        ,  0.        ,  0.        ,\n",
       "          0.        ,  0.        ,  0.        ,  0.70710677]],\n",
       "       dtype=float32))"
      ]
     },
     "execution_count": 28,
     "metadata": {},
     "output_type": "execute_result"
    }
   ],
   "source": []
  },
  {
   "cell_type": "code",
   "execution_count": 49,
   "metadata": {
    "collapsed": false,
    "deletable": true,
    "editable": true
   },
   "outputs": [
    {
     "data": {
      "text/plain": [
       "(torch.Size([6, 6, 6]), torch.Size([6, 6, 18]))"
      ]
     },
     "execution_count": 49,
     "metadata": {},
     "output_type": "execute_result"
    }
   ],
   "source": [
    "# useful website for operations: https://jhui.github.io/2018/02/09/PyTorch-Basic-operations/\n",
    "X_5= torch.cat((X,X,X), dim=2) # Concatenate X's in the 0 dimension\n",
    "\n",
    "X.shape, X_5.shape"
   ]
  },
  {
   "cell_type": "code",
   "execution_count": null,
   "metadata": {
    "collapsed": true,
    "deletable": true,
    "editable": true
   },
   "outputs": [],
   "source": []
  }
 ],
 "metadata": {
  "kernelspec": {
   "display_name": "Python 3",
   "language": "python",
   "name": "python3"
  },
  "language_info": {
   "codemirror_mode": {
    "name": "ipython",
    "version": 3
   },
   "file_extension": ".py",
   "mimetype": "text/x-python",
   "name": "python",
   "nbconvert_exporter": "python",
   "pygments_lexer": "ipython3",
   "version": "3.5.2"
  }
 },
 "nbformat": 4,
 "nbformat_minor": 2
}
