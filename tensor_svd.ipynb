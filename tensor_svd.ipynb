{
 "cells": [
  {
   "cell_type": "code",
   "execution_count": 1,
   "metadata": {
    "collapsed": true
   },
   "outputs": [],
   "source": [
    "from __future__ import print_function\n",
    "import torch\n",
    "import numpy as np\n",
    "import matplotlib.pyplot as plt\n",
    "\n",
    "\n",
    "dtype = torch.float\n",
    "device = torch.device(\"cpu\")\n",
    "# device = torch.device(\"cuda:0\") # Uncomment this to run on GPU\n",
    "\n"
   ]
  },
  {
   "cell_type": "code",
   "execution_count": 3,
   "metadata": {
    "collapsed": true
   },
   "outputs": [],
   "source": [
    "#Create a randon tensor\n",
    "\n",
    "#tensor size\n",
    "#m,n,t= 110,6,120\n",
    "#r=5\n",
    "# create sparse tensor X with ones at idx \n",
    "#idx = torch.LongTensor([[0, 1, 1],\n",
    "#                          [2, 0, 2],\n",
    " #                          [1,1,2]]) #idx for \n",
    "#value = torch.ones(3)\n",
    "#X=torch.sparse.FloatTensor(idx, value, torch.Size([m,n,t])).to_dense()"
   ]
  },
  {
   "cell_type": "code",
   "execution_count": 11,
   "metadata": {
    "collapsed": true
   },
   "outputs": [],
   "source": [
    "#Generate a random tensor\n",
    "m,n,t= 110,25,120\n",
    "r=5\n",
    "X= torch.rand(m,n,t)\n",
    "X.shape\n",
    "\n",
    "#make last row = 0 to mimic missing data \n",
    "X_missing = X.clone()\n",
    "X_missing[-1:,:,:]=0 "
   ]
  },
  {
   "cell_type": "code",
   "execution_count": 12,
   "metadata": {
    "collapsed": true
   },
   "outputs": [],
   "source": [
    "#2 dimensional SVD \n",
    "def mat_svd(X,r):\n",
    "    #Mode-1 folding\n",
    "    X1= X.reshape(m,n*t)\n",
    "    U,S,V= torch.svd(X1,some=True, compute_uv=True) \n",
    "    U1=U[:,:r]\n",
    "    #Mode-2 folding\n",
    "    X2= X.reshape(m*t,n) \n",
    "    U,S,V= torch.svd(X2,some=True, compute_uv=True) \n",
    "    V1=V[:,:r]\n",
    "    return U1,V1\n",
    "\n",
    "#calculate MAE:\n",
    "def get_mae(tensor1,tensor2):\n",
    "    error = (tensor1-tensor2).abs().sum().item()\n",
    "    return error \n",
    "\n",
    "\n",
    "#Slice Iteration: for one iteration \n",
    "def slice_iteration(tensor,r):\n",
    "    new_tensor = torch.empty((m,n,t)) \n",
    "    #get U,V\n",
    "    U,V = mat_svd(tensor, r)\n",
    "    \n",
    "    #update tensor \n",
    "    UU = torch.mm(U,torch.t(U))\n",
    "    VV = torch.mm(V,torch.t(V))\n",
    "    for i in range(t):\n",
    "        new_tensor[:,:,i] = torch.mm(torch.mm(UU, tensor[:,:,i]),VV) \n",
    "    return new_tensor "
   ]
  },
  {
   "cell_type": "code",
   "execution_count": 20,
   "metadata": {},
   "outputs": [
    {
     "name": "stdout",
     "output_type": "stream",
     "text": [
      "Code stopped at iteration = 8, and mae difference = 0.6151261925697327\n"
     ]
    },
    {
     "data": {
      "image/png": "[encoded data removed]",
      "text/plain": [
       "<matplotlib.figure.Figure at 0x130cc6c50>"
      ]
     },
     "metadata": {},
     "output_type": "display_data"
    },
    {
     "name": "stdout",
     "output_type": "stream",
     "text": [
      "The MAE between X_imputed and X_original is 83086.5625\n"
     ]
    }
   ],
   "source": [
    "#Slice Learning \n",
    "def slice_learning(tensor_train,r,max_iteration=50,convergence=1):\n",
    "    m,n,t= tensor_train.shape \n",
    "    new_tensor= torch.empty((m,n,t)) \n",
    "    old_tensor = tensor_train \n",
    "    mae_all=[]\n",
    "    \n",
    "    mae = 100 \n",
    "    #Iterative slice learning \n",
    "    for i in range(max_iteration): \n",
    "        if mae > 1: \n",
    "            new_tensor = slice_iteration(old_tensor,r)\n",
    "            mae= get_mae(new_tensor,old_tensor) \n",
    "            mae_all.append(mae)\n",
    "            old_tensor = new_tensor \n",
    "    \n",
    "    #plot MAE difference between iterations   \n",
    "    max_i = len(mae_all)\n",
    "\n",
    "    print('Code stopped at iteration = %s, and mae difference = %s'%(max_i,mae_all[-1]))\n",
    "    plt.plot(np.linspace(1,max_i,max_i),mae_all)\n",
    "    plt.show()\n",
    "    return new_tensor \n",
    "\n",
    "X_imputed = slice_learning(X_missing,5)\n",
    "\n",
    "#find the MAE difference between X_imputed and X_original\n",
    "print('The MAE between X_imputed and X_original is %s' %(get_mae(X_imputed,X)))\n"
   ]
  },
  {
   "cell_type": "markdown",
   "metadata": {},
   "source": [
    "# OLD CODE"
   ]
  },
  {
   "cell_type": "code",
   "execution_count": null,
   "metadata": {
    "collapsed": true
   },
   "outputs": [],
   "source": [
    "# -------------- OLD CODE --------------------------- \n",
    "#Update S based on U1, V1\n",
    "def update_s(U, X, V, r ):\n",
    "    new_s = torch.empty((r,r,t))\n",
    "    for i in range(t): \n",
    "        m1 = torch.mm(torch.t(U),X[:,:,i]) #torch.t = transpose\n",
    "        m2 = torch.mm(m1,V)\n",
    "        new_s[:,:,i]=m2\n",
    "    return new_s\n",
    "\n",
    "S=update_s(U1,X,V1,r)\n",
    "S.shape"
   ]
  },
  {
   "cell_type": "code",
   "execution_count": 16,
   "metadata": {},
   "outputs": [
    {
     "data": {
      "text/plain": [
       "torch.Size([6, 8, 6])"
      ]
     },
     "execution_count": 16,
     "metadata": {},
     "output_type": "execute_result"
    }
   ],
   "source": [
    "#Compute Z:\n",
    "def update_z(U,V,S):\n",
    "    new_z = torch.empty((m,n,t))\n",
    "    for i in range(t): \n",
    "        S_t=S[:,:,i]\n",
    "        m1 = torch.mm(U,S_t)\n",
    "        m2 = torch.mm(m1,torch.t(V))\n",
    "        new_z[:,:,i]=m2\n",
    "    return new_z\n",
    "Z=update_z(U1,V1,S)\n",
    "Z.shape\n"
   ]
  },
  {
   "cell_type": "code",
   "execution_count": 38,
   "metadata": {},
   "outputs": [
    {
     "name": "stdout",
     "output_type": "stream",
     "text": [
      "code stopped at t=49 at error=36.49571990966797\n"
     ]
    },
    {
     "data": {
      "text/plain": [
       "tensor([[[0.7201, 0.5984, 0.3334, 0.4058, 0.7745, 0.7246],\n",
       "         [0.3365, 0.5038, 0.7196, 0.2490, 0.5259, 0.6062],\n",
       "         [0.5745, 0.3454, 0.5292, 0.3431, 0.6280, 0.2065],\n",
       "         [0.2914, 0.4961, 0.7749, 0.8096, 0.6014, 0.4088],\n",
       "         [0.1296, 0.6716, 0.5586, 0.8720, 0.5304, 0.8850],\n",
       "         [0.4683, 0.5141, 0.9509, 0.5084, 0.5966, 0.5021],\n",
       "         [0.5702, 0.4816, 0.4932, 0.5030, 0.6627, 0.4745],\n",
       "         [0.4946, 0.4086, 0.6385, 0.2987, 0.5679, 0.3797]],\n",
       "\n",
       "        [[0.4001, 0.4960, 0.5261, 0.6821, 0.2922, 0.6455],\n",
       "         [0.5114, 0.3261, 0.6590, 0.4451, 0.3297, 0.3082],\n",
       "         [0.2923, 0.3635, 0.5312, 0.3355, 0.5925, 0.2037],\n",
       "         [0.2609, 0.3352, 0.5319, 0.6949, 0.5019, 0.1892],\n",
       "         [0.3022, 0.2974, 0.3956, 0.9719, 0.0465, 0.5117],\n",
       "         [0.4090, 0.6108, 0.7789, 0.7017, 0.4466, 0.1541],\n",
       "         [0.2970, 0.4567, 0.5146, 0.6162, 0.4007, 0.3750],\n",
       "         [0.3722, 0.4233, 0.6094, 0.4297, 0.4484, 0.2216]],\n",
       "\n",
       "        [[0.2426, 0.7154, 0.6921, 0.5383, 0.2818, 0.7561],\n",
       "         [0.3697, 0.4585, 0.5307, 0.7572, 0.2499, 0.4367],\n",
       "         [0.3192, 0.5929, 0.4335, 0.4742, 0.4763, 0.2214],\n",
       "         [0.6654, 0.4360, 0.3755, 0.5742, 0.5066, 0.3172],\n",
       "         [0.6111, 0.2933, 0.4553, 0.5643, 0.1634, 0.7557],\n",
       "         [0.5825, 0.6630, 0.5909, 0.8069, 0.6729, 0.2753],\n",
       "         [0.3760, 0.6186, 0.5315, 0.5038, 0.4375, 0.4607],\n",
       "         [0.3500, 0.5756, 0.5006, 0.6094, 0.4475, 0.2874]],\n",
       "\n",
       "        [[0.6693, 0.6222, 0.3579, 0.4425, 0.4869, 0.4805],\n",
       "         [0.2401, 0.6262, 0.5835, 0.2938, 0.3616, 0.4431],\n",
       "         [0.4304, 0.5518, 0.6973, 0.5480, 0.5822, 0.3085],\n",
       "         [0.2771, 0.6435, 0.9264, 0.7745, 0.5166, 0.5544],\n",
       "         [0.2639, 0.6016, 0.4882, 0.5487, 0.2576, 0.6939],\n",
       "         [0.4130, 0.6056, 1.0201, 0.6518, 0.3176, 0.5179],\n",
       "         [0.5207, 0.5609, 0.6149, 0.5765, 0.4655, 0.4408],\n",
       "         [0.3863, 0.5457, 0.6906, 0.4578, 0.4161, 0.3658]],\n",
       "\n",
       "        [[0.4187, 0.7566, 0.5640, 0.2548, 0.3913, 0.5534],\n",
       "         [0.1924, 0.5959, 0.3539, 0.6228, 0.2135, 0.5092],\n",
       "         [0.3909, 0.6467, 0.4319, 0.5330, 0.3365, 0.2715],\n",
       "         [0.7142, 0.6145, 0.4900, 0.5315, 0.4744, 0.5449],\n",
       "         [0.6615, 0.5229, 0.4639, 0.1847, 0.4120, 0.8098],\n",
       "         [0.5981, 0.6047, 0.5849, 0.6822, 0.5878, 0.5097],\n",
       "         [0.5295, 0.6475, 0.5266, 0.3655, 0.4468, 0.4524],\n",
       "         [0.3499, 0.5929, 0.4370, 0.5585, 0.3549, 0.3654]],\n",
       "\n",
       "        [[1.0107, 0.5500, 0.5536, 0.1249, 0.3967, 0.0630],\n",
       "         [0.6943, 0.3772, 0.1182, 0.2157, 0.1260, 0.3751],\n",
       "         [0.3988, 0.2520, 0.3900, 0.1952, 0.0586, 0.3569],\n",
       "         [0.5171, 0.7073, 0.3634, 0.6223, 0.5271, 0.5753],\n",
       "         [0.9673, 0.9935, 0.3058, 0.6152, 0.8955, 0.3103],\n",
       "         [0.6905, 0.6710, 0.4813, 0.5027, 0.3761, 0.5025],\n",
       "         [0.7021, 0.5431, 0.5126, 0.2974, 0.3778, 0.2559],\n",
       "         [0.5505, 0.3574, 0.3452, 0.2306, 0.1293, 0.3464]]])"
      ]
     },
     "execution_count": 38,
     "metadata": {},
     "output_type": "execute_result"
    },
    {
     "data": {
      "image/png": "[encoded data removed]",
      "text/plain": [
       "<Figure size 432x288 with 1 Axes>"
      ]
     },
     "metadata": {
      "needs_background": "light"
     },
     "output_type": "display_data"
    }
   ],
   "source": [
    "#wrap up everything \n",
    "def tensor_svd(Z0,r,T=50):\n",
    "    #warm-start Z\n",
    "    R=torch.rand(Z0.shape)\n",
    "    error=100\n",
    "    error_all=[]\n",
    "    for t in range(T):\n",
    "        if error > 1: \n",
    "            U1,V1= mat_svd(R,r)\n",
    "            S=update_s(U1,R,V1,r)\n",
    "            Z1=update_z(U1,V1,S)\n",
    "            R=Z1\n",
    "             \n",
    "            #calculate and record error \n",
    "            error=(Z1-Z0).pow(2).sum().item()\n",
    "            error_all.append(error)\n",
    "    \n",
    "    #plot error change\n",
    "    L=len(error_all)\n",
    "    plt.plot(np.linspace(1,L,L),error_all)\n",
    "    \n",
    "    print('code stopped at t=%s at error=%s'%(t,error))    \n",
    "    return Z1    \n",
    "            \n",
    "tensor_svd(X,r)         "
   ]
  },
  {
   "cell_type": "code",
   "execution_count": null,
   "metadata": {
    "collapsed": true
   },
   "outputs": [],
   "source": []
  },
  {
   "cell_type": "code",
   "execution_count": 36,
   "metadata": {},
   "outputs": [
    {
     "data": {
      "text/plain": [
       "(torch.Size([6, 6, 6]), torch.Size([6, 6, 18]))"
      ]
     },
     "execution_count": 36,
     "metadata": {},
     "output_type": "execute_result"
    }
   ],
   "source": [
    "# useful website for operations: https://jhui.github.io/2018/02/09/PyTorch-Basic-operations/\n",
    "X_5= torch.cat((X,X,X), dim=2) # Concatenate X's in the 0 dimension\n",
    "\n",
    "X.shape, X_5.shape"
   ]
  },
  {
   "cell_type": "code",
   "execution_count": 39,
   "metadata": {},
   "outputs": [
    {
     "ename": "ModuleNotFoundError",
     "evalue": "No module named 'processing_csv'",
     "output_type": "error",
     "traceback": [
      "\u001b[0;31m---------------------------------------------------------------------------\u001b[0m",
      "\u001b[0;31mModuleNotFoundError\u001b[0m                       Traceback (most recent call last)",
      "\u001b[0;32m<ipython-input-39-5cb4a5956586>\u001b[0m in \u001b[0;36m<module>\u001b[0;34m\u001b[0m\n\u001b[0;32m----> 1\u001b[0;31m \u001b[0;32mfrom\u001b[0m \u001b[0mprocessing_csv\u001b[0m\u001b[0;34m.\u001b[0m\u001b[0mipynb\u001b[0m \u001b[0;32mimport\u001b[0m \u001b[0;34m*\u001b[0m\u001b[0;34m\u001b[0m\u001b[0;34m\u001b[0m\u001b[0m\n\u001b[0m",
      "\u001b[0;31mModuleNotFoundError\u001b[0m: No module named 'processing_csv'"
     ]
    }
   ],
   "source": [
    "from processing_csv import *"
   ]
  },
  {
   "cell_type": "code",
   "execution_count": null,
   "metadata": {
    "collapsed": true
   },
   "outputs": [],
   "source": []
  }
 ],
 "metadata": {
  "kernelspec": {
   "display_name": "Python 3",
   "language": "python",
   "name": "python3"
  },
  "language_info": {
   "codemirror_mode": {
    "name": "ipython",
    "version": 3
   },
   "file_extension": ".py",
   "mimetype": "text/x-python",
   "name": "python",
   "nbconvert_exporter": "python",
   "pygments_lexer": "ipython3",
   "version": "3.6.8"
  }
 },
 "nbformat": 4,
 "nbformat_minor": 2
}
