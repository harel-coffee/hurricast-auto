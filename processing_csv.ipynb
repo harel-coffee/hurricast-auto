{
 "cells": [
  {
   "cell_type": "code",
   "execution_count": 198,
   "metadata": {},
   "outputs": [],
   "source": [
    "import pandas as pd \n",
    "import numpy as np\n",
    "import matplotlib.pyplot as plt\n"
   ]
  },
  {
   "cell_type": "code",
   "execution_count": 197,
   "metadata": {},
   "outputs": [
    {
     "name": "stderr",
     "output_type": "stream",
     "text": [
      "/Users/leobix/anaconda3/lib/python3.6/site-packages/IPython/core/interactiveshell.py:2698: DtypeWarning: Columns (1,2,8,9,14,19,20,25,161,162) have mixed types. Specify dtype option on import or set low_memory=False.\n",
      "  interactivity=interactivity, compiler=compiler, result=result)\n"
     ]
    },
    {
     "data": {
      "text/html": [
       "<div>\n",
       "<style scoped>\n",
       "    .dataframe tbody tr th:only-of-type {\n",
       "        vertical-align: middle;\n",
       "    }\n",
       "\n",
       "    .dataframe tbody tr th {\n",
       "        vertical-align: top;\n",
       "    }\n",
       "\n",
       "    .dataframe thead th {\n",
       "        text-align: right;\n",
       "    }\n",
       "</style>\n",
       "<table border=\"1\" class=\"dataframe\">\n",
       "  <thead>\n",
       "    <tr style=\"text-align: right;\">\n",
       "      <th></th>\n",
       "      <th>SID</th>\n",
       "      <th>SEASON</th>\n",
       "      <th>NUMBER</th>\n",
       "      <th>BASIN</th>\n",
       "      <th>SUBBASIN</th>\n",
       "      <th>NAME</th>\n",
       "      <th>ISO_TIME</th>\n",
       "      <th>NATURE</th>\n",
       "      <th>LAT</th>\n",
       "      <th>LON</th>\n",
       "      <th>...</th>\n",
       "      <th>BOM_GUST_PER</th>\n",
       "      <th>REUNION_GUST</th>\n",
       "      <th>REUNION_GUST_PER</th>\n",
       "      <th>USA_SEAHGT</th>\n",
       "      <th>USA_SEARAD_NE</th>\n",
       "      <th>USA_SEARAD_SE</th>\n",
       "      <th>USA_SEARAD_SW</th>\n",
       "      <th>USA_SEARAD_NW</th>\n",
       "      <th>STORM_SPEED</th>\n",
       "      <th>STORM_DIR</th>\n",
       "    </tr>\n",
       "  </thead>\n",
       "  <tbody>\n",
       "    <tr>\n",
       "      <th>0</th>\n",
       "      <td></td>\n",
       "      <td>Year</td>\n",
       "      <td></td>\n",
       "      <td></td>\n",
       "      <td></td>\n",
       "      <td></td>\n",
       "      <td></td>\n",
       "      <td></td>\n",
       "      <td>degrees_north</td>\n",
       "      <td>degrees_east</td>\n",
       "      <td>...</td>\n",
       "      <td>second</td>\n",
       "      <td>kts</td>\n",
       "      <td>second</td>\n",
       "      <td>ft</td>\n",
       "      <td>nmile</td>\n",
       "      <td>nmile</td>\n",
       "      <td>nmile</td>\n",
       "      <td>nmile</td>\n",
       "      <td>kts</td>\n",
       "      <td>degrees</td>\n",
       "    </tr>\n",
       "    <tr>\n",
       "      <th>1</th>\n",
       "      <td>2016005N02187</td>\n",
       "      <td>2016</td>\n",
       "      <td>1</td>\n",
       "      <td>EP</td>\n",
       "      <td>CP</td>\n",
       "      <td>PALI</td>\n",
       "      <td>2016-01-05 06:00:00</td>\n",
       "      <td>NR</td>\n",
       "      <td>2.00000</td>\n",
       "      <td>-173.500</td>\n",
       "      <td>...</td>\n",
       "      <td></td>\n",
       "      <td></td>\n",
       "      <td></td>\n",
       "      <td></td>\n",
       "      <td></td>\n",
       "      <td></td>\n",
       "      <td></td>\n",
       "      <td></td>\n",
       "      <td>3</td>\n",
       "      <td>73</td>\n",
       "    </tr>\n",
       "    <tr>\n",
       "      <th>2</th>\n",
       "      <td>2016005N02187</td>\n",
       "      <td>2016</td>\n",
       "      <td>1</td>\n",
       "      <td>EP</td>\n",
       "      <td>CP</td>\n",
       "      <td>PALI</td>\n",
       "      <td>2016-01-05 09:00:00</td>\n",
       "      <td>NR</td>\n",
       "      <td>2.04500</td>\n",
       "      <td>-173.353</td>\n",
       "      <td>...</td>\n",
       "      <td></td>\n",
       "      <td></td>\n",
       "      <td></td>\n",
       "      <td></td>\n",
       "      <td></td>\n",
       "      <td></td>\n",
       "      <td></td>\n",
       "      <td></td>\n",
       "      <td>3</td>\n",
       "      <td>71</td>\n",
       "    </tr>\n",
       "    <tr>\n",
       "      <th>3</th>\n",
       "      <td>2016005N02187</td>\n",
       "      <td>2016</td>\n",
       "      <td>1</td>\n",
       "      <td>EP</td>\n",
       "      <td>CP</td>\n",
       "      <td>PALI</td>\n",
       "      <td>2016-01-05 12:00:00</td>\n",
       "      <td>NR</td>\n",
       "      <td>2.10000</td>\n",
       "      <td>-173.200</td>\n",
       "      <td>...</td>\n",
       "      <td></td>\n",
       "      <td></td>\n",
       "      <td></td>\n",
       "      <td></td>\n",
       "      <td></td>\n",
       "      <td></td>\n",
       "      <td></td>\n",
       "      <td></td>\n",
       "      <td>3</td>\n",
       "      <td>67</td>\n",
       "    </tr>\n",
       "    <tr>\n",
       "      <th>4</th>\n",
       "      <td>2016005N02187</td>\n",
       "      <td>2016</td>\n",
       "      <td>1</td>\n",
       "      <td>EP</td>\n",
       "      <td>CP</td>\n",
       "      <td>PALI</td>\n",
       "      <td>2016-01-05 15:00:00</td>\n",
       "      <td>NR</td>\n",
       "      <td>2.17750</td>\n",
       "      <td>-173.042</td>\n",
       "      <td>...</td>\n",
       "      <td></td>\n",
       "      <td></td>\n",
       "      <td></td>\n",
       "      <td></td>\n",
       "      <td></td>\n",
       "      <td></td>\n",
       "      <td></td>\n",
       "      <td></td>\n",
       "      <td>4</td>\n",
       "      <td>56</td>\n",
       "    </tr>\n",
       "  </tbody>\n",
       "</table>\n",
       "<p>5 rows × 163 columns</p>\n",
       "</div>"
      ],
      "text/plain": [
       "             SID SEASON NUMBER BASIN SUBBASIN  NAME             ISO_TIME  \\\n",
       "0                  Year                                                    \n",
       "1  2016005N02187   2016      1    EP       CP  PALI  2016-01-05 06:00:00   \n",
       "2  2016005N02187   2016      1    EP       CP  PALI  2016-01-05 09:00:00   \n",
       "3  2016005N02187   2016      1    EP       CP  PALI  2016-01-05 12:00:00   \n",
       "4  2016005N02187   2016      1    EP       CP  PALI  2016-01-05 15:00:00   \n",
       "\n",
       "  NATURE            LAT           LON  ... BOM_GUST_PER REUNION_GUST  \\\n",
       "0         degrees_north  degrees_east  ...       second          kts   \n",
       "1     NR        2.00000      -173.500  ...                             \n",
       "2     NR        2.04500      -173.353  ...                             \n",
       "3     NR        2.10000      -173.200  ...                             \n",
       "4     NR        2.17750      -173.042  ...                             \n",
       "\n",
       "  REUNION_GUST_PER USA_SEAHGT USA_SEARAD_NE USA_SEARAD_SE USA_SEARAD_SW  \\\n",
       "0           second         ft         nmile         nmile         nmile   \n",
       "1                                                                         \n",
       "2                                                                         \n",
       "3                                                                         \n",
       "4                                                                         \n",
       "\n",
       "  USA_SEARAD_NW STORM_SPEED STORM_DIR  \n",
       "0         nmile         kts   degrees  \n",
       "1                         3        73  \n",
       "2                         3        71  \n",
       "3                         3        67  \n",
       "4                         4        56  \n",
       "\n",
       "[5 rows x 163 columns]"
      ]
     },
     "execution_count": 197,
     "metadata": {},
     "output_type": "execute_result"
    }
   ],
   "source": [
    "#here set up the path of your file, a priori it should be on same directory\n",
    "data = pd.read_csv(\"ibtracs.last3years.list.v04r00.csv\") \n",
    "# Preview the first 5 lines of the loaded data \n",
    "data.head()"
   ]
  },
  {
   "cell_type": "code",
   "execution_count": 64,
   "metadata": {},
   "outputs": [],
   "source": [
    "#allows to keep only specific columns\n",
    "def select_data(data):\n",
    "    return data[['SID', 'NUMBER', 'ISO_TIME', 'LAT', 'LON', 'WMO_WIND', 'WMO_PRES', 'DIST2LAND', 'STORM_SPEED', 'STORM_DIR']]"
   ]
  },
  {
   "cell_type": "code",
   "execution_count": null,
   "metadata": {
    "collapsed": true
   },
   "outputs": [],
   "source": [
    "#to use in the future: computes the wind category\n",
    "def sust_wind_to_cat(wind):\n",
    "    # maximum sustained wind in kt (knot)\n",
    "    if wind<=33: cat='TD' # <=33\n",
    "    elif wind<=63.:  cat='TS'\n",
    "    elif wind <=82.: cat='H1'\n",
    "    elif wind <=95.: cat='H2'\n",
    "    elif wind <=112.: cat='H3'\n",
    "    elif wind <=136.: cat='H4'\n",
    "    else: cat='H5'\n",
    "\n",
    "    return cat"
   ]
  },
  {
   "cell_type": "code",
   "execution_count": 193,
   "metadata": {
    "collapsed": true
   },
   "outputs": [],
   "source": [
    "#allows to keep only the data between two dates to specify\n",
    "def get_periodic_data(data, start ='2018-01-01',end ='2018-12-31',mincat=None,maxcat=None):\n",
    "    n = len(data)\n",
    "    start = datetime.strptime(start, '%Y-%m-%d')\n",
    "    end = datetime.strptime(end, '%Y-%m-%d')\n",
    "    times = pd.to_datetime(data['ISO_TIME'][1:n])\n",
    "    ind_start = 1\n",
    "    ind_end = n\n",
    "    i = 1\n",
    "    while times[i] < start :#or i < n:\n",
    "        i+=1\n",
    "    ind_start = i\n",
    "    while times[i] < end :#or i < n:\n",
    "        i+=1\n",
    "    ind_end = i\n",
    "    return data[ind_start:ind_end]"
   ]
  },
  {
   "cell_type": "code",
   "execution_count": 190,
   "metadata": {},
   "outputs": [],
   "source": [
    "#allows to get the distinct ids of the storms \n",
    "def get_ids(data):\n",
    "    return data.SID.unique()"
   ]
  },
  {
   "cell_type": "code",
   "execution_count": 61,
   "metadata": {},
   "outputs": [],
   "source": [
    "def get_storm_track(data, storm_id = '2016005N02187', time_step = 6):\n",
    "    #data.set_index(\"SID\", inplace=True)\n",
    "    return data.loc[data['SID'] == storm_id]"
   ]
  },
  {
   "cell_type": "code",
   "execution_count": 86,
   "metadata": {},
   "outputs": [],
   "source": [
    "lat = np.array(storm['LAT'])\n",
    "lat2 = [float(lat[i]) for i in range(len(lat))]\n",
    "lon = np.array(storm['LON'])\n",
    "lon2 = [float(lon[i]) for i in range(len(l))]"
   ]
  },
  {
   "cell_type": "code",
   "execution_count": 88,
   "metadata": {},
   "outputs": [
    {
     "data": {
      "image/png": "[encoded data removed]",
      "text/plain": [
       "<matplotlib.figure.Figure at 0x11793d400>"
      ]
     },
     "metadata": {},
     "output_type": "display_data"
    }
   ],
   "source": [
    "plt.plot(lat2, lon2)\n",
    "plt.show()"
   ]
  }
 ],
 "metadata": {
  "kernelspec": {
   "display_name": "Python 3",
   "language": "python",
   "name": "python3"
  },
  "language_info": {
   "codemirror_mode": {
    "name": "ipython",
    "version": 3
   },
   "file_extension": ".py",
   "mimetype": "text/x-python",
   "name": "python",
   "nbconvert_exporter": "python",
   "pygments_lexer": "ipython3",
   "version": "3.6.8"
  }
 },
 "nbformat": 4,
 "nbformat_minor": 2
}
