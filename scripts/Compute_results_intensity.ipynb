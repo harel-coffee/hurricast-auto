{
 "cells": [
  {
   "cell_type": "code",
   "execution_count": 61,
   "metadata": {},
   "outputs": [],
   "source": [
    "import sys\n",
    "sys.path.append(\"../\")\n",
    "from src import prepro, metrics, run, setup\n",
    "import src.models.factory as model_factory\n",
    "import config\n",
    "import torch\n",
    "\n",
    "import numpy as np\n",
    "from src.utils import models\n",
    "import os.path as osp\n",
    "import pandas as pd\n",
    "\n",
    "from xgboost import XGBClassifier\n",
    "from xgboost import XGBRegressor\n",
    "from sklearn.metrics import accuracy_score\n",
    "from sklearn.metrics import mean_absolute_error\n",
    "from src.utils.data_processing import *\n",
    "from sklearn.linear_model import Lasso\n",
    "\n",
    "window_size = 8\n",
    "predict_at = 8\n",
    "full = False\n",
    "\n",
    "tgt_intensity_cat_train = torch.LongTensor(np.load('../data/y_train_intensity_cat_1980_34_20_120_w' + str(window_size) + '_at_' + str(predict_at) + '.npy',\n",
    "                                      allow_pickle=True))\n",
    "tgt_intensity_cat_test = torch.LongTensor(np.load('../data/y_test_intensity_cat_1980_34_20_120_w' + str(window_size) + '_at_' + str(predict_at) + '.npy',\n",
    "                                     allow_pickle=True))\n",
    "\n",
    "tgt_intensity_train = torch.Tensor(np.load('../data/y_train_intensity_1980_34_20_120_w' + str(window_size) + '_at_' + str(predict_at) + '.npy',\n",
    "                                  allow_pickle=True))\n",
    "tgt_intensity_test = torch.Tensor(np.load('../data/y_test_intensity_1980_34_20_120_w' + str(window_size) + '_at_' + str(predict_at) + '.npy',\n",
    "                                 allow_pickle=True))\n",
    "\n",
    "tgt_intensity_cat_baseline_train = torch.LongTensor(np.load('../data/y_train_intensity_cat_baseline_1980_34_20_120_w' + str(window_size) + '_at_' + str(predict_at) + '.npy',  allow_pickle = True))\n",
    "tgt_intensity_cat_baseline_test = torch.LongTensor(np.load('../data/y_test_intensity_cat_baseline_1980_34_20_120_w' + str(window_size) + '_at_' + str(predict_at) + '.npy', allow_pickle=True))\n",
    "\n",
    "def standardize(tgt_displacement_train, tgt_displacement_test):\n",
    "    mean_dx = tgt_displacement_train[:, 0].mean()\n",
    "    std_dx = tgt_displacement_train[:, 0].std()\n",
    "    tgt_displacement_train[:, 0] = (tgt_displacement_train[:, 0] - mean_dx) / std_dx\n",
    "    tgt_displacement_test[:, 0] = (tgt_displacement_test[:, 0] - mean_dx) / std_dx\n",
    "    std_dx = float(std_dx)\n",
    "    mean_dx = float(mean_dx)\n",
    "    mean_dy = tgt_displacement_train[:, 1].mean()\n",
    "    std_dy = tgt_displacement_train[:, 1].std()\n",
    "    tgt_displacement_train[:, 1] = (tgt_displacement_train[:, 1] - mean_dy) / std_dy\n",
    "    tgt_displacement_test[:, 1] = (tgt_displacement_test[:, 1] - mean_dy) / std_dy\n",
    "    std_dy = float(std_dy)\n",
    "    mean_dy = float(mean_dy)\n",
    "    return tgt_displacement_train, tgt_displacement_test, std_dx, mean_dx, std_dy, mean_dy\n",
    "\n",
    "def unstandardize(tgt_displacement_train, tgt_displacement_test, std_dx, mean_dx, std_dy, mean_dy):\n",
    "    tgt_displacement_train[:, 0] = tgt_displacement_train[:, 0] *  std_dx + mean_dx\n",
    "    tgt_displacement_test[:, 0] = tgt_displacement_test[:, 0] *  std_dx + mean_dx\n",
    "    tgt_displacement_train[:, 1] = tgt_displacement_train[:, 1] * std_dy + mean_dy\n",
    "    tgt_displacement_test[:, 1] = tgt_displacement_test[:, 1] * std_dy + mean_dy\n",
    "    return tgt_displacement_train, tgt_displacement_test\n",
    "\n",
    "\n",
    "##########\n",
    "##########\n",
    "########## PREPARING DATA FOR XGB\n",
    "\n",
    "X_train = np.load('../data/X_train_stat_1980_34_20_120_w' + str(window_size) + '_at_' + str(predict_at) + '.npy',\n",
    "            allow_pickle=True)\n",
    "X_test = np.load('../data/X_test_stat_1980_34_20_120_w' + str(window_size) + '_at_' + str(predict_at) + '.npy',\n",
    "            allow_pickle=True)\n",
    "\n",
    "\n",
    "names = ['LAT', 'LON', 'WMO_WIND', 'WMO_PRES', 'DIST2LAND',\n",
    "         'STORM_SPEED', 'cat_cos_day', 'cat_sign_day', 'COS_STORM_DIR', 'SIN_STORM_DIR',\n",
    "         'COS_LAT', 'SIN_LAT', 'COS_LON', 'SIN_LON', 'cat_storm_category', 'cat_basin_AN',\n",
    "         'cat_basin_EP', 'cat_basin_NI', 'cat_basin_SA',\n",
    "         'cat_basin_SI', 'cat_basin_SP', 'cat_basin_WP', 'cat_nature_DS', 'cat_nature_ET',\n",
    "         'cat_nature_MX', 'cat_nature_NR', 'cat_nature_SS', 'cat_nature_TS',\n",
    "         'STORM_DISPLACEMENT_X', 'STORM_DISPLACEMENT_Y']\n",
    "\n",
    "names_all = names * window_size\n",
    "\n",
    "for i in range(len(names_all)):\n",
    "    names_all[i] += '_' + str(i // 30)\n",
    "\n",
    "X_train = pd.DataFrame(X_train)\n",
    "X_test = pd.DataFrame(X_test)\n",
    "X_train.columns = names_all\n",
    "X_test.columns = names_all\n",
    "\n",
    "cols = [c for c in X_train.columns if c.lower()[-2:] == '_0' or c.lower()[:3] != 'cat']\n",
    "\n",
    "X_train = X_train[cols]\n",
    "X_test = X_test[cols]"
   ]
  },
  {
   "cell_type": "code",
   "execution_count": 62,
   "metadata": {},
   "outputs": [],
   "source": [
    "#X_train_embed = np.load('../data/embeddings/X_train_embeds_1980_34_20_120_results8_16_20_44_28.npy', allow_pickle = True)\n",
    "#X_test_embed = np.load('../data/embeddings/X_test_embeds_1980_34_20_120_results8_16_20_44_28.npy', allow_pickle = True)\n",
    "X_train_embed = np.load('../data/embeddings/X_train_embed_1980_34_20_120_intensity.npy', allow_pickle = True)\n",
    "X_test_embed = np.load('../data/embeddings/X_test_embed_1980_34_20_120_intensity.npy', allow_pickle = True)\n",
    "\n",
    "#48\n",
    "#X_train_embed = np.load('../data/embeddings/X_train_embed_1980_34_20_120_intensity_48.npy', allow_pickle = True)\n",
    "#X_test_embed = np.load('../data/embeddings/X_test_embed_1980_34_20_120_intensity_48.npy', allow_pickle = True)\n",
    "\n",
    "#X_train_embed = np.load('../data/embeddings/X_train_embed_1980_34_20_120_track_48.npy', allow_pickle = True)\n",
    "#X_test_embed = np.load('../data/embeddings/X_test_embed_1980_34_20_120_track_48.npy', allow_pickle = True)\n",
    "\n",
    "X_train_total = np.concatenate((X_train, X_train_embed), axis = 1)\n",
    "X_test_total = np.concatenate((X_test, X_test_embed), axis = 1)"
   ]
  },
  {
   "cell_type": "code",
   "execution_count": 63,
   "metadata": {},
   "outputs": [],
   "source": [
    "X_test_baseline = pd.DataFrame(np.load('../data/X_test_stat_1980_34_20_120_forecast_24_2012_v2_w' + str(window_size) + '_at_' + str(predict_at) + '.npy', allow_pickle=True))\n",
    "#X_test_baseline = pd.DataFrame(np.load('../data/X_test_stat_1980_34_20_120_forecast_48_2012_v2_w' + str(window_size) + '_at_' + str(predict_at) + '.npy', allow_pickle=True))\n",
    "\n",
    "\n",
    "names_baselines = ['YEAR', 'MONTH', 'DAY', 'HOUR', 'LAT', 'LON', 'WMO_WIND', 'WMO_PRES', 'DIST2LAND', 'STORM_SPEED', 'cos_day', 'sin_day', 'COS_STORM_DIR', 'SIN_STORM_DIR', 'COS_LAT', 'SIN_LAT', 'COS_LON', 'SIN_LON', 'wind_category', 'GFDL_24_lat', 'GFDL_24_lon', 'GFDL_24_vmax', 'GFDL_24_mslp', 'GFDL_24_COS_LAT', 'GFDL_24_SIN_LAT', 'GFDL_24_COS_LON', 'GFDL_24_SIN_LON', 'CMC_24_lat', 'CMC_24_lon', 'CMC_24_vmax', 'CMC_24_mslp', 'CMC_24_COS_LAT', 'CMC_24_SIN_LAT', 'CMC_24_COS_LON', 'CMC_24_SIN_LON', 'FSSE_24_lat', 'FSSE_24_lon', 'FSSE_24_vmax', 'FSSE_24_mslp', 'FSSE_24_COS_LAT', 'FSSE_24_SIN_LAT', 'FSSE_24_COS_LON', 'FSSE_24_SIN_LON', 'OFCL_24_lat', 'OFCL_24_lon', 'OFCL_24_vmax', 'OFCL_24_mslp', 'OFCL_24_COS_LAT', 'OFCL_24_SIN_LAT', 'OFCL_24_COS_LON', 'OFCL_24_SIN_LON', 'NGPS_24_lat', 'NGPS_24_lon', 'NGPS_24_vmax', 'NGPS_24_mslp', 'NGPS_24_COS_LAT', 'NGPS_24_SIN_LAT', 'NGPS_24_COS_LON', 'NGPS_24_SIN_LON', 'DSHP_24_lat', 'DSHP_24_lon', 'DSHP_24_vmax', 'DSHP_24_mslp', 'DSHP_24_COS_LAT', 'DSHP_24_SIN_LAT', 'DSHP_24_COS_LON', 'DSHP_24_SIN_LON', 'SHIP_24_lat', 'SHIP_24_lon', 'SHIP_24_vmax', 'SHIP_24_mslp', 'SHIP_24_COS_LAT', 'SHIP_24_SIN_LAT', 'SHIP_24_COS_LON', 'SHIP_24_SIN_LON', 'CLP5_24_lat', 'CLP5_24_lon', 'CLP5_24_vmax', 'CLP5_24_mslp', 'CLP5_24_COS_LAT', 'CLP5_24_SIN_LAT', 'CLP5_24_COS_LON', 'CLP5_24_SIN_LON', 'HWRF_24_lat', 'HWRF_24_lon', 'HWRF_24_vmax', 'HWRF_24_mslp', 'HWRF_24_COS_LAT', 'HWRF_24_SIN_LAT', 'HWRF_24_COS_LON', 'HWRF_24_SIN_LON', 'UKXI_24_lat', 'UKXI_24_lon', 'UKXI_24_vmax', 'UKXI_24_mslp', 'UKXI_24_COS_LAT', 'UKXI_24_SIN_LAT', 'UKXI_24_COS_LON', 'UKXI_24_SIN_LON', 'LBAR_24_lat', 'LBAR_24_lon', 'LBAR_24_vmax', 'LBAR_24_mslp', 'LBAR_24_COS_LAT', 'LBAR_24_SIN_LAT', 'LBAR_24_COS_LON', 'LBAR_24_SIN_LON', 'AEMN_24_lat', 'AEMN_24_lon', 'AEMN_24_vmax', 'AEMN_24_mslp', 'AEMN_24_COS_LAT', 'AEMN_24_SIN_LAT', 'AEMN_24_COS_LON', 'AEMN_24_SIN_LON', 'DISPLACEMENT_LAT_CLP5_24', 'DISPLACEMENT_LON_CLP5_24', 'DISPLACEMENT_LAT_SHIP_24', 'DISPLACEMENT_LON_SHIP_24', 'DISPLACEMENT_LAT_DSHP_24', 'DISPLACEMENT_LON_DSHP_24', 'DISPLACEMENT_LAT_LBAR_24', 'DISPLACEMENT_LON_LBAR_24', 'DISPLACEMENT_LAT_CMC_24', 'DISPLACEMENT_LON_CMC_24', 'DISPLACEMENT_LAT_NGPS_24', 'DISPLACEMENT_LON_NGPS_24', 'DISPLACEMENT_LAT_GFDL_24', 'DISPLACEMENT_LON_GFDL_24', 'DISPLACEMENT_LAT_HWRF_24', 'DISPLACEMENT_LON_HWRF_24', 'DISPLACEMENT_LAT_UKXI_24', 'DISPLACEMENT_LON_UKXI_24', 'DISPLACEMENT_LAT_FSSE_24', 'DISPLACEMENT_LON_FSSE_24', 'DISPLACEMENT_LAT_AEMN_24', 'DISPLACEMENT_LON_AEMN_24', 'DISPLACEMENT_LAT_OFCL_24', 'DISPLACEMENT_LON_OFCL_24', 'EMXI_24_lat', 'EMXI_24_lon', 'EMXI_24_vmax', 'EMXI_24_mslp', 'EMXI_24_COS_LAT', 'EMXI_24_SIN_LAT', 'EMXI_24_COS_LON', 'EMXI_24_SIN_LON', 'DISPLACEMENT_LAT_EMXI_24', 'DISPLACEMENT_LON_EMXI_24', 'GFSO_24_lat', 'GFSO_24_lon', 'GFSO_24_vmax', 'GFSO_24_mslp', 'GFSO_24_COS_LAT', 'GFSO_24_SIN_LAT', 'GFSO_24_COS_LON', 'GFSO_24_SIN_LON', 'DISPLACEMENT_LAT_GFSO_24', 'DISPLACEMENT_LON_GFSO_24', 'cat_basin_AN', 'cat_basin_EP', 'basin_NI', 'basin_SI', 'basin_SP', 'basin_WP', 'DISPLACEMENT_LAT', 'DISPLACEMENT_LON']\n",
    "#names_baselines = ['YEAR', 'MONTH', 'DAY', 'HOUR', 'LAT', 'LON', 'WMO_WIND', 'WMO_PRES', 'DIST2LAND', 'STORM_SPEED', 'cos_day', 'sin_day', 'COS_STORM_DIR', 'SIN_STORM_DIR', 'COS_LAT', 'SIN_LAT', 'COS_LON', 'SIN_LON', 'wind_category', 'DSHP_24_lat', 'DSHP_24_lon', 'DSHP_24_vmax', 'DSHP_24_mslp', 'DSHP_24_COS_LAT', 'DSHP_24_SIN_LAT', 'DSHP_24_COS_LON', 'DSHP_24_SIN_LON', 'OFCL_24_lat', 'OFCL_24_lon', 'OFCL_24_vmax', 'OFCL_24_mslp', 'OFCL_24_COS_LAT', 'OFCL_24_SIN_LAT', 'OFCL_24_COS_LON', 'OFCL_24_SIN_LON', 'UKXI_24_lat', 'UKXI_24_lon', 'UKXI_24_vmax', 'UKXI_24_mslp', 'UKXI_24_COS_LAT', 'UKXI_24_SIN_LAT', 'UKXI_24_COS_LON', 'UKXI_24_SIN_LON', 'CMC_24_lat', 'CMC_24_lon', 'CMC_24_vmax', 'CMC_24_mslp', 'CMC_24_COS_LAT', 'CMC_24_SIN_LAT', 'CMC_24_COS_LON', 'CMC_24_SIN_LON', 'SHIP_24_lat', 'SHIP_24_lon', 'SHIP_24_vmax', 'SHIP_24_mslp', 'SHIP_24_COS_LAT', 'SHIP_24_SIN_LAT', 'SHIP_24_COS_LON', 'SHIP_24_SIN_LON', 'FSSE_24_lat', 'FSSE_24_lon', 'FSSE_24_vmax', 'FSSE_24_mslp', 'FSSE_24_COS_LAT', 'FSSE_24_SIN_LAT', 'FSSE_24_COS_LON', 'FSSE_24_SIN_LON', 'CLP5_24_lat', 'CLP5_24_lon', 'CLP5_24_vmax', 'CLP5_24_mslp', 'CLP5_24_COS_LAT', 'CLP5_24_SIN_LAT', 'CLP5_24_COS_LON', 'CLP5_24_SIN_LON', 'AEMN_24_lat', 'AEMN_24_lon', 'AEMN_24_vmax', 'AEMN_24_mslp', 'AEMN_24_COS_LAT', 'AEMN_24_SIN_LAT', 'AEMN_24_COS_LON', 'AEMN_24_SIN_LON', 'LBAR_24_lat', 'LBAR_24_lon', 'LBAR_24_vmax', 'LBAR_24_mslp', 'LBAR_24_COS_LAT', 'LBAR_24_SIN_LAT', 'LBAR_24_COS_LON', 'LBAR_24_SIN_LON', 'GFDL_24_lat', 'GFDL_24_lon', 'GFDL_24_vmax', 'GFDL_24_mslp', 'GFDL_24_COS_LAT', 'GFDL_24_SIN_LAT', 'GFDL_24_COS_LON', 'GFDL_24_SIN_LON', 'HWRF_24_lat', 'HWRF_24_lon', 'HWRF_24_vmax', 'HWRF_24_mslp', 'HWRF_24_COS_LAT', 'HWRF_24_SIN_LAT', 'HWRF_24_COS_LON', 'HWRF_24_SIN_LON', 'NGPS_24_lat', 'NGPS_24_lon', 'NGPS_24_vmax', 'NGPS_24_mslp', 'NGPS_24_COS_LAT', 'NGPS_24_SIN_LAT', 'NGPS_24_COS_LON', 'NGPS_24_SIN_LON', 'DISPLACEMENT_LAT_CLP5_24', 'DISPLACEMENT_LON_CLP5_24', 'DISPLACEMENT_LAT_SHIP_24', 'DISPLACEMENT_LON_SHIP_24', 'DISPLACEMENT_LAT_DSHP_24', 'DISPLACEMENT_LON_DSHP_24', 'DISPLACEMENT_LAT_LBAR_24', 'DISPLACEMENT_LON_LBAR_24', 'DISPLACEMENT_LAT_CMC_24', 'DISPLACEMENT_LON_CMC_24', 'DISPLACEMENT_LAT_NGPS_24', 'DISPLACEMENT_LON_NGPS_24', 'DISPLACEMENT_LAT_GFDL_24', 'DISPLACEMENT_LON_GFDL_24', 'DISPLACEMENT_LAT_HWRF_24', 'DISPLACEMENT_LON_HWRF_24', 'DISPLACEMENT_LAT_UKXI_24', 'DISPLACEMENT_LON_UKXI_24', 'DISPLACEMENT_LAT_FSSE_24', 'DISPLACEMENT_LON_FSSE_24', 'DISPLACEMENT_LAT_AEMN_24', 'DISPLACEMENT_LON_AEMN_24', 'DISPLACEMENT_LAT_OFCL_24', 'DISPLACEMENT_LON_OFCL_24', 'EMXI_24_lat', 'EMXI_24_lon', 'EMXI_24_vmax', 'EMXI_24_mslp', 'EMXI_24_COS_LAT', 'EMXI_24_SIN_LAT', 'EMXI_24_COS_LON', 'EMXI_24_SIN_LON', 'DISPLACEMENT_LAT_EMXI_24', 'DISPLACEMENT_LON_EMXI_24', 'GFSO_24_lat', 'GFSO_24_lon', 'GFSO_24_vmax', 'GFSO_24_mslp', 'GFSO_24_COS_LAT', 'GFSO_24_SIN_LAT', 'GFSO_24_COS_LON', 'GFSO_24_SIN_LON', 'DISPLACEMENT_LAT_GFSO_24', 'DISPLACEMENT_LON_GFSO_24', 'cat_basin_AN', 'cat_basin_EP', 'basin_NI', 'basin_SI', 'basin_SP', 'basin_WP', 'DISPLACEMENT_LAT', 'DISPLACEMENT_LON']\n",
    "names_all_baselines = names_baselines * 8#args.window_size\n",
    "\n",
    "for i in range(len(names_all_baselines)):\n",
    "    names_all_baselines[i] += '_' + str(i // 167)\n",
    "\n",
    "X_test_baseline.columns = names_all_baselines"
   ]
  },
  {
   "cell_type": "code",
   "execution_count": 64,
   "metadata": {},
   "outputs": [],
   "source": [
    "n = X_test_baseline.shape[0]\n",
    "X_test_total = X_test_total[-n:]\n",
    "tgt_intensity_test = tgt_intensity_test[-n:]\n",
    "X_test = X_test[-n:]\n",
    "X_test_embed = X_test_embed[-n:]\n",
    "m = len(X_test_baseline[X_test_baseline['YEAR_0'] < 2016])\n",
    "x_viz_train = np.load('../data/X_train_vision_comp_1980_34_20_120.npy', allow_pickle=True).reshape(-1, 3*5*3*3)\n",
    "x_viz_test = np.load('../data/X_test_vision_comp_1980_34_20_120.npy', allow_pickle=True).reshape(-1, 3*5*3*3)[-n:]\n",
    "\n",
    "if full:\n",
    "    tgt_intensity_train = np.concatenate((tgt_intensity_train, tgt_intensity_test[:m]), axis = 0)\n",
    "    X_train = pd.concat((X_train, X_test[:m]), axis = 0)\n",
    "    X_train_embed = np.concatenate((X_train_embed, X_test_embed[:m]), axis = 0)\n",
    "    X_train_total = np.concatenate((X_train_total, X_test_total[:m]), axis = 0)\n",
    "    x_viz_train = np.concatenate((x_viz_train, x_viz_test[:m]), axis = 0)\n",
    "    \n",
    "X_train_total_comp = np.concatenate((X_train, x_viz_train), axis = 1)\n",
    "X_test_total_comp = np.concatenate((X_test, x_viz_test), axis = 1)\n",
    "    \n",
    "mean_intensity = tgt_intensity_train.mean()\n",
    "std_intensity = tgt_intensity_train.std()\n",
    "tgt_intensity_train = (tgt_intensity_train - mean_intensity)/std_intensity\n",
    "tgt_intensity_test = (tgt_intensity_test - mean_intensity)/std_intensity\n",
    "\n",
    "std_ = float(std_intensity)\n",
    "mean_ = float(mean_intensity)"
   ]
  },
  {
   "cell_type": "markdown",
   "metadata": {
    "heading_collapsed": true
   },
   "source": [
    "# Old code"
   ]
  },
  {
   "cell_type": "code",
   "execution_count": 70,
   "metadata": {
    "hidden": true
   },
   "outputs": [],
   "source": [
    "index = X_train[np.round(X_train['WMO_WIND_7']*1000%10, decimals = 2) == 0].index"
   ]
  },
  {
   "cell_type": "code",
   "execution_count": 71,
   "metadata": {
    "hidden": true
   },
   "outputs": [],
   "source": [
    "X_train = X_train[np.round(X_train['WMO_WIND_7']*1000%10, decimals = 2) == 0].reset_index()"
   ]
  },
  {
   "cell_type": "code",
   "execution_count": 72,
   "metadata": {
    "hidden": true
   },
   "outputs": [],
   "source": [
    "X_train_total = X_train_total[index]\n",
    "tgt_intensity_train = tgt_intensity_train[index]"
   ]
  },
  {
   "cell_type": "code",
   "execution_count": 74,
   "metadata": {
    "hidden": true
   },
   "outputs": [],
   "source": [
    "X_train_embed = X_train_embed[index]"
   ]
  },
  {
   "cell_type": "code",
   "execution_count": 5,
   "metadata": {
    "hidden": true
   },
   "outputs": [
    {
     "name": "stdout",
     "output_type": "stream",
     "text": [
      "MAE intensity:  7.8804283\n",
      "MAE intensity:  7.4857664\n"
     ]
    }
   ],
   "source": [
    "xgb2 = XGBRegressor(max_depth=6, n_estimators=140, learning_rate = 0.07, subsample = 0.7, min_child_weight = 5)\n",
    "xgb2.fit(X_train, tgt_intensity_train)\n",
    "print(\"MAE intensity: \", mean_absolute_error(np.array(tgt_intensity_test)*std_+mean_, np.array(xgb2.predict(X_test))*std_+mean_))\n",
    "\n",
    "xgb = XGBRegressor(max_depth=8, n_estimators = 150, learning_rate = 0.07, subsample = 0.7, min_child_weight = 1)\n",
    "xgb.fit(X_train_total, tgt_intensity_train)\n",
    "print(\"MAE intensity: \", mean_absolute_error(np.array(tgt_intensity_test)*std_+mean_, np.array(xgb.predict(X_test_total))*std_+mean_))"
   ]
  },
  {
   "cell_type": "code",
   "execution_count": 73,
   "metadata": {
    "hidden": true
   },
   "outputs": [
    {
     "name": "stdout",
     "output_type": "stream",
     "text": [
      "MAE intensity:  7.489182\n"
     ]
    }
   ],
   "source": [
    "xgb = XGBRegressor(max_depth=8, n_estimators = 150, learning_rate = 0.07, subsample = 0.7, min_child_weight = 1)\n",
    "xgb.fit(X_train_total, tgt_intensity_train)\n",
    "print(\"MAE intensity: \", mean_absolute_error(np.array(tgt_intensity_test)*std_+mean_, np.array(xgb.predict(X_test_total))*std_+mean_))"
   ]
  },
  {
   "cell_type": "code",
   "execution_count": 5,
   "metadata": {
    "hidden": true
   },
   "outputs": [
    {
     "name": "stdout",
     "output_type": "stream",
     "text": [
      "MAE intensity:  6.6790547\n"
     ]
    }
   ],
   "source": [
    "xgb = XGBRegressor(max_depth=8, n_estimators = 100, learning_rate = 0.07, subsample = 0.7, min_child_weight = 5)\n",
    "xgb.fit(X_train_embed, tgt_intensity_train)\n",
    "print(\"MAE intensity: \", mean_absolute_error(np.array(tgt_intensity_test)*std_+mean_, np.array(xgb.predict(X_test_embed))*std_+mean_))"
   ]
  },
  {
   "cell_type": "code",
   "execution_count": 32,
   "metadata": {
    "hidden": true
   },
   "outputs": [
    {
     "data": {
      "text/plain": [
       "(26800, 740)"
      ]
     },
     "execution_count": 32,
     "metadata": {},
     "output_type": "execute_result"
    }
   ],
   "source": [
    "EP:\n",
    "We beat: SHIP, HWRF, GFSO, AEMN, DSHP, (GFDL, UKXI, CMC)\n",
    "We lose: OFCL, FSSE\n",
    "\n",
    "AN:\n",
    "We beat: SHIP, HWRF, GFSO, AEMN, GFDL, DSHP, (UKXI, CMC) \n",
    "We lose: HWRF, OFCL, FSSE"
   ]
  },
  {
   "cell_type": "code",
   "execution_count": 5,
   "metadata": {
    "hidden": true
   },
   "outputs": [
    {
     "ename": "NameError",
     "evalue": "name 'tgt_displacement_test' is not defined",
     "output_type": "error",
     "traceback": [
      "\u001b[0;31m---------------------------------------------------------------------------\u001b[0m",
      "\u001b[0;31mNameError\u001b[0m                                 Traceback (most recent call last)",
      "\u001b[0;32m<ipython-input-5-463777303043>\u001b[0m in \u001b[0;36m<module>\u001b[0;34m()\u001b[0m\n\u001b[1;32m    103\u001b[0m \u001b[0;31m#train_xgb_track(n_estimators = 90, max_depth = 7, learning_rate = 0.1, subsample = 0.7, min_child_weight = 5, basin = 'EP', forecast = 'HWRF')\u001b[0m\u001b[0;34m\u001b[0m\u001b[0;34m\u001b[0m\u001b[0;34m\u001b[0m\u001b[0m\n\u001b[1;32m    104\u001b[0m \u001b[0;34m\u001b[0m\u001b[0m\n\u001b[0;32m--> 105\u001b[0;31m \u001b[0mLATS_TEST\u001b[0m \u001b[0;34m=\u001b[0m \u001b[0mX_test\u001b[0m\u001b[0;34m[\u001b[0m\u001b[0;34m'LAT_7'\u001b[0m\u001b[0;34m]\u001b[0m \u001b[0;34m+\u001b[0m \u001b[0mnp\u001b[0m\u001b[0;34m.\u001b[0m\u001b[0marray\u001b[0m\u001b[0;34m(\u001b[0m\u001b[0mtgt_displacement_test\u001b[0m\u001b[0;34m[\u001b[0m\u001b[0;34m:\u001b[0m\u001b[0;34m,\u001b[0m\u001b[0;36m0\u001b[0m\u001b[0;34m]\u001b[0m\u001b[0;34m)\u001b[0m\u001b[0;34m*\u001b[0m\u001b[0mstd_dx\u001b[0m\u001b[0;34m+\u001b[0m\u001b[0mmean_dx\u001b[0m\u001b[0;34m\u001b[0m\u001b[0;34m\u001b[0m\u001b[0m\n\u001b[0m\u001b[1;32m    106\u001b[0m \u001b[0mLONS_TEST\u001b[0m \u001b[0;34m=\u001b[0m \u001b[0mX_test\u001b[0m\u001b[0;34m[\u001b[0m\u001b[0;34m'LON_7'\u001b[0m\u001b[0;34m]\u001b[0m \u001b[0;34m+\u001b[0m \u001b[0mnp\u001b[0m\u001b[0;34m.\u001b[0m\u001b[0marray\u001b[0m\u001b[0;34m(\u001b[0m\u001b[0mtgt_displacement_test\u001b[0m\u001b[0;34m[\u001b[0m\u001b[0;34m:\u001b[0m\u001b[0;34m,\u001b[0m\u001b[0;36m1\u001b[0m\u001b[0;34m]\u001b[0m\u001b[0;34m)\u001b[0m\u001b[0;34m*\u001b[0m\u001b[0mstd_dy\u001b[0m\u001b[0;34m+\u001b[0m\u001b[0mmean_dy\u001b[0m\u001b[0;34m\u001b[0m\u001b[0;34m\u001b[0m\u001b[0m\n\u001b[1;32m    107\u001b[0m \u001b[0;34m\u001b[0m\u001b[0m\n",
      "\u001b[0;31mNameError\u001b[0m: name 'tgt_displacement_test' is not defined"
     ]
    }
   ],
   "source": [
    "def train_xgb_track(basin_only = False, sparse = False, max_depth = 8, n_estimators = 140, learning_rate = 0.15, subsample = 0.7, min_child_weight=5, basin = 'AN', forecast = 'SHIP', forecast2 = None):\n",
    "    train_x = X_train_total\n",
    "    train_y = X_train_total\n",
    "    test_x = X_test_total\n",
    "    test_y = X_test_total\n",
    "    tgt_train = tgt_displacement_train\n",
    "    if sparse:\n",
    "        train_x, train_y = X_train_total_sparse_x, X_train_total_sparse_y\n",
    "        test_x, test_y = X_test_total_sparse_x, X_test_total_sparse_y\n",
    "    if basin_only:\n",
    "        train_x = X_train_total[X_train['cat_basin_'+basin+'_0'] == 1]\n",
    "        train_y = train_x\n",
    "        tgt_train = tgt_displacement_train[X_train['cat_basin_'+basin+'_0'] == 1]\n",
    "    xgb_x = XGBRegressor(max_depth=max_depth, n_estimators=n_estimators, learning_rate=learning_rate, subsample=subsample, min_child_weight=min_child_weight)\n",
    "    xgb_x.fit(train_x, tgt_train[:, 0])\n",
    "    xgb_y = XGBRegressor(max_depth=max_depth, n_estimators=n_estimators, learning_rate=learning_rate, subsample=subsample, min_child_weight=min_child_weight)\n",
    "    xgb_y.fit(train_y, tgt_train[:, 1])\n",
    "    DLATS_PRED = np.array(xgb_x.predict(test_x)) * std_dx + mean_dx\n",
    "    DLONS_PRED = np.array(xgb_y.predict(test_y)) * std_dy + mean_dy\n",
    "    LATS_PRED_ = X_test['LAT_7'] + DLATS_PRED\n",
    "    LONS_PRED_ = X_test['LON_7'] + DLONS_PRED\n",
    "    compare_perf_track(basin=basin, forecast=forecast, forecast2 = forecast2, LATS_PRED_=LATS_PRED_, LONS_PRED_=LONS_PRED_)\n",
    "\n",
    "def train_xgb_track_all_years(use_forecast = False, basin_only = False, sparse = False, max_depth = 8, n_estimators = 140, learning_rate = 0.15, subsample = 0.7, min_child_weight=5, basin = 'AN', forecast = 'SHIP', forecast2 = None):\n",
    "    train_x = X_train_total\n",
    "    train_y = X_train_total\n",
    "    test_x = X_test_total\n",
    "    test_y = X_test_total\n",
    "    tgt_train = tgt_displacement_train\n",
    "    if sparse:\n",
    "        train_x, train_y = X_train_total_sparse_x, X_train_total_sparse_y\n",
    "        test_x, test_y = X_test_total_sparse_x, X_test_total_sparse_y\n",
    "    if basin_only:\n",
    "        train_x = X_train_total[X_train['cat_basin_'+basin+'_0'] == 1]\n",
    "        train_y = train_x\n",
    "        tgt_train = tgt_displacement_train[X_train['cat_basin_'+basin+'_0'] == 1]\n",
    "    if use_forecast:\n",
    "        train_for = X_train_forecasts\n",
    "        tgt_train_for = tgt_train_dis_forecasts\n",
    "        test_for = X_test_forecasts\n",
    "        xgb_x = XGBRegressor(max_depth=max_depth, n_estimators=n_estimators, learning_rate=learning_rate, subsample=subsample, min_child_weight=min_child_weight)\n",
    "        xgb_x.fit(train_for, tgt_train_for[:, 0])\n",
    "        xgb_y = XGBRegressor(max_depth=max_depth, n_estimators=n_estimators, learning_rate=learning_rate, subsample=subsample, min_child_weight=min_child_weight)\n",
    "        xgb_y.fit(train_for, tgt_train_for[:, 1])\n",
    "        DLATS_PRED = np.array(xgb_x.predict(X_new)) * std_dx + mean_dx\n",
    "        DLONS_PRED = np.array(xgb_y.predict(X_new)) * std_dy + mean_dy\n",
    "    else:\n",
    "        xgb_x = XGBRegressor(max_depth=max_depth, n_estimators=n_estimators, learning_rate=learning_rate,\n",
    "                             subsample=subsample, min_child_weight=min_child_weight)\n",
    "        xgb_x.fit(train_x, tgt_train[:, 0])\n",
    "        xgb_y = XGBRegressor(max_depth=max_depth, n_estimators=n_estimators, learning_rate=learning_rate,\n",
    "                             subsample=subsample, min_child_weight=min_child_weight)\n",
    "        xgb_y.fit(train_y, tgt_train[:, 1])\n",
    "        DLATS_PRED = np.array(xgb_x.predict(test_x)) * std_dx + mean_dx\n",
    "        DLONS_PRED = np.array(xgb_y.predict(test_y)) * std_dy + mean_dy\n",
    "    LATS_PRED_2012 = X_test['LAT_7'] + DLATS_PRED\n",
    "    LONS_PRED_2012 = X_test['LON_7'] + DLONS_PRED\n",
    "    compare_perf_track(basin=basin, forecast=forecast, forecast2 = forecast2, LATS_PRED_=LATS_PRED_2012, LONS_PRED_=LONS_PRED_2012)\n",
    "    dict = {'year': [], 'num_samples': [], 'MAEs_full': [], 'std_full': [], 'MAES_2012': [], 'std_2012': [],\n",
    "            'MAES_SHIP': [], 'std_SHIP': [], 'MAES_HWRF': [], 'std_HWRF': []}\n",
    "    for year in range(2012, 2020):\n",
    "        try:\n",
    "            index = X_test_baseline.loc[\n",
    "                X_test_baseline['YEAR'] < year].index\n",
    "            X_test_to_train = X_test_total[index]\n",
    "            train = np.concatenate((X_train_total, X_test_to_train), axis=0)\n",
    "            tgt_train = np.concatenate((tgt_displacement_train, tgt_displacement_test[index]), axis=0)\n",
    "            xgb_x = XGBRegressor(max_depth=max_depth, n_estimators=n_estimators, learning_rate=learning_rate,\n",
    "                                 subsample=subsample, min_child_weight=min_child_weight)\n",
    "            xgb_x.fit(train, tgt_train[:, 0])\n",
    "            xgb_y = XGBRegressor(max_depth=max_depth, n_estimators=n_estimators, learning_rate=learning_rate,\n",
    "                                 subsample=subsample, min_child_weight=min_child_weight)\n",
    "            xgb_y.fit(train, tgt_train[:, 1])\n",
    "            DLATS_PRED = np.array(xgb_x.predict(test_x)) * std_dx + mean_dx\n",
    "            DLONS_PRED = np.array(xgb_y.predict(test_y)) * std_dy + mean_dy\n",
    "            LATS_PRED_ = X_test['LAT_7'] + DLATS_PRED\n",
    "            LONS_PRED_ = X_test['LON_7'] + DLONS_PRED\n",
    "            compare_perf_track_per_year(dict, LATS_PRED_, LONS_PRED_, LATS_PRED_2012, LONS_PRED_2012, forecast=forecast,\n",
    "                                            forecast2=forecast2, basin=basin,  year=year)\n",
    "            print(\"\\n\")\n",
    "        except:\n",
    "            print(\"\\n No forecasts for year \", year)\n",
    "    return dict\n",
    "\n",
    "\n",
    "\n",
    "\n",
    "def train_xgb_intensity(forecast = 'SHIP', basin_only = False, sparse = False, max_depth = 8, n_estimators = 140, learning_rate = 0.15, subsample = 0.7, min_child_weight=5, basin = 'AN', forecast2 = None):\n",
    "    train = X_train_total\n",
    "    #test = X_test_total\n",
    "    tgt_train = tgt_intensity_train\n",
    "    if sparse:\n",
    "        train = X_train_total_sparse_x\n",
    "        test = X_test_total_sparse_x\n",
    "    if basin_only:\n",
    "        train = X_train_total[X_train['cat_basin_'+basin+'_0'] == 1]\n",
    "        tgt_train = tgt_intensity_train[X_train['cat_basin_'+basin+'_0'] == 1]\n",
    "    xgb_total = XGBRegressor(max_depth=max_depth, n_estimators=n_estimators, learning_rate=learning_rate, subsample=subsample, min_child_weight=min_child_weight)\n",
    "    xgb_total.fit(train, tgt_train)\n",
    "    compare_perf_intensity(xgb_total = xgb_total, basin=basin, forecast=forecast, mode='vmax', forecast2 = forecast2)\n",
    "\n",
    "#train_xgb_track(n_estimators = 90, max_depth = 7, learning_rate = 0.12, subsample = 0.7, min_child_weight = 5, basin = 'AN', forecast = 'HWRF') 82.14 and 117.26\n",
    "#train_xgb_track(n_estimators = 90, max_depth = 7, learning_rate = 0.1, subsample = 0.7, min_child_weight = 5, basin = 'EP', forecast = 'HWRF')\n",
    "\n",
    "LATS_TEST = X_test['LAT_7'] + np.array(tgt_displacement_test[:,0])*std_dx+mean_dx\n",
    "LONS_TEST = X_test['LON_7'] + np.array(tgt_displacement_test[:,1])*std_dy+mean_dy\n",
    "\n",
    "def compare_perf_track(LATS_PRED_, LONS_PRED_, basin = 'AN', forecast = 'SHIP', forecast2 = None):\n",
    "    mode = 'lat'\n",
    "    if forecast2 != None:\n",
    "        index = X_test_baseline.loc[\n",
    "            X_test_baseline[forecast2 + '_24_' + mode + '_7'] > -320].loc[\n",
    "            X_test_baseline[forecast + '_24_' + mode + '_7'] > -320].loc[X_test_baseline[\n",
    "                                                                             'cat_basin_' + basin + '_0'] == 1].index  # .loc[#X_test_baseline['SHIP_24_'+mode+'_7'] > 0].index\n",
    "        baseline_ = X_test_baseline.loc[\n",
    "            X_test_baseline[forecast2 + '_24_' + mode + '_7'] > -320].loc[X_test_baseline[forecast + '_24_'+mode+'_7'] > -320].loc[X_test_baseline['cat_basin_'+basin+'_0'] == 1]#.loc[#X_test_baseline['SHIP_24_'+mode+'_7'] > 0]\n",
    "        LATS_BASE_2 = np.array(baseline_[forecast2 + '_24_lat_7'])\n",
    "        LONS_BASE_2 = np.array(baseline_[forecast2 + '_24_lon_7'])\n",
    "    else:\n",
    "        index = X_test_baseline.loc[X_test_baseline[forecast + '_24_'+mode+'_7'] > -320].loc[X_test_baseline['cat_basin_'+basin+'_0'] == 1].index#.loc[#X_test_baseline['SHIP_24_'+mode+'_7'] > 0].index\n",
    "        baseline_ = X_test_baseline.loc[X_test_baseline[forecast + '_24_'+mode+'_7'] > -320].loc[X_test_baseline['cat_basin_'+basin+'_0'] == 1]#.loc[#X_test_baseline['SHIP_24_'+mode+'_7'] > 0]\n",
    "    LATS_TEST_ = X_test['LAT_7'] + np.array(tgt_displacement_test[:, 0])*std_dx+mean_dx\n",
    "    LONS_TEST_ = X_test['LON_7'] + np.array(tgt_displacement_test[:, 1])*std_dy+mean_dy\n",
    "    baseline_1_x = baseline_[forecast + '_24_'+mode+'_7']\n",
    "    baseline_1_y = baseline_[forecast + '_24_lon_7']\n",
    "    LATS_BASE = np.array(baseline_1_x)\n",
    "    LONS_BASE = np.array(baseline_1_y)\n",
    "    LATS_TEST_ = np.array(LATS_TEST_[index])\n",
    "    LONS_TEST_ = np.array(LONS_TEST_[index])\n",
    "    LATS_PRED_ = np.array(LATS_PRED_[index])\n",
    "    LONS_PRED_ = np.array(LONS_PRED_[index])\n",
    "    d_km_baseline = np.zeros(len(LATS_BASE))\n",
    "    d_km_baseline2 = np.zeros(len(LATS_BASE))\n",
    "    d_km_pred = np.zeros(len(LONS_PRED_))\n",
    "    for i in range(len(LATS_BASE)):\n",
    "        d_km_baseline[i] = get_distance_km(LONS_BASE[i], LATS_BASE[i], LONS_TEST_[i], LATS_TEST_[i])\n",
    "        d_km_pred[i] = get_distance_km(LONS_PRED_[i], LATS_PRED_[i], LONS_TEST_[i], LATS_TEST_[i])\n",
    "        if forecast2 != None:\n",
    "            d_km_baseline2[i] = get_distance_km(LONS_BASE_2[i], LATS_BASE_2[i], LONS_TEST_[i], LATS_TEST_[i])\n",
    "    print(\"Number of timesteps:\", len(LATS_BASE))\n",
    "    print(basin, 'Model | MAE | std')\n",
    "    print(forecast, np.around(d_km_baseline.mean(), decimals = 2), np.around(d_km_baseline.std(), decimals = 2))\n",
    "    print(str(forecast2), np.around(d_km_baseline2.mean(), decimals = 2), np.around(d_km_baseline2.std(), decimals = 2))\n",
    "    print(\"Hurricast\", np.around(d_km_pred.mean(), decimals = 2), np.around(d_km_pred.std(), decimals = 2))\n",
    "    print(\"\\nModel | Number of Busts > 200km | Percentage Bust\")\n",
    "    print(forecast, sum(d_km_baseline > 200), np.around(sum(d_km_baseline > 200)*100/len(LATS_BASE), decimals = 2))\n",
    "    print(str(forecast2), sum(d_km_baseline2 > 200), np.around(sum(d_km_baseline2 > 200)*100/len(LATS_BASE), decimals =2))\n",
    "    print(\"Hurricast\", sum(d_km_pred > 200), np.around(sum(d_km_pred > 200)*100/len(LATS_BASE), decimals = 2))\n",
    "\n",
    "\n",
    "\n",
    "def compare_perf_intensity(xgb_total, basin = 'AN', forecast = 'SHIP', last_storms = 1000, mode = 'vmax', forecast2 = 'HWRF'):\n",
    "    if forecast2 != None:\n",
    "        index = X_test_baseline.loc[\n",
    "            X_test_baseline[forecast2 + '_24_' + mode + '_7'] > -320].loc[\n",
    "            X_test_baseline[forecast + '_24_' + mode + '_7'] > -320].loc[X_test_baseline[\n",
    "                                                                             'cat_basin_' + basin + '_0'] == 1].index  # .loc[#X_test_baseline['SHIP_24_'+mode+'_7'] > 0].index\n",
    "        # X_test_withBASELINE = X_test.loc[X_test_baseline[forecast + '_24_'+mode+'_7'] > -320].loc[X_test_baseline['cat_basin_'+basin+'_0'] == 1]#.loc[#X_test_baseline['SHIP_24_'+mode+'_7'] > 0]\n",
    "        baseline_ = X_test_baseline.loc[\n",
    "            X_test_baseline[forecast2 + '_24_' + mode + '_7'] > -320].loc[\n",
    "            X_test_baseline[forecast + '_24_' + mode + '_7'] > -320].loc[\n",
    "            X_test_baseline['cat_basin_' + basin + '_0'] == 1]  # .loc[#X_test_baseline['SHIP_24_'+mode+'_7'] > 0]\n",
    "        baseline_2 = baseline_[forecast2 + '_24_' + mode + '_7']\n",
    "    else:\n",
    "        index = X_test_baseline.loc[\n",
    "            X_test_baseline[forecast + '_24_' + mode + '_7'] > -320].loc[X_test_baseline[\n",
    "                                                                             'cat_basin_' + basin + '_0'] == 1].index  # .loc[#X_test_baseline['SHIP_24_'+mode+'_7'] > 0].index\n",
    "        # X_test_withBASELINE = X_test.loc[X_test_baseline[forecast + '_24_'+mode+'_7'] > -320].loc[X_test_baseline['cat_basin_'+basin+'_0'] == 1]#.loc[#X_test_baseline['SHIP_24_'+mode+'_7'] > 0]\n",
    "        baseline_ = X_test_baseline.loc[\n",
    "            X_test_baseline[forecast + '_24_' + mode + '_7'] > -320].loc[\n",
    "            X_test_baseline['cat_basin_' + basin + '_0'] == 1]  # .loc[#X_test_baseline['SHIP_24_'+mode+'_7'] > 0]\n",
    "    X_test_withBASELINE_total = X_test_total[index]\n",
    "    baseline_1 = baseline_[forecast + '_24_' + mode + '_7']\n",
    "    if mode == 'vmax':\n",
    "        tgt_ = np.array(tgt_intensity_test[index] * std_ + mean_)\n",
    "        preds = xgb_total.predict(X_test_withBASELINE_total) * std_ + mean_\n",
    "        #print(\"MAE intensity basin \" + basin + \" X stat vs \"+ forecast + \" : \", mean_absolute_error(tgt_intensity_test_withBASELINE * std_ + mean_,\n",
    "                                                     #xgb.predict(X_test_withBASELINE) * std_ + mean_))\n",
    "        print(\"Timesteps\", len(tgt_))\n",
    "        print(\"MAE intensity basin \" + basin + \" Hurricast : \", np.around(mean_absolute_error(tgt_, preds), decimals = 2), \"with std \", np.around(np.std(tgt_ - preds), decimals=2))\n",
    "        print(\"MAE intensity basin \" + basin + \" Official Forecast \"+ forecast + \" : \",\n",
    "              np.around(mean_absolute_error(tgt_, baseline_1), decimals = 2), \"with std \", np.around(np.std(tgt_ - baseline_1), decimals = 2))\n",
    "        print(\"MAE intensity basin \" + basin + \" Official Forecast \" + str(forecast2) + \" : \",\n",
    "              np.around(mean_absolute_error(tgt_, baseline_2), decimals=2), \"with std \",\n",
    "              np.around(np.std(tgt_ - baseline_2), decimals=2))\n",
    "        print(\"Percentage of missed intensification > 20kn Hurricast: \", np.around(sum(abs(tgt_ - preds) > 20)/len(preds) * 100, decimals = 2))\n",
    "        print(\"Percentage of missed intensification > 20kn Official Forecast\"+ forecast + \" : \", np.around(sum(abs(tgt_ - baseline_1) > 20) / len(baseline_1) * 100, decimals =2))\n",
    "        print(\"Percentage of missed intensification > 20kn Official Forecast 2\"+ str(forecast2) + \" : \", np.around(sum(abs(tgt_ - baseline_2) > 20) / len(baseline_2) * 100, decimals =2))\n",
    "        print(\"\\nMAE intensity basin \" + basin + \" Hurricast last\", last_storms, \": \", np.around(mean_absolute_error(tgt_[-last_storms:], preds[-last_storms:]), decimals=2))\n",
    "        print(\"MAE intensity basin \" + basin + \" Official Forecast \" + forecast + \" : \",\n",
    "              np.around(mean_absolute_error(tgt_[-last_storms:], baseline_1[-last_storms:]), decimals=2))\n",
    "\n",
    "\n",
    "#train_xgb_intensity(forecast = 'SHIP', basin = 'EP', max_depth=8, n_estimators = 120, learning_rate = 0.07, subsample = 0.8, min_child_weight = 1)\n",
    "#train_xgb_intensity(forecast = 'SHIP', basin = 'AN', max_depth=8, n_estimators = 150, learning_rate = 0.07, subsample = 0.8, min_child_weight = 1, forecast2 = 'HWRF')\n",
    "\n",
    "\n",
    "def compare_perf_intensity_per_year(dict, xgb_tot, xgb_total, year, forecast2, basin = 'AN', forecast = 'HWRF', mode = 'vmax'):\n",
    "    if forecast2 != None:\n",
    "        index = X_test_baseline.loc[X_test_baseline['YEAR_0'] == year].loc[\n",
    "            X_test_baseline[forecast2 + '_24_' + mode + '_7'] > -320].loc[\n",
    "            X_test_baseline[forecast + '_24_' + mode + '_7'] > -320].loc[X_test_baseline['cat_basin_' + basin + '_0'] == 1].index  # .loc[#X_test_baseline['SHIP_24_'+mode+'_7'] > 0].index\n",
    "        # X_test_withBASELINE = X_test.loc[X_test_baseline[forecast + '_24_'+mode+'_7'] > -320].loc[X_test_baseline['cat_basin_'+basin+'_0'] == 1]#.loc[#X_test_baseline['SHIP_24_'+mode+'_7'] > 0]\n",
    "        baseline_ = X_test_baseline.loc[X_test_baseline['YEAR_0'] == year].loc[\n",
    "            X_test_baseline[forecast2 + '_24_' + mode + '_7'] > -320].loc[\n",
    "            X_test_baseline[forecast + '_24_' + mode + '_7'] > -320].loc[\n",
    "            X_test_baseline['cat_basin_' + basin + '_0'] == 1]  # .loc[#X_test_baseline['SHIP_24_'+mode+'_7'] > 0]\n",
    "        baseline_2 = baseline_[forecast2 + '_24_' + mode + '_7']\n",
    "    else:\n",
    "        index = X_test_baseline.loc[X_test_baseline['YEAR_0'] == year].loc[X_test_baseline[forecast + '_24_'+mode+'_7'] > -320].loc[X_test_baseline['cat_basin_'+basin+'_0'] == 1].index#.loc[#X_test_baseline['SHIP_24_'+mode+'_7'] > 0].index\n",
    "        #X_test_withBASELINE = X_test.loc[X_test_baseline[forecast + '_24_'+mode+'_7'] > -320].loc[X_test_baseline['cat_basin_'+basin+'_0'] == 1]#.loc[#X_test_baseline['SHIP_24_'+mode+'_7'] > 0]\n",
    "        baseline_ = X_test_baseline.loc[X_test_baseline['YEAR_0'] == year].loc[X_test_baseline[forecast + '_24_'+mode+'_7'] > -320].loc[X_test_baseline['cat_basin_'+basin+'_0'] == 1]#.loc[#X_test_baseline['SHIP_24_'+mode+'_7'] > 0]\n",
    "    X_test_withBASELINE_total = X_test_total[index]\n",
    "    baseline_1 = baseline_[forecast + '_24_'+mode+'_7']\n",
    "    if mode == 'vmax':\n",
    "        tgt_ = np.array(tgt_intensity_test[index] * std_ + mean_)\n",
    "        print(\"Total number of steps for comparison: \", len(tgt_))\n",
    "        preds_1 = xgb_tot.predict(X_test_withBASELINE_total) * std_ + mean_\n",
    "        preds = xgb_total.predict(X_test_withBASELINE_total) * std_ + mean_\n",
    "        #print(\"MAE intensity basin \" + basin + \" X stat vs \"+ forecast + \" : \", mean_absolute_error(tgt_intensity_test_withBASELINE * std_ + mean_,\n",
    "                                                     #xgb.predict(X_test_withBASELINE) * std_ + mean_))\n",
    "        print(\"Year \", year, \" MAE intensity basin \" + basin + \" Hurricast trained full: \", np.around(mean_absolute_error(tgt_, preds), decimals = 2), \"with std \", np.around(np.std(tgt_ - preds), decimals=2))\n",
    "        print(\"Year \", year, \" MAE intensity basin \" + basin + \" Hurricast trained until 2012: \", np.around(mean_absolute_error(tgt_, preds_1), decimals = 2), \"with std \", np.around(np.std(tgt_ - preds_1), decimals=2))\n",
    "        print(\"Year \", year, \" MAE intensity basin \" + basin + \" Official Forecast \"+ forecast + \" : \",\n",
    "              np.around(mean_absolute_error(tgt_, baseline_1), decimals = 2), \"with std \", np.around(np.std(tgt_ - baseline_1), decimals = 2))\n",
    "        if forecast2 != None:\n",
    "            print(\"Year \", year, \" MAE intensity basin \" + basin + \" Official Forecast \" + forecast2 + \" : \",\n",
    "                np.around(mean_absolute_error(tgt_, baseline_2), decimals=2), \"with std \",\n",
    "                np.around(np.std(tgt_ - baseline_2), decimals=2))\n",
    "        append_dict_intensity(dict, tgt_, preds, preds_1, baseline_1, baseline_2, year)\n",
    "        #print(\"Year \", year, \" Percentage of missed intensification > 20kn Hurricast: \", np.around(sum(tgt_ - preds > 20)/len(preds) * 100, decimals = 2))\n",
    "        #print(\"Year \", year, \" Percentage of missed intensification > 20kn Official Forecast: \", np.around(sum(tgt_ - baseline_1 > 20) / len(baseline_1) * 100, decimals =2))\n",
    "\n",
    "\n",
    "def compare_perf_track_per_year(dict, LATS_PRED_, LONS_PRED_, LATS_PRED_2012, LONS_PRED_2012, year, basin = 'AN', forecast = 'SHIP', forecast2 = None):\n",
    "    mode = 'lat'\n",
    "    if forecast2 != None:\n",
    "        index = X_test_baseline.loc[X_test_baseline['YEAR'] >= year].loc[\n",
    "            X_test_baseline[forecast2 + '_24_' + mode + '_7'] > -320].loc[\n",
    "            X_test_baseline[forecast + '_24_' + mode + '_7'] > -320].loc[X_test_baseline[\n",
    "                                                                             'cat_basin_' + basin + '_0'] == 1].index  # .loc[#X_test_baseline['SHIP_24_'+mode+'_7'] > 0].index\n",
    "        baseline_ = X_test_baseline.loc[X_test_baseline['YEAR'] == year].loc[\n",
    "            X_test_baseline[forecast2 + '_24_' + mode + '_7'] > -320].loc[X_test_baseline[forecast + '_24_'+mode+'_7'] > -320].loc[X_test_baseline['cat_basin_'+basin+'_0'] == 1]#.loc[#X_test_baseline['SHIP_24_'+mode+'_7'] > 0]\n",
    "        LATS_BASE_2 = np.array(baseline_[forecast2 + '_24_lat_7'])\n",
    "        LONS_BASE_2 = np.array(baseline_[forecast2 + '_24_lon_7'])\n",
    "    else:\n",
    "        index = X_test_baseline.loc[X_test_baseline['YEAR'] == year].loc[X_test_baseline[forecast + '_24_'+mode+'_7'] > -320].loc[X_test_baseline['cat_basin_'+basin+'_0'] == 1].index#.loc[#X_test_baseline['SHIP_24_'+mode+'_7'] > 0].index\n",
    "        baseline_ = X_test_baseline.loc[X_test_baseline['YEAR'] == year].loc[X_test_baseline[forecast + '_24_'+mode+'_7'] > -320].loc[X_test_baseline['cat_basin_'+basin+'_0'] == 1]#.loc[#X_test_baseline['SHIP_24_'+mode+'_7'] > 0]\n",
    "    LATS_TEST_ = X_test['LAT_7'] + np.array(tgt_displacement_test[:, 0])*std_dx+mean_dx\n",
    "    LONS_TEST_ = X_test['LON_7'] + np.array(tgt_displacement_test[:, 1])*std_dy+mean_dy\n",
    "    baseline_1_x = baseline_[forecast + '_24_'+mode+'_7']\n",
    "    baseline_1_y = baseline_[forecast + '_24_lon_7']\n",
    "    LATS_BASE = np.array(baseline_1_x)\n",
    "    LONS_BASE = np.array(baseline_1_y)\n",
    "    LATS_TEST_ = np.array(LATS_TEST_[index])\n",
    "    LONS_TEST_ = np.array(LONS_TEST_[index])\n",
    "    LATS_PRED_ = np.array(LATS_PRED_[index])\n",
    "    LONS_PRED_ = np.array(LONS_PRED_[index])\n",
    "    LATS_PRED_2012 = np.array(LATS_PRED_2012[index])\n",
    "    LONS_PRED_2012 = np.array(LONS_PRED_2012[index])\n",
    "    d_km_baseline = np.zeros(len(LATS_BASE))\n",
    "    d_km_baseline2 = np.zeros(len(LATS_BASE))\n",
    "    d_km_pred = np.zeros(len(LONS_PRED_))\n",
    "    d_km_pred_2012 = np.zeros(len(LONS_PRED_))\n",
    "    for i in range(len(LATS_BASE)):\n",
    "        d_km_baseline[i] = get_distance_km(LONS_BASE[i], LATS_BASE[i], LONS_TEST_[i], LATS_TEST_[i])\n",
    "        d_km_pred[i] = get_distance_km(LONS_PRED_[i], LATS_PRED_[i], LONS_TEST_[i], LATS_TEST_[i])\n",
    "        d_km_pred_2012[i] = get_distance_km(LONS_PRED_2012[i], LATS_PRED_2012[i], LONS_TEST_[i], LATS_TEST_[i])\n",
    "        if forecast2 != None:\n",
    "            d_km_baseline2[i] = get_distance_km(LONS_BASE_2[i], LATS_BASE_2[i], LONS_TEST_[i], LATS_TEST_[i])\n",
    "    print(\"Year\", year, \"Number of timesteps:\", len(LATS_BASE))\n",
    "    print(basin, 'Model | MAE | std')\n",
    "    print(forecast, np.around(d_km_baseline.mean(), decimals = 2), np.around(d_km_baseline.std(), decimals = 2))\n",
    "    print(str(forecast2), np.around(d_km_baseline2.mean(), decimals = 2), np.around(d_km_baseline2.std(), decimals = 2))\n",
    "    print(\"Hurricast Max Data\", np.around(d_km_pred.mean(), decimals = 2), np.around(d_km_pred.std(), decimals = 2))\n",
    "    print(\"Hurricast Until 2012\", np.around(d_km_pred_2012.mean(), decimals=2), np.around(d_km_pred_2012.std(), decimals=2))\n",
    "    print(\"\\nModel | Number of Busts > 200km | Percentage Bust\")\n",
    "    print(forecast, sum(d_km_baseline > 200), np.around(sum(d_km_baseline > 200)*100/len(LATS_BASE), decimals = 2))\n",
    "    print(str(forecast2), sum(d_km_baseline2 > 200), np.around(sum(d_km_baseline2 > 200)*100/len(LATS_BASE), decimals =2))\n",
    "    print(\"Hurricast\", sum(d_km_pred > 200), np.around(sum(d_km_pred > 200)*100/len(LATS_BASE), decimals = 2))\n",
    "    append_dict_track(dict, d_km_baseline, d_km_baseline2, d_km_pred, d_km_pred_2012, year)\n",
    "\n",
    "def append_dict_track(dict, d_km_baseline, d_km_baseline2, d_km_pred, d_km_pred_2012, year):\n",
    "    dict['year'].append(year)\n",
    "    dict['num_samples'].append(len(d_km_baseline))\n",
    "    dict['MAEs_full'].append(np.around(d_km_pred.mean(), decimals = 2))\n",
    "    dict['std_full'].append(np.around(d_km_pred.std(), decimals = 2))\n",
    "    dict['MAES_2012'].append(np.around(d_km_pred_2012.mean(), decimals = 2))\n",
    "    dict['std_2012'].append(np.around(d_km_pred_2012.std(), decimals=2))\n",
    "    dict['MAES_SHIP'].append(np.around(d_km_baseline.mean(), decimals = 2))\n",
    "    dict['std_SHIP'].append(np.around(d_km_baseline.std(), decimals = 2))\n",
    "    dict['MAES_HWRF'].append(np.around(d_km_baseline2.mean(), decimals =2))\n",
    "    dict['std_HWRF'].append(np.around(d_km_baseline2.std(), decimals=2))\n",
    "\n",
    "def append_dict_intensity(dict, tgt_, preds, preds_1, baseline_1, baseline_2, year):\n",
    "    dict['year'].append(year)\n",
    "    dict['num_samples'].append(len(tgt_))\n",
    "    dict['MAEs_full'].append(np.around(mean_absolute_error(tgt_, preds), decimals = 2))\n",
    "    dict['std_full'].append(np.around(np.std(tgt_ - preds), decimals = 2))\n",
    "    dict['MAES_2012'].append(np.around(mean_absolute_error(tgt_, preds_1), decimals = 2))\n",
    "    dict['std_2012'].append(np.around(np.std(tgt_ - preds_1), decimals=2))\n",
    "    dict['MAES_SHIP'].append(np.around(mean_absolute_error(tgt_, baseline_1), decimals = 2))\n",
    "    dict['std_SHIP'].append(np.around(np.std(tgt_ - baseline_1), decimals = 2))\n",
    "    dict['MAES_HWRF'].append(np.around(mean_absolute_error(tgt_, baseline_2), decimals=2))\n",
    "    dict['std_HWRF'].append(np.around(np.std(tgt_ - baseline_2), decimals=2))\n",
    "\n",
    "\n",
    "def train_xgb_intensity_all_years(forecast2 = None, basin_only = False, sparse = False, max_depth = 8, n_estimators = 140, learning_rate = 0.15, subsample = 0.7, min_child_weight=5, basin = 'AN', forecast = 'HWRF'):\n",
    "    train = X_train_total\n",
    "    #test = X_test_total\n",
    "    tgt_train = tgt_intensity_train\n",
    "    if sparse:\n",
    "        train = X_train_total_sparse_x\n",
    "        #test = X_test_total_sparse_x\n",
    "    if basin_only:\n",
    "        train = X_train_total[X_train['cat_basin_'+basin+'_0'] == 1]\n",
    "        tgt_train = tgt_intensity_train[X_train['cat_basin_'+basin+'_0'] == 1]\n",
    "    xgb_total = XGBRegressor(max_depth=max_depth, n_estimators=n_estimators, learning_rate=learning_rate, subsample=subsample, min_child_weight=min_child_weight)\n",
    "    xgb_total.fit(train, tgt_train)\n",
    "    for year in range(2012, 2020):\n",
    "        try:\n",
    "            compare_perf_intensity_per_year(forecast2 = forecast2, xgb_total = xgb_total, basin=basin, forecast=forecast, mode='vmax', year = year)\n",
    "            print(\"\\n\")\n",
    "        except:\n",
    "            print(\"\\n No forecasts for year \", year)\n",
    "\n",
    "def train_xgb_intensity_all_years_full_train(forecast2 = None, basin_only = False, sparse = False, max_depth = 8, n_estimators = 140, learning_rate = 0.15, subsample = 0.7, min_child_weight=5, basin = 'AN', forecast = 'HWRF'):\n",
    "    train = X_train_total\n",
    "    #test = X_test_total\n",
    "    tgt_train = tgt_intensity_train\n",
    "    if sparse:\n",
    "        train = X_train_total_sparse_x\n",
    "        #test = X_test_total_sparse_x\n",
    "    if basin_only:\n",
    "        train = X_train_total[X_train['cat_basin_'+basin+'_0'] == 1]\n",
    "        tgt_train = tgt_intensity_train[X_train['cat_basin_'+basin+'_0'] == 1]\n",
    "    xgb_total_1 = XGBRegressor(max_depth=max_depth, n_estimators=n_estimators, learning_rate=learning_rate,\n",
    "                             subsample=subsample, min_child_weight=min_child_weight)\n",
    "    xgb_total_1.fit(train, tgt_train)\n",
    "    dict = {'year':[], 'num_samples':[], 'MAEs_full':[], 'std_full':[], 'MAES_2012':[], 'std_2012':[], 'MAES_SHIP':[], 'std_SHIP':[], 'MAES_HWRF':[], 'std_HWRF':[]}\n",
    "    for year in range(2012, 2020):\n",
    "        try:\n",
    "            index = X_test_baseline.loc[X_test_baseline['YEAR_0'] < year].index  # .loc[#X_test_baseline['SHIP_24_'+mode+'_7'] > 0].index\n",
    "            X_test_to_train = X_test_total[index]\n",
    "            train = np.concatenate((X_train_total, X_test_to_train), axis = 0)\n",
    "            tgt_train = np.concatenate((tgt_intensity_train, tgt_intensity_test[index]), axis = 0)\n",
    "            xgb_total = XGBRegressor(max_depth=max_depth, n_estimators=n_estimators, learning_rate=learning_rate,\n",
    "                                     subsample=subsample, min_child_weight=min_child_weight)\n",
    "            xgb_total.fit(train, tgt_train)\n",
    "            compare_perf_intensity_per_year(dict = dict, xgb_tot = xgb_total_1, forecast2 = forecast2, xgb_total = xgb_total, basin=basin, forecast=forecast, mode='vmax', year = year)\n",
    "            print(\"\\n\")\n",
    "        except:\n",
    "            print(\"\\n No forecasts for year \", year)\n",
    "    return dict\n"
   ]
  },
  {
   "cell_type": "code",
   "execution_count": 71,
   "metadata": {
    "hidden": true
   },
   "outputs": [
    {
     "data": {
      "text/plain": [
       "({'learning_rate': 0.07,\n",
       "  'min_child_weight': 5,\n",
       "  'n_estimators': 100,\n",
       "  'subsample': 0.7},\n",
       " -0.2854653795560201)"
      ]
     },
     "execution_count": 71,
     "metadata": {},
     "output_type": "execute_result"
    }
   ],
   "source": [
    "params = {\n",
    " 'min_child_weight':[1,5],\n",
    " 'n_estimators':[100, 120, 150],\n",
    " 'subsample':[0.6,0.7,0.8,],\n",
    " 'learning_rate':[0.07, 0.1, 0.15],\n",
    "}\n",
    "grid = GridSearchCV(estimator = XGBRegressor(learning_rate = 0.07, n_estimators=140, max_depth=8,\n",
    "min_child_weight=1, subsample=0.8, seed=1),\n",
    "param_grid = params, n_jobs=4, scoring = 'neg_mean_absolute_error')\n",
    "\n",
    "grid.fit(X_train_total, np.array(tgt_intensity_train))\n",
    "\n",
    "grid.best_params_, grid.best_score_"
   ]
  },
  {
   "cell_type": "code",
   "execution_count": null,
   "metadata": {
    "hidden": true
   },
   "outputs": [],
   "source": [
    "def train_xgb_intensity_all_years_full_train_4cast(forecast2 = None, forecast3 = None, forecast4 = None, max_depth = 8, n_estimators = 140, learning_rate = 0.15, subsample = 0.7, min_child_weight=5, basin = 'AN', forecast = 'HWRF'):\n",
    "    train = X_train_total\n",
    "    test = X_test_total\n",
    "    tgt_train = tgt_intensity_train\n",
    "    xgb_total_1 = XGBRegressor(max_depth=max_depth, n_estimators=n_estimators, learning_rate=learning_rate,\n",
    "                             subsample=subsample, min_child_weight=min_child_weight)\n",
    "    xgb_total_1.fit(train, tgt_train)\n",
    "    dict = {'year':[], 'num_samples':[], 'MAEs_full':[], 'std_full':[], 'MAES_2012':[], 'std_2012':[], 'MAES_SHIP':[], 'std_SHIP':[], 'MAES_HWRF':[], 'std_HWRF':[], 'MAES_FSSE':[], 'std_FSSE':[], 'MAES_OFCL':[], 'std_OFCL':[]}\n",
    "    for year in range(2012, 2020):\n",
    "        try:\n",
    "            index = X_test_baseline.loc[X_test_baseline['YEAR_0'] < year].index  # .loc[#X_test_baseline['SHIP_24_'+mode+'_7'] > 0].index\n",
    "            X_test_to_train = X_test_total[index]\n",
    "            train = np.concatenate((X_train_total, X_test_to_train), axis = 0)\n",
    "            tgt_train = np.concatenate((tgt_intensity_train, tgt_intensity_test[index]), axis = 0)\n",
    "            xgb_total = XGBRegressor(max_depth=max_depth, n_estimators=n_estimators, learning_rate=learning_rate,\n",
    "                                     subsample=subsample, min_child_weight=min_child_weight)\n",
    "            xgb_total.fit(train, tgt_train)\n",
    "            compare_perf_intensity_per_year_4cast(test, dict = dict, xgb_tot = xgb_total_1, forecast2 = forecast2, xgb_total = xgb_total, basin=basin, forecast=forecast, mode='vmax', year = year, forecast3= forecast3, forecast4 = forecast4)\n",
    "            print(\"\\n\")\n",
    "        except:\n",
    "            print(\"\\n No forecasts for year \", year)\n",
    "    return dict\n",
    "\n",
    "def compare_perf_intensity_per_year_4cast(test, dict, xgb_tot, xgb_total, year, forecast2, forecast3, forecast4, basin = 'AN', forecast = 'SHIP', mode = 'vmax'):\n",
    "    baseline_ = X_test_baseline.loc[X_test_baseline['YEAR_0'] >= year].loc[\n",
    "            X_test_baseline[forecast4 + '_24_' + mode + '_7'] > -320].loc[\n",
    "            X_test_baseline[forecast3 + '_24_' + mode + '_7'] > -320].loc[\n",
    "            X_test_baseline[forecast2 + '_24_' + mode + '_7'] > -320].loc[\n",
    "            X_test_baseline[forecast + '_24_' + mode + '_7'] > -320].loc[X_test_baseline['cat_basin_' + basin + '_0'] == 1]  # .loc[#X_test_baseline['SHIP_24_'+mode+'_7'] > 0].index\n",
    "    if basin == 'EP':\n",
    "        baseline_ = X_test_baseline.loc[X_test_baseline['YEAR_0'] < 2019].loc[X_test_baseline['YEAR_0'] >= year].loc[\n",
    "            X_test_baseline[forecast4 + '_24_' + mode + '_7'] > -320].loc[\n",
    "            X_test_baseline[forecast3 + '_24_' + mode + '_7'] > -320].loc[\n",
    "            X_test_baseline[forecast2 + '_24_' + mode + '_7'] > -320].loc[\n",
    "            X_test_baseline[forecast + '_24_' + mode + '_7'] > -320].loc[X_test_baseline['cat_basin_' + basin + '_0'] == 1]\n",
    "    index = baseline_.index\n",
    "    baseline_1 = baseline_[forecast + '_24_'+mode+'_7']\n",
    "    baseline_2 = baseline_[forecast2 + '_24_' + mode + '_7']\n",
    "    baseline_3 = baseline_[forecast3 + '_24_' + mode + '_7']\n",
    "    baseline_4 = baseline_[forecast4 + '_24_' + mode + '_7']\n",
    "    X_test_withBASELINE_total = np.array(test)[index]\n",
    "    if mode == 'vmax':\n",
    "        tgt_ = np.array(tgt_intensity_test[index] * std_ + mean_)\n",
    "        print(\"Total number of steps for comparison: \", len(tgt_))\n",
    "        print(\"Year\", year, \"Basin\", basin, \"MAE intensity | std | busts > 20kn %\")\n",
    "        preds_1 = xgb_tot.predict(X_test_withBASELINE_total) * std_ + mean_\n",
    "        preds = xgb_total.predict(X_test_withBASELINE_total) * std_ + mean_\n",
    "        #print(\"MAE intensity basin \" + basin + \" X stat vs \"+ forecast + \" : \", mean_absolute_error(tgt_intensity_test_withBASELINE * std_ + mean_,\n",
    "                                                     #xgb.predict(X_test_withBASELINE) * std_ + mean_))\n",
    "        print(\"Hurr full: \", np.around(mean_absolute_error(tgt_, preds), decimals = 2), np.around(np.std(tgt_ - preds), decimals=2), np.around(sum(abs(tgt_ - preds) > 20)/len(preds) * 100, decimals = 2))\n",
    "        print(\"Hurr until 2012: \", np.around(mean_absolute_error(tgt_, preds_1), decimals = 2), np.around(np.std(tgt_ - preds_1), decimals=2), np.around(sum(abs(tgt_ - preds_1) > 20)/len(preds) * 100, decimals = 2))\n",
    "        print(forecast,\n",
    "              np.around(mean_absolute_error(tgt_, baseline_1), decimals = 2), np.around(np.std(tgt_ - baseline_1), decimals = 2), np.around(sum(abs(tgt_ - baseline_1) > 20)/len(preds) * 100, decimals = 2))\n",
    "        if forecast2 != None:\n",
    "            print(forecast2,\n",
    "                np.around(mean_absolute_error(tgt_, baseline_2), decimals=2),\n",
    "                np.around(np.std(tgt_ - baseline_2), decimals=2),\n",
    "                np.around(sum(abs(tgt_ - baseline_2) > 20)/len(preds) * 100, decimals = 2))\n",
    "            print(forecast3,\n",
    "                np.around(mean_absolute_error(tgt_, baseline_3), decimals=2),\n",
    "                np.around(np.std(tgt_ - baseline_3), decimals=2),\n",
    "                np.around(sum(abs(tgt_ - baseline_3) > 20)/len(preds) * 100, decimals = 2))\n",
    "            print(forecast4,\n",
    "                np.around(mean_absolute_error(tgt_, baseline_4), decimals=2),\n",
    "                np.around(np.std(tgt_ - baseline_4), decimals=2),\n",
    "                np.around(sum(abs(tgt_ - baseline_4) > 20)/len(preds) * 100, decimals = 2))\n",
    "\n",
    "        append_dict_intensity_4cast(dict, tgt_, preds, preds_1, baseline_1, baseline_2, baseline_3, baseline_4, year)\n",
    "        \n",
    "        \n",
    "def append_dict_intensity_4cast(dict, tgt_, preds, preds_1, baseline_1, baseline_2, baseline_3, baseline_4, year):\n",
    "    dict['year'].append(year)\n",
    "    dict['num_samples'].append(len(tgt_))\n",
    "    dict['MAEs_full'].append(np.around(mean_absolute_error(tgt_, preds), decimals = 2))\n",
    "    dict['std_full'].append(np.around(np.std(tgt_ - preds), decimals = 2))\n",
    "    dict['MAES_2012'].append(np.around(mean_absolute_error(tgt_, preds_1), decimals = 2))\n",
    "    dict['std_2012'].append(np.around(np.std(tgt_ - preds_1), decimals=2))\n",
    "    dict['MAES_SHIP'].append(np.around(mean_absolute_error(tgt_, baseline_1), decimals = 2))\n",
    "    dict['std_SHIP'].append(np.around(np.std(tgt_ - baseline_1), decimals = 2))\n",
    "    dict['MAES_HWRF'].append(np.around(mean_absolute_error(tgt_, baseline_2), decimals=2))\n",
    "    dict['std_HWRF'].append(np.around(np.std(tgt_ - baseline_2), decimals=2))\n",
    "    dict['MAES_OFCL'].append(np.around(mean_absolute_error(tgt_, baseline_3), decimals=2))\n",
    "    dict['std_OFCL'].append(np.around(np.std(tgt_ - baseline_3), decimals=2))\n",
    "    dict['MAES_FSSE'].append(np.around(mean_absolute_error(tgt_, baseline_4), decimals=2))\n",
    "    dict['std_FSSE'].append(np.around(np.std(tgt_ - baseline_4), decimals=2))\n",
    "    \n",
    "def append_dict_intensity_6cast(dict, tgt_, preds, preds_1, baseline_1, baseline_2, baseline_3, baseline_4, baseline_5, baseline_6, year):\n",
    "    dict['year'].append(year)\n",
    "    dict['num_samples'].append(len(tgt_))\n",
    "    dict['MAEs_full'].append(np.around(mean_absolute_error(tgt_, preds), decimals = 2))\n",
    "    dict['std_full'].append(np.around(np.std(tgt_ - preds), decimals = 2))\n",
    "    dict['MAES_2012'].append(np.around(mean_absolute_error(tgt_, preds_1), decimals = 2))\n",
    "    dict['std_2012'].append(np.around(np.std(tgt_ - preds_1), decimals=2))\n",
    "    dict['MAES_SHIP'].append(np.around(mean_absolute_error(tgt_, baseline_1), decimals = 2))\n",
    "    dict['std_SHIP'].append(np.around(np.std(tgt_ - baseline_1), decimals = 2))\n",
    "    dict['MAES_HWRF'].append(np.around(mean_absolute_error(tgt_, baseline_2), decimals=2))\n",
    "    dict['std_HWRF'].append(np.around(np.std(tgt_ - baseline_2), decimals=2))\n",
    "    dict['MAES_OFCL'].append(np.around(mean_absolute_error(tgt_, baseline_3), decimals=2))\n",
    "    dict['std_OFCL'].append(np.around(np.std(tgt_ - baseline_3), decimals=2))\n",
    "    dict['MAES_FSSE'].append(np.around(mean_absolute_error(tgt_, baseline_4), decimals=2))\n",
    "    dict['std_FSSE'].append(np.around(np.std(tgt_ - baseline_4), decimals=2))\n",
    "    dict['MAES_GFSO'].append(np.around(mean_absolute_error(tgt_, baseline_5), decimals=2))\n",
    "    dict['std_GFSO'].append(np.around(np.std(tgt_ - baseline_5), decimals=2))\n",
    "    dict['MAES_DSHP'].append(np.around(mean_absolute_error(tgt_, baseline_6), decimals=2))\n",
    "    dict['std_DSHP'].append(np.around(np.std(tgt_ - baseline_6), decimals=2))\n",
    "    \n",
    "    #consensus_ofcl = (baseline_1+baseline_2+baseline_3+baseline_4+baseline_5+baseline_6)/6\n",
    "    #consensus_hurr = (baseline_1+baseline_2+baseline_3+baseline_4+baseline_5+baseline_6+preds)/7\n",
    "    consensus_ofcl = (baseline_1+baseline_2+baseline_3+baseline_4 + baseline_6)/5\n",
    "    consensus_hurr = (baseline_1+baseline_2+baseline_3+baseline_4 + baseline_6+preds)/6\n",
    "    print(\"Consensus ofcl\", np.around(mean_absolute_error(tgt_, consensus_ofcl), decimals=2), np.around(np.std(tgt_ - consensus_ofcl), decimals = 2), np.around(sum(abs(tgt_ - consensus_ofcl) > 20)/len(preds) * 100, decimals = 2))\n",
    "    print(\"Consensus Hurr\", np.around(mean_absolute_error(tgt_, consensus_hurr), decimals=2), np.around(np.std(tgt_ - consensus_hurr), decimals = 2), np.around(sum(abs(tgt_ - consensus_hurr) > 20)/len(preds) * 100, decimals = 2))\n",
    "    \n",
    " "
   ]
  },
  {
   "cell_type": "markdown",
   "metadata": {
    "heading_collapsed": true
   },
   "source": [
    "# Baselines functions"
   ]
  },
  {
   "cell_type": "code",
   "execution_count": 19,
   "metadata": {
    "hidden": true
   },
   "outputs": [],
   "source": [
    "def train_xgb_intensity_all_years_full_train_6cast(train, test, tgt_train, tgt_test, forecast2 = None, forecast3 = None, forecast4 = None, forecast5 = None, forecast6 = None, max_depth = 8, n_estimators = 140, learning_rate = 0.07, subsample = 0.7, min_child_weight=5, basin = 'AN', forecast = 'SHIP'):\n",
    "    xgb_total_1 = XGBRegressor(max_depth=max_depth, n_estimators=n_estimators, learning_rate=learning_rate,\n",
    "                             subsample=subsample, min_child_weight=min_child_weight)\n",
    "    xgb_total_1.fit(np.array(train), tgt_train)\n",
    "    dict6 = {'year':[], 'num_samples':[], 'MAEs_full':[], 'std_full':[], 'MAES_2012':[], 'std_2012':[], 'MAES_SHIP':[], 'std_SHIP':[], 'MAES_HWRF':[], 'std_HWRF':[], 'MAES_FSSE':[], 'std_FSSE':[], 'MAES_OFCL':[], 'std_OFCL':[], 'MAES_GFSO':[], 'std_GFSO':[], 'MAES_DSHP':[], 'std_DSHP':[]}\n",
    "    for year in range(2016, 2019):\n",
    "        #try:\n",
    "            #index = X_test_baseline.loc[X_test_baseline['YEAR_0'] < year].index\n",
    "            index = X_test_baseline.loc[X_test_baseline['YEAR_0'] < year].loc[X_test_baseline['YEAR_0'] >= 2016].index # .loc[#X_test_baseline['SHIP_24_'+mode+'_7'] > 0].index\n",
    "            X_test_to_train = np.array(test)[index]\n",
    "            train2 = np.concatenate((train, X_test_to_train), axis = 0)\n",
    "            tgt_train2 = np.concatenate((tgt_train, tgt_test[index]), axis = 0)\n",
    "            xgb_total = XGBRegressor(max_depth=max_depth, n_estimators=n_estimators, learning_rate=learning_rate,\n",
    "                                     subsample=subsample, min_child_weight=min_child_weight)\n",
    "            xgb_total.fit(train2, tgt_train2)\n",
    "            compare_perf_intensity_per_year_6cast(test, dict6, xgb_tot = xgb_total_1, forecast2 = forecast2, xgb_total = xgb_total, basin=basin, forecast=forecast, year = year, forecast3= forecast3, forecast4 = forecast4, forecast5 = forecast5, forecast6 = forecast6)\n",
    "            print(\"\\n\")\n",
    "        #except:\n",
    "            #print(\"\\n No forecasts for year \", year)\n",
    "    return dict6\n",
    "\n",
    "   \n",
    "def compare_perf_intensity_per_year_6cast(test, dict, xgb_tot, xgb_total, year, forecast2, forecast3, forecast4, forecast5, forecast6, basin = 'AN', forecast = 'SHIP'):\n",
    "    mode = 'vmax'\n",
    "    baseline_ = X_test_baseline.loc[X_test_baseline['YEAR_0'] == year].loc[\n",
    "            X_test_baseline[forecast6 + '_24_' + mode + '_7'] > -320].loc[\n",
    "            X_test_baseline[forecast5 + '_24_' + mode + '_7'] > -320].loc[\n",
    "            X_test_baseline[forecast4 + '_24_' + mode + '_7'] > -320].loc[\n",
    "            X_test_baseline[forecast3 + '_24_' + mode + '_7'] > -320].loc[\n",
    "            X_test_baseline[forecast2 + '_24_' + mode + '_7'] > -320].loc[\n",
    "            X_test_baseline[forecast + '_24_' + mode + '_7'] > -320].loc[X_test_baseline['cat_basin_' + basin + '_0'] == 1]  # .loc[#X_test_baseline['SHIP_24_'+mode+'_7'] > 0].index\n",
    "    if basin == 'EP':\n",
    "        baseline_ = baseline_.loc[X_test_baseline['YEAR_0'] < 2019]\n",
    "    index = baseline_.index\n",
    "    baseline_1 = baseline_[forecast + '_24_'+mode+'_7']\n",
    "    baseline_2 = baseline_[forecast2 + '_24_' + mode + '_7']\n",
    "    baseline_3 = baseline_[forecast3 + '_24_' + mode + '_7']\n",
    "    baseline_4 = baseline_[forecast4 + '_24_' + mode + '_7']\n",
    "    baseline_5 = baseline_[forecast5 + '_24_' + mode + '_7']\n",
    "    baseline_6 = baseline_[forecast6 + '_24_' + mode + '_7']\n",
    "    X_test_withBASELINE_total = np.array(test)[index]\n",
    "    \n",
    "    tgt_ = np.array(tgt_intensity_test[index] * std_ + mean_)\n",
    "    print(\"Total number of steps for comparison: \", len(tgt_))\n",
    "    print(\"Year\", year, \"Basin\", basin, \"MAE intensity | std | busts > 20kn %\")\n",
    "    preds_1 = xgb_tot.predict(X_test_withBASELINE_total) * std_ + mean_\n",
    "    preds = xgb_total.predict(X_test_withBASELINE_total) * std_ + mean_\n",
    "        #print(\"MAE intensity basin \" + basin + \" X stat vs \"+ forecast + \" : \", mean_absolute_error(tgt_intensity_test_withBASELINE * std_ + mean_,\n",
    "                                                     #xgb.predict(X_test_withBASELINE) * std_ + mean_))\n",
    "    print(\"Hurr full: \", np.around(mean_absolute_error(tgt_, preds), decimals = 2), np.around(np.std(tgt_ - preds), decimals=2), np.around(sum(abs(tgt_ - preds) > 20)/len(preds) * 100, decimals = 2))\n",
    "    print(\"Hurr until 2012: \", np.around(mean_absolute_error(tgt_, preds_1), decimals = 2), np.around(np.std(tgt_ - preds_1), decimals=2), np.around(sum(abs(tgt_ - preds_1) > 20)/len(preds) * 100, decimals = 2))\n",
    "    print(forecast,\n",
    "              np.around(mean_absolute_error(tgt_, baseline_1), decimals = 2), np.around(np.std(tgt_ - baseline_1), decimals = 2), np.around(sum(abs(tgt_ - baseline_1) > 20)/len(preds) * 100, decimals = 2))\n",
    "    if forecast2 != None:\n",
    "        print(forecast2,\n",
    "                np.around(mean_absolute_error(tgt_, baseline_2), decimals=2),\n",
    "                np.around(np.std(tgt_ - baseline_2), decimals=2),\n",
    "                np.around(sum(abs(tgt_ - baseline_2) > 20)/len(preds) * 100, decimals = 2))\n",
    "        print(forecast3,\n",
    "                np.around(mean_absolute_error(tgt_, baseline_3), decimals=2),\n",
    "                np.around(np.std(tgt_ - baseline_3), decimals=2),\n",
    "                np.around(sum(abs(tgt_ - baseline_3) > 20)/len(preds) * 100, decimals = 2))\n",
    "        print(forecast4,\n",
    "                np.around(mean_absolute_error(tgt_, baseline_4), decimals=2),\n",
    "                np.around(np.std(tgt_ - baseline_4), decimals=2),\n",
    "                np.around(sum(abs(tgt_ - baseline_4) > 20)/len(preds) * 100, decimals = 2))\n",
    "        print(forecast5,\n",
    "                np.around(mean_absolute_error(tgt_, baseline_5), decimals=2),\n",
    "                np.around(np.std(tgt_ - baseline_5), decimals=2),\n",
    "                np.around(sum(abs(tgt_ - baseline_5) > 20)/len(preds) * 100, decimals = 2))\n",
    "        print(forecast6,\n",
    "                np.around(mean_absolute_error(tgt_, baseline_6), decimals=2),\n",
    "                np.around(np.std(tgt_ - baseline_6), decimals=2),\n",
    "                np.around(sum(abs(tgt_ - baseline_6) > 20)/len(preds) * 100, decimals = 2))\n",
    "\n",
    "    append_dict_intensity_6cast(dict, tgt_, preds, preds_1, baseline_1, baseline_2, baseline_3, baseline_4, baseline_5, baseline_6, year)\n",
    "        "
   ]
  },
  {
   "cell_type": "markdown",
   "metadata": {
    "heading_collapsed": true
   },
   "source": [
    "# Table intensity AN"
   ]
  },
  {
   "cell_type": "code",
   "execution_count": 77,
   "metadata": {
    "hidden": true
   },
   "outputs": [],
   "source": [
    "from sklearn.feature_selection import SelectFromModel\n",
    "\n",
    "n = X_test_baseline.shape[0]\n",
    "X_test_total = X_test_total[-n:]\n",
    "tgt_intensity_test = tgt_intensity_test[-n:]\n",
    "X_test = X_test[-n:]\n",
    "X_test_embed = X_test_embed[-n:]"
   ]
  },
  {
   "cell_type": "code",
   "execution_count": 6,
   "metadata": {
    "hidden": true
   },
   "outputs": [],
   "source": [
    "dict6 = {'year':[], 'num_samples':[], 'MAEs_full':[], 'std_full':[], 'MAES_2012':[], 'std_2012':[], 'MAES_SHIP':[], 'std_SHIP':[], 'MAES_HWRF':[], 'std_HWRF':[], 'MAES_OFCL':[], 'std_OFCL':[], 'MAES_FSSE':[], 'std_FSSE':[], 'MAES_GFSO':[], 'std_GFSO':[], 'MAES_DSHP':[], 'std_DSHP':[]}"
   ]
  },
  {
   "cell_type": "code",
   "execution_count": 79,
   "metadata": {
    "hidden": true
   },
   "outputs": [],
   "source": [
    "tgt_train = np.concatenate((tgt_intensity_train, tgt_intensity_test[:17094]), axis = 0)\n",
    "tgt_train5 = tgt_train*std_+mean_\n",
    "mean_intensity2 = tgt_train5.mean()\n",
    "std_intensity2 = tgt_train5.std()\n",
    "tgt_train5 = (tgt_train5 - mean_intensity2)/std_intensity2\n",
    "tgt_intensity_test = (tgt_intensity_test*std_+mean_ - mean_intensity2)/std_intensity2\n",
    "std_ = float(std_intensity2)\n",
    "mean_ = float(mean_intensity2)"
   ]
  },
  {
   "cell_type": "code",
   "execution_count": 62,
   "metadata": {
    "hidden": true
   },
   "outputs": [
    {
     "name": "stdout",
     "output_type": "stream",
     "text": [
      "Total number of steps for comparison:  669\n",
      "Year 2017 Basin AN MAE intensity | std | busts > 20kn %\n",
      "Hurr full:  10.93 14.14 14.65\n",
      "Hurr until 2012:  10.93 14.14 14.65\n",
      "SHIP 11.29 15.51 17.34\n",
      "HWRF 9.59 12.59 11.21\n",
      "OFCL 8.55 11.85 7.32\n",
      "FSSE 8.44 11.29 7.32\n",
      "GFSO 14.0 15.64 22.42\n",
      "DSHP 10.28 13.59 14.8\n",
      "Consensus ofcl 8.27\n",
      "Consensus Hurr 10.09\n",
      "Total number of steps for comparison:  522\n",
      "Year 2017 Basin EP MAE intensity | std | busts > 20kn %\n",
      "Hurr full:  11.36 15.31 18.01\n",
      "Hurr until 2012:  11.36 15.31 18.01\n",
      "SHIP 11.97 15.22 16.86\n",
      "HWRF 9.95 14.02 14.18\n",
      "OFCL 9.55 12.99 7.85\n",
      "FSSE 9.22 12.38 9.96\n",
      "GFSO 16.95 19.67 31.99\n",
      "DSHP 11.85 15.13 16.86\n",
      "Consensus ofcl 9.24\n",
      "Consensus Hurr 10.98\n"
     ]
    }
   ],
   "source": [
    "#FULL TRAIN WITH CNN/GRU EMBEDS + ONLY AN EP in training + only more than. 40kn winds\n",
    "index_t = X_train.loc[X_train['cat_basin_AN_0'] + X_train['cat_basin_EP_0'] == 1].loc[X_train['WMO_WIND_7'] > 34].index\n",
    "index_te = X_test[:17094].loc[X_test['cat_basin_AN_0'] + X_test['cat_basin_EP_0'] == 1].loc[X_test['WMO_WIND_7'] > 34].index\n",
    "train = np.concatenate((X_train_total[index_t], X_test_total[index_te]), axis = 0)\n",
    "#tgt_train = np.concatenate((tgt_intensity_train[index_t], tgt_intensity_test[index_te]), axis = 0)\n",
    "\n",
    "xgb_total = XGBRegressor(max_depth=6, n_estimators=150, learning_rate=0.03, subsample=0.8, min_child_weight=1)\n",
    "xgb_total.fit(train, tgt_train)\n",
    "compare_perf_intensity_per_year_6cast(X_test_total, dict6, xgb_total = xgb_total, xgb_tot = xgb_total, basin='AN', forecast='SHIP', forecast2 = 'HWRF', forecast3 = 'OFCL', forecast4 = 'FSSE', forecast5 = 'GFSO', forecast6 = 'DSHP', year = 2017)\n",
    "compare_perf_intensity_per_year_6cast(X_test_total, dict6, xgb_total = xgb_total, xgb_tot = xgb_total, basin='EP', forecast='SHIP', forecast2 = 'HWRF', forecast3 = 'OFCL', forecast4 = 'FSSE', forecast5 = 'GFSO', forecast6 = 'DSHP', year = 2017)"
   ]
  },
  {
   "cell_type": "code",
   "execution_count": 63,
   "metadata": {
    "hidden": true
   },
   "outputs": [
    {
     "name": "stdout",
     "output_type": "stream",
     "text": [
      "Total number of steps for comparison:  669\n",
      "Year 2017 Basin AN MAE intensity | std | busts > 20kn %\n",
      "Hurr full:  10.8 13.98 14.5\n",
      "Hurr until 2012:  10.8 13.98 14.5\n",
      "SHIP 11.29 15.51 17.34\n",
      "HWRF 9.59 12.59 11.21\n",
      "OFCL 8.55 11.85 7.32\n",
      "FSSE 8.44 11.29 7.32\n",
      "GFSO 14.0 15.64 22.42\n",
      "DSHP 10.28 13.59 14.8\n",
      "Consensus ofcl 8.27\n",
      "Consensus Hurr 10.3\n",
      "Total number of steps for comparison:  522\n",
      "Year 2017 Basin EP MAE intensity | std | busts > 20kn %\n",
      "Hurr full:  11.13 15.08 16.09\n",
      "Hurr until 2012:  11.13 15.08 16.09\n",
      "SHIP 11.97 15.22 16.86\n",
      "HWRF 9.95 14.02 14.18\n",
      "OFCL 9.55 12.99 7.85\n",
      "FSSE 9.22 12.38 9.96\n",
      "GFSO 16.95 19.67 31.99\n",
      "DSHP 11.85 15.13 16.86\n",
      "Consensus ofcl 9.24\n",
      "Consensus Hurr 11.18\n"
     ]
    }
   ],
   "source": [
    "index_t = X_train.loc[X_train['cat_basin_AN_0'] + X_train['cat_basin_EP_0'] == 1].loc[X_train['WMO_WIND_7'] > 34].index\n",
    "index_te = X_test[:17094].loc[X_test['cat_basin_AN_0'] + X_test['cat_basin_EP_0'] == 1].loc[X_test['WMO_WIND_7'] > 34].index\n",
    "train = np.concatenate((X_train_total[index_t], X_test_total[index_te]), axis = 0)\n",
    "tgt_train = np.array(((np.concatenate((tgt_intensity_train[index_t], tgt_intensity_test[index_te]), axis = 0))*float(std_intensity)+float(mean_intensity)-mean_)/std_)\n",
    "xgb_total = XGBRegressor(max_depth=8, n_estimators=150, learning_rate=0.03, subsample=0.8, min_child_weight=1)\n",
    "xgb_total.fit(train, tgt_train)\n",
    "compare_perf_intensity_per_year_6cast(X_test_total, dict6, xgb_total = xgb_total, xgb_tot = xgb_total, basin='AN', forecast='SHIP', forecast2 = 'HWRF', forecast3 = 'OFCL', forecast4 = 'FSSE', forecast5 = 'GFSO', forecast6 = 'DSHP', year = 2017)\n",
    "compare_perf_intensity_per_year_6cast(X_test_total, dict6, xgb_total = xgb_total, xgb_tot = xgb_total, basin='EP', forecast='SHIP', forecast2 = 'HWRF', forecast3 = 'OFCL', forecast4 = 'FSSE', forecast5 = 'GFSO', forecast6 = 'DSHP', year = 2017)"
   ]
  },
  {
   "cell_type": "code",
   "execution_count": 64,
   "metadata": {
    "hidden": true
   },
   "outputs": [
    {
     "name": "stdout",
     "output_type": "stream",
     "text": [
      "Total number of steps for comparison:  669\n",
      "Year 2017 Basin AN MAE intensity | std | busts > 20kn %\n",
      "Hurr full:  10.68 13.84 12.71\n",
      "Hurr until 2012:  10.68 13.84 12.71\n",
      "SHIP 11.29 15.51 17.34\n",
      "HWRF 9.59 12.59 11.21\n",
      "OFCL 8.55 11.85 7.32\n",
      "FSSE 8.44 11.29 7.32\n",
      "GFSO 14.0 15.64 22.42\n",
      "DSHP 10.28 13.59 14.8\n",
      "Consensus ofcl 8.27\n",
      "Consensus Hurr 10.08\n",
      "Total number of steps for comparison:  522\n",
      "Year 2017 Basin EP MAE intensity | std | busts > 20kn %\n",
      "Hurr full:  11.24 15.15 17.05\n",
      "Hurr until 2012:  11.24 15.15 17.05\n",
      "SHIP 11.97 15.22 16.86\n",
      "HWRF 9.95 14.02 14.18\n",
      "OFCL 9.55 12.99 7.85\n",
      "FSSE 9.22 12.38 9.96\n",
      "GFSO 16.95 19.67 31.99\n",
      "DSHP 11.85 15.13 16.86\n",
      "Consensus ofcl 9.24\n",
      "Consensus Hurr 11.0\n"
     ]
    }
   ],
   "source": [
    "#FULL TRAIN WITH CNN/GRU EMBEDS\n",
    "index_t = X_train.loc[X_train['WMO_WIND_7'] > 40].index\n",
    "index_te = X_test[:17094].loc[X_test['WMO_WIND_7'] > 40].index\n",
    "train = np.concatenate((X_train_total[index_t], X_test_total[index_te]), axis = 0)\n",
    "tgt_train = np.concatenate((tgt_intensity_train[index_t], tgt_intensity_test[index_te]), axis = 0)\n",
    "\n",
    "xgb_total = XGBRegressor(max_depth=8, n_estimators=150, learning_rate=0.05, subsample=0.8, min_child_weight=5)\n",
    "xgb_total.fit(train, tgt_train)\n",
    "compare_perf_intensity_per_year_6cast(X_test_total, dict6, xgb_total = xgb_total, xgb_tot = xgb_total, basin='AN', forecast='SHIP', forecast2 = 'HWRF', forecast3 = 'OFCL', forecast4 = 'FSSE', forecast5 = 'GFSO', forecast6 = 'DSHP', year = 2017)\n",
    "compare_perf_intensity_per_year_6cast(X_test_total, dict6, xgb_total = xgb_total, xgb_tot = xgb_total, basin='EP', forecast='SHIP', forecast2 = 'HWRF', forecast3 = 'OFCL', forecast4 = 'FSSE', forecast5 = 'GFSO', forecast6 = 'DSHP', year = 2017)"
   ]
  },
  {
   "cell_type": "code",
   "execution_count": 85,
   "metadata": {
    "hidden": true
   },
   "outputs": [
    {
     "name": "stdout",
     "output_type": "stream",
     "text": [
      "Total number of steps for comparison:  669\n",
      "Year 2017 Basin AN MAE intensity | std | busts > 20kn %\n",
      "Hurr full:  10.54 13.79 13.0\n",
      "Hurr until 2012:  10.54 13.79 13.0\n",
      "SHIP 11.29 15.51 17.34\n",
      "HWRF 9.59 12.59 11.21\n",
      "OFCL 8.55 11.85 7.32\n",
      "FSSE 8.44 11.29 7.32\n",
      "GFSO 14.0 15.64 22.42\n",
      "DSHP 10.28 13.59 14.8\n",
      "Consensus ofcl 8.39\n",
      "Consensus Hurr 8.27\n",
      "Total number of steps for comparison:  522\n",
      "Year 2017 Basin EP MAE intensity | std | busts > 20kn %\n",
      "Hurr full:  11.27 15.24 16.28\n",
      "Hurr until 2012:  11.27 15.24 16.28\n",
      "SHIP 11.97 15.22 16.86\n",
      "HWRF 9.95 14.02 14.18\n",
      "OFCL 9.55 12.99 7.85\n",
      "FSSE 9.22 12.38 9.96\n",
      "GFSO 16.95 19.67 31.99\n",
      "DSHP 11.85 15.13 16.86\n",
      "Consensus ofcl 9.79\n",
      "Consensus Hurr 9.64\n"
     ]
    }
   ],
   "source": [
    "#FULL TRAIN WITH CNN/GRU EMBEDS\n",
    "train = np.concatenate((X_train_total, X_test_total[:17094]), axis = 0)\n",
    "#tgt_train = np.concatenate((tgt_intensity_train, tgt_intensity_test[:17094]), axis = 0)\n",
    "\n",
    "xgb_total = XGBRegressor(max_depth=8, n_estimators=250, learning_rate=0.07, subsample=0.8, min_child_weight=1, colsample_bytree = 0.7)\n",
    "xgb_total.fit(train, tgt_train5)\n",
    "compare_perf_intensity_per_year_6cast(X_test_total, dict6, xgb_total = xgb_total, xgb_tot = xgb_total, basin='AN', forecast='SHIP', forecast2 = 'HWRF', forecast3 = 'OFCL', forecast4 = 'FSSE', forecast5 = 'GFSO', forecast6 = 'DSHP', year = 2017)\n",
    "compare_perf_intensity_per_year_6cast(X_test_total, dict6, xgb_total = xgb_total, xgb_tot = xgb_total, basin='EP', forecast='SHIP', forecast2 = 'HWRF', forecast3 = 'OFCL', forecast4 = 'FSSE', forecast5 = 'GFSO', forecast6 = 'DSHP', year = 2017)"
   ]
  },
  {
   "cell_type": "code",
   "execution_count": 92,
   "metadata": {
    "hidden": true
   },
   "outputs": [
    {
     "name": "stdout",
     "output_type": "stream",
     "text": [
      "Total number of steps for comparison:  669\n",
      "Year 2017 Basin AN MAE intensity | std | busts > 20kn %\n",
      "Hurr full:  10.54 13.79 13.0\n",
      "Hurr until 2012:  10.54 13.79 13.0\n",
      "SHIP 11.29 15.51 17.34\n",
      "HWRF 9.59 12.59 11.21\n",
      "OFCL 8.55 11.85 7.32\n",
      "FSSE 8.44 11.29 7.32\n",
      "GFSO 14.0 15.64 22.42\n",
      "DSHP 10.28 13.59 14.8\n",
      "Consensus ofcl 8.44 11.35 8.52\n",
      "Consensus Hurr 8.33 11.21 8.37\n",
      "Total number of steps for comparison:  522\n",
      "Year 2017 Basin EP MAE intensity | std | busts > 20kn %\n",
      "Hurr full:  11.27 15.24 16.28\n",
      "Hurr until 2012:  11.27 15.24 16.28\n",
      "SHIP 11.97 15.22 16.86\n",
      "HWRF 9.95 14.02 14.18\n",
      "OFCL 9.55 12.99 7.85\n",
      "FSSE 9.22 12.38 9.96\n",
      "GFSO 16.95 19.67 31.99\n",
      "DSHP 11.85 15.13 16.86\n",
      "Consensus ofcl 9.39 12.52 10.73\n",
      "Consensus Hurr 9.35 12.54 10.73\n"
     ]
    }
   ],
   "source": [
    "compare_perf_intensity_per_year_6cast(X_test_total, dict6, xgb_total = xgb_total, xgb_tot = xgb_total, basin='AN', forecast='SHIP', forecast2 = 'HWRF', forecast3 = 'OFCL', forecast4 = 'FSSE', forecast5 = 'GFSO', forecast6 = 'DSHP', year = 2017)\n",
    "compare_perf_intensity_per_year_6cast(X_test_total, dict6, xgb_total = xgb_total, xgb_tot = xgb_total, basin='EP', forecast='SHIP', forecast2 = 'HWRF', forecast3 = 'OFCL', forecast4 = 'FSSE', forecast5 = 'GFSO', forecast6 = 'DSHP', year = 2017)"
   ]
  },
  {
   "cell_type": "code",
   "execution_count": 211,
   "metadata": {
    "hidden": true
   },
   "outputs": [],
   "source": [
    "year = 2017\n",
    "forecast='SHIP'\n",
    "forecast2 = 'HWRF'\n",
    "forecast3 = 'OFCL'\n",
    "forecast4 = 'FSSE'\n",
    "forecast5 = 'GFSO'\n",
    "forecast6 = 'DSHP'\n",
    "mode = 'vmax'\n",
    "basin = 'AN'\n",
    "test = X_test_total\n",
    "if True:\n",
    "    baseline_ = X_test_baseline.loc[X_test_baseline['YEAR_0'] < year].loc[\n",
    "            X_test_baseline[forecast6 + '_24_' + mode + '_7'] > -320].loc[\n",
    "            X_test_baseline[forecast5 + '_24_' + mode + '_7'] > -320].loc[\n",
    "            X_test_baseline[forecast4 + '_24_' + mode + '_7'] > -320].loc[\n",
    "            X_test_baseline[forecast3 + '_24_' + mode + '_7'] > -320].loc[\n",
    "            X_test_baseline[forecast2 + '_24_' + mode + '_7'] > -320].loc[\n",
    "            X_test_baseline[forecast + '_24_' + mode + '_7'] > -320].loc[X_test_baseline['cat_basin_' + basin + '_0'] == 1]  # .loc[#X_test_baseline['SHIP_24_'+mode+'_7'] > 0].index\n",
    "    if basin == 'EP':\n",
    "        baseline_ = X_test_baseline.loc[X_test_baseline['YEAR_0'] < year].loc[\n",
    "            X_test_baseline[forecast6 + '_24_' + mode + '_7'] > -320].loc[\n",
    "            X_test_baseline[forecast5 + '_24_' + mode + '_7'] > -320].loc[\n",
    "            X_test_baseline[forecast4 + '_24_' + mode + '_7'] > -320].loc[\n",
    "            X_test_baseline[forecast3 + '_24_' + mode + '_7'] > -320].loc[\n",
    "            X_test_baseline[forecast2 + '_24_' + mode + '_7'] > -320].loc[\n",
    "            X_test_baseline[forecast + '_24_' + mode + '_7'] > -320].loc[X_test_baseline['cat_basin_' + basin + '_0'] == 1]\n",
    "    index = baseline_.index\n",
    "    baseline_1 = baseline_[forecast + '_24_'+ mode + '_7']\n",
    "    baseline_2 = baseline_[forecast2 + '_24_' + mode + '_7']\n",
    "    baseline_3 = baseline_[forecast3 + '_24_' + mode + '_7']\n",
    "    baseline_4 = baseline_[forecast4 + '_24_' + mode + '_7']\n",
    "    baseline_5 = baseline_[forecast5 + '_24_' + mode + '_7']\n",
    "    baseline_6 = baseline_[forecast6 + '_24_' + mode + '_7']\n",
    "    X_test_withBASELINE_total = np.array(test)[index]\n",
    "    \n",
    "    tgt_ = np.array(tgt_intensity_test[index] * std_ + mean_)\n",
    "    preds = xgb_total.predict(X_test_withBASELINE_total) * std_ + mean_\n",
    "    train_consensus = np.stack((baseline_1, baseline_2, baseline_3, baseline_4, baseline_5, baseline_6), axis = 1)\n",
    "    train_consensus_hurr = np.stack((baseline_1, baseline_2, baseline_3, baseline_4, baseline_5, baseline_6, preds), axis = 1)\n",
    "   \n",
    "if True:\n",
    "    baseline_ = X_test_baseline.loc[X_test_baseline['YEAR_0'] >= year].loc[\n",
    "            X_test_baseline[forecast6 + '_24_' + mode + '_7'] > -320].loc[\n",
    "            X_test_baseline[forecast5 + '_24_' + mode + '_7'] > -320].loc[\n",
    "            X_test_baseline[forecast4 + '_24_' + mode + '_7'] > -320].loc[\n",
    "            X_test_baseline[forecast3 + '_24_' + mode + '_7'] > -320].loc[\n",
    "            X_test_baseline[forecast2 + '_24_' + mode + '_7'] > -320].loc[\n",
    "            X_test_baseline[forecast + '_24_' + mode + '_7'] > -320].loc[X_test_baseline['cat_basin_' + basin + '_0'] == 1]  # .loc[#X_test_baseline['SHIP_24_'+mode+'_7'] > 0].index\n",
    "    if basin == 'EP':\n",
    "        baseline_ = X_test_baseline.loc[X_test_baseline['YEAR_0'] < 2019].loc[X_test_baseline['YEAR_0'] >= year].loc[\n",
    "            X_test_baseline[forecast6 + '_24_' + mode + '_7'] > -320].loc[\n",
    "            X_test_baseline[forecast5 + '_24_' + mode + '_7'] > -320].loc[\n",
    "            X_test_baseline[forecast4 + '_24_' + mode + '_7'] > -320].loc[\n",
    "            X_test_baseline[forecast3 + '_24_' + mode + '_7'] > -320].loc[\n",
    "            X_test_baseline[forecast2 + '_24_' + mode + '_7'] > -320].loc[\n",
    "            X_test_baseline[forecast + '_24_' + mode + '_7'] > -320].loc[X_test_baseline['cat_basin_' + basin + '_0'] == 1]\n",
    "    index = baseline_.index\n",
    "    baseline_1 = baseline_[forecast + '_24_'+ mode + '_7']\n",
    "    baseline_2 = baseline_[forecast2 + '_24_' + mode + '_7']\n",
    "    baseline_3 = baseline_[forecast3 + '_24_' + mode + '_7']\n",
    "    baseline_4 = baseline_[forecast4 + '_24_' + mode + '_7']\n",
    "    baseline_5 = baseline_[forecast5 + '_24_' + mode + '_7']\n",
    "    baseline_6 = baseline_[forecast6 + '_24_' + mode + '_7']\n",
    "    X_test_withBASELINE_total = np.array(test)[index]\n",
    "    \n",
    "    tgt_test = np.array(tgt_intensity_test[index] * std_ + mean_)\n",
    "    preds = xgb_total.predict(X_test_withBASELINE_total) * std_ + mean_\n",
    "    test_consensus = np.stack((baseline_1, baseline_2, baseline_3, baseline_4, baseline_5, baseline_6), axis = 1)\n",
    "    test_consensus_hurr = np.stack((baseline_1, baseline_2, baseline_3, baseline_4, baseline_5, baseline_6, preds), axis = 1)\n",
    "        "
   ]
  },
  {
   "cell_type": "code",
   "execution_count": 184,
   "metadata": {
    "hidden": true
   },
   "outputs": [
    {
     "name": "stdout",
     "output_type": "stream",
     "text": [
      "MAE intensity:  8.195159\n",
      "[ 0.          0.13361378  0.64414746  0.2184808   0.06403179 -0.        ]\n",
      "MAE intensity:  8.025881\n",
      "[-0.          0.11876066  0.5839296   0.28978214  0.11706416 -0.23846142\n",
      "  0.25588316]\n"
     ]
    }
   ],
   "source": [
    "#AN\n",
    "m = Lasso(alpha = 10)\n",
    "m.fit(train_consensus, tgt_)\n",
    "preds = np.array(m.predict(test_consensus))\n",
    "\n",
    "print(\"consensus without Hurricast\",\n",
    "                np.around(mean_absolute_error(np.array(tgt_test), preds), decimals=2),\n",
    "                np.around(np.std(tgt_test - preds), decimals=2),\n",
    "                np.around(sum(abs(tgt_test - preds) > 20)/len(preds) * 100, decimals = 2))print(m.coef_)\n",
    "\n",
    "m = Lasso(alpha = 3)\n",
    "m.fit(train_consensus_hurr, tgt_)\n",
    "preds = np.array(m.predict(test_consensus_hurr))\n",
    "\n",
    "\n",
    "print(\"consensus with Hurricast\",\n",
    "                np.around(mean_absolute_error(np.array(tgt_test), preds), decimals=2),\n",
    "                np.around(np.std(tgt_test - preds), decimals=2),\n",
    "                np.around(sum(abs(tgt_test - preds) > 20)/len(preds) * 100, decimals = 2))print(m.coef_)"
   ]
  },
  {
   "cell_type": "code",
   "execution_count": 213,
   "metadata": {
    "hidden": true
   },
   "outputs": [
    {
     "name": "stdout",
     "output_type": "stream",
     "text": [
      "consensus without Hurricast 8.2 11.0 8.67\n",
      "consensus with Hurricast 8.02 10.74 8.37\n"
     ]
    }
   ],
   "source": [
    "#AN\n",
    "m = Lasso(alpha = 10)\n",
    "m.fit(train_consensus, tgt_)\n",
    "preds = np.array(m.predict(test_consensus))\n",
    "\n",
    "print(\"consensus without Hurricast\",\n",
    "                np.around(mean_absolute_error(np.array(tgt_test), preds), decimals=2),\n",
    "                np.around(np.std(tgt_test - preds), decimals=2),\n",
    "                np.around(sum(abs(tgt_test - preds) > 20)/len(preds) * 100, decimals = 2))\n",
    "\n",
    "m = Lasso(alpha = 3)\n",
    "m.fit(train_consensus_hurr, tgt_)\n",
    "preds = np.array(m.predict(test_consensus_hurr))\n",
    "\n",
    "\n",
    "print(\"consensus with Hurricast\",\n",
    "                np.around(mean_absolute_error(np.array(tgt_test), preds), decimals=2),\n",
    "                np.around(np.std(tgt_test - preds), decimals=2),\n",
    "                np.around(sum(abs(tgt_test - preds) > 20)/len(preds) * 100, decimals = 2))"
   ]
  },
  {
   "cell_type": "code",
   "execution_count": 210,
   "metadata": {
    "hidden": true
   },
   "outputs": [
    {
     "name": "stdout",
     "output_type": "stream",
     "text": [
      "consensus without Hurricast 8.6 11.93 10.73\n",
      "consensus with Hurricast 8.56 11.76 10.34\n"
     ]
    }
   ],
   "source": [
    "#EP\n",
    "m = Lasso(alpha = 0.9)\n",
    "m.fit(train_consensus, tgt_)\n",
    "#print(\"MAE intensity: \", mean_absolute_error(np.array(tgt_test), np.array(m.predict(test_consensus))))\n",
    "#print(m.coef_)\n",
    "preds = np.array(m.predict(test_consensus))\n",
    "print(\"consensus without Hurricast\",\n",
    "                np.around(mean_absolute_error(np.array(tgt_test), preds), decimals=2),\n",
    "                np.around(np.std(tgt_test - preds), decimals=2),\n",
    "                np.around(sum(abs(tgt_test - preds) > 20)/len(preds) * 100, decimals = 2))\n",
    "\n",
    "m = Lasso(alpha = 2.)\n",
    "m.fit(train_consensus_hurr, tgt_)\n",
    "#print(\"MAE intensity: \", mean_absolute_error(np.array(tgt_test), np.array(m.predict(test_consensus_hurr))))\n",
    "#print(m.coef_)\n",
    "preds = np.array(m.predict(test_consensus_hurr))\n",
    "print(\"consensus with Hurricast\",\n",
    "                np.around(mean_absolute_error(np.array(tgt_test), preds), decimals=2),\n",
    "                np.around(np.std(tgt_test - preds), decimals=2),\n",
    "                np.around(sum(abs(tgt_test - preds) > 20)/len(preds) * 100, decimals = 2))"
   ]
  },
  {
   "cell_type": "code",
   "execution_count": 46,
   "metadata": {
    "hidden": true
   },
   "outputs": [
    {
     "ename": "KeyboardInterrupt",
     "evalue": "",
     "output_type": "error",
     "traceback": [
      "\u001b[0;31m---------------------------------------------------------------------------\u001b[0m",
      "\u001b[0;31mKeyboardInterrupt\u001b[0m                         Traceback (most recent call last)",
      "\u001b[0;32m<ipython-input-46-808056b18fb1>\u001b[0m in \u001b[0;36m<module>\u001b[0;34m()\u001b[0m\n\u001b[1;32m      1\u001b[0m \u001b[0mxgb_total\u001b[0m \u001b[0;34m=\u001b[0m \u001b[0mRandomForestRegressor\u001b[0m\u001b[0;34m(\u001b[0m\u001b[0mmax_depth\u001b[0m\u001b[0;34m=\u001b[0m\u001b[0;36m8\u001b[0m\u001b[0;34m,\u001b[0m \u001b[0mn_estimators\u001b[0m\u001b[0;34m=\u001b[0m\u001b[0;36m250\u001b[0m\u001b[0;34m)\u001b[0m\u001b[0;34m\u001b[0m\u001b[0;34m\u001b[0m\u001b[0m\n\u001b[0;32m----> 2\u001b[0;31m \u001b[0mxgb_total\u001b[0m\u001b[0;34m.\u001b[0m\u001b[0mfit\u001b[0m\u001b[0;34m(\u001b[0m\u001b[0mtrain\u001b[0m\u001b[0;34m,\u001b[0m \u001b[0mtgt_train5\u001b[0m\u001b[0;34m)\u001b[0m\u001b[0;34m\u001b[0m\u001b[0;34m\u001b[0m\u001b[0m\n\u001b[0m",
      "\u001b[0;32m/state/partition1/llgrid/pkg/anaconda/anaconda3-2020a/lib/python3.6/site-packages/sklearn/ensemble/forest.py\u001b[0m in \u001b[0;36mfit\u001b[0;34m(self, X, y, sample_weight)\u001b[0m\n\u001b[1;32m    331\u001b[0m                     \u001b[0mt\u001b[0m\u001b[0;34m,\u001b[0m \u001b[0mself\u001b[0m\u001b[0;34m,\u001b[0m \u001b[0mX\u001b[0m\u001b[0;34m,\u001b[0m \u001b[0my\u001b[0m\u001b[0;34m,\u001b[0m \u001b[0msample_weight\u001b[0m\u001b[0;34m,\u001b[0m \u001b[0mi\u001b[0m\u001b[0;34m,\u001b[0m \u001b[0mlen\u001b[0m\u001b[0;34m(\u001b[0m\u001b[0mtrees\u001b[0m\u001b[0;34m)\u001b[0m\u001b[0;34m,\u001b[0m\u001b[0;34m\u001b[0m\u001b[0;34m\u001b[0m\u001b[0m\n\u001b[1;32m    332\u001b[0m                     verbose=self.verbose, class_weight=self.class_weight)\n\u001b[0;32m--> 333\u001b[0;31m                 for i, t in enumerate(trees))\n\u001b[0m\u001b[1;32m    334\u001b[0m \u001b[0;34m\u001b[0m\u001b[0m\n\u001b[1;32m    335\u001b[0m             \u001b[0;31m# Collect newly grown trees\u001b[0m\u001b[0;34m\u001b[0m\u001b[0;34m\u001b[0m\u001b[0;34m\u001b[0m\u001b[0m\n",
      "\u001b[0;32m/state/partition1/llgrid/pkg/anaconda/anaconda3-2020a/lib/python3.6/site-packages/sklearn/externals/joblib/parallel.py\u001b[0m in \u001b[0;36m__call__\u001b[0;34m(self, iterable)\u001b[0m\n\u001b[1;32m    918\u001b[0m                 \u001b[0mself\u001b[0m\u001b[0;34m.\u001b[0m\u001b[0m_iterating\u001b[0m \u001b[0;34m=\u001b[0m \u001b[0mself\u001b[0m\u001b[0;34m.\u001b[0m\u001b[0m_original_iterator\u001b[0m \u001b[0;32mis\u001b[0m \u001b[0;32mnot\u001b[0m \u001b[0;32mNone\u001b[0m\u001b[0;34m\u001b[0m\u001b[0;34m\u001b[0m\u001b[0m\n\u001b[1;32m    919\u001b[0m \u001b[0;34m\u001b[0m\u001b[0m\n\u001b[0;32m--> 920\u001b[0;31m             \u001b[0;32mwhile\u001b[0m \u001b[0mself\u001b[0m\u001b[0;34m.\u001b[0m\u001b[0mdispatch_one_batch\u001b[0m\u001b[0;34m(\u001b[0m\u001b[0miterator\u001b[0m\u001b[0;34m)\u001b[0m\u001b[0;34m:\u001b[0m\u001b[0;34m\u001b[0m\u001b[0;34m\u001b[0m\u001b[0m\n\u001b[0m\u001b[1;32m    921\u001b[0m                 \u001b[0;32mpass\u001b[0m\u001b[0;34m\u001b[0m\u001b[0;34m\u001b[0m\u001b[0m\n\u001b[1;32m    922\u001b[0m \u001b[0;34m\u001b[0m\u001b[0m\n",
      "\u001b[0;32m/state/partition1/llgrid/pkg/anaconda/anaconda3-2020a/lib/python3.6/site-packages/sklearn/externals/joblib/parallel.py\u001b[0m in \u001b[0;36mdispatch_one_batch\u001b[0;34m(self, iterator)\u001b[0m\n\u001b[1;32m    757\u001b[0m                 \u001b[0;32mreturn\u001b[0m \u001b[0;32mFalse\u001b[0m\u001b[0;34m\u001b[0m\u001b[0;34m\u001b[0m\u001b[0m\n\u001b[1;32m    758\u001b[0m             \u001b[0;32melse\u001b[0m\u001b[0;34m:\u001b[0m\u001b[0;34m\u001b[0m\u001b[0;34m\u001b[0m\u001b[0m\n\u001b[0;32m--> 759\u001b[0;31m                 \u001b[0mself\u001b[0m\u001b[0;34m.\u001b[0m\u001b[0m_dispatch\u001b[0m\u001b[0;34m(\u001b[0m\u001b[0mtasks\u001b[0m\u001b[0;34m)\u001b[0m\u001b[0;34m\u001b[0m\u001b[0;34m\u001b[0m\u001b[0m\n\u001b[0m\u001b[1;32m    760\u001b[0m                 \u001b[0;32mreturn\u001b[0m \u001b[0;32mTrue\u001b[0m\u001b[0;34m\u001b[0m\u001b[0;34m\u001b[0m\u001b[0m\n\u001b[1;32m    761\u001b[0m \u001b[0;34m\u001b[0m\u001b[0m\n",
      "\u001b[0;32m/state/partition1/llgrid/pkg/anaconda/anaconda3-2020a/lib/python3.6/site-packages/sklearn/externals/joblib/parallel.py\u001b[0m in \u001b[0;36m_dispatch\u001b[0;34m(self, batch)\u001b[0m\n\u001b[1;32m    714\u001b[0m         \u001b[0;32mwith\u001b[0m \u001b[0mself\u001b[0m\u001b[0;34m.\u001b[0m\u001b[0m_lock\u001b[0m\u001b[0;34m:\u001b[0m\u001b[0;34m\u001b[0m\u001b[0;34m\u001b[0m\u001b[0m\n\u001b[1;32m    715\u001b[0m             \u001b[0mjob_idx\u001b[0m \u001b[0;34m=\u001b[0m \u001b[0mlen\u001b[0m\u001b[0;34m(\u001b[0m\u001b[0mself\u001b[0m\u001b[0;34m.\u001b[0m\u001b[0m_jobs\u001b[0m\u001b[0;34m)\u001b[0m\u001b[0;34m\u001b[0m\u001b[0;34m\u001b[0m\u001b[0m\n\u001b[0;32m--> 716\u001b[0;31m             \u001b[0mjob\u001b[0m \u001b[0;34m=\u001b[0m \u001b[0mself\u001b[0m\u001b[0;34m.\u001b[0m\u001b[0m_backend\u001b[0m\u001b[0;34m.\u001b[0m\u001b[0mapply_async\u001b[0m\u001b[0;34m(\u001b[0m\u001b[0mbatch\u001b[0m\u001b[0;34m,\u001b[0m \u001b[0mcallback\u001b[0m\u001b[0;34m=\u001b[0m\u001b[0mcb\u001b[0m\u001b[0;34m)\u001b[0m\u001b[0;34m\u001b[0m\u001b[0;34m\u001b[0m\u001b[0m\n\u001b[0m\u001b[1;32m    717\u001b[0m             \u001b[0;31m# A job can complete so quickly than its callback is\u001b[0m\u001b[0;34m\u001b[0m\u001b[0;34m\u001b[0m\u001b[0;34m\u001b[0m\u001b[0m\n\u001b[1;32m    718\u001b[0m             \u001b[0;31m# called before we get here, causing self._jobs to\u001b[0m\u001b[0;34m\u001b[0m\u001b[0;34m\u001b[0m\u001b[0;34m\u001b[0m\u001b[0m\n",
      "\u001b[0;32m/state/partition1/llgrid/pkg/anaconda/anaconda3-2020a/lib/python3.6/site-packages/sklearn/externals/joblib/_parallel_backends.py\u001b[0m in \u001b[0;36mapply_async\u001b[0;34m(self, func, callback)\u001b[0m\n\u001b[1;32m    180\u001b[0m     \u001b[0;32mdef\u001b[0m \u001b[0mapply_async\u001b[0m\u001b[0;34m(\u001b[0m\u001b[0mself\u001b[0m\u001b[0;34m,\u001b[0m \u001b[0mfunc\u001b[0m\u001b[0;34m,\u001b[0m \u001b[0mcallback\u001b[0m\u001b[0;34m=\u001b[0m\u001b[0;32mNone\u001b[0m\u001b[0;34m)\u001b[0m\u001b[0;34m:\u001b[0m\u001b[0;34m\u001b[0m\u001b[0;34m\u001b[0m\u001b[0m\n\u001b[1;32m    181\u001b[0m         \u001b[0;34m\"\"\"Schedule a func to be run\"\"\"\u001b[0m\u001b[0;34m\u001b[0m\u001b[0;34m\u001b[0m\u001b[0m\n\u001b[0;32m--> 182\u001b[0;31m         \u001b[0mresult\u001b[0m \u001b[0;34m=\u001b[0m \u001b[0mImmediateResult\u001b[0m\u001b[0;34m(\u001b[0m\u001b[0mfunc\u001b[0m\u001b[0;34m)\u001b[0m\u001b[0;34m\u001b[0m\u001b[0;34m\u001b[0m\u001b[0m\n\u001b[0m\u001b[1;32m    183\u001b[0m         \u001b[0;32mif\u001b[0m \u001b[0mcallback\u001b[0m\u001b[0;34m:\u001b[0m\u001b[0;34m\u001b[0m\u001b[0;34m\u001b[0m\u001b[0m\n\u001b[1;32m    184\u001b[0m             \u001b[0mcallback\u001b[0m\u001b[0;34m(\u001b[0m\u001b[0mresult\u001b[0m\u001b[0;34m)\u001b[0m\u001b[0;34m\u001b[0m\u001b[0;34m\u001b[0m\u001b[0m\n",
      "\u001b[0;32m/state/partition1/llgrid/pkg/anaconda/anaconda3-2020a/lib/python3.6/site-packages/sklearn/externals/joblib/_parallel_backends.py\u001b[0m in \u001b[0;36m__init__\u001b[0;34m(self, batch)\u001b[0m\n\u001b[1;32m    547\u001b[0m         \u001b[0;31m# Don't delay the application, to avoid keeping the input\u001b[0m\u001b[0;34m\u001b[0m\u001b[0;34m\u001b[0m\u001b[0;34m\u001b[0m\u001b[0m\n\u001b[1;32m    548\u001b[0m         \u001b[0;31m# arguments in memory\u001b[0m\u001b[0;34m\u001b[0m\u001b[0;34m\u001b[0m\u001b[0;34m\u001b[0m\u001b[0m\n\u001b[0;32m--> 549\u001b[0;31m         \u001b[0mself\u001b[0m\u001b[0;34m.\u001b[0m\u001b[0mresults\u001b[0m \u001b[0;34m=\u001b[0m \u001b[0mbatch\u001b[0m\u001b[0;34m(\u001b[0m\u001b[0;34m)\u001b[0m\u001b[0;34m\u001b[0m\u001b[0;34m\u001b[0m\u001b[0m\n\u001b[0m\u001b[1;32m    550\u001b[0m \u001b[0;34m\u001b[0m\u001b[0m\n\u001b[1;32m    551\u001b[0m     \u001b[0;32mdef\u001b[0m \u001b[0mget\u001b[0m\u001b[0;34m(\u001b[0m\u001b[0mself\u001b[0m\u001b[0;34m)\u001b[0m\u001b[0;34m:\u001b[0m\u001b[0;34m\u001b[0m\u001b[0;34m\u001b[0m\u001b[0m\n",
      "\u001b[0;32m/state/partition1/llgrid/pkg/anaconda/anaconda3-2020a/lib/python3.6/site-packages/sklearn/externals/joblib/parallel.py\u001b[0m in \u001b[0;36m__call__\u001b[0;34m(self)\u001b[0m\n\u001b[1;32m    223\u001b[0m         \u001b[0;32mwith\u001b[0m \u001b[0mparallel_backend\u001b[0m\u001b[0;34m(\u001b[0m\u001b[0mself\u001b[0m\u001b[0;34m.\u001b[0m\u001b[0m_backend\u001b[0m\u001b[0;34m,\u001b[0m \u001b[0mn_jobs\u001b[0m\u001b[0;34m=\u001b[0m\u001b[0mself\u001b[0m\u001b[0;34m.\u001b[0m\u001b[0m_n_jobs\u001b[0m\u001b[0;34m)\u001b[0m\u001b[0;34m:\u001b[0m\u001b[0;34m\u001b[0m\u001b[0;34m\u001b[0m\u001b[0m\n\u001b[1;32m    224\u001b[0m             return [func(*args, **kwargs)\n\u001b[0;32m--> 225\u001b[0;31m                     for func, args, kwargs in self.items]\n\u001b[0m\u001b[1;32m    226\u001b[0m \u001b[0;34m\u001b[0m\u001b[0m\n\u001b[1;32m    227\u001b[0m     \u001b[0;32mdef\u001b[0m \u001b[0m__len__\u001b[0m\u001b[0;34m(\u001b[0m\u001b[0mself\u001b[0m\u001b[0;34m)\u001b[0m\u001b[0;34m:\u001b[0m\u001b[0;34m\u001b[0m\u001b[0;34m\u001b[0m\u001b[0m\n",
      "\u001b[0;32m/state/partition1/llgrid/pkg/anaconda/anaconda3-2020a/lib/python3.6/site-packages/sklearn/externals/joblib/parallel.py\u001b[0m in \u001b[0;36m<listcomp>\u001b[0;34m(.0)\u001b[0m\n\u001b[1;32m    223\u001b[0m         \u001b[0;32mwith\u001b[0m \u001b[0mparallel_backend\u001b[0m\u001b[0;34m(\u001b[0m\u001b[0mself\u001b[0m\u001b[0;34m.\u001b[0m\u001b[0m_backend\u001b[0m\u001b[0;34m,\u001b[0m \u001b[0mn_jobs\u001b[0m\u001b[0;34m=\u001b[0m\u001b[0mself\u001b[0m\u001b[0;34m.\u001b[0m\u001b[0m_n_jobs\u001b[0m\u001b[0;34m)\u001b[0m\u001b[0;34m:\u001b[0m\u001b[0;34m\u001b[0m\u001b[0;34m\u001b[0m\u001b[0m\n\u001b[1;32m    224\u001b[0m             return [func(*args, **kwargs)\n\u001b[0;32m--> 225\u001b[0;31m                     for func, args, kwargs in self.items]\n\u001b[0m\u001b[1;32m    226\u001b[0m \u001b[0;34m\u001b[0m\u001b[0m\n\u001b[1;32m    227\u001b[0m     \u001b[0;32mdef\u001b[0m \u001b[0m__len__\u001b[0m\u001b[0;34m(\u001b[0m\u001b[0mself\u001b[0m\u001b[0;34m)\u001b[0m\u001b[0;34m:\u001b[0m\u001b[0;34m\u001b[0m\u001b[0;34m\u001b[0m\u001b[0m\n",
      "\u001b[0;32m/state/partition1/llgrid/pkg/anaconda/anaconda3-2020a/lib/python3.6/site-packages/sklearn/ensemble/forest.py\u001b[0m in \u001b[0;36m_parallel_build_trees\u001b[0;34m(tree, forest, X, y, sample_weight, tree_idx, n_trees, verbose, class_weight)\u001b[0m\n\u001b[1;32m    117\u001b[0m             \u001b[0mcurr_sample_weight\u001b[0m \u001b[0;34m*=\u001b[0m \u001b[0mcompute_sample_weight\u001b[0m\u001b[0;34m(\u001b[0m\u001b[0;34m'balanced'\u001b[0m\u001b[0;34m,\u001b[0m \u001b[0my\u001b[0m\u001b[0;34m,\u001b[0m \u001b[0mindices\u001b[0m\u001b[0;34m)\u001b[0m\u001b[0;34m\u001b[0m\u001b[0;34m\u001b[0m\u001b[0m\n\u001b[1;32m    118\u001b[0m \u001b[0;34m\u001b[0m\u001b[0m\n\u001b[0;32m--> 119\u001b[0;31m         \u001b[0mtree\u001b[0m\u001b[0;34m.\u001b[0m\u001b[0mfit\u001b[0m\u001b[0;34m(\u001b[0m\u001b[0mX\u001b[0m\u001b[0;34m,\u001b[0m \u001b[0my\u001b[0m\u001b[0;34m,\u001b[0m \u001b[0msample_weight\u001b[0m\u001b[0;34m=\u001b[0m\u001b[0mcurr_sample_weight\u001b[0m\u001b[0;34m,\u001b[0m \u001b[0mcheck_input\u001b[0m\u001b[0;34m=\u001b[0m\u001b[0;32mFalse\u001b[0m\u001b[0;34m)\u001b[0m\u001b[0;34m\u001b[0m\u001b[0;34m\u001b[0m\u001b[0m\n\u001b[0m\u001b[1;32m    120\u001b[0m     \u001b[0;32melse\u001b[0m\u001b[0;34m:\u001b[0m\u001b[0;34m\u001b[0m\u001b[0;34m\u001b[0m\u001b[0m\n\u001b[1;32m    121\u001b[0m         \u001b[0mtree\u001b[0m\u001b[0;34m.\u001b[0m\u001b[0mfit\u001b[0m\u001b[0;34m(\u001b[0m\u001b[0mX\u001b[0m\u001b[0;34m,\u001b[0m \u001b[0my\u001b[0m\u001b[0;34m,\u001b[0m \u001b[0msample_weight\u001b[0m\u001b[0;34m=\u001b[0m\u001b[0msample_weight\u001b[0m\u001b[0;34m,\u001b[0m \u001b[0mcheck_input\u001b[0m\u001b[0;34m=\u001b[0m\u001b[0;32mFalse\u001b[0m\u001b[0;34m)\u001b[0m\u001b[0;34m\u001b[0m\u001b[0;34m\u001b[0m\u001b[0m\n",
      "\u001b[0;32m/state/partition1/llgrid/pkg/anaconda/anaconda3-2020a/lib/python3.6/site-packages/sklearn/tree/tree.py\u001b[0m in \u001b[0;36mfit\u001b[0;34m(self, X, y, sample_weight, check_input, X_idx_sorted)\u001b[0m\n\u001b[1;32m   1140\u001b[0m             \u001b[0msample_weight\u001b[0m\u001b[0;34m=\u001b[0m\u001b[0msample_weight\u001b[0m\u001b[0;34m,\u001b[0m\u001b[0;34m\u001b[0m\u001b[0;34m\u001b[0m\u001b[0m\n\u001b[1;32m   1141\u001b[0m             \u001b[0mcheck_input\u001b[0m\u001b[0;34m=\u001b[0m\u001b[0mcheck_input\u001b[0m\u001b[0;34m,\u001b[0m\u001b[0;34m\u001b[0m\u001b[0;34m\u001b[0m\u001b[0m\n\u001b[0;32m-> 1142\u001b[0;31m             X_idx_sorted=X_idx_sorted)\n\u001b[0m\u001b[1;32m   1143\u001b[0m         \u001b[0;32mreturn\u001b[0m \u001b[0mself\u001b[0m\u001b[0;34m\u001b[0m\u001b[0;34m\u001b[0m\u001b[0m\n\u001b[1;32m   1144\u001b[0m \u001b[0;34m\u001b[0m\u001b[0m\n",
      "\u001b[0;32m/state/partition1/llgrid/pkg/anaconda/anaconda3-2020a/lib/python3.6/site-packages/sklearn/tree/tree.py\u001b[0m in \u001b[0;36mfit\u001b[0;34m(self, X, y, sample_weight, check_input, X_idx_sorted)\u001b[0m\n\u001b[1;32m    364\u001b[0m                                            min_impurity_split)\n\u001b[1;32m    365\u001b[0m \u001b[0;34m\u001b[0m\u001b[0m\n\u001b[0;32m--> 366\u001b[0;31m         \u001b[0mbuilder\u001b[0m\u001b[0;34m.\u001b[0m\u001b[0mbuild\u001b[0m\u001b[0;34m(\u001b[0m\u001b[0mself\u001b[0m\u001b[0;34m.\u001b[0m\u001b[0mtree_\u001b[0m\u001b[0;34m,\u001b[0m \u001b[0mX\u001b[0m\u001b[0;34m,\u001b[0m \u001b[0my\u001b[0m\u001b[0;34m,\u001b[0m \u001b[0msample_weight\u001b[0m\u001b[0;34m,\u001b[0m \u001b[0mX_idx_sorted\u001b[0m\u001b[0;34m)\u001b[0m\u001b[0;34m\u001b[0m\u001b[0;34m\u001b[0m\u001b[0m\n\u001b[0m\u001b[1;32m    367\u001b[0m \u001b[0;34m\u001b[0m\u001b[0m\n\u001b[1;32m    368\u001b[0m         \u001b[0;32mif\u001b[0m \u001b[0mself\u001b[0m\u001b[0;34m.\u001b[0m\u001b[0mn_outputs_\u001b[0m \u001b[0;34m==\u001b[0m \u001b[0;36m1\u001b[0m\u001b[0;34m:\u001b[0m\u001b[0;34m\u001b[0m\u001b[0;34m\u001b[0m\u001b[0m\n",
      "\u001b[0;31mKeyboardInterrupt\u001b[0m: "
     ]
    }
   ],
   "source": [
    "xgb_total = RandomForestRegressor(max_depth=8, n_estimators=250, criterion = 'mae')\n",
    "xgb_total.fit(train, tgt_train5)\n",
    "compare_perf_intensity_per_year_6cast(X_test_total, dict6, xgb_total = xgb_total, xgb_tot = xgb_total, basin='AN', forecast='SHIP', forecast2 = 'HWRF', forecast3 = 'OFCL', forecast4 = 'FSSE', forecast5 = 'GFSO', forecast6 = 'DSHP', year = 2017)\n",
    "compare_perf_intensity_per_year_6cast(X_test_total, dict6, xgb_total = xgb_total, xgb_tot = xgb_total, basin='EP', forecast='SHIP', forecast2 = 'HWRF', forecast3 = 'OFCL', forecast4 = 'FSSE', forecast5 = 'GFSO', forecast6 = 'DSHP', year = 2017)"
   ]
  },
  {
   "cell_type": "code",
   "execution_count": 39,
   "metadata": {
    "hidden": true
   },
   "outputs": [
    {
     "name": "stdout",
     "output_type": "stream",
     "text": [
      "Total number of steps for comparison:  42\n",
      "Year 2017 Basin EP MAE intensity | std | busts > 20kn %\n",
      "Hurr full:  11.55 14.03 16.67\n",
      "Hurr until 2012:  11.55 14.03 16.67\n",
      "SHIP 10.74 12.94 11.9\n",
      "HWRF 7.74 10.23 14.29\n",
      "OFCL 8.45 10.79 2.38\n",
      "FSSE 6.64 8.01 0.0\n",
      "GFDL 17.38 18.83 33.33\n",
      "DSHP 10.74 12.94 11.9\n"
     ]
    }
   ],
   "source": [
    "compare_perf_intensity_per_year_6cast(X_test_total, dict6, xgb_total = xgb_total, xgb_tot = xgb_total, basin='EP', forecast='SHIP', forecast2 = 'HWRF', forecast3 = 'OFCL', forecast4 = 'FSSE', forecast5 = 'GFDL', forecast6 = 'DSHP', year = 2017)"
   ]
  },
  {
   "cell_type": "code",
   "execution_count": 82,
   "metadata": {
    "hidden": true
   },
   "outputs": [
    {
     "name": "stdout",
     "output_type": "stream",
     "text": [
      "Total number of steps for comparison:  669\n",
      "Year 2017 Basin AN MAE intensity | std | busts > 20kn %\n",
      "Hurr full:  10.8 13.91 14.5\n",
      "Hurr until 2012:  10.8 13.91 14.5\n",
      "SHIP 11.29 15.51 17.34\n",
      "HWRF 9.59 12.59 11.21\n",
      "OFCL 8.55 11.85 7.32\n",
      "FSSE 8.44 11.29 7.32\n",
      "GFSO 14.0 15.64 22.42\n",
      "DSHP 10.28 13.59 14.8\n",
      "Consensus ofcl 8.27\n",
      "Consensus Hurr 10.03\n",
      "Total number of steps for comparison:  522\n",
      "Year 2017 Basin EP MAE intensity | std | busts > 20kn %\n",
      "Hurr full:  11.59 15.67 19.16\n",
      "Hurr until 2012:  11.59 15.67 19.16\n",
      "SHIP 11.97 15.22 16.86\n",
      "HWRF 9.95 14.02 14.18\n",
      "OFCL 9.55 12.99 7.85\n",
      "FSSE 9.22 12.38 9.96\n",
      "GFSO 16.95 19.67 31.99\n",
      "DSHP 11.85 15.13 16.86\n",
      "Consensus ofcl 9.24\n",
      "Consensus Hurr 11.0\n"
     ]
    }
   ],
   "source": [
    "#TRAIN UNTIL 2012\n",
    "#AN\n",
    "#xgb_total = XGBRegressor(max_depth=8, n_estimators=150, learning_rate=0.07, subsample=0.8, min_child_weight=5, colsample_bytree = 0.7)\n",
    "#EP\n",
    "#xgb_total = XGBRegressor(max_depth=8, n_estimators=150, learning_rate=0.05, subsample=0.7, min_child_weight=5, colsample_bytree = 0.7)\n",
    "xgb_total = XGBRegressor(max_depth=8, n_estimators=150, learning_rate=0.07, subsample=0.8, min_child_weight=5, colsample_bytree = 0.7)\n",
    "xgb_total.fit(X_train_total, tgt_intensity_train)\n",
    "compare_perf_intensity_per_year_6cast(X_test_total, dict6, xgb_total = xgb_total, xgb_tot = xgb_total, basin='AN', forecast='SHIP', forecast2 = 'HWRF', forecast3 = 'OFCL', forecast4 = 'FSSE', forecast5 = 'GFSO', forecast6 = 'DSHP', year = 2017)\n",
    "compare_perf_intensity_per_year_6cast(X_test_total, dict6, xgb_total = xgb_total, xgb_tot = xgb_total, basin='EP', forecast='SHIP', forecast2 = 'HWRF', forecast3 = 'OFCL', forecast4 = 'FSSE', forecast5 = 'GFSO', forecast6 = 'DSHP', year = 2017)"
   ]
  },
  {
   "cell_type": "code",
   "execution_count": 161,
   "metadata": {
    "hidden": true
   },
   "outputs": [
    {
     "name": "stdout",
     "output_type": "stream",
     "text": [
      "Total number of steps for comparison:  669\n",
      "Year 2017 Basin AN MAE intensity | std | busts > 20kn %\n",
      "Hurr full:  10.68 13.82 14.05\n",
      "Hurr until 2012:  10.68 13.82 14.05\n",
      "SHIP 11.29 15.51 17.34\n",
      "HWRF 9.59 12.59 11.21\n",
      "OFCL 8.55 11.85 7.32\n",
      "FSSE 8.44 11.29 7.32\n",
      "GFSO 14.0 15.64 22.42\n",
      "DSHP 10.28 13.59 14.8\n",
      "Total number of steps for comparison:  522\n",
      "Year 2017 Basin EP MAE intensity | std | busts > 20kn %\n",
      "Hurr full:  11.45 15.63 18.01\n",
      "Hurr until 2012:  11.45 15.63 18.01\n",
      "SHIP 11.97 15.22 16.86\n",
      "HWRF 9.95 14.02 14.18\n",
      "OFCL 9.55 12.99 7.85\n",
      "FSSE 9.22 12.38 9.96\n",
      "GFSO 16.95 19.67 31.99\n",
      "DSHP 11.85 15.13 16.86\n"
     ]
    }
   ],
   "source": [
    "#TABULAR ONLY\n",
    "train2 = np.concatenate((X_train, X_test[:17094]), axis = 0)\n",
    "#tgt_train = np.concatenate((tgt_intensity_train, tgt_intensity_test[:17094]), axis = 0)\n",
    "xgb_total = XGBRegressor(max_depth=7, n_estimators=150, learning_rate=0.07, subsample=0.7, min_child_weight=5)\n",
    "xgb_total.fit(train2, tgt_train5)\n",
    "compare_perf_intensity_per_year_6cast(X_test, dict6, xgb_total = xgb_total, xgb_tot = xgb_total, basin='AN', forecast='SHIP', forecast2 = 'HWRF', forecast3 = 'OFCL', forecast4 = 'FSSE', forecast5 = 'GFSO', forecast6 = 'DSHP', year = 2017)\n",
    "compare_perf_intensity_per_year_6cast(X_test, dict6, xgb_total = xgb_total, xgb_tot = xgb_total, basin='EP', forecast='SHIP', forecast2 = 'HWRF', forecast3 = 'OFCL', forecast4 = 'FSSE', forecast5 = 'GFSO', forecast6 = 'DSHP', year = 2017)"
   ]
  },
  {
   "cell_type": "code",
   "execution_count": 162,
   "metadata": {
    "hidden": true
   },
   "outputs": [
    {
     "name": "stdout",
     "output_type": "stream",
     "text": [
      "Total number of steps for comparison:  669\n",
      "Year 2017 Basin AN MAE intensity | std | busts > 20kn %\n",
      "Hurr full:  11.27 14.57 15.4\n",
      "Hurr until 2012:  11.27 14.57 15.4\n",
      "SHIP 11.29 15.51 17.34\n",
      "HWRF 9.59 12.59 11.21\n",
      "OFCL 8.55 11.85 7.32\n",
      "FSSE 8.44 11.29 7.32\n",
      "GFSO 14.0 15.64 22.42\n",
      "DSHP 10.28 13.59 14.8\n",
      "Total number of steps for comparison:  522\n",
      "Year 2017 Basin EP MAE intensity | std | busts > 20kn %\n",
      "Hurr full:  11.28 15.42 18.01\n",
      "Hurr until 2012:  11.28 15.42 18.01\n",
      "SHIP 11.97 15.22 16.86\n",
      "HWRF 9.95 14.02 14.18\n",
      "OFCL 9.55 12.99 7.85\n",
      "FSSE 9.22 12.38 9.96\n",
      "GFSO 16.95 19.67 31.99\n",
      "DSHP 11.85 15.13 16.86\n"
     ]
    }
   ],
   "source": [
    "#EMBED ONLY\n",
    "train2 = np.concatenate((X_train_embed, X_test_embed[:17094]), axis = 0)\n",
    "#tgt_train = np.concatenate((tgt_intensity_train, tgt_intensity_test[:17094]), axis = 0)\n",
    "xgb_total = XGBRegressor(max_depth=7, n_estimators=150, learning_rate=0.07, subsample=0.7, min_child_weight=5)\n",
    "xgb_total.fit(train2, tgt_train5)\n",
    "compare_perf_intensity_per_year_6cast(X_test_embed, dict6, xgb_total = xgb_total, xgb_tot = xgb_total, basin='AN', forecast='SHIP', forecast2 = 'HWRF', forecast3 = 'OFCL', forecast4 = 'FSSE', forecast5 = 'GFSO', forecast6 = 'DSHP', year = 2017)\n",
    "compare_perf_intensity_per_year_6cast(X_test_embed, dict6, xgb_total = xgb_total, xgb_tot = xgb_total, basin='EP', forecast='SHIP', forecast2 = 'HWRF', forecast3 = 'OFCL', forecast4 = 'FSSE', forecast5 = 'GFSO', forecast6 = 'DSHP', year = 2017)"
   ]
  },
  {
   "cell_type": "code",
   "execution_count": 68,
   "metadata": {
    "hidden": true
   },
   "outputs": [
    {
     "name": "stdout",
     "output_type": "stream",
     "text": [
      "Total number of steps for comparison:  669\n",
      "Year 2017 Basin AN MAE intensity | std | busts > 20kn %\n",
      "Hurr full:  10.83 14.65 15.7\n",
      "Hurr until 2012:  10.83 14.65 15.7\n",
      "SHIP 11.29 15.51 17.34\n",
      "HWRF 9.59 12.59 11.21\n",
      "OFCL 8.55 11.85 7.32\n",
      "FSSE 8.44 11.29 7.32\n",
      "GFSO 14.0 15.64 22.42\n",
      "DSHP 10.28 13.59 14.8\n",
      "Total number of steps for comparison:  522\n",
      "Year 2017 Basin EP MAE intensity | std | busts > 20kn %\n",
      "Hurr full:  10.03 13.29 12.64\n",
      "Hurr until 2012:  10.03 13.29 12.64\n",
      "SHIP 11.97 15.22 16.86\n",
      "HWRF 9.95 14.02 14.18\n",
      "OFCL 9.55 12.99 7.85\n",
      "FSSE 9.22 12.38 9.96\n",
      "GFSO 16.95 19.67 31.99\n",
      "DSHP 11.85 15.13 16.86\n"
     ]
    }
   ],
   "source": [
    "#USING OFCL\n",
    "train = np.concatenate((X_test_baseline[:17094], X_test_total[:17094]), axis = 1)\n",
    "tgt_train3 = tgt_intensity_test[:17094]\n",
    "test = np.concatenate((X_test_baseline, X_test_total), axis = 1)\n",
    "xgb_total = XGBRegressor(max_depth=8, n_estimators=150, learning_rate=0.07, subsample=0.8, min_child_weight=5)\n",
    "xgb_total.fit(train, tgt_train3)\n",
    "compare_perf_intensity_per_year_6cast(test, dict6, xgb_total = xgb_total, xgb_tot = xgb_total, basin='AN', forecast='SHIP', forecast2 = 'HWRF', forecast3 = 'OFCL', forecast4 = 'FSSE', forecast5 = 'GFSO', forecast6 = 'DSHP', year = 2017)\n",
    "compare_perf_intensity_per_year_6cast(test, dict6, xgb_total = xgb_total, xgb_tot = xgb_total, basin='EP', forecast='SHIP', forecast2 = 'HWRF', forecast3 = 'OFCL', forecast4 = 'FSSE', forecast5 = 'GFSO', forecast6 = 'DSHP', year = 2017)"
   ]
  },
  {
   "cell_type": "code",
   "execution_count": 112,
   "metadata": {
    "hidden": true
   },
   "outputs": [
    {
     "name": "stdout",
     "output_type": "stream",
     "text": [
      "Total number of steps for comparison:  669\n",
      "Year 2017 Basin AN MAE intensity | std | busts > 20kn %\n",
      "Hurr full:  9.46 13.28 11.66\n",
      "Hurr until 2012:  9.46 13.28 11.66\n",
      "SHIP 11.29 15.51 17.34\n",
      "HWRF 9.59 12.59 11.21\n",
      "OFCL 8.55 11.85 7.32\n",
      "FSSE 8.44 11.29 7.32\n",
      "GFSO 14.0 15.64 22.42\n",
      "DSHP 10.28 13.59 14.8\n",
      "Total number of steps for comparison:  522\n",
      "Year 2017 Basin EP MAE intensity | std | busts > 20kn %\n",
      "Hurr full:  9.29 12.46 11.88\n",
      "Hurr until 2012:  9.29 12.46 11.88\n",
      "SHIP 11.97 15.22 16.86\n",
      "HWRF 9.95 14.02 14.18\n",
      "OFCL 9.55 12.99 7.85\n",
      "FSSE 9.22 12.38 9.96\n",
      "GFSO 16.95 19.67 31.99\n",
      "DSHP 11.85 15.13 16.86\n"
     ]
    }
   ],
   "source": [
    "#OFCL ONLY\n",
    "#train = np.array(X_test_baseline[:17094])\n",
    "#tgt_train3 = tgt_intensity_test[:17094]\n",
    "train = X_test_baseline[:17094].loc[X_test_baseline['cat_basin_AN_0'] + X_test_baseline['cat_basin_EP_0'] == 1]\n",
    "tgt_train3 = tgt_intensity_test[train.index]\n",
    "xgb_total = XGBRegressor(max_depth=7, n_estimators=300, learning_rate=0.03, subsample=0.55, min_child_weight=1)\n",
    "xgb_total.fit(np.array(train), tgt_train3)\n",
    "#xgb_total = XGBRegressor(max_depth=7, n_estimators=300, learning_rate=0.03, subsample=0.55, min_child_weight=1)\n",
    "#xgb_total.fit(np.array(train), tgt_train3)\n",
    "compare_perf_intensity_per_year_6cast(X_test_baseline, dict6, xgb_total = xgb_total, xgb_tot = xgb_total, basin='AN', forecast='SHIP', forecast2 = 'HWRF', forecast3 = 'OFCL', forecast4 = 'FSSE', forecast5 = 'GFSO', forecast6 = 'DSHP', year = 2017)\n",
    "compare_perf_intensity_per_year_6cast(X_test_baseline, dict6, xgb_total = xgb_total, xgb_tot = xgb_total, basin='EP', forecast='SHIP', forecast2 = 'HWRF', forecast3 = 'OFCL', forecast4 = 'FSSE', forecast5 = 'GFSO', forecast6 = 'DSHP', year = 2017)\n",
    "#compare_perf_intensity_per_year_4cast(X_test_baseline, dict = {'year':[], 'num_samples':[], 'MAEs_full':[], 'std_full':[], 'MAES_2012':[], 'std_2012':[], 'MAES_SHIP':[], 'std_SHIP':[], 'MAES_HWRF':[], 'std_HWRF':[], 'MAES_OFCL':[], 'std_OFCL':[], 'MAES_FSSE':[], 'std_FSSE':[]}, xgb_total = xgb_total, xgb_tot = xgb_total, basin='AN', forecast='SHIP', mode='vmax', forecast2 = 'HWRF', forecast3 = 'OFCL', forecast4 = 'FSSE', year = 2017)\n",
    "#xgb_total = XGBRegressor(max_depth=9, n_estimators=150, learning_rate=0.05, subsample=0.7, min_child_weight=7)\n",
    "#xgb_total.fit(train, tgt_train3)\n",
    "#compare_perf_intensity_per_year_4cast(X_test_baseline, dict = {'year':[], 'num_samples':[], 'MAEs_full':[], 'std_full':[], 'MAES_2012':[], 'std_2012':[], 'MAES_SHIP':[], 'std_SHIP':[], 'MAES_HWRF':[], 'std_HWRF':[], 'MAES_OFCL':[], 'std_OFCL':[], 'MAES_FSSE':[], 'std_FSSE':[]}, xgb_total = xgb_total, xgb_tot = xgb_total, basin='EP', forecast='SHIP', mode='vmax', forecast2 = 'HWRF', forecast3 = 'OFCL', forecast4 = 'FSSE', year = 2017)"
   ]
  },
  {
   "cell_type": "code",
   "execution_count": 117,
   "metadata": {
    "hidden": true
   },
   "outputs": [
    {
     "data": {
      "text/plain": [
       "92.9957805907173"
      ]
     },
     "execution_count": 117,
     "metadata": {},
     "output_type": "execute_result"
    }
   ],
   "source": [
    "11.02/11.85*100"
   ]
  },
  {
   "cell_type": "code",
   "execution_count": 113,
   "metadata": {
    "hidden": true
   },
   "outputs": [
    {
     "name": "stdout",
     "output_type": "stream",
     "text": [
      "Total number of steps for comparison:  669\n",
      "Year 2017 Basin AN MAE intensity | std | busts > 20kn %\n",
      "Hurr full:  10.32 13.99 13.75\n",
      "Hurr until 2012:  10.32 13.99 13.75\n",
      "SHIP 11.29 15.51 17.34\n",
      "HWRF 9.59 12.59 11.21\n",
      "OFCL 8.55 11.85 7.32\n",
      "FSSE 8.44 11.29 7.32\n",
      "GFSO 14.0 15.64 22.42\n",
      "DSHP 10.28 13.59 14.8\n",
      "Total number of steps for comparison:  522\n",
      "Year 2017 Basin EP MAE intensity | std | busts > 20kn %\n",
      "Hurr full:  9.44 12.7 10.54\n",
      "Hurr until 2012:  9.44 12.7 10.54\n",
      "SHIP 11.97 15.22 16.86\n",
      "HWRF 9.95 14.02 14.18\n",
      "OFCL 9.55 12.99 7.85\n",
      "FSSE 9.22 12.38 9.96\n",
      "GFSO 16.95 19.67 31.99\n",
      "DSHP 11.85 15.13 16.86\n"
     ]
    }
   ],
   "source": [
    "#OFCL with AN EP ONLY\n",
    "train_0 = X_test_baseline[:17094].loc[X_test_baseline['cat_basin_AN_0'] + X_test_baseline['cat_basin_EP_0'] == 1]\n",
    "train = np.concatenate((train_0, X_test_total[train_0.index]), axis = 1)\n",
    "tgt_train3 = tgt_intensity_test[train_0.index]\n",
    "test = np.concatenate((X_test_baseline, X_test_total), axis = 1)\n",
    "#xgb_total = XGBRegressor(max_depth=5, n_estimators=150, learning_rate=0.05, subsample=0.8, min_child_weight=1, colsample_bytree = 0.7)\n",
    "#xgb_total.fit(train, tgt_train3)\n",
    "xgb_total = XGBRegressor(max_depth=7, n_estimators=300, learning_rate=0.03, subsample=0.55, min_child_weight=1)\n",
    "xgb_total.fit(np.array(train), tgt_train3)\n",
    "compare_perf_intensity_per_year_6cast(test, dict6, xgb_total = xgb_total, xgb_tot = xgb_total, basin='AN', forecast='SHIP', forecast2 = 'HWRF', forecast3 = 'OFCL', forecast4 = 'FSSE', forecast5 = 'GFSO', forecast6 = 'DSHP', year = 2017)\n",
    "compare_perf_intensity_per_year_6cast(test, dict6, xgb_total = xgb_total, xgb_tot = xgb_total, basin='EP', forecast='SHIP', forecast2 = 'HWRF', forecast3 = 'OFCL', forecast4 = 'FSSE', forecast5 = 'GFSO', forecast6 = 'DSHP', year = 2017)"
   ]
  },
  {
   "cell_type": "code",
   "execution_count": 109,
   "metadata": {
    "hidden": true
   },
   "outputs": [
    {
     "name": "stdout",
     "output_type": "stream",
     "text": [
      "Total number of steps for comparison:  669\n",
      "Year 2017 Basin AN MAE intensity | std | busts > 20kn %\n",
      "Hurr full:  10.27 13.92 13.9\n",
      "Hurr until 2012:  10.27 13.92 13.9\n",
      "SHIP 11.29 15.51 17.34\n",
      "HWRF 9.59 12.59 11.21\n",
      "OFCL 8.55 11.85 7.32\n",
      "FSSE 8.44 11.29 7.32\n",
      "GFSO 14.0 15.64 22.42\n",
      "DSHP 10.28 13.59 14.8\n",
      "Total number of steps for comparison:  522\n",
      "Year 2017 Basin EP MAE intensity | std | busts > 20kn %\n",
      "Hurr full:  9.25 12.56 10.73\n",
      "Hurr until 2012:  9.25 12.56 10.73\n",
      "SHIP 11.97 15.22 16.86\n",
      "HWRF 9.95 14.02 14.18\n",
      "OFCL 9.55 12.99 7.85\n",
      "FSSE 9.22 12.38 9.96\n",
      "GFSO 16.95 19.67 31.99\n",
      "DSHP 11.85 15.13 16.86\n"
     ]
    }
   ],
   "source": [
    "#OFCL with AN EP ONLY\n",
    "train_0 = X_test_baseline[:17094].loc[X_test_baseline['cat_basin_AN_0'] + X_test_baseline['cat_basin_EP_0'] == 1]\n",
    "train = np.concatenate((train_0, X_test_total[train_0.index]), axis = 1)\n",
    "tgt_train3 = tgt_intensity_test[train_0.index]\n",
    "test = np.concatenate((X_test_baseline, X_test_total), axis = 1)\n",
    "#xgb_total = XGBRegressor(max_depth=5, n_estimators=150, learning_rate=0.05, subsample=0.8, min_child_weight=1, colsample_bytree = 0.7)\n",
    "#xgb_total.fit(train, tgt_train3)\n",
    "xgb_total = XGBRegressor(max_depth=6, n_estimators=200, learning_rate=0.03, subsample=0.8, min_child_weight=3, colsample_bytree = 1)\n",
    "xgb_total.fit(train, tgt_train3)\n",
    "compare_perf_intensity_per_year_6cast(test, dict6, xgb_total = xgb_total, xgb_tot = xgb_total, basin='AN', forecast='SHIP', forecast2 = 'HWRF', forecast3 = 'OFCL', forecast4 = 'FSSE', forecast5 = 'GFSO', forecast6 = 'DSHP', year = 2017)\n",
    "#xgb_total = XGBRegressor(max_depth=7, n_estimators=200, learning_rate=0.03, subsample=0.8, min_child_weight=3, colsample_bytree = 1)\n",
    "#xgb_total.fit(train, tgt_train3)\n",
    "#reached 9.1§\n",
    "compare_perf_intensity_per_year_6cast(test, dict6, xgb_total = xgb_total, xgb_tot = xgb_total, basin='EP', forecast='SHIP', forecast2 = 'HWRF', forecast3 = 'OFCL', forecast4 = 'FSSE', forecast5 = 'GFSO', forecast6 = 'DSHP', year = 2017)"
   ]
  },
  {
   "cell_type": "code",
   "execution_count": 116,
   "metadata": {
    "hidden": true
   },
   "outputs": [
    {
     "name": "stdout",
     "output_type": "stream",
     "text": [
      "Total number of steps for comparison:  669\n",
      "Year 2017 Basin AN MAE intensity | std | busts > 20kn %\n",
      "Hurr full:  10.41 14.01 14.05\n",
      "Hurr until 2012:  10.41 14.01 14.05\n",
      "SHIP 11.29 15.51 17.34\n",
      "HWRF 9.59 12.59 11.21\n",
      "OFCL 8.55 11.85 7.32\n",
      "FSSE 8.44 11.29 7.32\n",
      "GFSO 14.0 15.64 22.42\n",
      "DSHP 10.28 13.59 14.8\n",
      "Total number of steps for comparison:  522\n",
      "Year 2017 Basin EP MAE intensity | std | busts > 20kn %\n",
      "Hurr full:  9.64 13.04 11.88\n",
      "Hurr until 2012:  9.64 13.04 11.88\n",
      "SHIP 11.97 15.22 16.86\n",
      "HWRF 9.95 14.02 14.18\n",
      "OFCL 9.55 12.99 7.85\n",
      "FSSE 9.22 12.38 9.96\n",
      "GFSO 16.95 19.67 31.99\n",
      "DSHP 11.85 15.13 16.86\n"
     ]
    }
   ],
   "source": [
    "#OFCL with AN EP ONLY\n",
    "train_0 = X_test_baseline[:17094].loc[X_test_baseline['cat_basin_AN_0'] + X_test_baseline['cat_basin_EP_0'] == 1]\n",
    "train = np.concatenate((train_0, X_test_embed[train_0.index]), axis = 1)\n",
    "tgt_train3 = tgt_intensity_test[train_0.index]\n",
    "test = np.concatenate((X_test_baseline, X_test_embed), axis = 1)\n",
    "xgb_total = XGBRegressor(max_depth=6, n_estimators=300, learning_rate=0.03, subsample=0.55, min_child_weight=1)\n",
    "xgb_total.fit(np.array(train), tgt_train3)\n",
    "#xgb_total = XGBRegressor(max_depth=6, n_estimators=150, learning_rate=0.03, subsample=0.8, min_child_weight=2)\n",
    "#xgb_total.fit(train, tgt_train3)\n",
    "compare_perf_intensity_per_year_6cast(test, dict6, xgb_total = xgb_total, xgb_tot = xgb_total, basin='AN', forecast='SHIP', forecast2 = 'HWRF', forecast3 = 'OFCL', forecast4 = 'FSSE', forecast5 = 'GFSO', forecast6 = 'DSHP', year = 2017)\n",
    "compare_perf_intensity_per_year_6cast(test, dict6, xgb_total = xgb_total, xgb_tot = xgb_total, basin='EP', forecast='SHIP', forecast2 = 'HWRF', forecast3 = 'OFCL', forecast4 = 'FSSE', forecast5 = 'GFSO', forecast6 = 'DSHP', year = 2017)"
   ]
  },
  {
   "cell_type": "code",
   "execution_count": 75,
   "metadata": {
    "hidden": true
   },
   "outputs": [],
   "source": [
    "#problem with NaN\n",
    "#xgb2 = XGBRegressor(max_depth=8, n_estimators=140, learning_rate = 0.07, subsample = 0.7, min_child_weight = 5)\n",
    "#xgb2.fit(train, tgt_train3)\n",
    "#select = SelectFromModel(xgb2, prefit=True)\n",
    "#X_train_sparse = select.transform(train)\n",
    "#X_test_sparse = select.transform(test)\n",
    "#xgb_sparse2 = XGBRegressor(max_depth=3, n_estimators=150, learning_rate=0.07, subsample=0.8, min_child_weight=2, colsample_bytree = 0.7)\n",
    "#xgb_sparse2.fit(X_train_sparse, tgt_train3)\n",
    "#compare_perf_intensity_per_year_4cast(X_test_sparse, dict = {'year':[], 'num_samples':[], 'MAEs_full':[], 'std_full':[], 'MAES_2012':[], 'std_2012':[], 'MAES_SHIP':[], 'std_SHIP':[], 'MAES_HWRF':[], 'std_HWRF':[], 'MAES_OFCL':[], 'std_OFCL':[], 'MAES_FSSE':[], 'std_FSSE':[]}, xgb_total = xgb_sparse2, xgb_tot = xgb_sparse2, basin='AN', forecast='SHIP', mode='vmax', forecast2 = 'HWRF', forecast3 = 'OFCL', forecast4 = 'FSSE', year = 2017)"
   ]
  },
  {
   "cell_type": "code",
   "execution_count": 76,
   "metadata": {
    "hidden": true
   },
   "outputs": [
    {
     "name": "stdout",
     "output_type": "stream",
     "text": [
      "Total number of steps for comparison:  669\n",
      "Year 2017 Basin AN MAE intensity | std | busts > 20kn %\n",
      "Hurr full:  10.88 14.64 15.25\n",
      "Hurr until 2012:  10.88 14.64 15.25\n",
      "SHIP 11.29 15.51 17.34\n",
      "HWRF 9.59 12.59 11.21\n",
      "OFCL 8.55 11.85 7.32\n",
      "FSSE 8.44 11.29 7.32\n",
      "GFSO 14.0 15.64 22.42\n",
      "DSHP 10.28 13.59 14.8\n",
      "Total number of steps for comparison:  522\n",
      "Year 2017 Basin EP MAE intensity | std | busts > 20kn %\n",
      "Hurr full:  9.93 13.43 12.45\n",
      "Hurr until 2012:  9.93 13.43 12.45\n",
      "SHIP 11.97 15.22 16.86\n",
      "HWRF 9.95 14.02 14.18\n",
      "OFCL 9.55 12.99 7.85\n",
      "FSSE 9.22 12.38 9.96\n",
      "GFSO 16.95 19.67 31.99\n",
      "DSHP 11.85 15.13 16.86\n"
     ]
    }
   ],
   "source": [
    "#FULL TRAIN WITH CNN/GRU EMBEDS\n",
    "train = np.concatenate((X_test_baseline[:17094], X_test_embed[:17094]), axis = 1)\n",
    "tgt_train3 = tgt_intensity_test[:17094]\n",
    "test = np.concatenate((X_test_baseline, X_test_embed), axis = 1)\n",
    "xgb_total = XGBRegressor(max_depth=9, n_estimators=150, learning_rate=0.05, subsample=0.7, min_child_weight=7)\n",
    "xgb_total.fit(train, tgt_train3)\n",
    "compare_perf_intensity_per_year_6cast(test, dict6, xgb_total = xgb_total, xgb_tot = xgb_total, basin='AN', forecast='SHIP', forecast2 = 'HWRF', forecast3 = 'OFCL', forecast4 = 'FSSE', forecast5 = 'GFSO', forecast6 = 'DSHP', year = 2017)\n",
    "compare_perf_intensity_per_year_6cast(test, dict6, xgb_total = xgb_total, xgb_tot = xgb_total, basin='EP', forecast='SHIP', forecast2 = 'HWRF', forecast3 = 'OFCL', forecast4 = 'FSSE', forecast5 = 'GFSO', forecast6 = 'DSHP', year = 2017)"
   ]
  },
  {
   "cell_type": "code",
   "execution_count": 82,
   "metadata": {
    "hidden": true
   },
   "outputs": [],
   "source": [
    "x_viz_train = np.load('../data/X_train_vision_comp_1980_34_20_120.npy', allow_pickle=True).reshape(-1, 3*5*3*3)\n",
    "x_viz_test = np.load('../data/X_test_vision_comp_1980_34_20_120.npy', allow_pickle=True).reshape(-1, 3*5*3*3)[-n:]\n",
    "x_viz_train = np.concatenate((x_viz_train, x_viz_test[:m]), axis = 0)\n",
    "X_train_total_comp = np.concatenate((X_train, x_viz_train), axis = 1)\n",
    "X_test_total_comp = np.concatenate((X_test, x_viz_test), axis = 1)"
   ]
  },
  {
   "cell_type": "code",
   "execution_count": 94,
   "metadata": {
    "hidden": true
   },
   "outputs": [
    {
     "name": "stdout",
     "output_type": "stream",
     "text": [
      "Total number of steps for comparison:  669\n",
      "Year 2017 Basin AN MAE intensity | std | busts > 20kn %\n",
      "Hurr full:  10.72 13.86 14.35\n",
      "Hurr until 2012:  10.72 13.86 14.35\n",
      "SHIP 11.29 15.51 17.34\n",
      "HWRF 9.59 12.59 11.21\n",
      "OFCL 8.55 11.85 7.32\n",
      "FSSE 8.44 11.29 7.32\n",
      "GFSO 14.0 15.64 22.42\n",
      "DSHP 10.28 13.59 14.8\n",
      "Consensus ofcl 8.44 11.35 8.52\n",
      "Consensus Hurr 8.35 11.23 8.07\n",
      "Total number of steps for comparison:  522\n",
      "Year 2017 Basin EP MAE intensity | std | busts > 20kn %\n",
      "Hurr full:  11.25 15.44 17.82\n",
      "Hurr until 2012:  11.25 15.44 17.82\n",
      "SHIP 11.97 15.22 16.86\n",
      "HWRF 9.95 14.02 14.18\n",
      "OFCL 9.55 12.99 7.85\n",
      "FSSE 9.22 12.38 9.96\n",
      "GFSO 16.95 19.67 31.99\n",
      "DSHP 11.85 15.13 16.86\n",
      "Consensus ofcl 9.39 12.52 10.73\n",
      "Consensus Hurr 9.39 12.59 10.73\n"
     ]
    }
   ],
   "source": [
    "xgb_total = XGBRegressor(max_depth=9, n_estimators=300, learning_rate=0.03, subsample=0.8, min_child_weight=1)\n",
    "xgb_total.fit(X_train_total_comp, tgt_intensity_train)\n",
    "compare_perf_intensity_per_year_6cast(X_test_total_comp, dict6, xgb_total = xgb_total, xgb_tot = xgb_total, basin='AN', forecast='SHIP', forecast2 = 'HWRF', forecast3 = 'OFCL', forecast4 = 'FSSE', forecast5 = 'GFSO', forecast6 = 'DSHP', year = 2017)\n",
    "compare_perf_intensity_per_year_6cast(X_test_total_comp, dict6, xgb_total = xgb_total, xgb_tot = xgb_total, basin='EP', forecast='SHIP', forecast2 = 'HWRF', forecast3 = 'OFCL', forecast4 = 'FSSE', forecast5 = 'GFSO', forecast6 = 'DSHP', year = 2017)"
   ]
  },
  {
   "cell_type": "code",
   "execution_count": 84,
   "metadata": {
    "hidden": true
   },
   "outputs": [],
   "source": [
    "dict6 = {'year':[], 'num_samples':[], 'MAEs_full':[], 'std_full':[], 'MAES_2012':[], 'std_2012':[], 'MAES_SHIP':[], 'std_SHIP':[], 'MAES_HWRF':[], 'std_HWRF':[], 'MAES_FSSE':[], 'std_FSSE':[], 'MAES_OFCL':[], 'std_OFCL':[], 'MAES_GFSO':[], 'std_GFSO':[], 'MAES_DSHP':[], 'std_DSHP':[]}\n"
   ]
  },
  {
   "cell_type": "code",
   "execution_count": 88,
   "metadata": {
    "hidden": true
   },
   "outputs": [
    {
     "name": "stdout",
     "output_type": "stream",
     "text": [
      "Total number of steps for comparison:  669\n",
      "Year 2017 Basin AN MAE intensity | std | busts > 20kn %\n",
      "Hurr full:  10.72 13.85 15.4\n",
      "Hurr until 2012:  10.72 13.85 15.4\n",
      "SHIP 11.29 15.51 17.34\n",
      "HWRF 9.59 12.59 11.21\n",
      "OFCL 8.55 11.85 7.32\n",
      "FSSE 8.44 11.29 7.32\n",
      "GFSO 14.0 15.64 22.42\n",
      "DSHP 10.28 13.59 14.8\n",
      "Consensus ofcl 8.44 11.35 8.52\n",
      "Consensus Hurr 8.36 11.26 8.22\n",
      "Total number of steps for comparison:  522\n",
      "Year 2017 Basin EP MAE intensity | std | busts > 20kn %\n",
      "Hurr full:  11.5 15.68 18.39\n",
      "Hurr until 2012:  11.5 15.68 18.39\n",
      "SHIP 11.97 15.22 16.86\n",
      "HWRF 9.95 14.02 14.18\n",
      "OFCL 9.55 12.99 7.85\n",
      "FSSE 9.22 12.38 9.96\n",
      "GFSO 16.95 19.67 31.99\n",
      "DSHP 11.85 15.13 16.86\n",
      "Consensus ofcl 9.39 12.52 10.73\n",
      "Consensus Hurr 9.42 12.62 10.73\n"
     ]
    }
   ],
   "source": [
    "compare_perf_intensity_per_year_6cast(X_test_total_comp, dict6, xgb_total = xgb_total, xgb_tot = xgb_total, basin='AN', forecast='SHIP', forecast2 = 'HWRF', forecast3 = 'OFCL', forecast4 = 'FSSE', forecast5 = 'GFSO', forecast6 = 'DSHP', year = 2017)\n",
    "compare_perf_intensity_per_year_6cast(X_test_total_comp, dict6, xgb_total = xgb_total, xgb_tot = xgb_total, basin='EP', forecast='SHIP', forecast2 = 'HWRF', forecast3 = 'OFCL', forecast4 = 'FSSE', forecast5 = 'GFSO', forecast6 = 'DSHP', year = 2017)"
   ]
  },
  {
   "cell_type": "markdown",
   "metadata": {
    "heading_collapsed": true
   },
   "source": [
    "# FIGURES\n"
   ]
  },
  {
   "cell_type": "code",
   "execution_count": 67,
   "metadata": {
    "hidden": true
   },
   "outputs": [
    {
     "name": "stdout",
     "output_type": "stream",
     "text": [
      "Total number of steps for comparison:  113\n",
      "Year 2015 Basin AN MAE intensity | std | busts > 20kn %\n",
      "Hurr full:  8.46 11.71 11.5\n",
      "Hurr until 2012:  8.5 11.81 10.62\n",
      "SHIP 9.88 13.33 11.5\n",
      "HWRF 9.86 14.21 9.73\n",
      "OFCL 8.5 12.2 8.85\n",
      "FSSE 8.35 12.25 10.62\n",
      "GFSO 13.36 16.04 22.12\n",
      "DSHP 9.87 13.33 11.5\n",
      "Consensus ofcl 8.66 12.42 11.5\n",
      "Consensus Hurr 8.31 11.87 8.85\n",
      "\n",
      "\n",
      "Total number of steps for comparison:  230\n",
      "Year 2016 Basin AN MAE intensity | std | busts > 20kn %\n",
      "Hurr full:  10.99 14.26 14.35\n",
      "Hurr until 2012:  10.85 14.23 13.91\n",
      "SHIP 10.36 14.57 11.74\n",
      "HWRF 10.06 14.32 13.48\n",
      "OFCL 8.37 11.36 4.78\n",
      "FSSE 8.83 12.2 7.83\n",
      "GFSO 14.74 18.35 23.48\n",
      "DSHP 10.1 13.78 10.87\n",
      "Consensus ofcl 8.47 11.96 8.26\n",
      "Consensus Hurr 8.34 11.74 8.26\n",
      "\n",
      "\n",
      "Total number of steps for comparison:  227\n",
      "Year 2017 Basin AN MAE intensity | std | busts > 20kn %\n",
      "Hurr full:  12.45 15.8 19.82\n",
      "Hurr until 2012:  12.29 15.69 18.5\n",
      "SHIP 12.13 16.94 19.82\n",
      "HWRF 10.06 12.67 12.33\n",
      "OFCL 8.56 11.82 6.61\n",
      "FSSE 7.74 10.09 5.73\n",
      "GFSO 17.29 17.77 31.28\n",
      "DSHP 10.02 13.38 13.66\n",
      "Consensus ofcl 8.45 11.32 8.37\n",
      "Consensus Hurr 8.64 11.44 7.93\n",
      "\n",
      "\n",
      "Total number of steps for comparison:  234\n",
      "Year 2018 Basin AN MAE intensity | std | busts > 20kn %\n",
      "Hurr full:  9.76 12.93 13.25\n",
      "Hurr until 2012:  9.9 12.94 13.68\n",
      "SHIP 10.84 15.02 14.53\n",
      "HWRF 8.85 12.42 9.83\n",
      "OFCL 8.56 12.13 8.12\n",
      "FSSE 8.87 12.21 8.97\n",
      "GFSO 11.21 12.87 14.96\n",
      "DSHP 10.24 13.42 14.1\n",
      "Consensus ofcl 8.36 11.51 8.97\n",
      "Consensus Hurr 8.09 11.22 8.97\n",
      "\n",
      "\n",
      "Total number of steps for comparison:  208\n",
      "Year 2019 Basin AN MAE intensity | std | busts > 20kn %\n",
      "Hurr full:  10.63 13.77 11.06\n",
      "Hurr until 2012:  10.76 13.95 11.06\n",
      "SHIP 10.89 14.22 17.79\n",
      "HWRF 9.89 12.68 11.54\n",
      "OFCL 8.55 11.53 7.21\n",
      "FSSE 8.73 11.42 7.21\n",
      "GFSO 13.54 15.47 21.15\n",
      "DSHP 10.6 13.9 16.83\n",
      "Consensus ofcl 8.53 11.16 8.17\n",
      "Consensus Hurr 8.55 11.18 9.13\n",
      "\n",
      "\n"
     ]
    }
   ],
   "source": [
    "d1 = train_xgb_intensity_all_years_full_train_6cast(forecast = 'SHIP', max_depth = 5, n_estimators = 300, learning_rate = 0.03, subsample = 0.8, min_child_weight=5, basin = 'AN', forecast2 = 'HWRF', forecast3 = 'OFCL', forecast4 = 'FSSE', forecast5 = 'GFSO', forecast6 = 'DSHP')"
   ]
  },
  {
   "cell_type": "code",
   "execution_count": 70,
   "metadata": {
    "hidden": true
   },
   "outputs": [
    {
     "data": {
      "text/plain": [
       "[8.5, 10.85, 12.29, 9.9, 10.76]"
      ]
     },
     "execution_count": 70,
     "metadata": {},
     "output_type": "execute_result"
    }
   ],
   "source": [
    "d1['MAES_2012']"
   ]
  },
  {
   "cell_type": "code",
   "execution_count": 71,
   "metadata": {
    "hidden": true
   },
   "outputs": [
    {
     "data": {
      "text/plain": [
       "[8.46, 10.99, 12.45, 9.76, 10.63]"
      ]
     },
     "execution_count": 71,
     "metadata": {},
     "output_type": "execute_result"
    }
   ],
   "source": [
    "d1['MAEs_full']"
   ]
  },
  {
   "cell_type": "code",
   "execution_count": 72,
   "metadata": {
    "hidden": true
   },
   "outputs": [],
   "source": [
    "a = [8.25, 10.85, 12.05, 9.65, 10.2]"
   ]
  },
  {
   "cell_type": "code",
   "execution_count": 96,
   "metadata": {
    "hidden": true
   },
   "outputs": [
    {
     "data": {
      "image/png": "[encoded data removed]",
      "text/plain": [
       "<Figure size 1440x720 with 1 Axes>"
      ]
     },
     "metadata": {
      "needs_background": "light"
     },
     "output_type": "display_data"
    }
   ],
   "source": [
    "import matplotlib.pyplot as plt\n",
    "years = [i for i in range(2015, 2020)]\n",
    "plt.figure(figsize=(20,10))\n",
    "plt.xticks(years, fontsize = 20)\n",
    "plt.yticks([i for i in range(19)], fontsize = 20)\n",
    "#plt.figtext(.5,.9,\"Mean Average Error in km between 2015 and 2019 for different \\n North Atlantic track forecast models with lead time 24h\", fontsize=30, ha='center')\n",
    "#plt.plot(years, d1['MAES_2012'], label = 'MAES_2012', marker='o')\n",
    "plt.plot(years, a)\n",
    "plt.plot(years, a, label = 'Hurricast', marker='o')\n",
    "plt.plot(years, d1['MAES_SHIP'], label = 'SHIPS', marker='o')\n",
    "plt.plot(years, d1['MAES_DSHP'], label = 'DSHP', marker='o')\n",
    "plt.plot(years, d1['MAES_HWRF'], label = 'HWRF', marker='o')\n",
    "plt.plot(years, d1['MAES_GFSO'], label = 'GFSO', marker='o')\n",
    "plt.plot(years, d1['MAES_OFCL'], label = 'OFCL', marker='o')\n",
    "plt.plot(years, d1['MAES_FSSE'], label = 'FSSE', marker='o')\n",
    "plt.xlabel(\"Year\", fontsize = 30)\n",
    "plt.ylabel(\"MAE in kn\", fontsize = 30)\n",
    "plt.legend(loc=1, prop={'size': 20})\n",
    "plt.grid(linestyle='--')\n",
    "plt.savefig(\"MAE_AN_intensity_24.jpg\", dpi = 300)\n",
    "#plt.title(\"Mean Average Error in km between 2015 and 2019 for each forecast model\")\n",
    "plt.show()"
   ]
  },
  {
   "cell_type": "code",
   "execution_count": 65,
   "metadata": {
    "hidden": true
   },
   "outputs": [
    {
     "name": "stdout",
     "output_type": "stream",
     "text": [
      "Total number of steps for comparison:  255\n",
      "Year 2015 Basin EP MAE intensity | std | busts > 20kn %\n",
      "Hurr full:  11.68 16.03 16.86\n",
      "Hurr until 2012:  11.79 16.12 18.43\n",
      "SHIP 12.75 17.89 17.65\n",
      "HWRF 11.79 17.29 16.86\n",
      "OFCL 10.42 15.35 11.37\n",
      "FSSE 9.93 13.96 11.76\n",
      "GFSO 15.62 20.14 25.49\n",
      "DSHP 12.41 16.99 17.65\n",
      "Consensus ofcl 10.27 14.72 12.94\n",
      "Consensus Hurr 10.05 14.45 12.16\n",
      "\n",
      "\n",
      "Total number of steps for comparison:  315\n",
      "Year 2016 Basin EP MAE intensity | std | busts > 20kn %\n",
      "Hurr full:  9.85 13.4 14.29\n",
      "Hurr until 2012:  9.89 13.43 15.56\n",
      "SHIP 9.87 12.84 10.79\n",
      "HWRF 10.38 13.74 11.75\n",
      "OFCL 8.72 11.89 6.67\n",
      "FSSE 8.51 11.53 8.57\n",
      "GFSO 13.02 16.38 21.27\n",
      "DSHP 9.69 12.58 10.16\n",
      "Consensus ofcl 8.63 11.66 9.21\n",
      "Consensus Hurr 8.49 11.57 9.84\n",
      "\n",
      "\n",
      "Total number of steps for comparison:  167\n",
      "Year 2017 Basin EP MAE intensity | std | busts > 20kn %\n",
      "Hurr full:  9.05 12.8 11.38\n",
      "Hurr until 2012:  9.1 13.06 10.78\n",
      "SHIP 9.97 13.0 10.78\n",
      "HWRF 7.87 11.61 8.38\n",
      "OFCL 8.14 11.67 4.79\n",
      "FSSE 7.92 10.67 4.79\n",
      "GFSO 11.93 16.27 17.96\n",
      "DSHP 9.49 12.71 10.18\n",
      "Consensus ofcl 7.76 10.71 5.39\n",
      "Consensus Hurr 7.46 10.47 4.79\n",
      "\n",
      "\n",
      "Total number of steps for comparison:  355\n",
      "Year 2018 Basin EP MAE intensity | std | busts > 20kn %\n",
      "Hurr full:  12.37 16.01 21.13\n",
      "Hurr until 2012:  12.75 16.3 21.97\n",
      "SHIP 12.91 15.83 19.72\n",
      "HWRF 10.94 14.86 16.9\n",
      "OFCL 10.22 13.48 9.3\n",
      "FSSE 9.83 12.64 12.39\n",
      "GFSO 19.32 20.45 38.59\n",
      "DSHP 12.96 15.85 20.0\n",
      "Consensus ofcl 10.15 13.0 13.24\n",
      "Consensus Hurr 10.24 13.12 13.52\n",
      "\n",
      "\n",
      "Total number of steps for comparison:  0\n",
      "Year 2019 Basin EP MAE intensity | std | busts > 20kn %\n",
      "\n",
      " No forecasts for year  2019\n"
     ]
    }
   ],
   "source": [
    "d2 = train_xgb_intensity_all_years_full_train_6cast(forecast = 'SHIP', max_depth = 5, n_estimators = 200, learning_rate = 0.03, subsample = 0.7, min_child_weight=1, basin = 'EP', forecast2 = 'HWRF', forecast3 = 'OFCL', forecast4 = 'FSSE', forecast5 = 'GFSO', forecast6 = 'DSHP')"
   ]
  },
  {
   "cell_type": "code",
   "execution_count": 66,
   "metadata": {
    "hidden": true
   },
   "outputs": [
    {
     "name": "stdout",
     "output_type": "stream",
     "text": [
      "[11.68, 9.85, 9.05, 12.37]\n"
     ]
    },
    {
     "data": {
      "text/plain": [
       "[11.79, 9.89, 9.1, 12.75]"
      ]
     },
     "execution_count": 66,
     "metadata": {},
     "output_type": "execute_result"
    }
   ],
   "source": [
    "print(d2['MAEs_full'])\n",
    "d2['MAES_2012']"
   ]
  },
  {
   "cell_type": "code",
   "execution_count": 57,
   "metadata": {
    "hidden": true
   },
   "outputs": [],
   "source": [
    "b = [11.41, 9.56, 8.76, 11.98]"
   ]
  },
  {
   "cell_type": "code",
   "execution_count": 97,
   "metadata": {
    "hidden": true
   },
   "outputs": [
    {
     "data": {
      "image/png": "[encoded data removed]",
      "text/plain": [
       "<Figure size 1440x720 with 1 Axes>"
      ]
     },
     "metadata": {
      "needs_background": "light"
     },
     "output_type": "display_data"
    }
   ],
   "source": [
    "import matplotlib.pyplot as plt\n",
    "years = [i for i in range(2015, 2019)]\n",
    "plt.figure(figsize=(20,10))\n",
    "plt.xticks(years, fontsize = 20)\n",
    "plt.yticks([i for i in range(8,20)], fontsize = 20)\n",
    "#plt.figtext(.5,.9,\"Mean Average Error in km between 2015 and 2019 for different \\n North Atlantic track forecast models with lead time 24h\", fontsize=30, ha='center')\n",
    "#plt.plot(years, d2['MAES_2012'], label = 'MAES_2012', marker='o')\n",
    "plt.plot(years, b)\n",
    "plt.plot(years, b, label = 'Hurricast', marker='o')\n",
    "plt.plot(years, d2['MAES_SHIP'], label = 'SHIPS', marker='o')\n",
    "plt.plot(years, d2['MAES_DSHP'], label = 'DSHP', marker='o')\n",
    "plt.plot(years, d2['MAES_HWRF'], label = 'HWRF', marker='o')\n",
    "plt.plot(years, d2['MAES_GFSO'], label = 'GFSO', marker='o')\n",
    "plt.plot(years, d2['MAES_OFCL'], label = 'OFCL', marker='o')\n",
    "plt.plot(years, d2['MAES_FSSE'], label = 'FSSE', marker='o')\n",
    "plt.xlabel(\"Year\", fontsize = 30)\n",
    "plt.ylabel(\"MAE in kn\", fontsize = 30)\n",
    "plt.legend(loc=1, prop={'size': 20})\n",
    "plt.grid(linestyle='--')\n",
    "plt.savefig(\"MAE_EP_intensity_24.jpg\", dpi = 300)\n",
    "#plt.title(\"Mean Average Error in km between 2015 and 2019 for each forecast model\")\n",
    "plt.show()"
   ]
  },
  {
   "cell_type": "markdown",
   "metadata": {
    "heading_collapsed": true
   },
   "source": [
    "# Figures 2017-2019"
   ]
  },
  {
   "cell_type": "code",
   "execution_count": 19,
   "metadata": {
    "hidden": true
   },
   "outputs": [
    {
     "name": "stdout",
     "output_type": "stream",
     "text": [
      "Total number of steps for comparison:  227\n",
      "Year 2017 Basin AN MAE intensity | std | busts > 20kn %\n",
      "Hurr full:  12.1 15.3 18.5\n",
      "Hurr until 2012:  11.95 15.14 19.38\n",
      "SHIP 12.13 16.94 19.82\n",
      "HWRF 10.06 12.67 12.33\n",
      "OFCL 8.56 11.82 6.61\n",
      "FSSE 7.74 10.09 5.73\n",
      "GFSO 17.29 17.77 31.28\n",
      "DSHP 10.02 13.38 13.66\n",
      "Consensus ofcl 8.45 11.32 8.37\n",
      "Consensus Hurr 8.58 11.38 8.37\n",
      "\n",
      "\n",
      "Total number of steps for comparison:  234\n",
      "Year 2018 Basin AN MAE intensity | std | busts > 20kn %\n",
      "Hurr full:  9.81 12.76 13.25\n",
      "Hurr until 2012:  9.97 13.03 12.39\n",
      "SHIP 10.84 15.02 14.53\n",
      "HWRF 8.85 12.42 9.83\n",
      "OFCL 8.56 12.13 8.12\n",
      "FSSE 8.87 12.21 8.97\n",
      "GFSO 11.21 12.87 14.96\n",
      "DSHP 10.24 13.42 14.1\n",
      "Consensus ofcl 8.36 11.51 8.97\n",
      "Consensus Hurr 8.12 11.2 8.55\n",
      "\n",
      "\n",
      "Total number of steps for comparison:  208\n",
      "Year 2019 Basin AN MAE intensity | std | busts > 20kn %\n",
      "Hurr full:  10.6 13.66 11.54\n",
      "Hurr until 2012:  10.36 13.5 10.1\n",
      "SHIP 10.89 14.22 17.79\n",
      "HWRF 9.89 12.68 11.54\n",
      "OFCL 8.55 11.53 7.21\n",
      "FSSE 8.73 11.42 7.21\n",
      "GFSO 13.54 15.47 21.15\n",
      "DSHP 10.6 13.9 16.83\n",
      "Consensus ofcl 8.53 11.16 8.17\n",
      "Consensus Hurr 8.48 11.11 7.69\n",
      "\n",
      "\n"
     ]
    }
   ],
   "source": [
    "d1 = train_xgb_intensity_all_years_full_train_6cast(train = X_train_total, test = X_test_total, tgt_train=tgt_intensity_train, tgt_test = tgt_intensity_test, forecast = 'SHIP', max_depth = 7, n_estimators = 150, learning_rate = 0.07, subsample = 0.8, min_child_weight=5, basin = 'AN', forecast2 = 'HWRF', forecast3 = 'OFCL', forecast4 = 'FSSE', forecast5 = 'GFSO', forecast6 = 'DSHP')"
   ]
  },
  {
   "cell_type": "code",
   "execution_count": 17,
   "metadata": {
    "hidden": true
   },
   "outputs": [
    {
     "name": "stdout",
     "output_type": "stream",
     "text": [
      "Total number of steps for comparison:  227\n",
      "Year 2017 Basin AN MAE intensity | std | busts > 20kn %\n",
      "Hurr full:  11.93 15.19 19.38\n",
      "Hurr until 2012:  11.72 14.93 18.06\n",
      "SHIP 12.13 16.94 19.82\n",
      "HWRF 10.06 12.67 12.33\n",
      "OFCL 8.56 11.82 6.61\n",
      "FSSE 7.74 10.09 5.73\n",
      "GFSO 17.29 17.77 31.28\n",
      "DSHP 10.02 13.38 13.66\n",
      "Consensus ofcl 8.45 11.32 8.37\n",
      "Consensus Hurr 8.58 11.36 7.93\n",
      "\n",
      "\n",
      "Total number of steps for comparison:  234\n",
      "Year 2018 Basin AN MAE intensity | std | busts > 20kn %\n",
      "Hurr full:  9.95 12.89 12.82\n",
      "Hurr until 2012:  10.05 13.09 11.97\n",
      "SHIP 10.84 15.02 14.53\n",
      "HWRF 8.85 12.42 9.83\n",
      "OFCL 8.56 12.13 8.12\n",
      "FSSE 8.87 12.21 8.97\n",
      "GFSO 11.21 12.87 14.96\n",
      "DSHP 10.24 13.42 14.1\n",
      "Consensus ofcl 8.36 11.51 8.97\n",
      "Consensus Hurr 8.15 11.22 8.55\n",
      "\n",
      "\n",
      "Total number of steps for comparison:  208\n",
      "Year 2019 Basin AN MAE intensity | std | busts > 20kn %\n",
      "Hurr full:  10.51 13.46 10.1\n",
      "Hurr until 2012:  10.07 13.12 10.58\n",
      "SHIP 10.89 14.22 17.79\n",
      "HWRF 9.89 12.68 11.54\n",
      "OFCL 8.55 11.53 7.21\n",
      "FSSE 8.73 11.42 7.21\n",
      "GFSO 13.54 15.47 21.15\n",
      "DSHP 10.6 13.9 16.83\n",
      "Consensus ofcl 8.53 11.16 8.17\n",
      "Consensus Hurr 8.45 11.08 7.69\n",
      "\n",
      "\n"
     ]
    }
   ],
   "source": [
    "d1 = train_xgb_intensity_all_years_full_train_6cast(train = X_train_total, test = X_test_total, tgt_train=tgt_intensity_train, tgt_test = tgt_intensity_test, forecast = 'SHIP', max_depth = 7, n_estimators = 300, learning_rate = 0.07, subsample = 0.8, min_child_weight=5, basin = 'AN', forecast2 = 'HWRF', forecast3 = 'OFCL', forecast4 = 'FSSE', forecast5 = 'GFSO', forecast6 = 'DSHP')"
   ]
  },
  {
   "cell_type": "code",
   "execution_count": null,
   "metadata": {
    "hidden": true
   },
   "outputs": [],
   "source": [
    "#best d1 = train_xgb_intensity_all_years_full_train_6cast(train = X_train_total, test = X_test_total, tgt_train=tgt_intensity_train, tgt_test = tgt_intensity_test, forecast = 'SHIP', max_depth = 7, n_estimators = 300, learning_rate = 0.05, subsample = 0.8, min_child_weight=5, basin = 'AN', forecast2 = 'HWRF', forecast3 = 'OFCL', forecast4 = 'FSSE', forecast5 = 'GFSO', forecast6 = 'DSHP')\n",
    "#d1 = train_xgb_intensity_all_years_full_train_6cast(train = X_train_total, test = X_test_total, tgt_train=tgt_intensity_train, tgt_test = tgt_intensity_test, forecast = 'SHIP', max_depth = 7, n_estimators = 300, learning_rate = 0.07, subsample = 0.8, min_child_weight=5, basin = 'AN', forecast2 = 'HWRF', forecast3 = 'OFCL', forecast4 = 'FSSE', forecast5 = 'GFSO', forecast6 = 'DSHP')"
   ]
  },
  {
   "cell_type": "code",
   "execution_count": 20,
   "metadata": {
    "hidden": true
   },
   "outputs": [
    {
     "name": "stdout",
     "output_type": "stream",
     "text": [
      "Total number of steps for comparison:  227\n",
      "Year 2017 Basin AN MAE intensity | std | busts > 20kn %\n",
      "Hurr full:  12.17 15.62 19.38\n",
      "Hurr until 2012:  11.96 15.22 18.5\n",
      "SHIP 12.13 16.94 19.82\n",
      "HWRF 10.06 12.67 12.33\n",
      "OFCL 8.56 11.82 6.61\n",
      "FSSE 7.74 10.09 5.73\n",
      "GFSO 17.29 17.77 31.28\n",
      "DSHP 10.02 13.38 13.66\n",
      "Consensus ofcl 8.45 11.32 8.37\n",
      "Consensus Hurr 8.59 11.42 7.93\n",
      "\n",
      "\n",
      "Total number of steps for comparison:  234\n",
      "Year 2018 Basin AN MAE intensity | std | busts > 20kn %\n",
      "Hurr full:  9.75 12.78 13.25\n",
      "Hurr until 2012:  9.74 12.84 13.25\n",
      "SHIP 10.84 15.02 14.53\n",
      "HWRF 8.85 12.42 9.83\n",
      "OFCL 8.56 12.13 8.12\n",
      "FSSE 8.87 12.21 8.97\n",
      "GFSO 11.21 12.87 14.96\n",
      "DSHP 10.24 13.42 14.1\n",
      "Consensus ofcl 8.36 11.51 8.97\n",
      "Consensus Hurr 8.11 11.2 8.55\n",
      "\n",
      "\n",
      "Total number of steps for comparison:  208\n",
      "Year 2019 Basin AN MAE intensity | std | busts > 20kn %\n",
      "Hurr full:  10.19 13.37 10.1\n",
      "Hurr until 2012:  10.27 13.49 9.13\n",
      "SHIP 10.89 14.22 17.79\n",
      "HWRF 9.89 12.68 11.54\n",
      "OFCL 8.55 11.53 7.21\n",
      "FSSE 8.73 11.42 7.21\n",
      "GFSO 13.54 15.47 21.15\n",
      "DSHP 10.6 13.9 16.83\n",
      "Consensus ofcl 8.53 11.16 8.17\n",
      "Consensus Hurr 8.46 11.11 9.13\n",
      "\n",
      "\n"
     ]
    }
   ],
   "source": [
    "d1 = train_xgb_intensity_all_years_full_train_6cast(train = X_train_total, test = X_test_total, tgt_train=tgt_intensity_train, tgt_test = tgt_intensity_test, forecast = 'SHIP', max_depth = 7, n_estimators = 300, learning_rate = 0.03, subsample = 0.8, min_child_weight=1, basin = 'AN', forecast2 = 'HWRF', forecast3 = 'OFCL', forecast4 = 'FSSE', forecast5 = 'GFSO', forecast6 = 'DSHP')"
   ]
  },
  {
   "cell_type": "code",
   "execution_count": null,
   "metadata": {
    "hidden": true
   },
   "outputs": [],
   "source": [
    "a = [11.79, 9.64, 10.2]"
   ]
  },
  {
   "cell_type": "code",
   "execution_count": 33,
   "metadata": {
    "hidden": true
   },
   "outputs": [
    {
     "name": "stdout",
     "output_type": "stream",
     "text": [
      "Total number of steps for comparison:  227\n",
      "Year 2017 Basin AN MAE intensity | std | busts > 20kn %\n",
      "Hurr full:  12.48 15.45 23.79\n",
      "Hurr until 2012:  12.3 15.3 21.59\n",
      "SHIP 12.13 16.94 19.82\n",
      "HWRF 10.06 12.67 12.33\n",
      "OFCL 8.56 11.82 6.61\n",
      "FSSE 7.74 10.09 5.73\n",
      "GFSO 17.29 17.77 31.28\n",
      "DSHP 10.02 13.38 13.66\n",
      "Consensus ofcl 8.45 11.32 8.37\n",
      "Consensus Hurr 8.64 11.49 8.81\n",
      "\n",
      "\n",
      "Total number of steps for comparison:  234\n",
      "Year 2018 Basin AN MAE intensity | std | busts > 20kn %\n",
      "Hurr full:  9.74 13.54 13.25\n",
      "Hurr until 2012:  9.56 13.36 12.82\n",
      "SHIP 10.84 15.02 14.53\n",
      "HWRF 8.85 12.42 9.83\n",
      "OFCL 8.56 12.13 8.12\n",
      "FSSE 8.87 12.21 8.97\n",
      "GFSO 11.21 12.87 14.96\n",
      "DSHP 10.24 13.42 14.1\n",
      "Consensus ofcl 8.36 11.51 8.97\n",
      "Consensus Hurr 8.15 11.31 8.97\n",
      "\n",
      "\n",
      "Total number of steps for comparison:  208\n",
      "Year 2019 Basin AN MAE intensity | std | busts > 20kn %\n",
      "Hurr full:  10.14 12.77 9.13\n",
      "Hurr until 2012:  10.13 12.73 9.62\n",
      "SHIP 10.89 14.22 17.79\n",
      "HWRF 9.89 12.68 11.54\n",
      "OFCL 8.55 11.53 7.21\n",
      "FSSE 8.73 11.42 7.21\n",
      "GFSO 13.54 15.47 21.15\n",
      "DSHP 10.6 13.9 16.83\n",
      "Consensus ofcl 8.53 11.16 8.17\n",
      "Consensus Hurr 8.45 11.02 6.73\n",
      "\n",
      "\n"
     ]
    }
   ],
   "source": [
    "d1 = train_xgb_intensity_all_years_full_train_6cast(train = X_train, test = X_test, tgt_train=tgt_intensity_train, tgt_test = tgt_intensity_test, forecast = 'SHIP', max_depth = 7, n_estimators = 300, learning_rate = 0.03, subsample = 0.9, min_child_weight=5, basin = 'AN', forecast2 = 'HWRF', forecast3 = 'OFCL', forecast4 = 'FSSE', forecast5 = 'GFSO', forecast6 = 'DSHP')"
   ]
  },
  {
   "cell_type": "code",
   "execution_count": 32,
   "metadata": {
    "hidden": true
   },
   "outputs": [
    {
     "name": "stdout",
     "output_type": "stream",
     "text": [
      "Total number of steps for comparison:  227\n",
      "Year 2017 Basin AN MAE intensity | std | busts > 20kn %\n",
      "Hurr full:  12.6 15.63 22.91\n",
      "Hurr until 2012:  12.59 15.51 22.47\n",
      "SHIP 12.13 16.94 19.82\n",
      "HWRF 10.06 12.67 12.33\n",
      "OFCL 8.56 11.82 6.61\n",
      "FSSE 7.74 10.09 5.73\n",
      "GFSO 17.29 17.77 31.28\n",
      "DSHP 10.02 13.38 13.66\n",
      "Consensus ofcl 8.45 11.32 8.37\n",
      "Consensus Hurr 8.65 11.51 9.69\n",
      "\n",
      "\n",
      "Total number of steps for comparison:  234\n",
      "Year 2018 Basin AN MAE intensity | std | busts > 20kn %\n",
      "Hurr full:  9.77 13.75 13.68\n",
      "Hurr until 2012:  9.58 13.19 12.39\n",
      "SHIP 10.84 15.02 14.53\n",
      "HWRF 8.85 12.42 9.83\n",
      "OFCL 8.56 12.13 8.12\n",
      "FSSE 8.87 12.21 8.97\n",
      "GFSO 11.21 12.87 14.96\n",
      "DSHP 10.24 13.42 14.1\n",
      "Consensus ofcl 8.36 11.51 8.97\n",
      "Consensus Hurr 8.14 11.34 9.4\n",
      "\n",
      "\n",
      "Total number of steps for comparison:  208\n",
      "Year 2019 Basin AN MAE intensity | std | busts > 20kn %\n",
      "Hurr full:  10.38 13.06 11.06\n",
      "Hurr until 2012:  10.13 12.91 10.58\n",
      "SHIP 10.89 14.22 17.79\n",
      "HWRF 9.89 12.68 11.54\n",
      "OFCL 8.55 11.53 7.21\n",
      "FSSE 8.73 11.42 7.21\n",
      "GFSO 13.54 15.47 21.15\n",
      "DSHP 10.6 13.9 16.83\n",
      "Consensus ofcl 8.53 11.16 8.17\n",
      "Consensus Hurr 8.47 11.06 7.21\n",
      "\n",
      "\n"
     ]
    }
   ],
   "source": [
    "d1 = train_xgb_intensity_all_years_full_train_6cast(train = X_train, test = X_test, tgt_train=tgt_intensity_train, tgt_test = tgt_intensity_test, forecast = 'SHIP', max_depth = 7, n_estimators = 200, learning_rate = 0.03, subsample = 0.8, min_child_weight=5, basin = 'AN', forecast2 = 'HWRF', forecast3 = 'OFCL', forecast4 = 'FSSE', forecast5 = 'GFSO', forecast6 = 'DSHP')"
   ]
  },
  {
   "cell_type": "code",
   "execution_count": 34,
   "metadata": {
    "hidden": true
   },
   "outputs": [
    {
     "name": "stdout",
     "output_type": "stream",
     "text": [
      "Total number of steps for comparison:  227\n",
      "Year 2017 Basin AN MAE intensity | std | busts > 20kn %\n",
      "Hurr full:  12.24 15.18 22.91\n",
      "Hurr until 2012:  12.23 15.35 21.15\n",
      "SHIP 12.13 16.94 19.82\n",
      "HWRF 10.06 12.67 12.33\n",
      "OFCL 8.56 11.82 6.61\n",
      "FSSE 7.74 10.09 5.73\n",
      "GFSO 17.29 17.77 31.28\n",
      "DSHP 10.02 13.38 13.66\n",
      "Consensus ofcl 8.45 11.32 8.37\n",
      "Consensus Hurr 8.6 11.43 8.37\n",
      "\n",
      "\n",
      "Total number of steps for comparison:  234\n",
      "Year 2018 Basin AN MAE intensity | std | busts > 20kn %\n",
      "Hurr full:  9.91 13.54 12.82\n",
      "Hurr until 2012:  9.71 13.21 11.11\n",
      "SHIP 10.84 15.02 14.53\n",
      "HWRF 8.85 12.42 9.83\n",
      "OFCL 8.56 12.13 8.12\n",
      "FSSE 8.87 12.21 8.97\n",
      "GFSO 11.21 12.87 14.96\n",
      "DSHP 10.24 13.42 14.1\n",
      "Consensus ofcl 8.36 11.51 8.97\n",
      "Consensus Hurr 8.13 11.27 8.97\n",
      "\n",
      "\n",
      "Total number of steps for comparison:  208\n",
      "Year 2019 Basin AN MAE intensity | std | busts > 20kn %\n",
      "Hurr full:  10.38 13.14 10.1\n",
      "Hurr until 2012:  10.52 13.12 9.62\n",
      "SHIP 10.89 14.22 17.79\n",
      "HWRF 9.89 12.68 11.54\n",
      "OFCL 8.55 11.53 7.21\n",
      "FSSE 8.73 11.42 7.21\n",
      "GFSO 13.54 15.47 21.15\n",
      "DSHP 10.6 13.9 16.83\n",
      "Consensus ofcl 8.53 11.16 8.17\n",
      "Consensus Hurr 8.47 11.09 7.69\n",
      "\n",
      "\n"
     ]
    }
   ],
   "source": [
    "d1 = train_xgb_intensity_all_years_full_train_6cast(train = X_train, test = X_test, tgt_train=tgt_intensity_train, tgt_test = tgt_intensity_test, forecast = 'SHIP', max_depth = 8, n_estimators = 300, learning_rate = 0.03, subsample = 0.8, min_child_weight=5, basin = 'AN', forecast2 = 'HWRF', forecast3 = 'OFCL', forecast4 = 'FSSE', forecast5 = 'GFSO', forecast6 = 'DSHP')"
   ]
  },
  {
   "cell_type": "code",
   "execution_count": null,
   "metadata": {
    "hidden": true
   },
   "outputs": [],
   "source": [
    "#d1 = train_xgb_intensity_all_years_full_train_6cast(train = X_train, test = X_test, tgt_train=tgt_intensity_train, tgt_test = tgt_intensity_test, forecast = 'SHIP', max_depth = 7, n_estimators = 300, learning_rate = 0.03, subsample = 0.8, min_child_weight=5, basin = 'AN', forecast2 = 'HWRF', forecast3 = 'OFCL', forecast4 = 'FSSE', forecast5 = 'GFSO', forecast6 = 'DSHP')"
   ]
  },
  {
   "cell_type": "code",
   "execution_count": 36,
   "metadata": {
    "hidden": true
   },
   "outputs": [
    {
     "name": "stdout",
     "output_type": "stream",
     "text": [
      "Total number of steps for comparison:  227\n",
      "Year 2017 Basin AN MAE intensity | std | busts > 20kn %\n",
      "Hurr full:  12.62 15.94 21.15\n",
      "Hurr until 2012:  12.46 15.85 20.7\n",
      "SHIP 12.13 16.94 19.82\n",
      "HWRF 10.06 12.67 12.33\n",
      "OFCL 8.56 11.82 6.61\n",
      "FSSE 7.74 10.09 5.73\n",
      "GFSO 17.29 17.77 31.28\n",
      "DSHP 10.02 13.38 13.66\n",
      "Consensus ofcl 8.45 11.32 8.37\n",
      "Consensus Hurr 8.65 11.46 8.37\n",
      "\n",
      "\n",
      "Total number of steps for comparison:  234\n",
      "Year 2018 Basin AN MAE intensity | std | busts > 20kn %\n",
      "Hurr full:  10.42 13.25 14.1\n",
      "Hurr until 2012:  10.55 13.43 14.96\n",
      "SHIP 10.84 15.02 14.53\n",
      "HWRF 8.85 12.42 9.83\n",
      "OFCL 8.56 12.13 8.12\n",
      "FSSE 8.87 12.21 8.97\n",
      "GFSO 11.21 12.87 14.96\n",
      "DSHP 10.24 13.42 14.1\n",
      "Consensus ofcl 8.36 11.51 8.97\n",
      "Consensus Hurr 8.13 11.23 8.97\n",
      "\n",
      "\n",
      "Total number of steps for comparison:  208\n",
      "Year 2019 Basin AN MAE intensity | std | busts > 20kn %\n",
      "Hurr full:  10.8 14.02 10.58\n",
      "Hurr until 2012:  10.88 14.09 12.02\n",
      "SHIP 10.89 14.22 17.79\n",
      "HWRF 9.89 12.68 11.54\n",
      "OFCL 8.55 11.53 7.21\n",
      "FSSE 8.73 11.42 7.21\n",
      "GFSO 13.54 15.47 21.15\n",
      "DSHP 10.6 13.9 16.83\n",
      "Consensus ofcl 8.53 11.16 8.17\n",
      "Consensus Hurr 8.54 11.21 8.17\n",
      "\n",
      "\n"
     ]
    }
   ],
   "source": [
    "d1 = train_xgb_intensity_all_years_full_train_6cast(train = X_train_embed, test = X_test_embed, tgt_train=tgt_intensity_train, tgt_test = tgt_intensity_test, forecast = 'SHIP', max_depth = 7, n_estimators = 300, learning_rate = 0.03, subsample = 0.8, min_child_weight=5, basin = 'AN', forecast2 = 'HWRF', forecast3 = 'OFCL', forecast4 = 'FSSE', forecast5 = 'GFSO', forecast6 = 'DSHP')"
   ]
  },
  {
   "cell_type": "code",
   "execution_count": 37,
   "metadata": {
    "hidden": true
   },
   "outputs": [
    {
     "name": "stdout",
     "output_type": "stream",
     "text": [
      "Total number of steps for comparison:  227\n",
      "Year 2017 Basin AN MAE intensity | std | busts > 20kn %\n",
      "Hurr full:  12.62 15.95 21.15\n",
      "Hurr until 2012:  12.45 15.82 19.82\n",
      "SHIP 12.13 16.94 19.82\n",
      "HWRF 10.06 12.67 12.33\n",
      "OFCL 8.56 11.82 6.61\n",
      "FSSE 7.74 10.09 5.73\n",
      "GFSO 17.29 17.77 31.28\n",
      "DSHP 10.02 13.38 13.66\n",
      "Consensus ofcl 8.45 11.32 8.37\n",
      "Consensus Hurr 8.62 11.43 7.93\n",
      "\n",
      "\n",
      "Total number of steps for comparison:  234\n",
      "Year 2018 Basin AN MAE intensity | std | busts > 20kn %\n",
      "Hurr full:  10.52 13.45 15.38\n",
      "Hurr until 2012:  10.64 13.45 14.96\n",
      "SHIP 10.84 15.02 14.53\n",
      "HWRF 8.85 12.42 9.83\n",
      "OFCL 8.56 12.13 8.12\n",
      "FSSE 8.87 12.21 8.97\n",
      "GFSO 11.21 12.87 14.96\n",
      "DSHP 10.24 13.42 14.1\n",
      "Consensus ofcl 8.36 11.51 8.97\n",
      "Consensus Hurr 8.15 11.24 8.97\n",
      "\n",
      "\n",
      "Total number of steps for comparison:  208\n",
      "Year 2019 Basin AN MAE intensity | std | busts > 20kn %\n",
      "Hurr full:  10.9 14.17 12.02\n",
      "Hurr until 2012:  10.75 13.96 11.54\n",
      "SHIP 10.89 14.22 17.79\n",
      "HWRF 9.89 12.68 11.54\n",
      "OFCL 8.55 11.53 7.21\n",
      "FSSE 8.73 11.42 7.21\n",
      "GFSO 13.54 15.47 21.15\n",
      "DSHP 10.6 13.9 16.83\n",
      "Consensus ofcl 8.53 11.16 8.17\n",
      "Consensus Hurr 8.54 11.22 9.13\n",
      "\n",
      "\n"
     ]
    }
   ],
   "source": [
    "d1 = train_xgb_intensity_all_years_full_train_6cast(train = X_train_embed, test = X_test_embed, tgt_train=tgt_intensity_train, tgt_test = tgt_intensity_test, forecast = 'SHIP', max_depth = 7, n_estimators = 300, learning_rate = 0.05, subsample = 0.9, min_child_weight=5, basin = 'AN', forecast2 = 'HWRF', forecast3 = 'OFCL', forecast4 = 'FSSE', forecast5 = 'GFSO', forecast6 = 'DSHP')"
   ]
  },
  {
   "cell_type": "code",
   "execution_count": 71,
   "metadata": {
    "hidden": true
   },
   "outputs": [
    {
     "name": "stdout",
     "output_type": "stream",
     "text": [
      "Total number of steps for comparison:  227\n",
      "Year 2017 Basin AN MAE intensity | std | busts > 20kn %\n",
      "Hurr full:  12.0 14.82 22.47\n",
      "Hurr until 2012:  12.0 14.82 22.47\n",
      "SHIP 12.13 16.94 19.82\n",
      "HWRF 10.06 12.67 12.33\n",
      "OFCL 8.56 11.82 6.61\n",
      "FSSE 7.74 10.09 5.73\n",
      "GFSO 17.29 17.77 31.28\n",
      "DSHP 10.02 13.38 13.66\n",
      "Consensus ofcl 8.45 11.32 8.37\n",
      "Consensus Hurr 8.55 11.39 8.37\n",
      "\n",
      "\n",
      "Total number of steps for comparison:  234\n",
      "Year 2018 Basin AN MAE intensity | std | busts > 20kn %\n",
      "Hurr full:  9.51 13.02 11.97\n",
      "Hurr until 2012:  9.6 13.15 11.54\n",
      "SHIP 10.84 15.02 14.53\n",
      "HWRF 8.85 12.42 9.83\n",
      "OFCL 8.56 12.13 8.12\n",
      "FSSE 8.87 12.21 8.97\n",
      "GFSO 11.21 12.87 14.96\n",
      "DSHP 10.24 13.42 14.1\n",
      "Consensus ofcl 8.36 11.51 8.97\n",
      "Consensus Hurr 8.06 11.2 9.4\n",
      "\n",
      "\n",
      "Total number of steps for comparison:  208\n",
      "Year 2019 Basin AN MAE intensity | std | busts > 20kn %\n",
      "Hurr full:  9.84 12.54 7.69\n",
      "Hurr until 2012:  9.99 12.65 8.17\n",
      "SHIP 10.89 14.22 17.79\n",
      "HWRF 9.89 12.68 11.54\n",
      "OFCL 8.55 11.53 7.21\n",
      "FSSE 8.73 11.42 7.21\n",
      "GFSO 13.54 15.47 21.15\n",
      "DSHP 10.6 13.9 16.83\n",
      "Consensus ofcl 8.53 11.16 8.17\n",
      "Consensus Hurr 8.37 10.98 7.21\n",
      "\n",
      "\n"
     ]
    }
   ],
   "source": [
    "d1 = train_xgb_intensity_all_years_full_train_6cast(train = X_train_total_comp, test = X_test_total_comp, tgt_train=tgt_intensity_train, tgt_test = tgt_intensity_test, forecast = 'SHIP', \n",
    "                                                    max_depth = 7, n_estimators = 300, learning_rate = 0.05, subsample = 0.9, min_child_weight=5, \n",
    "                                                    basin = 'AN', forecast2 = 'HWRF', forecast3 = 'OFCL', forecast4 = 'FSSE', forecast5 = 'GFSO', forecast6 = 'DSHP')"
   ]
  },
  {
   "cell_type": "code",
   "execution_count": null,
   "metadata": {
    "hidden": true
   },
   "outputs": [],
   "source": [
    "d1 = train_xgb_intensity_all_years_full_train_6cast(train = X_train_total_comp, test = X_test_total_comp, tgt_train=tgt_intensity_train, tgt_test = tgt_intensity_test, forecast = 'SHIP', \n",
    "                                                    max_depth = 7, n_estimators = 300, learning_rate = 0.05, subsample = 0.9, min_child_weight=1, \n",
    "                                                    basin = 'AN', forecast2 = 'HWRF', forecast3 = 'OFCL', forecast4 = 'FSSE', forecast5 = 'GFSO', forecast6 = 'DSHP')"
   ]
  },
  {
   "cell_type": "code",
   "execution_count": 79,
   "metadata": {
    "hidden": true
   },
   "outputs": [
    {
     "name": "stdout",
     "output_type": "stream",
     "text": [
      "Total number of steps for comparison:  227\n",
      "Year 2017 Basin AN MAE intensity | std | busts > 20kn %\n",
      "Hurr full:  12.0 14.82 22.47\n",
      "Hurr until 2012:  12.0 14.82 22.47\n",
      "SHIP 12.13 16.94 19.82\n",
      "HWRF 10.06 12.67 12.33\n",
      "OFCL 8.56 11.82 6.61\n",
      "FSSE 7.74 10.09 5.73\n",
      "GFSO 17.29 17.77 31.28\n",
      "DSHP 10.02 13.38 13.66\n",
      "Consensus ofcl 8.45 11.32 8.37\n",
      "Consensus Hurr 8.55 11.39 8.37\n",
      "\n",
      "\n",
      "Total number of steps for comparison:  234\n",
      "Year 2018 Basin AN MAE intensity | std | busts > 20kn %\n",
      "Hurr full:  9.51 13.02 11.97\n",
      "Hurr until 2012:  9.6 13.15 11.54\n",
      "SHIP 10.84 15.02 14.53\n",
      "HWRF 8.85 12.42 9.83\n",
      "OFCL 8.56 12.13 8.12\n",
      "FSSE 8.87 12.21 8.97\n",
      "GFSO 11.21 12.87 14.96\n",
      "DSHP 10.24 13.42 14.1\n",
      "Consensus ofcl 8.36 11.51 8.97\n",
      "Consensus Hurr 8.06 11.2 9.4\n",
      "\n",
      "\n",
      "Total number of steps for comparison:  208\n",
      "Year 2019 Basin AN MAE intensity | std | busts > 20kn %\n",
      "Hurr full:  9.84 12.54 7.69\n",
      "Hurr until 2012:  9.99 12.65 8.17\n",
      "SHIP 10.89 14.22 17.79\n",
      "HWRF 9.89 12.68 11.54\n",
      "OFCL 8.55 11.53 7.21\n",
      "FSSE 8.73 11.42 7.21\n",
      "GFSO 13.54 15.47 21.15\n",
      "DSHP 10.6 13.9 16.83\n",
      "Consensus ofcl 8.53 11.16 8.17\n",
      "Consensus Hurr 8.37 10.98 7.21\n",
      "\n",
      "\n"
     ]
    }
   ],
   "source": [
    "d1 = train_xgb_intensity_all_years_full_train_6cast(train = np.concatenate((X_train_total_comp, X_train), axis = 1), test = np.concatenate((X_test_total_comp, X_test), axis =1), tgt_train=tgt_intensity_train, tgt_test = tgt_intensity_test, forecast = 'SHIP', \n",
    "                                                    max_depth = 7, n_estimators = 300, learning_rate = 0.05, subsample = 0.9, min_child_weight=5, \n",
    "                                                    basin = 'AN', forecast2 = 'HWRF', forecast3 = 'OFCL', forecast4 = 'FSSE', forecast5 = 'GFSO', forecast6 = 'DSHP')"
   ]
  },
  {
   "cell_type": "code",
   "execution_count": 83,
   "metadata": {
    "hidden": true
   },
   "outputs": [
    {
     "name": "stdout",
     "output_type": "stream",
     "text": [
      "Total number of steps for comparison:  227\n",
      "Year 2017 Basin AN MAE intensity | std | busts > 20kn %\n",
      "Hurr full:  12.26 15.67 20.26\n",
      "Hurr until 2012:  12.26 15.67 20.26\n",
      "SHIP 12.13 16.94 19.82\n",
      "HWRF 10.06 12.67 12.33\n",
      "OFCL 8.56 11.82 6.61\n",
      "FSSE 7.74 10.09 5.73\n",
      "GFSO 17.29 17.77 31.28\n",
      "DSHP 10.02 13.38 13.66\n",
      "Consensus ofcl 8.45 11.32 8.37\n",
      "Consensus Hurr 8.63 11.42 8.37\n",
      "\n",
      "\n",
      "Total number of steps for comparison:  234\n",
      "Year 2018 Basin AN MAE intensity | std | busts > 20kn %\n",
      "Hurr full:  9.73 12.8 12.82\n",
      "Hurr until 2012:  9.7 12.71 12.82\n",
      "SHIP 10.84 15.02 14.53\n",
      "HWRF 8.85 12.42 9.83\n",
      "OFCL 8.56 12.13 8.12\n",
      "FSSE 8.87 12.21 8.97\n",
      "GFSO 11.21 12.87 14.96\n",
      "DSHP 10.24 13.42 14.1\n",
      "Consensus ofcl 8.36 11.51 8.97\n",
      "Consensus Hurr 8.07 11.17 8.55\n",
      "\n",
      "\n",
      "Total number of steps for comparison:  208\n",
      "Year 2019 Basin AN MAE intensity | std | busts > 20kn %\n",
      "Hurr full:  10.59 13.74 10.1\n",
      "Hurr until 2012:  10.52 13.63 9.62\n",
      "SHIP 10.89 14.22 17.79\n",
      "HWRF 9.89 12.68 11.54\n",
      "OFCL 8.55 11.53 7.21\n",
      "FSSE 8.73 11.42 7.21\n",
      "GFSO 13.54 15.47 21.15\n",
      "DSHP 10.6 13.9 16.83\n",
      "Consensus ofcl 8.53 11.16 8.17\n",
      "Consensus Hurr 8.53 11.16 8.65\n",
      "\n",
      "\n"
     ]
    }
   ],
   "source": [
    "d1 = train_xgb_intensity_all_years_full_train_6cast(train = np.concatenate((X_train_total_comp, X_train, X_train_embed), axis = 1), test = np.concatenate((X_test_total_comp, X_test, X_test_embed), axis =1), tgt_train=tgt_intensity_train, tgt_test = tgt_intensity_test, forecast = 'SHIP', \n",
    "                                                    max_depth = 6, n_estimators = 300, learning_rate = 0.03, subsample = 0.9, min_child_weight=5, \n",
    "                                                    basin = 'AN', forecast2 = 'HWRF', forecast3 = 'OFCL', forecast4 = 'FSSE', forecast5 = 'GFSO', forecast6 = 'DSHP')"
   ]
  },
  {
   "cell_type": "code",
   "execution_count": 46,
   "metadata": {
    "hidden": true
   },
   "outputs": [
    {
     "name": "stdout",
     "output_type": "stream",
     "text": [
      "Total number of steps for comparison:  227\n",
      "Year 2017 Basin AN MAE intensity | std | busts > 20kn %\n",
      "Hurr full:  12.31 16.21 21.59\n",
      "Hurr until 2012:  12.31 16.21 21.59\n",
      "SHIP 12.13 16.94 19.82\n",
      "HWRF 10.06 12.67 12.33\n",
      "OFCL 8.56 11.82 6.61\n",
      "FSSE 7.74 10.09 5.73\n",
      "GFSO 17.29 17.77 31.28\n",
      "DSHP 10.02 13.38 13.66\n",
      "Consensus ofcl 8.45 11.32 8.37\n",
      "Consensus Hurr 8.56 11.49 7.93\n",
      "\n",
      "\n",
      "Total number of steps for comparison:  234\n",
      "Year 2018 Basin AN MAE intensity | std | busts > 20kn %\n",
      "Hurr full:  9.29 12.81 13.25\n",
      "Hurr until 2012:  9.27 12.27 11.97\n",
      "SHIP 10.84 15.02 14.53\n",
      "HWRF 8.85 12.42 9.83\n",
      "OFCL 8.56 12.13 8.12\n",
      "FSSE 8.87 12.21 8.97\n",
      "GFSO 11.21 12.87 14.96\n",
      "DSHP 10.24 13.42 14.1\n",
      "Consensus ofcl 8.36 11.51 8.97\n",
      "Consensus Hurr 8.18 11.36 8.97\n",
      "\n",
      "\n",
      "Total number of steps for comparison:  208\n",
      "Year 2019 Basin AN MAE intensity | std | busts > 20kn %\n",
      "Hurr full:  8.94 12.15 7.21\n",
      "Hurr until 2012:  9.56 13.28 10.1\n",
      "SHIP 10.89 14.22 17.79\n",
      "HWRF 9.89 12.68 11.54\n",
      "OFCL 8.55 11.53 7.21\n",
      "FSSE 8.73 11.42 7.21\n",
      "GFSO 13.54 15.47 21.15\n",
      "DSHP 10.6 13.9 16.83\n",
      "Consensus ofcl 8.53 11.16 8.17\n",
      "Consensus Hurr 8.38 11.04 6.73\n",
      "\n",
      "\n"
     ]
    }
   ],
   "source": [
    "d1 = train_xgb_intensity_all_years_full_train_6cast(train = X_test_baseline[:m], test = X_test_baseline, tgt_train=tgt_intensity_test[:m], tgt_test = tgt_intensity_test, \n",
    "                                                    forecast = 'SHIP', max_depth = 7, n_estimators = 300, learning_rate = 0.05, subsample = 0.9, min_child_weight=5, basin = 'AN', forecast2 = 'HWRF', forecast3 = 'OFCL', forecast4 = 'FSSE', forecast5 = 'GFSO', forecast6 = 'DSHP')"
   ]
  },
  {
   "cell_type": "code",
   "execution_count": 66,
   "metadata": {
    "hidden": true
   },
   "outputs": [
    {
     "name": "stdout",
     "output_type": "stream",
     "text": [
      "Total number of steps for comparison:  227\n",
      "Year 2017 Basin AN MAE intensity | std | busts > 20kn %\n",
      "Hurr full:  12.21 16.38 22.03\n",
      "Hurr until 2012:  12.21 16.38 22.03\n",
      "SHIP 12.13 16.94 19.82\n",
      "HWRF 10.06 12.67 12.33\n",
      "OFCL 8.56 11.82 6.61\n",
      "FSSE 7.74 10.09 5.73\n",
      "GFSO 17.29 17.77 31.28\n",
      "DSHP 10.02 13.38 13.66\n",
      "Consensus ofcl 8.45 11.32 8.37\n",
      "Consensus Hurr 8.55 11.52 8.37\n",
      "\n",
      "\n",
      "Total number of steps for comparison:  234\n",
      "Year 2018 Basin AN MAE intensity | std | busts > 20kn %\n",
      "Hurr full:  9.21 12.72 12.39\n",
      "Hurr until 2012:  9.15 12.44 11.11\n",
      "SHIP 10.84 15.02 14.53\n",
      "HWRF 8.85 12.42 9.83\n",
      "OFCL 8.56 12.13 8.12\n",
      "FSSE 8.87 12.21 8.97\n",
      "GFSO 11.21 12.87 14.96\n",
      "DSHP 10.24 13.42 14.1\n",
      "Consensus ofcl 8.36 11.51 8.97\n",
      "Consensus Hurr 8.21 11.38 8.55\n",
      "\n",
      "\n",
      "Total number of steps for comparison:  208\n",
      "Year 2019 Basin AN MAE intensity | std | busts > 20kn %\n",
      "Hurr full:  8.76 12.09 8.65\n",
      "Hurr until 2012:  10.13 13.51 10.58\n",
      "SHIP 10.89 14.22 17.79\n",
      "HWRF 9.89 12.68 11.54\n",
      "OFCL 8.55 11.53 7.21\n",
      "FSSE 8.73 11.42 7.21\n",
      "GFSO 13.54 15.47 21.15\n",
      "DSHP 10.6 13.9 16.83\n",
      "Consensus ofcl 8.53 11.16 8.17\n",
      "Consensus Hurr 8.38 11.05 6.73\n",
      "\n",
      "\n"
     ]
    }
   ],
   "source": [
    "d1 = train_xgb_intensity_all_years_full_train_6cast(train = X_test_baseline[:m], test = X_test_baseline, tgt_train=tgt_intensity_test[:m], tgt_test = tgt_intensity_test, \n",
    "                                                    forecast = 'SHIP', max_depth = 8, n_estimators = 250, learning_rate = 0.03, subsample = 0.8, min_child_weight=5, basin = 'AN', forecast2 = 'HWRF', forecast3 = 'OFCL', forecast4 = 'FSSE', forecast5 = 'GFSO', forecast6 = 'DSHP')"
   ]
  },
  {
   "cell_type": "code",
   "execution_count": 54,
   "metadata": {
    "hidden": true
   },
   "outputs": [
    {
     "name": "stdout",
     "output_type": "stream",
     "text": [
      "Total number of steps for comparison:  227\n",
      "Year 2017 Basin AN MAE intensity | std | busts > 20kn %\n",
      "Hurr full:  12.67 16.42 22.91\n",
      "Hurr until 2012:  12.67 16.42 22.91\n",
      "SHIP 12.13 16.94 19.82\n",
      "HWRF 10.06 12.67 12.33\n",
      "OFCL 8.56 11.82 6.61\n",
      "FSSE 7.74 10.09 5.73\n",
      "GFSO 17.29 17.77 31.28\n",
      "DSHP 10.02 13.38 13.66\n",
      "Consensus ofcl 8.45 11.32 8.37\n",
      "Consensus Hurr 8.55 11.43 7.49\n",
      "\n",
      "\n",
      "Total number of steps for comparison:  234\n",
      "Year 2018 Basin AN MAE intensity | std | busts > 20kn %\n",
      "Hurr full:  9.06 12.39 11.11\n",
      "Hurr until 2012:  9.44 12.74 11.97\n",
      "SHIP 10.84 15.02 14.53\n",
      "HWRF 8.85 12.42 9.83\n",
      "OFCL 8.56 12.13 8.12\n",
      "FSSE 8.87 12.21 8.97\n",
      "GFSO 11.21 12.87 14.96\n",
      "DSHP 10.24 13.42 14.1\n",
      "Consensus ofcl 8.36 11.51 8.97\n",
      "Consensus Hurr 8.18 11.36 8.97\n",
      "\n",
      "\n",
      "Total number of steps for comparison:  208\n",
      "Year 2019 Basin AN MAE intensity | std | busts > 20kn %\n",
      "Hurr full:  9.06 12.56 9.62\n",
      "Hurr until 2012:  9.85 13.0 9.13\n",
      "SHIP 10.89 14.22 17.79\n",
      "HWRF 9.89 12.68 11.54\n",
      "OFCL 8.55 11.53 7.21\n",
      "FSSE 8.73 11.42 7.21\n",
      "GFSO 13.54 15.47 21.15\n",
      "DSHP 10.6 13.9 16.83\n",
      "Consensus ofcl 8.53 11.16 8.17\n",
      "Consensus Hurr 8.44 11.12 8.65\n",
      "\n",
      "\n"
     ]
    }
   ],
   "source": [
    "d1 = train_xgb_intensity_all_years_full_train_6cast(train = np.concatenate((X_test_embed[:m], X_test_baseline[:m]), axis = 1), test = np.concatenate((X_test_embed, X_test_baseline), axis = 1), tgt_train=tgt_intensity_test[:m], tgt_test = tgt_intensity_test, \n",
    "                                                    forecast = 'SHIP', max_depth = 6, n_estimators = 300, learning_rate = 0.03, subsample = 0.9, min_child_weight=5, basin = 'AN', forecast2 = 'HWRF', forecast3 = 'OFCL', forecast4 = 'FSSE', forecast5 = 'GFSO', forecast6 = 'DSHP')"
   ]
  },
  {
   "cell_type": "code",
   "execution_count": null,
   "metadata": {
    "hidden": true
   },
   "outputs": [],
   "source": [
    "d1 = train_xgb_intensity_all_years_full_train_6cast(train = np.concatenate((X_test_embed[:m], X_test_baseline[:m]), axis = 1), test = np.concatenate((X_test_, X_test_baseline), axis = 1), tgt_train=tgt_intensity_test[:m], tgt_test = tgt_intensity_test, \n",
    "                                                    forecast = 'SHIP', max_depth = 6, n_estimators = 300, learning_rate = 0.03, subsample = 0.9, min_child_weight=5, basin = 'AN', forecast2 = 'HWRF', forecast3 = 'OFCL', forecast4 = 'FSSE', forecast5 = 'GFSO', forecast6 = 'DSHP')"
   ]
  },
  {
   "cell_type": "markdown",
   "metadata": {},
   "source": [
    "# Consensus"
   ]
  },
  {
   "cell_type": "code",
   "execution_count": 192,
   "metadata": {},
   "outputs": [
    {
     "data": {
      "text/plain": [
       "XGBRegressor(base_score=0.5, booster='gbtree', colsample_bylevel=1,\n",
       "       colsample_bynode=1, colsample_bytree=1, gamma=0, gpu_id=-1,\n",
       "       importance_type='gain', interaction_constraints='',\n",
       "       learning_rate=0.03, max_delta_step=0, max_depth=6,\n",
       "       min_child_weight=5, missing=nan, monotone_constraints='()',\n",
       "       n_estimators=300, n_jobs=0, num_parallel_tree=1,\n",
       "       objective='reg:squarederror', random_state=0, reg_alpha=0,\n",
       "       reg_lambda=1, scale_pos_weight=1, subsample=0.9,\n",
       "       tree_method='exact', validate_parameters=1, verbosity=None)"
      ]
     },
     "execution_count": 192,
     "metadata": {},
     "output_type": "execute_result"
    }
   ],
   "source": [
    "train = X_train\n",
    "test = X_test\n",
    "tgt_train = tgt_intensity_train\n",
    "xgb_total = XGBRegressor(max_depth=6, n_estimators=300, learning_rate=0.03,\n",
    "                             subsample=0.9, min_child_weight=5)\n",
    "xgb_total.fit(np.array(train), tgt_train)"
   ]
  },
  {
   "cell_type": "code",
   "execution_count": 193,
   "metadata": {},
   "outputs": [
    {
     "data": {
      "text/plain": [
       "XGBRegressor(base_score=0.5, booster='gbtree', colsample_bylevel=1,\n",
       "       colsample_bynode=1, colsample_bytree=1, gamma=0, gpu_id=-1,\n",
       "       importance_type='gain', interaction_constraints='',\n",
       "       learning_rate=0.03, max_delta_step=0, max_depth=8,\n",
       "       min_child_weight=5, missing=nan, monotone_constraints='()',\n",
       "       n_estimators=300, n_jobs=0, num_parallel_tree=1,\n",
       "       objective='reg:squarederror', random_state=0, reg_alpha=0,\n",
       "       reg_lambda=1, scale_pos_weight=1, subsample=0.8,\n",
       "       tree_method='exact', validate_parameters=1, verbosity=None)"
      ]
     },
     "execution_count": 193,
     "metadata": {},
     "output_type": "execute_result"
    }
   ],
   "source": [
    "train = X_train_total\n",
    "test2 = X_test_total\n",
    "tgt_train = tgt_intensity_train\n",
    "xgb_total_2 = XGBRegressor(max_depth=8, n_estimators=300, learning_rate=0.03,\n",
    "                             subsample=0.8, min_child_weight=5)\n",
    "xgb_total_2.fit(np.array(train), tgt_train)"
   ]
  },
  {
   "cell_type": "code",
   "execution_count": 194,
   "metadata": {},
   "outputs": [],
   "source": [
    "year = 2018\n",
    "forecast='SHIP'\n",
    "forecast2 = 'HWRF'\n",
    "forecast3 = 'OFCL'\n",
    "forecast4 = 'FSSE'\n",
    "forecast5 = 'GFSO'\n",
    "forecast6 = 'DSHP'\n",
    "mode = 'vmax'\n",
    "basin = 'EP'\n",
    "\n",
    "if True:\n",
    "    baseline_ = X_test_baseline.loc[X_test_baseline['YEAR_0'] < year].loc[\n",
    "            X_test_baseline[forecast6 + '_24_' + mode + '_7'] > -320].loc[\n",
    "            X_test_baseline[forecast5 + '_24_' + mode + '_7'] > -320].loc[\n",
    "            X_test_baseline[forecast4 + '_24_' + mode + '_7'] > -320].loc[\n",
    "            X_test_baseline[forecast3 + '_24_' + mode + '_7'] > -320].loc[\n",
    "            X_test_baseline[forecast2 + '_24_' + mode + '_7'] > -320].loc[\n",
    "            X_test_baseline[forecast + '_24_' + mode + '_7'] > -320].loc[X_test_baseline['cat_basin_' + basin + '_0'] == 1]  # .loc[#X_test_baseline['SHIP_24_'+mode+'_7'] > 0].index\n",
    "    index = baseline_.index\n",
    "    baseline_1 = baseline_[forecast + '_24_'+ mode + '_7']\n",
    "    baseline_2 = baseline_[forecast2 + '_24_' + mode + '_7']\n",
    "    baseline_3 = baseline_[forecast3 + '_24_' + mode + '_7']\n",
    "    baseline_4 = baseline_[forecast4 + '_24_' + mode + '_7']\n",
    "    baseline_5 = baseline_[forecast5 + '_24_' + mode + '_7']\n",
    "    baseline_6 = baseline_[forecast6 + '_24_' + mode + '_7']\n",
    "    X_test_withBASELINE_total = np.array(test)[index]\n",
    "    X_test_withBASELINE_total_2 = np.array(test2)[index]\n",
    "    \n",
    "    tgt_ = np.array(tgt_intensity_test[index] * std_ + mean_)\n",
    "    preds = xgb_total.predict(X_test_withBASELINE_total) * std_ + mean_\n",
    "    preds2 = xgb_total_2.predict(X_test_withBASELINE_total_2) * std_ + mean_\n",
    "    train_consensus = np.stack((baseline_1, baseline_2, baseline_3, baseline_4, baseline_5, baseline_6), axis = 1)\n",
    "    train_consensus_hurr = np.stack((baseline_1, baseline_2, baseline_3, baseline_4, baseline_5, baseline_6, preds), axis = 1)\n",
    "    train_consensus_hurr2 = np.stack((baseline_1, baseline_2, baseline_3, baseline_4, baseline_5, baseline_6, preds, preds2), axis = 1)\n",
    "    \n",
    "    \n",
    "if True:\n",
    "    baseline_ = X_test_baseline.loc[X_test_baseline['YEAR_0'] == year].loc[\n",
    "            X_test_baseline[forecast6 + '_24_' + mode + '_7'] > -320].loc[\n",
    "            X_test_baseline[forecast5 + '_24_' + mode + '_7'] > -320].loc[\n",
    "            X_test_baseline[forecast4 + '_24_' + mode + '_7'] > -320].loc[\n",
    "            X_test_baseline[forecast3 + '_24_' + mode + '_7'] > -320].loc[\n",
    "            X_test_baseline[forecast2 + '_24_' + mode + '_7'] > -320].loc[\n",
    "            X_test_baseline[forecast + '_24_' + mode + '_7'] > -320].loc[X_test_baseline['cat_basin_' + basin + '_0'] == 1]  # .loc[#X_test_baseline['SHIP_24_'+mode+'_7'] > 0].index\n",
    "    if basin == 'EP':\n",
    "        baseline_ = X_test_baseline.loc[X_test_baseline['YEAR_0'] < 2019].loc[X_test_baseline['YEAR_0'] == year].loc[\n",
    "            X_test_baseline[forecast6 + '_24_' + mode + '_7'] > -320].loc[\n",
    "            X_test_baseline[forecast5 + '_24_' + mode + '_7'] > -320].loc[\n",
    "            X_test_baseline[forecast4 + '_24_' + mode + '_7'] > -320].loc[\n",
    "            X_test_baseline[forecast3 + '_24_' + mode + '_7'] > -320].loc[\n",
    "            X_test_baseline[forecast2 + '_24_' + mode + '_7'] > -320].loc[\n",
    "            X_test_baseline[forecast + '_24_' + mode + '_7'] > -320].loc[X_test_baseline['cat_basin_' + basin + '_0'] == 1]\n",
    "    index = baseline_.index\n",
    "    baseline_1 = baseline_[forecast + '_24_'+ mode + '_7']\n",
    "    baseline_2 = baseline_[forecast2 + '_24_' + mode + '_7']\n",
    "    baseline_3 = baseline_[forecast3 + '_24_' + mode + '_7']\n",
    "    baseline_4 = baseline_[forecast4 + '_24_' + mode + '_7']\n",
    "    baseline_5 = baseline_[forecast5 + '_24_' + mode + '_7']\n",
    "    baseline_6 = baseline_[forecast6 + '_24_' + mode + '_7']\n",
    "    X_test_withBASELINE_total = np.array(test)[index]\n",
    "    X_test_withBASELINE_total_2 = np.array(test2)[index]\n",
    "    \n",
    "    tgt_test = np.array(tgt_intensity_test[index] * std_ + mean_)\n",
    "    preds = xgb_total.predict(X_test_withBASELINE_total) * std_ + mean_\n",
    "    preds2 = xgb_total_2.predict(X_test_withBASELINE_total_2) * std_ + mean_\n",
    "    test_consensus = np.stack((baseline_1, baseline_2, baseline_3, baseline_4, baseline_5, baseline_6), axis = 1)\n",
    "    test_consensus_hurr = np.stack((baseline_1, baseline_2, baseline_3, baseline_4, baseline_5, baseline_6, preds), axis = 1)\n",
    "    test_consensus_hurr2 = np.stack((baseline_1, baseline_2, baseline_3, baseline_4, baseline_5, baseline_6, preds, preds2), axis = 1)\n",
    "        "
   ]
  },
  {
   "cell_type": "code",
   "execution_count": 202,
   "metadata": {},
   "outputs": [
    {
     "name": "stdout",
     "output_type": "stream",
     "text": [
      "Number of timesteps 355\n",
      "consensus without Hurricast 8.71 12.14 12.39\n",
      "consensus with Hurricast 8.83 12.09 12.11\n",
      "consensus with Hurricast 2 8.81 11.97 11.27\n"
     ]
    }
   ],
   "source": [
    "#AN\n",
    "m = Lasso(alpha = 0.001)\n",
    "m.fit(train_consensus, tgt_)\n",
    "preds = np.array(m.predict(test_consensus))\n",
    "print(\"Number of timesteps\", len(preds))\n",
    "print(\"consensus without Hurricast\",\n",
    "                np.around(mean_absolute_error(np.array(tgt_test), preds), decimals=2),\n",
    "                np.around(np.std(tgt_test - preds), decimals=2),\n",
    "                np.around(sum(abs(tgt_test - preds) > 20)/len(preds) * 100, decimals = 2))\n",
    "\n",
    "m = Lasso(alpha = 0.00001, normalize = True)\n",
    "m.fit(train_consensus_hurr, tgt_)\n",
    "preds = np.array(m.predict(test_consensus_hurr))\n",
    "\n",
    "print(\"consensus with Hurricast\",\n",
    "                np.around(mean_absolute_error(np.array(tgt_test), preds), decimals=2),\n",
    "                np.around(np.std(tgt_test - preds), decimals=2),\n",
    "                np.around(sum(abs(tgt_test - preds) > 20)/len(preds) * 100, decimals = 2))\n",
    "\n",
    "m = Lasso(alpha = 0.005)\n",
    "m.fit(train_consensus_hurr2, tgt_)\n",
    "preds2 = np.array(m.predict(test_consensus_hurr2))\n",
    "\n",
    "\n",
    "print(\"consensus with Hurricast 2\",\n",
    "                np.around(mean_absolute_error(np.array(tgt_test), preds2), decimals=2),\n",
    "                np.around(np.std(tgt_test - preds2), decimals=2),\n",
    "                np.around(sum(abs(tgt_test - preds2) > 20)/len(preds2) * 100, decimals = 2))"
   ]
  },
  {
   "cell_type": "code",
   "execution_count": 176,
   "metadata": {},
   "outputs": [
    {
     "data": {
      "text/plain": [
       "array([-0.07195349,  0.15597878,  0.        ,  0.85105306,  0.12767506,\n",
       "       -0.17851734,  0.29833725, -0.        ], dtype=float32)"
      ]
     },
     "execution_count": 176,
     "metadata": {},
     "output_type": "execute_result"
    }
   ],
   "source": [
    "m.coef_"
   ]
  },
  {
   "cell_type": "markdown",
   "metadata": {},
   "source": [
    "# EP"
   ]
  },
  {
   "cell_type": "markdown",
   "metadata": {
    "heading_collapsed": true
   },
   "source": [
    "## Stat only\n"
   ]
  },
  {
   "cell_type": "code",
   "execution_count": 21,
   "metadata": {
    "hidden": true
   },
   "outputs": [
    {
     "name": "stdout",
     "output_type": "stream",
     "text": [
      "Total number of steps for comparison:  315\n",
      "Year 2016 Basin EP MAE intensity | std | busts > 20kn %\n",
      "Hurr full:  10.08 13.87 14.92\n",
      "Hurr until 2012:  10.08 13.87 14.92\n",
      "SHIP 9.87 12.84 10.79\n",
      "HWRF 10.38 13.74 11.75\n",
      "OFCL 8.72 11.89 6.67\n",
      "FSSE 8.51 11.53 8.57\n",
      "GFSO 13.02 16.38 21.27\n",
      "DSHP 9.69 12.58 10.16\n",
      "Consensus ofcl 8.63 11.66 9.21\n",
      "Consensus Hurr 8.54 11.68 9.52\n",
      "\n",
      "\n",
      "Total number of steps for comparison:  167\n",
      "Year 2017 Basin EP MAE intensity | std | busts > 20kn %\n",
      "Hurr full:  9.43 13.25 10.18\n",
      "Hurr until 2012:  9.33 13.2 8.98\n",
      "SHIP 9.97 13.0 10.78\n",
      "HWRF 7.87 11.61 8.38\n",
      "OFCL 8.14 11.67 4.79\n",
      "FSSE 7.92 10.67 4.79\n",
      "GFSO 11.93 16.27 17.96\n",
      "DSHP 9.49 12.71 10.18\n",
      "Consensus ofcl 7.76 10.71 5.39\n",
      "Consensus Hurr 7.52 10.57 5.99\n",
      "\n",
      "\n",
      "Total number of steps for comparison:  355\n",
      "Year 2018 Basin EP MAE intensity | std | busts > 20kn %\n",
      "Hurr full:  12.42 16.21 22.54\n",
      "Hurr until 2012:  12.53 16.23 20.56\n",
      "SHIP 12.91 15.83 19.72\n",
      "HWRF 10.94 14.86 16.9\n",
      "OFCL 10.22 13.48 9.3\n",
      "FSSE 9.83 12.64 12.39\n",
      "GFSO 19.32 20.45 38.59\n",
      "DSHP 12.96 15.85 20.0\n",
      "Consensus ofcl 10.15 13.0 13.24\n",
      "Consensus Hurr 10.22 13.11 14.08\n",
      "\n",
      "\n"
     ]
    }
   ],
   "source": [
    "d1 = train_xgb_intensity_all_years_full_train_6cast(train = X_train, test = X_test, tgt_train=tgt_intensity_train, tgt_test = tgt_intensity_test, forecast = 'SHIP', max_depth = 8, n_estimators = 300, learning_rate = 0.05, subsample = 0.8, min_child_weight=5, basin = 'EP', forecast2 = 'HWRF', forecast3 = 'OFCL', forecast4 = 'FSSE', forecast5 = 'GFSO', forecast6 = 'DSHP')"
   ]
  },
  {
   "cell_type": "code",
   "execution_count": 22,
   "metadata": {
    "hidden": true
   },
   "outputs": [
    {
     "name": "stdout",
     "output_type": "stream",
     "text": [
      "Total number of steps for comparison:  315\n",
      "Year 2016 Basin EP MAE intensity | std | busts > 20kn %\n",
      "Hurr full:  10.09 13.96 16.83\n",
      "Hurr until 2012:  10.09 13.96 16.83\n",
      "SHIP 9.87 12.84 10.79\n",
      "HWRF 10.38 13.74 11.75\n",
      "OFCL 8.72 11.89 6.67\n",
      "FSSE 8.51 11.53 8.57\n",
      "GFSO 13.02 16.38 21.27\n",
      "DSHP 9.69 12.58 10.16\n",
      "Consensus ofcl 8.63 11.66 9.21\n",
      "Consensus Hurr 8.56 11.71 9.84\n",
      "\n",
      "\n",
      "Total number of steps for comparison:  167\n",
      "Year 2017 Basin EP MAE intensity | std | busts > 20kn %\n",
      "Hurr full:  9.07 12.98 9.58\n",
      "Hurr until 2012:  9.13 13.02 9.58\n",
      "SHIP 9.97 13.0 10.78\n",
      "HWRF 7.87 11.61 8.38\n",
      "OFCL 8.14 11.67 4.79\n",
      "FSSE 7.92 10.67 4.79\n",
      "GFSO 11.93 16.27 17.96\n",
      "DSHP 9.49 12.71 10.18\n",
      "Consensus ofcl 7.76 10.71 5.39\n",
      "Consensus Hurr 7.48 10.56 4.79\n",
      "\n",
      "\n",
      "Total number of steps for comparison:  355\n",
      "Year 2018 Basin EP MAE intensity | std | busts > 20kn %\n",
      "Hurr full:  12.61 16.43 21.97\n",
      "Hurr until 2012:  12.59 16.43 21.41\n",
      "SHIP 12.91 15.83 19.72\n",
      "HWRF 10.94 14.86 16.9\n",
      "OFCL 10.22 13.48 9.3\n",
      "FSSE 9.83 12.64 12.39\n",
      "GFSO 19.32 20.45 38.59\n",
      "DSHP 12.96 15.85 20.0\n",
      "Consensus ofcl 10.15 13.0 13.24\n",
      "Consensus Hurr 10.24 13.16 13.8\n",
      "\n",
      "\n"
     ]
    }
   ],
   "source": [
    "d1 = train_xgb_intensity_all_years_full_train_6cast(train = X_train, test = X_test, tgt_train=tgt_intensity_train, tgt_test = tgt_intensity_test, forecast = 'SHIP', max_depth = 8, n_estimators = 300, learning_rate = 0.03, subsample = 0.9, min_child_weight=5, basin = 'EP', forecast2 = 'HWRF', forecast3 = 'OFCL', forecast4 = 'FSSE', forecast5 = 'GFSO', forecast6 = 'DSHP')"
   ]
  },
  {
   "cell_type": "code",
   "execution_count": 20,
   "metadata": {
    "hidden": true
   },
   "outputs": [
    {
     "name": "stdout",
     "output_type": "stream",
     "text": [
      "Total number of steps for comparison:  315\n",
      "Year 2016 Basin EP MAE intensity | std | busts > 20kn %\n",
      "Hurr full:  10.09 13.96 16.83\n",
      "Hurr until 2012:  10.09 13.96 16.83\n",
      "SHIP 9.87 12.84 10.79\n",
      "HWRF 10.38 13.74 11.75\n",
      "OFCL 8.72 11.89 6.67\n",
      "FSSE 8.51 11.53 8.57\n",
      "GFSO 13.02 16.38 21.27\n",
      "DSHP 9.69 12.58 10.16\n",
      "Consensus ofcl 8.63 11.66 9.21\n",
      "Consensus Hurr 8.56 11.71 9.84\n",
      "\n",
      "\n",
      "Total number of steps for comparison:  167\n",
      "Year 2017 Basin EP MAE intensity | std | busts > 20kn %\n",
      "Hurr full:  9.07 12.98 9.58\n",
      "Hurr until 2012:  9.13 13.02 9.58\n",
      "SHIP 9.97 13.0 10.78\n",
      "HWRF 7.87 11.61 8.38\n",
      "OFCL 8.14 11.67 4.79\n",
      "FSSE 7.92 10.67 4.79\n",
      "GFSO 11.93 16.27 17.96\n",
      "DSHP 9.49 12.71 10.18\n",
      "Consensus ofcl 7.76 10.71 5.39\n",
      "Consensus Hurr 7.48 10.56 4.79\n",
      "\n",
      "\n",
      "Total number of steps for comparison:  355\n",
      "Year 2018 Basin EP MAE intensity | std | busts > 20kn %\n",
      "Hurr full:  12.61 16.43 21.97\n",
      "Hurr until 2012:  12.59 16.43 21.41\n",
      "SHIP 12.91 15.83 19.72\n",
      "HWRF 10.94 14.86 16.9\n",
      "OFCL 10.22 13.48 9.3\n",
      "FSSE 9.83 12.64 12.39\n",
      "GFSO 19.32 20.45 38.59\n",
      "DSHP 12.96 15.85 20.0\n",
      "Consensus ofcl 10.15 13.0 13.24\n",
      "Consensus Hurr 10.24 13.16 13.8\n",
      "\n",
      "\n"
     ]
    }
   ],
   "source": [
    "d1 = train_xgb_intensity_all_years_full_train_6cast(train = X_train, test = X_test, tgt_train=tgt_intensity_train, tgt_test = tgt_intensity_test, forecast = 'SHIP', max_depth = 8, n_estimators = 300, learning_rate = 0.03, subsample = 0.9, min_child_weight=5, basin = 'EP', forecast2 = 'HWRF', forecast3 = 'OFCL', forecast4 = 'FSSE', forecast5 = 'GFSO', forecast6 = 'DSHP')"
   ]
  },
  {
   "cell_type": "markdown",
   "metadata": {
    "heading_collapsed": true
   },
   "source": [
    "## Total CNN/GRU"
   ]
  },
  {
   "cell_type": "code",
   "execution_count": 25,
   "metadata": {
    "hidden": true
   },
   "outputs": [
    {
     "name": "stdout",
     "output_type": "stream",
     "text": [
      "Total number of steps for comparison:  315\n",
      "Year 2016 Basin EP MAE intensity | std | busts > 20kn %\n",
      "Hurr full:  9.63 13.22 15.24\n",
      "Hurr until 2012:  9.63 13.22 15.24\n",
      "SHIP 9.87 12.84 10.79\n",
      "HWRF 10.38 13.74 11.75\n",
      "OFCL 8.72 11.89 6.67\n",
      "FSSE 8.51 11.53 8.57\n",
      "GFSO 13.02 16.38 21.27\n",
      "DSHP 9.69 12.58 10.16\n",
      "Consensus ofcl 8.63 11.66 9.21\n",
      "Consensus Hurr 8.5 11.58 9.52\n",
      "\n",
      "\n",
      "Total number of steps for comparison:  167\n",
      "Year 2017 Basin EP MAE intensity | std | busts > 20kn %\n",
      "Hurr full:  8.88 12.63 8.38\n",
      "Hurr until 2012:  9.04 13.02 9.58\n",
      "SHIP 9.97 13.0 10.78\n",
      "HWRF 7.87 11.61 8.38\n",
      "OFCL 8.14 11.67 4.79\n",
      "FSSE 7.92 10.67 4.79\n",
      "GFSO 11.93 16.27 17.96\n",
      "DSHP 9.49 12.71 10.18\n",
      "Consensus ofcl 7.76 10.71 5.39\n",
      "Consensus Hurr 7.43 10.42 4.79\n",
      "\n",
      "\n",
      "Total number of steps for comparison:  355\n",
      "Year 2018 Basin EP MAE intensity | std | busts > 20kn %\n",
      "Hurr full:  12.0 15.59 20.85\n",
      "Hurr until 2012:  12.36 16.06 21.41\n",
      "SHIP 12.91 15.83 19.72\n",
      "HWRF 10.94 14.86 16.9\n",
      "OFCL 10.22 13.48 9.3\n",
      "FSSE 9.83 12.64 12.39\n",
      "GFSO 19.32 20.45 38.59\n",
      "DSHP 12.96 15.85 20.0\n",
      "Consensus ofcl 10.15 13.0 13.24\n",
      "Consensus Hurr 10.19 13.04 13.52\n",
      "\n",
      "\n"
     ]
    }
   ],
   "source": [
    "d1 = train_xgb_intensity_all_years_full_train_6cast(train = X_train_total, test = X_test_total, tgt_train=tgt_intensity_train, tgt_test = tgt_intensity_test, forecast = 'SHIP', \n",
    "                                                    max_depth = 9, n_estimators = 300, learning_rate = 0.03, subsample = 0.9, min_child_weight=5, basin = 'EP', forecast2 = 'HWRF', forecast3 = 'OFCL', forecast4 = 'FSSE', forecast5 = 'GFSO', forecast6 = 'DSHP')"
   ]
  },
  {
   "cell_type": "markdown",
   "metadata": {
    "heading_collapsed": true
   },
   "source": [
    "## Total tensor decomp"
   ]
  },
  {
   "cell_type": "code",
   "execution_count": 28,
   "metadata": {
    "hidden": true
   },
   "outputs": [
    {
     "name": "stdout",
     "output_type": "stream",
     "text": [
      "Total number of steps for comparison:  315\n",
      "Year 2016 Basin EP MAE intensity | std | busts > 20kn %\n",
      "Hurr full:  10.35 14.25 15.87\n",
      "Hurr until 2012:  10.35 14.25 15.87\n",
      "SHIP 9.87 12.84 10.79\n",
      "HWRF 10.38 13.74 11.75\n",
      "OFCL 8.72 11.89 6.67\n",
      "FSSE 8.51 11.53 8.57\n",
      "GFSO 13.02 16.38 21.27\n",
      "DSHP 9.69 12.58 10.16\n",
      "Consensus ofcl 8.63 11.66 9.21\n",
      "Consensus Hurr 8.61 11.75 9.84\n",
      "\n",
      "\n",
      "Total number of steps for comparison:  167\n",
      "Year 2017 Basin EP MAE intensity | std | busts > 20kn %\n",
      "Hurr full:  9.23 13.36 10.78\n",
      "Hurr until 2012:  9.15 13.3 10.78\n",
      "SHIP 9.97 13.0 10.78\n",
      "HWRF 7.87 11.61 8.38\n",
      "OFCL 8.14 11.67 4.79\n",
      "FSSE 7.92 10.67 4.79\n",
      "GFSO 11.93 16.27 17.96\n",
      "DSHP 9.49 12.71 10.18\n",
      "Consensus ofcl 7.76 10.71 5.39\n",
      "Consensus Hurr 7.52 10.65 5.39\n",
      "\n",
      "\n",
      "Total number of steps for comparison:  355\n",
      "Year 2018 Basin EP MAE intensity | std | busts > 20kn %\n",
      "Hurr full:  12.73 16.52 21.41\n",
      "Hurr until 2012:  12.79 16.56 22.25\n",
      "SHIP 12.91 15.83 19.72\n",
      "HWRF 10.94 14.86 16.9\n",
      "OFCL 10.22 13.48 9.3\n",
      "FSSE 9.83 12.64 12.39\n",
      "GFSO 19.32 20.45 38.59\n",
      "DSHP 12.96 15.85 20.0\n",
      "Consensus ofcl 10.15 13.0 13.24\n",
      "Consensus Hurr 10.33 13.22 13.8\n",
      "\n",
      "\n"
     ]
    }
   ],
   "source": [
    "d1 = train_xgb_intensity_all_years_full_train_6cast(train = X_train_total_comp, test = X_test_total_comp, tgt_train=tgt_intensity_train, tgt_test = tgt_intensity_test, forecast = 'SHIP', \n",
    "                                                    max_depth = 7, n_estimators = 150, learning_rate = 0.03, subsample = 0.8, min_child_weight=5, basin = 'EP', forecast2 = 'HWRF', forecast3 = 'OFCL', forecast4 = 'FSSE', forecast5 = 'GFSO', forecast6 = 'DSHP')"
   ]
  },
  {
   "cell_type": "markdown",
   "metadata": {},
   "source": [
    "## Embeds only"
   ]
  },
  {
   "cell_type": "code",
   "execution_count": 27,
   "metadata": {},
   "outputs": [
    {
     "name": "stdout",
     "output_type": "stream",
     "text": [
      "Total number of steps for comparison:  315\n",
      "Year 2016 Basin EP MAE intensity | std | busts > 20kn %\n",
      "Hurr full:  10.07 13.52 15.56\n",
      "Hurr until 2012:  10.07 13.52 15.56\n",
      "SHIP 9.87 12.84 10.79\n",
      "HWRF 10.38 13.74 11.75\n",
      "OFCL 8.72 11.89 6.67\n",
      "FSSE 8.51 11.53 8.57\n",
      "GFSO 13.02 16.38 21.27\n",
      "DSHP 9.69 12.58 10.16\n",
      "Consensus ofcl 8.63 11.66 9.21\n",
      "Consensus Hurr 8.45 11.53 9.52\n",
      "\n",
      "\n",
      "Total number of steps for comparison:  167\n",
      "Year 2017 Basin EP MAE intensity | std | busts > 20kn %\n",
      "Hurr full:  8.77 12.63 8.98\n",
      "Hurr until 2012:  8.95 12.97 9.58\n",
      "SHIP 9.97 13.0 10.78\n",
      "HWRF 7.87 11.61 8.38\n",
      "OFCL 8.14 11.67 4.79\n",
      "FSSE 7.92 10.67 4.79\n",
      "GFSO 11.93 16.27 17.96\n",
      "DSHP 9.49 12.71 10.18\n",
      "Consensus ofcl 7.76 10.71 5.39\n",
      "Consensus Hurr 7.41 10.42 4.79\n",
      "\n",
      "\n",
      "Total number of steps for comparison:  355\n",
      "Year 2018 Basin EP MAE intensity | std | busts > 20kn %\n",
      "Hurr full:  12.61 16.09 22.54\n",
      "Hurr until 2012:  12.72 16.2 22.54\n",
      "SHIP 12.91 15.83 19.72\n",
      "HWRF 10.94 14.86 16.9\n",
      "OFCL 10.22 13.48 9.3\n",
      "FSSE 9.83 12.64 12.39\n",
      "GFSO 19.32 20.45 38.59\n",
      "DSHP 12.96 15.85 20.0\n",
      "Consensus ofcl 10.15 13.0 13.24\n",
      "Consensus Hurr 10.25 13.1 13.8\n",
      "\n",
      "\n"
     ]
    }
   ],
   "source": [
    "d1 = train_xgb_intensity_all_years_full_train_6cast(train = X_train_embed, test = X_test_embed, tgt_train=tgt_intensity_train, tgt_test = tgt_intensity_test, forecast = 'SHIP', \n",
    "                                                    max_depth = 7, n_estimators = 300, learning_rate = 0.03, subsample = 0.9, min_child_weight=5, basin = 'EP', forecast2 = 'HWRF', forecast3 = 'OFCL', forecast4 = 'FSSE', forecast5 = 'GFSO', forecast6 = 'DSHP')"
   ]
  },
  {
   "cell_type": "code",
   "execution_count": 40,
   "metadata": {},
   "outputs": [
    {
     "name": "stdout",
     "output_type": "stream",
     "text": [
      "Total number of steps for comparison:  315\n",
      "Year 2016 Basin EP MAE intensity | std | busts > 20kn %\n",
      "Hurr full:  9.8 13.4 15.24\n",
      "Hurr until 2012:  9.8 13.4 15.24\n",
      "SHIP 9.87 12.84 10.79\n",
      "HWRF 10.38 13.74 11.75\n",
      "OFCL 8.72 11.89 6.67\n",
      "FSSE 8.51 11.53 8.57\n",
      "GFSO 13.02 16.38 21.27\n",
      "DSHP 9.69 12.58 10.16\n",
      "Consensus ofcl 8.63 11.66 9.21\n",
      "Consensus Hurr 8.51 11.59 9.21\n",
      "\n",
      "\n",
      "Total number of steps for comparison:  167\n",
      "Year 2017 Basin EP MAE intensity | std | busts > 20kn %\n",
      "Hurr full:  8.82 12.69 8.98\n",
      "Hurr until 2012:  8.89 12.81 8.98\n",
      "SHIP 9.97 13.0 10.78\n",
      "HWRF 7.87 11.61 8.38\n",
      "OFCL 8.14 11.67 4.79\n",
      "FSSE 7.92 10.67 4.79\n",
      "GFSO 11.93 16.27 17.96\n",
      "DSHP 9.49 12.71 10.18\n",
      "Consensus ofcl 7.76 10.71 5.39\n",
      "Consensus Hurr 7.42 10.44 4.79\n",
      "\n",
      "\n",
      "Total number of steps for comparison:  355\n",
      "Year 2018 Basin EP MAE intensity | std | busts > 20kn %\n",
      "Hurr full:  12.21 15.76 20.85\n",
      "Hurr until 2012:  12.54 16.12 21.69\n",
      "SHIP 12.91 15.83 19.72\n",
      "HWRF 10.94 14.86 16.9\n",
      "OFCL 10.22 13.48 9.3\n",
      "FSSE 9.83 12.64 12.39\n",
      "GFSO 19.32 20.45 38.59\n",
      "DSHP 12.96 15.85 20.0\n",
      "Consensus ofcl 10.15 13.0 13.24\n",
      "Consensus Hurr 10.21 13.07 13.52\n",
      "\n",
      "\n"
     ]
    }
   ],
   "source": [
    "d1 = train_xgb_intensity_all_years_full_train_6cast(train = np.concatenate((X_train_embed, X_train_total_comp), axis =1), test = np.concatenate((X_test_embed, X_test_total_comp), axis = 1), tgt_train=tgt_intensity_train, tgt_test = tgt_intensity_test, forecast = 'SHIP', \n",
    "                                                    max_depth = 7, n_estimators = 300, learning_rate = 0.03, subsample = 0.9, min_child_weight=5, \n",
    "                                                    basin = 'EP', forecast2 = 'HWRF', forecast3 = 'OFCL', forecast4 = 'FSSE', forecast5 = 'GFSO', forecast6 = 'DSHP')"
   ]
  },
  {
   "cell_type": "markdown",
   "metadata": {},
   "source": [
    "## Operational forecasts"
   ]
  },
  {
   "cell_type": "code",
   "execution_count": 59,
   "metadata": {},
   "outputs": [
    {
     "name": "stdout",
     "output_type": "stream",
     "text": [
      "Total number of steps for comparison:  315\n",
      "Year 2016 Basin EP MAE intensity | std | busts > 20kn %\n",
      "Hurr full:  9.9 12.97 11.75\n",
      "Hurr until 2012:  9.9 12.97 11.75\n",
      "SHIP 9.87 12.84 10.79\n",
      "HWRF 10.38 13.74 11.75\n",
      "OFCL 8.72 11.89 6.67\n",
      "FSSE 8.51 11.53 8.57\n",
      "GFSO 13.02 16.38 21.27\n",
      "DSHP 9.69 12.58 10.16\n",
      "Consensus ofcl 8.63 11.66 9.21\n",
      "Consensus Hurr 8.55 11.63 8.89\n",
      "\n",
      "\n",
      "Total number of steps for comparison:  167\n",
      "Year 2017 Basin EP MAE intensity | std | busts > 20kn %\n",
      "Hurr full:  8.31 10.87 6.59\n",
      "Hurr until 2012:  8.44 11.44 8.38\n",
      "SHIP 9.97 13.0 10.78\n",
      "HWRF 7.87 11.61 8.38\n",
      "OFCL 8.14 11.67 4.79\n",
      "FSSE 7.92 10.67 4.79\n",
      "GFSO 11.93 16.27 17.96\n",
      "DSHP 9.49 12.71 10.18\n",
      "Consensus ofcl 7.76 10.71 5.39\n",
      "Consensus Hurr 7.44 10.41 5.99\n",
      "\n",
      "\n",
      "Total number of steps for comparison:  355\n",
      "Year 2018 Basin EP MAE intensity | std | busts > 20kn %\n",
      "Hurr full:  10.7 13.71 14.37\n",
      "Hurr until 2012:  11.78 14.87 18.03\n",
      "SHIP 12.91 15.83 19.72\n",
      "HWRF 10.94 14.86 16.9\n",
      "OFCL 10.22 13.48 9.3\n",
      "FSSE 9.83 12.64 12.39\n",
      "GFSO 19.32 20.45 38.59\n",
      "DSHP 12.96 15.85 20.0\n",
      "Consensus ofcl 10.15 13.0 13.24\n",
      "Consensus Hurr 9.96 12.81 12.11\n",
      "\n",
      "\n"
     ]
    }
   ],
   "source": [
    "d1 = train_xgb_intensity_all_years_full_train_6cast(train = X_test_baseline[:m], test = X_test_baseline, tgt_train=tgt_intensity_test[:m], tgt_test = tgt_intensity_test, \n",
    "                                                    forecast = 'SHIP', max_depth = 5, n_estimators = 150, learning_rate = 0.03, subsample = 0.8, min_child_weight=1, basin = 'EP', forecast2 = 'HWRF', forecast3 = 'OFCL', forecast4 = 'FSSE', forecast5 = 'GFSO', forecast6 = 'DSHP')"
   ]
  },
  {
   "cell_type": "code",
   "execution_count": 60,
   "metadata": {},
   "outputs": [
    {
     "name": "stdout",
     "output_type": "stream",
     "text": [
      "Total number of steps for comparison:  315\n",
      "Year 2016 Basin EP MAE intensity | std | busts > 20kn %\n",
      "Hurr full:  9.0 12.32 10.16\n",
      "Hurr until 2012:  9.0 12.32 10.16\n",
      "SHIP 9.87 12.84 10.79\n",
      "HWRF 10.38 13.74 11.75\n",
      "OFCL 8.72 11.89 6.67\n",
      "FSSE 8.51 11.53 8.57\n",
      "GFSO 13.02 16.38 21.27\n",
      "DSHP 9.69 12.58 10.16\n",
      "Consensus ofcl 8.63 11.66 9.21\n",
      "Consensus Hurr 8.5 11.52 8.89\n",
      "\n",
      "\n",
      "Total number of steps for comparison:  167\n",
      "Year 2017 Basin EP MAE intensity | std | busts > 20kn %\n",
      "Hurr full:  8.58 11.13 9.58\n",
      "Hurr until 2012:  8.78 11.72 10.18\n",
      "SHIP 9.97 13.0 10.78\n",
      "HWRF 7.87 11.61 8.38\n",
      "OFCL 8.14 11.67 4.79\n",
      "FSSE 7.92 10.67 4.79\n",
      "GFSO 11.93 16.27 17.96\n",
      "DSHP 9.49 12.71 10.18\n",
      "Consensus ofcl 7.76 10.71 5.39\n",
      "Consensus Hurr 7.49 10.35 4.79\n",
      "\n",
      "\n",
      "Total number of steps for comparison:  355\n",
      "Year 2018 Basin EP MAE intensity | std | busts > 20kn %\n",
      "Hurr full:  10.87 13.96 16.06\n",
      "Hurr until 2012:  11.23 14.28 18.31\n",
      "SHIP 12.91 15.83 19.72\n",
      "HWRF 10.94 14.86 16.9\n",
      "OFCL 10.22 13.48 9.3\n",
      "FSSE 9.83 12.64 12.39\n",
      "GFSO 19.32 20.45 38.59\n",
      "DSHP 12.96 15.85 20.0\n",
      "Consensus ofcl 10.15 13.0 13.24\n",
      "Consensus Hurr 10.0 12.82 12.68\n",
      "\n",
      "\n"
     ]
    }
   ],
   "source": [
    "d1 = train_xgb_intensity_all_years_full_train_6cast(train = np.concatenate((X_test_embed[:m], X_test_baseline[:m]), axis = 1), test = np.concatenate((X_test_embed, X_test_baseline), axis = 1), tgt_train=tgt_intensity_test[:m], tgt_test = tgt_intensity_test, \n",
    "                                                    forecast = 'SHIP', max_depth = 7, n_estimators = 300, learning_rate = 0.03, subsample = 1, min_child_weight=5, basin = 'EP', forecast2 = 'HWRF', forecast3 = 'OFCL', forecast4 = 'FSSE', forecast5 = 'GFSO', forecast6 = 'DSHP')"
   ]
  },
  {
   "cell_type": "code",
   "execution_count": 43,
   "metadata": {},
   "outputs": [
    {
     "name": "stdout",
     "output_type": "stream",
     "text": [
      "Total number of steps for comparison:  315\n",
      "Year 2016 Basin EP MAE intensity | std | busts > 20kn %\n",
      "Hurr full:  9.92 13.16 11.11\n",
      "Hurr until 2012:  9.92 13.16 11.11\n",
      "SHIP 9.87 12.84 10.79\n",
      "HWRF 10.38 13.74 11.75\n",
      "OFCL 8.72 11.89 6.67\n",
      "FSSE 8.51 11.53 8.57\n",
      "GFSO 13.02 16.38 21.27\n",
      "DSHP 9.69 12.58 10.16\n",
      "Consensus ofcl 8.63 11.66 9.21\n",
      "Consensus Hurr 8.54 11.6 8.89\n",
      "\n",
      "\n",
      "Total number of steps for comparison:  167\n",
      "Year 2017 Basin EP MAE intensity | std | busts > 20kn %\n",
      "Hurr full:  8.52 10.99 11.38\n",
      "Hurr until 2012:  9.25 12.11 10.78\n",
      "SHIP 9.97 13.0 10.78\n",
      "HWRF 7.87 11.61 8.38\n",
      "OFCL 8.14 11.67 4.79\n",
      "FSSE 7.92 10.67 4.79\n",
      "GFSO 11.93 16.27 17.96\n",
      "DSHP 9.49 12.71 10.18\n",
      "Consensus ofcl 7.76 10.71 5.39\n",
      "Consensus Hurr 7.45 10.37 5.39\n",
      "\n",
      "\n",
      "Total number of steps for comparison:  355\n",
      "Year 2018 Basin EP MAE intensity | std | busts > 20kn %\n",
      "Hurr full:  11.39 14.7 17.75\n",
      "Hurr until 2012:  11.84 14.97 19.44\n",
      "SHIP 12.91 15.83 19.72\n",
      "HWRF 10.94 14.86 16.9\n",
      "OFCL 10.22 13.48 9.3\n",
      "FSSE 9.83 12.64 12.39\n",
      "GFSO 19.32 20.45 38.59\n",
      "DSHP 12.96 15.85 20.0\n",
      "Consensus ofcl 10.15 13.0 13.24\n",
      "Consensus Hurr 9.96 12.85 12.39\n",
      "\n",
      "\n"
     ]
    }
   ],
   "source": [
    "d1 = train_xgb_intensity_all_years_full_train_6cast(train = np.concatenate((x_viz_test[:m], X_test_baseline[:m]), axis = 1), test = np.concatenate((x_viz_test, X_test_baseline), axis = 1), tgt_train=tgt_intensity_test[:m], tgt_test = tgt_intensity_test, \n",
    "                                                    forecast = 'SHIP', max_depth = 8, n_estimators = 300, learning_rate = 0.03, subsample = 0.9, min_child_weight=5, basin = 'EP', forecast2 = 'HWRF', forecast3 = 'OFCL', forecast4 = 'FSSE', forecast5 = 'GFSO', forecast6 = 'DSHP')"
   ]
  },
  {
   "cell_type": "markdown",
   "metadata": {},
   "source": [
    "# SVR"
   ]
  },
  {
   "cell_type": "code",
   "execution_count": 49,
   "metadata": {},
   "outputs": [],
   "source": [
    "from sklearn.svm import SVR"
   ]
  },
  {
   "cell_type": "code",
   "execution_count": 51,
   "metadata": {},
   "outputs": [
    {
     "data": {
      "text/plain": [
       "SVR(C=1.0, cache_size=200, coef0=0.0, degree=3, epsilon=0.1,\n",
       "  gamma='auto_deprecated', kernel='rbf', max_iter=-1, shrinking=True,\n",
       "  tol=0.001, verbose=False)"
      ]
     },
     "execution_count": 51,
     "metadata": {},
     "output_type": "execute_result"
    }
   ],
   "source": [
    "s = SVR()\n",
    "s.fit(X_test[:m], tgt_intensity_test[:m])"
   ]
  },
  {
   "cell_type": "code",
   "execution_count": 52,
   "metadata": {},
   "outputs": [
    {
     "data": {
      "text/plain": [
       "array([-0.08784974, -0.08784974, -0.08784974, ..., -0.08784974,\n",
       "       -0.08784974, -0.08784974])"
      ]
     },
     "execution_count": 52,
     "metadata": {},
     "output_type": "execute_result"
    }
   ],
   "source": [
    "s.predict(X_test[m:])"
   ]
  }
 ],
 "metadata": {
  "kernelspec": {
   "display_name": "Python 3",
   "language": "python",
   "name": "python3"
  },
  "language_info": {
   "codemirror_mode": {
    "name": "ipython",
    "version": 3
   },
   "file_extension": ".py",
   "mimetype": "text/x-python",
   "name": "python",
   "nbconvert_exporter": "python",
   "pygments_lexer": "ipython3",
   "version": "3.6.9"
  },
  "latex_envs": {
   "LaTeX_envs_menu_present": true,
   "autoclose": false,
   "autocomplete": true,
   "bibliofile": "biblio.bib",
   "cite_by": "apalike",
   "current_citInitial": 1,
   "eqLabelWithNumbers": true,
   "eqNumInitial": 1,
   "hotkeys": {
    "equation": "Ctrl-E",
    "itemize": "Ctrl-I"
   },
   "labels_anchors": false,
   "latex_user_defs": false,
   "report_style_numbering": false,
   "user_envs_cfg": false
  },
  "toc": {
   "base_numbering": 1,
   "nav_menu": {},
   "number_sections": true,
   "sideBar": true,
   "skip_h1_title": false,
   "title_cell": "Table of Contents",
   "title_sidebar": "Contents",
   "toc_cell": false,
   "toc_position": {},
   "toc_section_display": true,
   "toc_window_display": false
  },
  "varInspector": {
   "cols": {
    "lenName": 16,
    "lenType": 16,
    "lenVar": 40
   },
   "kernels_config": {
    "python": {
     "delete_cmd_postfix": "",
     "delete_cmd_prefix": "del ",
     "library": "var_list.py",
     "varRefreshCmd": "print(var_dic_list())"
    },
    "r": {
     "delete_cmd_postfix": ") ",
     "delete_cmd_prefix": "rm(",
     "library": "var_list.r",
     "varRefreshCmd": "cat(var_dic_list()) "
    }
   },
   "types_to_exclude": [
    "module",
    "function",
    "builtin_function_or_method",
    "instance",
    "_Feature"
   ],
   "window_display": false
  }
 },
 "nbformat": 4,
 "nbformat_minor": 2
}
