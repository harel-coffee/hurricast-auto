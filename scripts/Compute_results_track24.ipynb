{
 "cells": [
  {
   "cell_type": "code",
   "execution_count": 1,
   "metadata": {},
   "outputs": [
    {
     "name": "stderr",
     "output_type": "stream",
     "text": [
      "/state/partition1/llgrid/pkg/anaconda/anaconda3-2020a/lib/python3.6/site-packages/dask/config.py:168: YAMLLoadWarning: calling yaml.load() without Loader=... is deprecated, as the default Loader is unsafe. Please read https://msg.pyyaml.org/load for full details.\n",
      "  data = yaml.load(f.read()) or {}\n",
      "/state/partition1/llgrid/pkg/anaconda/anaconda3-2020a/lib/python3.6/site-packages/distributed/config.py:20: YAMLLoadWarning: calling yaml.load() without Loader=... is deprecated, as the default Loader is unsafe. Please read https://msg.pyyaml.org/load for full details.\n",
      "  defaults = yaml.load(f)\n",
      "/state/partition1/llgrid/pkg/anaconda/anaconda3-2020a/lib/python3.6/site-packages/distributed/utils.py:134: RuntimeWarning: Couldn't detect a suitable IP address for reaching '8.8.8.8', defaulting to '127.0.0.1': [Errno 101] Network is unreachable\n",
      "  % (host, default, e), RuntimeWarning)\n"
     ]
    }
   ],
   "source": [
    "import sys\n",
    "sys.path.append(\"../\")\n",
    "from src import prepro, metrics, run, setup\n",
    "import src.models.factory as model_factory\n",
    "import config\n",
    "import torch\n",
    "\n",
    "import numpy as np\n",
    "from src.utils import models\n",
    "import os.path as osp\n",
    "import pandas as pd\n",
    "\n",
    "from xgboost import XGBClassifier\n",
    "from xgboost import XGBRegressor\n",
    "from sklearn.metrics import accuracy_score\n",
    "from sklearn.metrics import mean_absolute_error\n",
    "from src.utils.data_processing import *\n",
    "\n",
    "from sklearn.linear_model import Lasso\n",
    "from sklearn.preprocessing import StandardScaler\n",
    "import matplotlib.pyplot as plt\n",
    "\n",
    "\n",
    "\n",
    "window_size = 8\n",
    "predict_at = 8\n",
    "full = False\n",
    "\n",
    "tgt_intensity_cat_train = torch.LongTensor(np.load('../data/y_train_intensity_cat_1980_34_20_120_w' + str(window_size) + '_at_' + str(predict_at) + '.npy',\n",
    "                                      allow_pickle=True))\n",
    "tgt_intensity_cat_test = torch.LongTensor(np.load('../data/y_test_intensity_cat_1980_34_20_120_w' + str(window_size) + '_at_' + str(predict_at) + '.npy',\n",
    "                                     allow_pickle=True))\n",
    "\n",
    "tgt_intensity_train = torch.Tensor(np.load('../data/y_train_intensity_1980_34_20_120_w' + str(window_size) + '_at_' + str(predict_at) + '.npy',\n",
    "                                  allow_pickle=True))\n",
    "tgt_intensity_test = torch.Tensor(np.load('../data/y_test_intensity_1980_34_20_120_w' + str(window_size) + '_at_' + str(predict_at) + '.npy',\n",
    "                                 allow_pickle=True))\n",
    "\n",
    "tgt_intensity_cat_baseline_train = torch.LongTensor(np.load('../data/y_train_intensity_cat_baseline_1980_34_20_120_w' + str(window_size) + '_at_' + str(predict_at) + '.npy',  allow_pickle = True))\n",
    "tgt_intensity_cat_baseline_test = torch.LongTensor(np.load('../data/y_test_intensity_cat_baseline_1980_34_20_120_w' + str(window_size) + '_at_' + str(predict_at) + '.npy', allow_pickle=True))\n",
    "\n",
    "tgt_displacement_train = torch.Tensor(np.load('../data/y_train_displacement_1980_34_20_120_w' + str(window_size) + '_at_' + str(predict_at) + '.npy',\n",
    "                                     allow_pickle=True))\n",
    "tgt_displacement_test = torch.Tensor(np.load('../data/y_test_displacement_1980_34_20_120_w' + str(window_size) + '_at_' + str(predict_at) + '.npy',\n",
    "                                    allow_pickle=True))\n",
    "\n",
    "tgt_displacement_train_unst = torch.Tensor(np.load('../data/y_train_displacement_1980_34_20_120_w' + str(window_size) + '_at_' + str(predict_at) + '.npy',\n",
    "                                     allow_pickle=True))\n",
    "tgt_displacement_test_unst = torch.Tensor(np.load('../data/y_test_displacement_1980_34_20_120_w' + str(window_size) + '_at_' + str(predict_at) + '.npy',\n",
    "                                    allow_pickle=True))"
   ]
  },
  {
   "cell_type": "code",
   "execution_count": 2,
   "metadata": {},
   "outputs": [],
   "source": [
    "X_test_baseline = pd.DataFrame(np.load('../data/X_test_stat_1980_34_20_120_forecast_24_2012_v2_w' + str(window_size) + '_at_' + str(predict_at) + '.npy', allow_pickle=True))\n",
    "#X_test_baseline = pd.DataFrame(np.load('../data/X_test_stat_1980_34_20_120_forecast_48_2012_v2_w' + str(window_size) + '_at_' + str(predict_at) + '.npy', allow_pickle=True))\n",
    "\n",
    "\n",
    "names_baselines = ['YEAR', 'MONTH', 'DAY', 'HOUR', 'LAT', 'LON', 'WMO_WIND', 'WMO_PRES', 'DIST2LAND', 'STORM_SPEED', 'cos_day', 'sin_day', 'COS_STORM_DIR', 'SIN_STORM_DIR', 'COS_LAT', 'SIN_LAT', 'COS_LON', 'SIN_LON', 'wind_category', 'GFDL_24_lat', 'GFDL_24_lon', 'GFDL_24_vmax', 'GFDL_24_mslp', 'GFDL_24_COS_LAT', 'GFDL_24_SIN_LAT', 'GFDL_24_COS_LON', 'GFDL_24_SIN_LON', 'CMC_24_lat', 'CMC_24_lon', 'CMC_24_vmax', 'CMC_24_mslp', 'CMC_24_COS_LAT', 'CMC_24_SIN_LAT', 'CMC_24_COS_LON', 'CMC_24_SIN_LON', 'FSSE_24_lat', 'FSSE_24_lon', 'FSSE_24_vmax', 'FSSE_24_mslp', 'FSSE_24_COS_LAT', 'FSSE_24_SIN_LAT', 'FSSE_24_COS_LON', 'FSSE_24_SIN_LON', 'OFCL_24_lat', 'OFCL_24_lon', 'OFCL_24_vmax', 'OFCL_24_mslp', 'OFCL_24_COS_LAT', 'OFCL_24_SIN_LAT', 'OFCL_24_COS_LON', 'OFCL_24_SIN_LON', 'NGPS_24_lat', 'NGPS_24_lon', 'NGPS_24_vmax', 'NGPS_24_mslp', 'NGPS_24_COS_LAT', 'NGPS_24_SIN_LAT', 'NGPS_24_COS_LON', 'NGPS_24_SIN_LON', 'DSHP_24_lat', 'DSHP_24_lon', 'DSHP_24_vmax', 'DSHP_24_mslp', 'DSHP_24_COS_LAT', 'DSHP_24_SIN_LAT', 'DSHP_24_COS_LON', 'DSHP_24_SIN_LON', 'SHIP_24_lat', 'SHIP_24_lon', 'SHIP_24_vmax', 'SHIP_24_mslp', 'SHIP_24_COS_LAT', 'SHIP_24_SIN_LAT', 'SHIP_24_COS_LON', 'SHIP_24_SIN_LON', 'CLP5_24_lat', 'CLP5_24_lon', 'CLP5_24_vmax', 'CLP5_24_mslp', 'CLP5_24_COS_LAT', 'CLP5_24_SIN_LAT', 'CLP5_24_COS_LON', 'CLP5_24_SIN_LON', 'HWRF_24_lat', 'HWRF_24_lon', 'HWRF_24_vmax', 'HWRF_24_mslp', 'HWRF_24_COS_LAT', 'HWRF_24_SIN_LAT', 'HWRF_24_COS_LON', 'HWRF_24_SIN_LON', 'UKXI_24_lat', 'UKXI_24_lon', 'UKXI_24_vmax', 'UKXI_24_mslp', 'UKXI_24_COS_LAT', 'UKXI_24_SIN_LAT', 'UKXI_24_COS_LON', 'UKXI_24_SIN_LON', 'LBAR_24_lat', 'LBAR_24_lon', 'LBAR_24_vmax', 'LBAR_24_mslp', 'LBAR_24_COS_LAT', 'LBAR_24_SIN_LAT', 'LBAR_24_COS_LON', 'LBAR_24_SIN_LON', 'AEMN_24_lat', 'AEMN_24_lon', 'AEMN_24_vmax', 'AEMN_24_mslp', 'AEMN_24_COS_LAT', 'AEMN_24_SIN_LAT', 'AEMN_24_COS_LON', 'AEMN_24_SIN_LON', 'DISPLACEMENT_LAT_CLP5_24', 'DISPLACEMENT_LON_CLP5_24', 'DISPLACEMENT_LAT_SHIP_24', 'DISPLACEMENT_LON_SHIP_24', 'DISPLACEMENT_LAT_DSHP_24', 'DISPLACEMENT_LON_DSHP_24', 'DISPLACEMENT_LAT_LBAR_24', 'DISPLACEMENT_LON_LBAR_24', 'DISPLACEMENT_LAT_CMC_24', 'DISPLACEMENT_LON_CMC_24', 'DISPLACEMENT_LAT_NGPS_24', 'DISPLACEMENT_LON_NGPS_24', 'DISPLACEMENT_LAT_GFDL_24', 'DISPLACEMENT_LON_GFDL_24', 'DISPLACEMENT_LAT_HWRF_24', 'DISPLACEMENT_LON_HWRF_24', 'DISPLACEMENT_LAT_UKXI_24', 'DISPLACEMENT_LON_UKXI_24', 'DISPLACEMENT_LAT_FSSE_24', 'DISPLACEMENT_LON_FSSE_24', 'DISPLACEMENT_LAT_AEMN_24', 'DISPLACEMENT_LON_AEMN_24', 'DISPLACEMENT_LAT_OFCL_24', 'DISPLACEMENT_LON_OFCL_24', 'EMXI_24_lat', 'EMXI_24_lon', 'EMXI_24_vmax', 'EMXI_24_mslp', 'EMXI_24_COS_LAT', 'EMXI_24_SIN_LAT', 'EMXI_24_COS_LON', 'EMXI_24_SIN_LON', 'DISPLACEMENT_LAT_EMXI_24', 'DISPLACEMENT_LON_EMXI_24', 'GFSO_24_lat', 'GFSO_24_lon', 'GFSO_24_vmax', 'GFSO_24_mslp', 'GFSO_24_COS_LAT', 'GFSO_24_SIN_LAT', 'GFSO_24_COS_LON', 'GFSO_24_SIN_LON', 'DISPLACEMENT_LAT_GFSO_24', 'DISPLACEMENT_LON_GFSO_24', 'cat_basin_AN', 'cat_basin_EP', 'basin_NI', 'basin_SI', 'basin_SP', 'basin_WP', 'DISPLACEMENT_LAT', 'DISPLACEMENT_LON']\n",
    "#names_baselines = ['YEAR', 'MONTH', 'DAY', 'HOUR', 'LAT', 'LON', 'WMO_WIND', 'WMO_PRES', 'DIST2LAND', 'STORM_SPEED', 'cos_day', 'sin_day', 'COS_STORM_DIR', 'SIN_STORM_DIR', 'COS_LAT', 'SIN_LAT', 'COS_LON', 'SIN_LON', 'wind_category', 'DSHP_24_lat', 'DSHP_24_lon', 'DSHP_24_vmax', 'DSHP_24_mslp', 'DSHP_24_COS_LAT', 'DSHP_24_SIN_LAT', 'DSHP_24_COS_LON', 'DSHP_24_SIN_LON', 'OFCL_24_lat', 'OFCL_24_lon', 'OFCL_24_vmax', 'OFCL_24_mslp', 'OFCL_24_COS_LAT', 'OFCL_24_SIN_LAT', 'OFCL_24_COS_LON', 'OFCL_24_SIN_LON', 'UKXI_24_lat', 'UKXI_24_lon', 'UKXI_24_vmax', 'UKXI_24_mslp', 'UKXI_24_COS_LAT', 'UKXI_24_SIN_LAT', 'UKXI_24_COS_LON', 'UKXI_24_SIN_LON', 'CMC_24_lat', 'CMC_24_lon', 'CMC_24_vmax', 'CMC_24_mslp', 'CMC_24_COS_LAT', 'CMC_24_SIN_LAT', 'CMC_24_COS_LON', 'CMC_24_SIN_LON', 'SHIP_24_lat', 'SHIP_24_lon', 'SHIP_24_vmax', 'SHIP_24_mslp', 'SHIP_24_COS_LAT', 'SHIP_24_SIN_LAT', 'SHIP_24_COS_LON', 'SHIP_24_SIN_LON', 'FSSE_24_lat', 'FSSE_24_lon', 'FSSE_24_vmax', 'FSSE_24_mslp', 'FSSE_24_COS_LAT', 'FSSE_24_SIN_LAT', 'FSSE_24_COS_LON', 'FSSE_24_SIN_LON', 'CLP5_24_lat', 'CLP5_24_lon', 'CLP5_24_vmax', 'CLP5_24_mslp', 'CLP5_24_COS_LAT', 'CLP5_24_SIN_LAT', 'CLP5_24_COS_LON', 'CLP5_24_SIN_LON', 'AEMN_24_lat', 'AEMN_24_lon', 'AEMN_24_vmax', 'AEMN_24_mslp', 'AEMN_24_COS_LAT', 'AEMN_24_SIN_LAT', 'AEMN_24_COS_LON', 'AEMN_24_SIN_LON', 'LBAR_24_lat', 'LBAR_24_lon', 'LBAR_24_vmax', 'LBAR_24_mslp', 'LBAR_24_COS_LAT', 'LBAR_24_SIN_LAT', 'LBAR_24_COS_LON', 'LBAR_24_SIN_LON', 'GFDL_24_lat', 'GFDL_24_lon', 'GFDL_24_vmax', 'GFDL_24_mslp', 'GFDL_24_COS_LAT', 'GFDL_24_SIN_LAT', 'GFDL_24_COS_LON', 'GFDL_24_SIN_LON', 'HWRF_24_lat', 'HWRF_24_lon', 'HWRF_24_vmax', 'HWRF_24_mslp', 'HWRF_24_COS_LAT', 'HWRF_24_SIN_LAT', 'HWRF_24_COS_LON', 'HWRF_24_SIN_LON', 'NGPS_24_lat', 'NGPS_24_lon', 'NGPS_24_vmax', 'NGPS_24_mslp', 'NGPS_24_COS_LAT', 'NGPS_24_SIN_LAT', 'NGPS_24_COS_LON', 'NGPS_24_SIN_LON', 'DISPLACEMENT_LAT_CLP5_24', 'DISPLACEMENT_LON_CLP5_24', 'DISPLACEMENT_LAT_SHIP_24', 'DISPLACEMENT_LON_SHIP_24', 'DISPLACEMENT_LAT_DSHP_24', 'DISPLACEMENT_LON_DSHP_24', 'DISPLACEMENT_LAT_LBAR_24', 'DISPLACEMENT_LON_LBAR_24', 'DISPLACEMENT_LAT_CMC_24', 'DISPLACEMENT_LON_CMC_24', 'DISPLACEMENT_LAT_NGPS_24', 'DISPLACEMENT_LON_NGPS_24', 'DISPLACEMENT_LAT_GFDL_24', 'DISPLACEMENT_LON_GFDL_24', 'DISPLACEMENT_LAT_HWRF_24', 'DISPLACEMENT_LON_HWRF_24', 'DISPLACEMENT_LAT_UKXI_24', 'DISPLACEMENT_LON_UKXI_24', 'DISPLACEMENT_LAT_FSSE_24', 'DISPLACEMENT_LON_FSSE_24', 'DISPLACEMENT_LAT_AEMN_24', 'DISPLACEMENT_LON_AEMN_24', 'DISPLACEMENT_LAT_OFCL_24', 'DISPLACEMENT_LON_OFCL_24', 'EMXI_24_lat', 'EMXI_24_lon', 'EMXI_24_vmax', 'EMXI_24_mslp', 'EMXI_24_COS_LAT', 'EMXI_24_SIN_LAT', 'EMXI_24_COS_LON', 'EMXI_24_SIN_LON', 'DISPLACEMENT_LAT_EMXI_24', 'DISPLACEMENT_LON_EMXI_24', 'GFSO_24_lat', 'GFSO_24_lon', 'GFSO_24_vmax', 'GFSO_24_mslp', 'GFSO_24_COS_LAT', 'GFSO_24_SIN_LAT', 'GFSO_24_COS_LON', 'GFSO_24_SIN_LON', 'DISPLACEMENT_LAT_GFSO_24', 'DISPLACEMENT_LON_GFSO_24', 'cat_basin_AN', 'cat_basin_EP', 'basin_NI', 'basin_SI', 'basin_SP', 'basin_WP', 'DISPLACEMENT_LAT', 'DISPLACEMENT_LON']\n",
    "names_all_baselines = names_baselines * 8#args.window_size\n",
    "\n",
    "for i in range(len(names_all_baselines)):\n",
    "    names_all_baselines[i] += '_' + str(i // 167)\n",
    "\n",
    "X_test_baseline.columns = names_all_baselines"
   ]
  },
  {
   "cell_type": "code",
   "execution_count": 54,
   "metadata": {},
   "outputs": [],
   "source": [
    "year = 2017\n",
    "forecast='SHIP'\n",
    "forecast2 = 'HWRF'\n",
    "forecast3 = 'OFCL'\n",
    "forecast4 = 'FSSE'\n",
    "forecast5 = 'GFSO'\n",
    "forecast6 = 'AEMN'\n",
    "forecast7 = 'CLP5'\n",
    "mode = 'lat'\n",
    "basin = 'AN'\n",
    "\n",
    "baseline_ = X_test_baseline.loc[X_test_baseline['YEAR_0'] >= year].loc[X_test_baseline['YEAR_0'] < 2020].loc[\n",
    "            X_test_baseline[forecast7 + '_24_' + mode + '_7'] > -320].loc[\n",
    "            X_test_baseline[forecast6 + '_24_' + mode + '_7'] > -320].loc[\n",
    "            X_test_baseline[forecast5 + '_24_' + mode + '_7'] > -320].loc[\n",
    "            X_test_baseline[forecast4 + '_24_' + mode + '_7'] > -320].loc[\n",
    "            X_test_baseline[forecast3 + '_24_' + mode + '_7'] > -320].loc[\n",
    "            X_test_baseline[forecast2 + '_24_' + mode + '_7'] > -320].loc[\n",
    "            X_test_baseline[forecast + '_24_' + mode + '_7'] > -320].loc[X_test_baseline['cat_basin_' + basin + '_0'] == 1]"
   ]
  },
  {
   "cell_type": "code",
   "execution_count": 61,
   "metadata": {},
   "outputs": [
    {
     "data": {
      "text/plain": [
       "17756    27.400000\n",
       "17758    28.000000\n",
       "17760    29.200001\n",
       "17762    30.000000\n",
       "17764    31.299999\n",
       "           ...    \n",
       "25149    31.700001\n",
       "25151    33.900002\n",
       "25153    36.099998\n",
       "25159    43.799999\n",
       "25161    46.200001\n",
       "Name: DSHP_24_lat_7, Length: 669, dtype: float32"
      ]
     },
     "execution_count": 61,
     "metadata": {},
     "output_type": "execute_result"
    }
   ],
   "source": [
    "baseline_.loc[baseline_['DSHP' + '_24_' + mode + '_7'] > -320]['DSHP_24_lat_7']"
   ]
  },
  {
   "cell_type": "code",
   "execution_count": 62,
   "metadata": {},
   "outputs": [
    {
     "data": {
      "text/plain": [
       "17756    27.400000\n",
       "17758    28.000000\n",
       "17760    29.200001\n",
       "17762    30.000000\n",
       "17764    31.299999\n",
       "           ...    \n",
       "25149    31.700001\n",
       "25151    33.900002\n",
       "25153    36.099998\n",
       "25159    43.799999\n",
       "25161    46.200001\n",
       "Name: SHIP_24_lat_7, Length: 669, dtype: float32"
      ]
     },
     "execution_count": 62,
     "metadata": {},
     "output_type": "execute_result"
    }
   ],
   "source": [
    "baseline_.loc[baseline_['DSHP' + '_24_' + mode + '_7'] > -320]['SHIP_24_lat_7']"
   ]
  },
  {
   "cell_type": "code",
   "execution_count": 98,
   "metadata": {},
   "outputs": [],
   "source": [
    "########## PREPARING DATA FOR XGB\n",
    "\n",
    "X_train = np.load('../data/X_train_stat_1980_34_20_120_w' + str(window_size) + '_at_' + str(predict_at) + '.npy',\n",
    "            allow_pickle=True)\n",
    "X_test = np.load('../data/X_test_stat_1980_34_20_120_w' + str(window_size) + '_at_' + str(predict_at) + '.npy',\n",
    "            allow_pickle=True)\n",
    "\n",
    "names = ['LAT', 'LON', 'WMO_WIND', 'WMO_PRES', 'DIST2LAND',\n",
    "         'STORM_SPEED', 'cat_cos_day', 'cat_sign_day', 'COS_STORM_DIR', 'SIN_STORM_DIR',\n",
    "         'COS_LAT', 'SIN_LAT', 'COS_LON', 'SIN_LON', 'cat_storm_category', 'cat_basin_AN',\n",
    "         'cat_basin_EP', 'cat_basin_NI', 'cat_basin_SA',\n",
    "         'cat_basin_SI', 'cat_basin_SP', 'cat_basin_WP', 'cat_nature_DS', 'cat_nature_ET',\n",
    "         'cat_nature_MX', 'cat_nature_NR', 'cat_nature_SS', 'cat_nature_TS',\n",
    "         'STORM_DISPLACEMENT_X', 'STORM_DISPLACEMENT_Y']\n",
    "\n",
    "names_all = names * window_size\n",
    "\n",
    "for i in range(len(names_all)):\n",
    "    names_all[i] += '_' + str(i // 30)\n",
    "\n",
    "X_train = pd.DataFrame(X_train)\n",
    "X_test = pd.DataFrame(X_test)\n",
    "X_train.columns = names_all\n",
    "X_test.columns = names_all\n",
    "\n",
    "cols = [c for c in X_train.columns if c.lower()[-2:] == '_0' or c.lower()[:3] != 'cat']\n",
    "\n",
    "X_train = X_train[cols]\n",
    "X_test = X_test[cols]"
   ]
  },
  {
   "cell_type": "code",
   "execution_count": 56,
   "metadata": {},
   "outputs": [],
   "source": [
    "X_train_embed = np.load('../data/embeddings/X_train_embeds_1980_34_20_120_results8_16_20_44_28.npy', allow_pickle = True)\n",
    "X_test_embed = np.load('../data/embeddings/X_test_embeds_1980_34_20_120_results8_16_20_44_28.npy', allow_pickle = True)\n",
    "#X_train_embed = np.load('../data/embeddings/X_train_embed_1980_34_20_120_intensity.npy', allow_pickle = True)\n",
    "#X_test_embed = np.load('../data/embeddings/X_test_embed_1980_34_20_120_intensity.npy', allow_pickle = True)\n",
    "\n",
    "#48\n",
    "#X_train_embed = np.load('../data/embeddings/X_train_embed_1980_34_20_120_intensity_48.npy', allow_pickle = True)\n",
    "#X_test_embed = np.load('../data/embeddings/X_test_embed_1980_34_20_120_intensity_48.npy', allow_pickle = True)\n",
    "\n",
    "#X_train_embed = np.load('../data/embeddings/X_train_embed_1980_34_20_120_track_48.npy', allow_pickle = True)\n",
    "#X_test_embed = np.load('../data/embeddings/X_test_embed_1980_34_20_120_track_48.npy', allow_pickle = True)\n",
    "\n",
    "X_train_total = np.concatenate((X_train, X_train_embed), axis = 1)\n",
    "X_test_total = np.concatenate((X_test, X_test_embed), axis = 1)"
   ]
  },
  {
   "cell_type": "code",
   "execution_count": 5,
   "metadata": {},
   "outputs": [],
   "source": [
    "n = X_test_baseline.shape[0]\n",
    "X_test_total = X_test_total[-n:]\n",
    "#tgt_intensity_test = tgt_intensity_test[-n:]\n",
    "X_test = X_test[-n:]\n",
    "X_test_embed = X_test_embed[-n:]\n",
    "tgt_displacement_test = tgt_displacement_test[-n:]\n",
    "m = 17094\n",
    "\n",
    "if full:\n",
    "    tgt_displacement_train = np.concatenate((tgt_displacement_train, tgt_displacement_test[:m]), axis = 0)\n",
    "    X_train = pd.concat((X_train, X_test[:m]), axis = 0)\n",
    "    X_train_embed = np.concatenate((X_train_embed, X_test_embed[:m]), axis = 0)\n",
    "    X_train_total = np.concatenate((X_train_total, X_test_total[:m]), axis = 0)"
   ]
  },
  {
   "cell_type": "code",
   "execution_count": 99,
   "metadata": {},
   "outputs": [],
   "source": [
    "n = X_test_baseline.shape[0]\n",
    "X_test_total = X_test_total[-n:]\n",
    "tgt_displacement_test = tgt_displacement_test[-n:]\n",
    "X_test = X_test[-n:]\n",
    "X_test_embed = X_test_embed[-n:]\n",
    "m = len(X_test_baseline[X_test_baseline['YEAR_0'] < 2016])\n",
    "x_viz_train = np.load('../data/X_train_vision_comp_1980_34_20_120.npy', allow_pickle=True).reshape(-1, 3*5*3*3)\n",
    "x_viz_test = np.load('../data/X_test_vision_comp_1980_34_20_120.npy', allow_pickle=True).reshape(-1, 3*5*3*3)[-n:]\n",
    "\n",
    "if full:\n",
    "    tgt_displacement_train = np.concatenate((tgt_displacement_train, tgt_displacement_test[:m]), axis = 0)\n",
    "    X_train = pd.concat((X_train, X_test[:m]), axis = 0)\n",
    "    X_train_embed = np.concatenate((X_train_embed, X_test_embed[:m]), axis = 0)\n",
    "    X_train_total = np.concatenate((X_train_total, X_test_total[:m]), axis = 0)\n",
    "    x_viz_train = np.concatenate((x_viz_train, x_viz_test[:m]), axis = 0)\n",
    "    \n",
    "X_train_total_comp = np.concatenate((X_train, x_viz_train), axis = 1)\n",
    "X_test_total_comp = np.concatenate((X_test, x_viz_test), axis = 1)"
   ]
  },
  {
   "cell_type": "code",
   "execution_count": 100,
   "metadata": {},
   "outputs": [],
   "source": [
    "###TRACK\n",
    "mean_dx = tgt_displacement_train[:,0].mean()\n",
    "std_dx = tgt_displacement_train[:,0].std()\n",
    "tgt_displacement_train[:,0] = (tgt_displacement_train[:,0] - mean_dx)/std_dx\n",
    "tgt_displacement_test[:,0] = (tgt_displacement_test[:,0] - mean_dx)/std_dx\n",
    "std_dx = float(std_dx)\n",
    "mean_dx = float(mean_dx)\n",
    "\n",
    "mean_dy = tgt_displacement_train[:,1].mean()\n",
    "std_dy = tgt_displacement_train[:,1].std()\n",
    "tgt_displacement_train[:,1] = (tgt_displacement_train[:,1] - mean_dy)/std_dy\n",
    "tgt_displacement_test[:,1] = (tgt_displacement_test[:,1] - mean_dy)/std_dy\n",
    "std_dy = float(std_dy)\n",
    "mean_dy = float(mean_dy)"
   ]
  },
  {
   "cell_type": "code",
   "execution_count": 417,
   "metadata": {},
   "outputs": [],
   "source": [
    "index = X_train[np.round(X_train['WMO_WIND_7']*1000%10, decimals = 2) == 0].index"
   ]
  },
  {
   "cell_type": "code",
   "execution_count": 418,
   "metadata": {},
   "outputs": [],
   "source": [
    "X_train = X_train[np.round(X_train['WMO_WIND_7']*1000%10, decimals = 2) == 0].reset_index()"
   ]
  },
  {
   "cell_type": "code",
   "execution_count": 419,
   "metadata": {},
   "outputs": [],
   "source": [
    "X_train_total = X_train_total[index]\n",
    "tgt_displacement_train = tgt_displacement_train[index]\n",
    "X_train_embed = X_train_embed[index]"
   ]
  },
  {
   "cell_type": "code",
   "execution_count": 32,
   "metadata": {},
   "outputs": [
    {
     "data": {
      "text/plain": [
       "(26800, 740)"
      ]
     },
     "execution_count": 32,
     "metadata": {},
     "output_type": "execute_result"
    }
   ],
   "source": [
    "EP:\n",
    "We beat: SHIP, HWRF, GFSO, AEMN, DSHP, (GFDL, UKXI, CMC)\n",
    "We lose: OFCL, FSSE\n",
    "\n",
    "AN:\n",
    "We beat: SHIP, HWRF, GFSO, AEMN, GFDL, DSHP, (UKXI, CMC) \n",
    "We lose: HWRF, OFCL, FSSE"
   ]
  },
  {
   "cell_type": "code",
   "execution_count": 7,
   "metadata": {},
   "outputs": [],
   "source": [
    "def train_xgb_track(basin_only = False, sparse = False, max_depth = 8, n_estimators = 140, learning_rate = 0.15, subsample = 0.7, min_child_weight=5, basin = 'AN', forecast = 'SHIP', forecast2 = None):\n",
    "    train_x = X_train_total\n",
    "    train_y = X_train_total\n",
    "    test_x = X_test_total\n",
    "    test_y = X_test_total\n",
    "    tgt_train = tgt_displacement_train\n",
    "    if sparse:\n",
    "        train_x, train_y = X_train_total_sparse_x, X_train_total_sparse_y\n",
    "        test_x, test_y = X_test_total_sparse_x, X_test_total_sparse_y\n",
    "    if basin_only:\n",
    "        train_x = X_train_total[X_train['cat_basin_'+basin+'_0'] == 1]\n",
    "        train_y = train_x\n",
    "        tgt_train = tgt_displacement_train[X_train['cat_basin_'+basin+'_0'] == 1]\n",
    "    xgb_x = XGBRegressor(max_depth=max_depth, n_estimators=n_estimators, learning_rate=learning_rate, subsample=subsample, min_child_weight=min_child_weight)\n",
    "    xgb_x.fit(train_x, tgt_train[:, 0])\n",
    "    xgb_y = XGBRegressor(max_depth=max_depth, n_estimators=n_estimators, learning_rate=learning_rate, subsample=subsample, min_child_weight=min_child_weight)\n",
    "    xgb_y.fit(train_y, tgt_train[:, 1])\n",
    "    DLATS_PRED = np.array(xgb_x.predict(test_x)) * std_dx + mean_dx\n",
    "    DLONS_PRED = np.array(xgb_y.predict(test_y)) * std_dy + mean_dy\n",
    "    LATS_PRED_ = X_test['LAT_7'] + DLATS_PRED\n",
    "    LONS_PRED_ = X_test['LON_7'] + DLONS_PRED\n",
    "    compare_perf_track(basin=basin, forecast=forecast, forecast2 = forecast2, LATS_PRED_=LATS_PRED_, LONS_PRED_=LONS_PRED_)\n",
    "\n",
    "def train_xgb_track_all_years(use_forecast = False, basin_only = False, sparse = False, max_depth = 8, n_estimators = 140, learning_rate = 0.15, subsample = 0.7, min_child_weight=5, basin = 'AN', forecast = 'SHIP', forecast2 = None):\n",
    "    train_x = X_train_total\n",
    "    train_y = X_train_total\n",
    "    test_x = X_test_total\n",
    "    test_y = X_test_total\n",
    "    tgt_train = tgt_displacement_train\n",
    "    if sparse:\n",
    "        train_x, train_y = X_train_total_sparse_x, X_train_total_sparse_y\n",
    "        test_x, test_y = X_test_total_sparse_x, X_test_total_sparse_y\n",
    "    if basin_only:\n",
    "        train_x = X_train_total[X_train['cat_basin_'+basin+'_0'] == 1]\n",
    "        train_y = train_x\n",
    "        tgt_train = tgt_displacement_train[X_train['cat_basin_'+basin+'_0'] == 1]\n",
    "    if use_forecast:\n",
    "        train_for = X_train_forecasts\n",
    "        tgt_train_for = tgt_train_dis_forecasts\n",
    "        test_for = X_test_forecasts\n",
    "        xgb_x = XGBRegressor(max_depth=max_depth, n_estimators=n_estimators, learning_rate=learning_rate, subsample=subsample, min_child_weight=min_child_weight)\n",
    "        xgb_x.fit(train_for, tgt_train_for[:, 0])\n",
    "        xgb_y = XGBRegressor(max_depth=max_depth, n_estimators=n_estimators, learning_rate=learning_rate, subsample=subsample, min_child_weight=min_child_weight)\n",
    "        xgb_y.fit(train_for, tgt_train_for[:, 1])\n",
    "        DLATS_PRED = np.array(xgb_x.predict(X_new)) * std_dx + mean_dx\n",
    "        DLONS_PRED = np.array(xgb_y.predict(X_new)) * std_dy + mean_dy\n",
    "    else:\n",
    "        xgb_x = XGBRegressor(max_depth=max_depth, n_estimators=n_estimators, learning_rate=learning_rate,\n",
    "                             subsample=subsample, min_child_weight=min_child_weight)\n",
    "        xgb_x.fit(train_x, tgt_train[:, 0])\n",
    "        xgb_y = XGBRegressor(max_depth=max_depth, n_estimators=n_estimators, learning_rate=learning_rate,\n",
    "                             subsample=subsample, min_child_weight=min_child_weight)\n",
    "        xgb_y.fit(train_y, tgt_train[:, 1])\n",
    "        DLATS_PRED = np.array(xgb_x.predict(test_x)) * std_dx + mean_dx\n",
    "        DLONS_PRED = np.array(xgb_y.predict(test_y)) * std_dy + mean_dy\n",
    "    LATS_PRED_2012 = X_test['LAT_7'] + DLATS_PRED\n",
    "    LONS_PRED_2012 = X_test['LON_7'] + DLONS_PRED\n",
    "    compare_perf_track(basin=basin, forecast=forecast, forecast2 = forecast2, LATS_PRED_=LATS_PRED_2012, LONS_PRED_=LONS_PRED_2012)\n",
    "    dict = {'year': [], 'num_samples': [], 'MAEs_full': [], 'std_full': [], 'MAES_2012': [], 'std_2012': [],\n",
    "            'MAES_SHIP': [], 'std_SHIP': [], 'MAES_HWRF': [], 'std_HWRF': []}\n",
    "    for year in range(2012, 2020):\n",
    "        try:\n",
    "            index = X_test_baseline.loc[\n",
    "                X_test_baseline['YEAR'] < year].index\n",
    "            X_test_to_train = X_test_total[index]\n",
    "            train = np.concatenate((X_train_total, X_test_to_train), axis=0)\n",
    "            tgt_train = np.concatenate((tgt_displacement_train, tgt_displacement_test[index]), axis=0)\n",
    "            xgb_x = XGBRegressor(max_depth=max_depth, n_estimators=n_estimators, learning_rate=learning_rate,\n",
    "                                 subsample=subsample, min_child_weight=min_child_weight)\n",
    "            xgb_x.fit(train, tgt_train[:, 0])\n",
    "            xgb_y = XGBRegressor(max_depth=max_depth, n_estimators=n_estimators, learning_rate=learning_rate,\n",
    "                                 subsample=subsample, min_child_weight=min_child_weight)\n",
    "            xgb_y.fit(train, tgt_train[:, 1])\n",
    "            DLATS_PRED = np.array(xgb_x.predict(test_x)) * std_dx + mean_dx\n",
    "            DLONS_PRED = np.array(xgb_y.predict(test_y)) * std_dy + mean_dy\n",
    "            LATS_PRED_ = X_test['LAT_7'] + DLATS_PRED\n",
    "            LONS_PRED_ = X_test['LON_7'] + DLONS_PRED\n",
    "            compare_perf_track_per_year(dict, LATS_PRED_, LONS_PRED_, LATS_PRED_2012, LONS_PRED_2012, forecast=forecast,\n",
    "                                            forecast2=forecast2, basin=basin,  year=year)\n",
    "            print(\"\\n\")\n",
    "        except:\n",
    "            print(\"\\n No forecasts for year \", year)\n",
    "    return dict\n",
    "\n",
    "\n",
    "def compare_perf_track(LATS_PRED_, LONS_PRED_, basin = 'AN', forecast = 'SHIP', forecast2 = None):\n",
    "    mode = 'lat'\n",
    "    if forecast2 != None:\n",
    "        index = X_test_baseline.loc[\n",
    "            X_test_baseline[forecast2 + '_24_' + mode + '_7'] > -320].loc[\n",
    "            X_test_baseline[forecast + '_24_' + mode + '_7'] > -320].loc[X_test_baseline[\n",
    "                                                                             'cat_basin_' + basin + '_0'] == 1].index  # .loc[#X_test_baseline['SHIP_24_'+mode+'_7'] > 0].index\n",
    "        baseline_ = X_test_baseline.loc[\n",
    "            X_test_baseline[forecast2 + '_24_' + mode + '_7'] > -320].loc[X_test_baseline[forecast + '_24_'+mode+'_7'] > -320].loc[X_test_baseline['cat_basin_'+basin+'_0'] == 1]#.loc[#X_test_baseline['SHIP_24_'+mode+'_7'] > 0]\n",
    "        LATS_BASE_2 = np.array(baseline_[forecast2 + '_24_lat_7'])\n",
    "        LONS_BASE_2 = np.array(baseline_[forecast2 + '_24_lon_7'])\n",
    "    else:\n",
    "        index = X_test_baseline.loc[X_test_baseline[forecast + '_24_'+mode+'_7'] > -320].loc[X_test_baseline['cat_basin_'+basin+'_0'] == 1].index#.loc[#X_test_baseline['SHIP_24_'+mode+'_7'] > 0].index\n",
    "        baseline_ = X_test_baseline.loc[X_test_baseline[forecast + '_24_'+mode+'_7'] > -320].loc[X_test_baseline['cat_basin_'+basin+'_0'] == 1]#.loc[#X_test_baseline['SHIP_24_'+mode+'_7'] > 0]\n",
    "    LATS_TEST_ = np.array(X_test['LAT_7'] + np.array(tgt_displacement_test[:, 0])*std_dx+mean_dx)[index]\n",
    "    LONS_TEST_ = np.array(X_test['LON_7'] + np.array(tgt_displacement_test[:, 1])*std_dy+mean_dy)[index]\n",
    "    baseline_1_x = baseline_[forecast + '_24_'+mode+'_7']\n",
    "    baseline_1_y = baseline_[forecast + '_24_lon_7']\n",
    "    LATS_BASE = np.array(baseline_1_x)\n",
    "    LONS_BASE = np.array(baseline_1_y)\n",
    "    LATS_PRED_ = np.array(LATS_PRED_)[index]\n",
    "    LONS_PRED_ = np.array(LONS_PRED_)[index]\n",
    "    d_km_baseline = np.zeros(len(LATS_BASE))\n",
    "    d_km_baseline2 = np.zeros(len(LATS_BASE))\n",
    "    d_km_pred = np.zeros(len(LONS_PRED_))\n",
    "    print(LATS_BASE_2)\n",
    "    print(LONS_BASE_2)\n",
    "    print(LATS_TEST_)\n",
    "    print(LONS_TEST_)\n",
    "    for i in range(len(LATS_BASE)):\n",
    "        d_km_baseline[i] = get_distance_km(LONS_BASE[i], LATS_BASE[i], LONS_TEST_[i], LATS_TEST_[i])\n",
    "        d_km_pred[i] = get_distance_km(LONS_PRED_[i], LATS_PRED_[i], LONS_TEST_[i], LATS_TEST_[i])\n",
    "        if forecast2 != None:\n",
    "            d_km_baseline2[i] = get_distance_km(LONS_BASE_2[i], LATS_BASE_2[i], LONS_TEST_[i], LATS_TEST_[i])\n",
    "    print(\"Number of timesteps:\", len(LATS_BASE))\n",
    "    print(basin, 'Model | MAE | std')\n",
    "    print(forecast, np.around(d_km_baseline.mean(), decimals = 2), np.around(d_km_baseline.std(), decimals = 2))\n",
    "    print(str(forecast2), np.around(d_km_baseline2.mean(), decimals = 2), np.around(d_km_baseline2.std(), decimals = 2))\n",
    "    print(\"Hurricast\", np.around(d_km_pred.mean(), decimals = 2), np.around(d_km_pred.std(), decimals = 2))\n",
    "    print(\"\\nModel | Number of Busts > 200km | Percentage Bust\")\n",
    "    print(forecast, sum(d_km_baseline > 200), np.around(sum(d_km_baseline > 200)*100/len(LATS_BASE), decimals = 2))\n",
    "    print(str(forecast2), sum(d_km_baseline2 > 200), np.around(sum(d_km_baseline2 > 200)*100/len(LATS_BASE), decimals =2))\n",
    "    print(\"Hurricast\", sum(d_km_pred > 200), np.around(sum(d_km_pred > 200)*100/len(LATS_BASE), decimals = 2))\n",
    "\n",
    "\n",
    "\n",
    "\n",
    "def compare_perf_track_per_year(dict, LATS_PRED_, LONS_PRED_, LATS_PRED_2012, LONS_PRED_2012, year, basin = 'AN', forecast = 'SHIP', forecast2 = None):\n",
    "    mode = 'lat'\n",
    "    if forecast2 != None:\n",
    "        index = X_test_baseline.loc[X_test_baseline['YEAR'] >= year].loc[\n",
    "            X_test_baseline[forecast2 + '_24_' + mode + '_7'] > -320].loc[\n",
    "            X_test_baseline[forecast + '_24_' + mode + '_7'] > -320].loc[X_test_baseline[\n",
    "                                                                             'cat_basin_' + basin + '_0'] == 1].index  # .loc[#X_test_baseline['SHIP_24_'+mode+'_7'] > 0].index\n",
    "        baseline_ = X_test_baseline.loc[X_test_baseline['YEAR'] == year].loc[\n",
    "            X_test_baseline[forecast2 + '_24_' + mode + '_7'] > -320].loc[X_test_baseline[forecast + '_24_'+mode+'_7'] > -320].loc[X_test_baseline['cat_basin_'+basin+'_0'] == 1]#.loc[#X_test_baseline['SHIP_24_'+mode+'_7'] > 0]\n",
    "        LATS_BASE_2 = np.array(baseline_[forecast2 + '_24_lat_7'])\n",
    "        LONS_BASE_2 = np.array(baseline_[forecast2 + '_24_lon_7'])\n",
    "    else:\n",
    "        index = X_test_baseline.loc[X_test_baseline['YEAR'] == year].loc[X_test_baseline[forecast + '_24_'+mode+'_7'] > -320].loc[X_test_baseline['cat_basin_'+basin+'_0'] == 1].index#.loc[#X_test_baseline['SHIP_24_'+mode+'_7'] > 0].index\n",
    "        baseline_ = X_test_baseline.loc[X_test_baseline['YEAR'] == year].loc[X_test_baseline[forecast + '_24_'+mode+'_7'] > -320].loc[X_test_baseline['cat_basin_'+basin+'_0'] == 1]#.loc[#X_test_baseline['SHIP_24_'+mode+'_7'] > 0]\n",
    "    LATS_TEST_ = X_test['LAT_7'] + np.array(tgt_displacement_test[:, 0])*std_dx+mean_dx\n",
    "    LONS_TEST_ = X_test['LON_7'] + np.array(tgt_displacement_test[:, 1])*std_dy+mean_dy\n",
    "    baseline_1_x = baseline_[forecast + '_24_'+mode+'_7']\n",
    "    baseline_1_y = baseline_[forecast + '_24_lon_7']\n",
    "    LATS_BASE = np.array(baseline_1_x)\n",
    "    LONS_BASE = np.array(baseline_1_y)\n",
    "    LATS_TEST_ = np.array(LATS_TEST_[index])\n",
    "    LONS_TEST_ = np.array(LONS_TEST_[index])\n",
    "    LATS_PRED_ = np.array(LATS_PRED_[index])\n",
    "    LONS_PRED_ = np.array(LONS_PRED_[index])\n",
    "    LATS_PRED_2012 = np.array(LATS_PRED_2012[index])\n",
    "    LONS_PRED_2012 = np.array(LONS_PRED_2012[index])\n",
    "    d_km_baseline = np.zeros(len(LATS_BASE))\n",
    "    d_km_baseline2 = np.zeros(len(LATS_BASE))\n",
    "    d_km_pred = np.zeros(len(LONS_PRED_))\n",
    "    d_km_pred_2012 = np.zeros(len(LONS_PRED_))\n",
    "    for i in range(len(LATS_BASE)):\n",
    "        d_km_baseline[i] = get_distance_km(LONS_BASE[i], LATS_BASE[i], LONS_TEST_[i], LATS_TEST_[i])\n",
    "        d_km_pred[i] = get_distance_km(LONS_PRED_[i], LATS_PRED_[i], LONS_TEST_[i], LATS_TEST_[i])\n",
    "        d_km_pred_2012[i] = get_distance_km(LONS_PRED_2012[i], LATS_PRED_2012[i], LONS_TEST_[i], LATS_TEST_[i])\n",
    "        if forecast2 != None:\n",
    "            d_km_baseline2[i] = get_distance_km(LONS_BASE_2[i], LATS_BASE_2[i], LONS_TEST_[i], LATS_TEST_[i])\n",
    "    print(\"Year\", year, \"Number of timesteps:\", len(LATS_BASE))\n",
    "    print(basin, 'Model | MAE | std')\n",
    "    print(forecast, np.around(d_km_baseline.mean(), decimals = 2), np.around(d_km_baseline.std(), decimals = 2))\n",
    "    print(str(forecast2), np.around(d_km_baseline2.mean(), decimals = 2), np.around(d_km_baseline2.std(), decimals = 2))\n",
    "    print(\"Hurricast Max Data\", np.around(d_km_pred.mean(), decimals = 2), np.around(d_km_pred.std(), decimals = 2))\n",
    "    print(\"Hurricast Until 2012\", np.around(d_km_pred_2012.mean(), decimals=2), np.around(d_km_pred_2012.std(), decimals=2))\n",
    "    print(\"\\nModel | Number of Busts > 200km | Percentage Bust\")\n",
    "    print(forecast, sum(d_km_baseline > 200), np.around(sum(d_km_baseline > 200)*100/len(LATS_BASE), decimals = 2))\n",
    "    print(str(forecast2), sum(d_km_baseline2 > 200), np.around(sum(d_km_baseline2 > 200)*100/len(LATS_BASE), decimals =2))\n",
    "    print(\"Hurricast\", sum(d_km_pred > 200), np.around(sum(d_km_pred > 200)*100/len(LATS_BASE), decimals = 2))\n",
    "    append_dict_track(dict, d_km_baseline, d_km_baseline2, d_km_pred, d_km_pred_2012, year)\n",
    "\n",
    "def append_dict_track(dict, d_km_baseline, d_km_baseline2, d_km_pred, d_km_pred_2012, year):\n",
    "    dict['year'].append(year)\n",
    "    dict['num_samples'].append(len(d_km_baseline))\n",
    "    dict['MAEs_full'].append(np.around(d_km_pred.mean(), decimals = 2))\n",
    "    dict['std_full'].append(np.around(d_km_pred.std(), decimals = 2))\n",
    "    dict['MAES_2012'].append(np.around(d_km_pred_2012.mean(), decimals = 2))\n",
    "    dict['std_2012'].append(np.around(d_km_pred_2012.std(), decimals=2))\n",
    "    dict['MAES_SHIP'].append(np.around(d_km_baseline.mean(), decimals = 2))\n",
    "    dict['std_SHIP'].append(np.around(d_km_baseline.std(), decimals = 2))\n",
    "    dict['MAES_HWRF'].append(np.around(d_km_baseline2.mean(), decimals =2))\n",
    "    dict['std_HWRF'].append(np.around(d_km_baseline2.std(), decimals=2))\n"
   ]
  },
  {
   "cell_type": "code",
   "execution_count": null,
   "metadata": {},
   "outputs": [],
   "source": [
    "def train_xgb_track_all_years(train, test, tgt_train, max_depth = 8, n_estimators = 140, learning_rate = 0.05, subsample = 0.7, min_child_weight=5, basin = 'AN', forecast = 'SHIP', forecast2 = 'HWRF', forecast3 = 'OFCL', forecast4 = 'FSSE', forecast5 = 'GFSO', forecast6 = 'AEMN', forecast7 = 'CLP5'):    \n",
    "    if False:\n",
    "        xgb_x = XGBRegressor(max_depth=max_depth, n_estimators=n_estimators, learning_rate=learning_rate,\n",
    "                             subsample=subsample, min_child_weight=min_child_weight)\n",
    "        xgb_x.fit(train, tgt_train[:, 0])\n",
    "        xgb_y = XGBRegressor(max_depth=max_depth, n_estimators=n_estimators, learning_rate=learning_rate,\n",
    "                             subsample=subsample, min_child_weight=min_child_weight)\n",
    "        xgb_y.fit(train, tgt_train[:, 1])\n",
    "        DLATS_PRED = np.array(xgb_x.predict(test)) * std_dx + mean_dx\n",
    "        DLONS_PRED = np.array(xgb_y.predict(test)) * std_dy + mean_dy\n",
    "        LATS_PRED_2012 = X_test['LAT_7'] + DLATS_PRED\n",
    "        LONS_PRED_2012 = X_test['LON_7'] + DLONS_PRED\n",
    "        compare_perf_track_7cast(year = 2017, basin=basin, forecast='SHIP', forecast2 = 'HWRF', forecast3='OFCL', forecast4 = 'FSSE', forecast5='AEMN', forecast6 = 'GFSO', forecast7 = 'CLP5', LATS_PRED_= LATS_PRED_2012, LONS_PRED_=LONS_PRED_2012)\n",
    "    dict = {'year':[], 'num_samples':[], 'MAEs_full':[], 'std_full':[], 'MAES_AEMN':[], 'std_AEMN':[], 'MAES_SHIP':[], 'std_SHIP':[], 'MAES_HWRF':[], 'std_HWRF':[], 'MAES_FSSE':[], 'std_FSSE':[], 'MAES_OFCL':[], 'std_OFCL':[], 'MAES_GFSO':[], 'std_GFSO':[], 'MAES_CLP5':[], 'std_CLP5':[]}\n",
    "    for year in range(2016, 2019):\n",
    "        try:\n",
    "            index = X_test_baseline.loc[\n",
    "                X_test_baseline['YEAR_0'] < year].index\n",
    "            X_test_to_train = np.array(test)[index]\n",
    "            train2 = np.concatenate((train, X_test_to_train), axis=0)\n",
    "            tgt_train2 = np.concatenate((tgt_train, tgt_displacement_test[index]), axis=0)\n",
    "            xgb_x = XGBRegressor(max_depth=max_depth, n_estimators=n_estimators, learning_rate=learning_rate,\n",
    "                                 subsample=subsample, min_child_weight=min_child_weight)\n",
    "            xgb_x.fit(train2, tgt_train2[:, 0])\n",
    "            xgb_y = XGBRegressor(max_depth=max_depth, n_estimators=n_estimators, learning_rate=learning_rate,\n",
    "                                 subsample=subsample, min_child_weight=min_child_weight)\n",
    "            xgb_y.fit(train2, tgt_train2[:, 1])\n",
    "            DLATS_PRED = np.array(xgb_x.predict(np.array(test))) * std_dx + mean_dx\n",
    "            DLONS_PRED = np.array(xgb_y.predict(np.array(test))) * std_dy + mean_dy\n",
    "            LATS_PRED_ = X_test_baseline['LAT_7'] + DLATS_PRED\n",
    "            LONS_PRED_ = X_test_baseline['LON_7'] + DLONS_PRED\n",
    "            print(\"YEAR\", year)\n",
    "            #compare_perf_track_7cast(year = year, basin=basin, forecast='SHIP', forecast2 = 'HWRF', forecast3='OFCL', forecast4 = 'FSSE', forecast5='AEMN', forecast6 = 'GFSO', forecast7 = 'CLP5', LATS_PRED_= LATS_PRED_2012, LONS_PRED_=LONS_PRED_2012)\n",
    "            compare_perf_track_7cast(dict = dict, year = year, basin=basin, forecast=forecast, forecast2 = forecast2, forecast3=forecast3, forecast4 = forecast4, forecast5=forecast5, forecast6 = forecast6, forecast7 = forecast7, LATS_PRED_= LATS_PRED_, LONS_PRED_=LONS_PRED_)\n",
    "            print(\"\\n\")\n",
    "        except:\n",
    "            print(\"\\n No forecasts for year \", year)\n",
    "    return dict\n",
    "\n"
   ]
  },
  {
   "cell_type": "code",
   "execution_count": null,
   "metadata": {},
   "outputs": [],
   "source": [
    "def compare_perf_track_7cast(dict, LATS_PRED_, LONS_PRED_, year = 2017, basin = 'AN', forecast = 'SHIP', forecast2 = 'HWRF', forecast3 = 'OFCL', forecast4 = 'FSSE', forecast5 = 'GFSO', forecast6 = 'AEMN', forecast7 = 'CLP5'):\n",
    "    mode = 'lat'\n",
    "    if forecast2 != None:\n",
    "        \n",
    "        baseline_ = X_test_baseline.loc[X_test_baseline['YEAR_0'] == year].loc[\n",
    "            X_test_baseline[forecast7 + '_24_' + mode + '_7'] > -320].loc[\n",
    "            X_test_baseline[forecast6 + '_24_' + mode + '_7'] > -320].loc[\n",
    "            X_test_baseline[forecast5 + '_24_' + mode + '_7'] > -320].loc[\n",
    "            X_test_baseline[forecast4 + '_24_' + mode + '_7'] > -320].loc[\n",
    "            X_test_baseline[forecast3 + '_24_' + mode + '_7'] > -320].loc[\n",
    "            X_test_baseline[forecast2 + '_24_' + mode + '_7'] > -320].loc[\n",
    "            X_test_baseline[forecast + '_24_' + mode + '_7'] > -320].loc[X_test_baseline['cat_basin_' + basin + '_0'] == 1]  # .loc[#X_test_baseline['SHIP_24_'+mode+'_7'] > 0].index\n",
    "        if basin == 'EP':\n",
    "            baseline_ = baseline_.loc[X_test_baseline['YEAR_0'] < 2019]\n",
    "        index = baseline_.index\n",
    "        LATS_BASE_2 = np.array(baseline_[forecast2 + '_24_lat_7'])\n",
    "        LONS_BASE_2 = np.array(baseline_[forecast2 + '_24_lon_7'])\n",
    "        LATS_BASE_3 = np.array(baseline_[forecast3 + '_24_lat_7'])\n",
    "        LONS_BASE_3 = np.array(baseline_[forecast3 + '_24_lon_7'])\n",
    "        LATS_BASE_4 = np.array(baseline_[forecast4 + '_24_lat_7'])\n",
    "        LONS_BASE_4 = np.array(baseline_[forecast4 + '_24_lon_7'])\n",
    "        LATS_BASE_5 = np.array(baseline_[forecast5 + '_24_lat_7'])\n",
    "        LONS_BASE_5 = np.array(baseline_[forecast5 + '_24_lon_7'])\n",
    "        LATS_BASE_6 = np.array(baseline_[forecast6 + '_24_lat_7'])\n",
    "        LONS_BASE_6 = np.array(baseline_[forecast6 + '_24_lon_7'])\n",
    "        LATS_BASE_7 = np.array(baseline_[forecast7 + '_24_lat_7'])\n",
    "        LONS_BASE_7 = np.array(baseline_[forecast7 + '_24_lon_7'])\n",
    "        \n",
    "    LATS_TEST_ = np.array(X_test['LAT_7'] + np.array(tgt_displacement_test[:, 0])*std_dx+mean_dx)[index]\n",
    "    LONS_TEST_ = np.array(X_test['LON_7'] + np.array(tgt_displacement_test[:, 1])*std_dy+mean_dy)[index]\n",
    "    baseline_1_x = np.array(baseline_[forecast + '_24_'+mode+'_7'])\n",
    "    baseline_1_y = np.array(baseline_[forecast + '_24_lon_7'])\n",
    "    baseline_2_x = np.array(baseline_[forecast2 + '_24_'+mode+'_7'])\n",
    "    baseline_2_y = np.array(baseline_[forecast2 + '_24_lon_7'])\n",
    "    baseline_3_x = np.array(baseline_[forecast3 + '_24_'+mode+'_7'])\n",
    "    baseline_3_y = np.array(baseline_[forecast3 + '_24_lon_7'])\n",
    "    baseline_4_x = np.array(baseline_[forecast4 + '_24_'+mode+'_7'])\n",
    "    baseline_4_y = np.array(baseline_[forecast4 + '_24_lon_7'])\n",
    "    baseline_5_x = np.array(baseline_[forecast5 + '_24_'+mode+'_7'])\n",
    "    baseline_5_y = np.array(baseline_[forecast5 + '_24_lon_7'])\n",
    "    baseline_6_x = np.array(baseline_[forecast6 + '_24_'+mode+'_7'])\n",
    "    baseline_6_y = np.array(baseline_[forecast6 + '_24_lon_7'])\n",
    "    baseline_7_x = np.array(baseline_[forecast7 + '_24_'+mode+'_7'])\n",
    "    baseline_7_y = np.array(baseline_[forecast7 + '_24_lon_7'])\n",
    "    LATS_PRED_ = np.array(LATS_PRED_)[index]\n",
    "    LONS_PRED_ = np.array(LONS_PRED_)[index]\n",
    "    d_km_baseline = np.zeros(len(LATS_PRED_))\n",
    "    d_km_baseline2 = np.zeros(len(LATS_PRED_))\n",
    "    d_km_baseline3 = np.zeros(len(LATS_PRED_))\n",
    "    d_km_baseline4 = np.zeros(len(LATS_PRED_))\n",
    "    d_km_baseline5 = np.zeros(len(LATS_PRED_))\n",
    "    d_km_baseline6 = np.zeros(len(LATS_PRED_))\n",
    "    d_km_baseline7 = np.zeros(len(LATS_PRED_))\n",
    "    d_km_consensus_ofcl, d_km_consensus_hurr = np.zeros(len(LATS_PRED_)), np.zeros(len(LATS_PRED_))\n",
    "    d_km_pred = np.zeros(len(LONS_PRED_))\n",
    "    for i in range(len(LATS_PRED_)):\n",
    "        if baseline_2_y[i] > 160:\n",
    "            baseline_1_y[i] -= 360\n",
    "            baseline_6_y[i] -= 360\n",
    "            baseline_5_y[i] -= 360\n",
    "            baseline_2_y[i] -= 360\n",
    "            baseline_3_y[i] -= 360\n",
    "        if LONS_TEST_[i] > 160:\n",
    "            LONS_PRED_[i] -= 360\n",
    "        d_km_baseline[i] = get_distance_km(baseline_1_y[i], baseline_1_x[i], LONS_TEST_[i], LATS_TEST_[i])\n",
    "        d_km_pred[i] = get_distance_km(LONS_PRED_[i], LATS_PRED_[i], LONS_TEST_[i], LATS_TEST_[i])\n",
    "        d_km_baseline2[i] = get_distance_km(baseline_2_y[i], baseline_2_x[i], LONS_TEST_[i], LATS_TEST_[i])\n",
    "        d_km_baseline3[i] = get_distance_km(baseline_3_y[i], baseline_3_x[i], LONS_TEST_[i], LATS_TEST_[i])\n",
    "        d_km_baseline4[i] = get_distance_km(baseline_4_y[i], baseline_4_x[i], LONS_TEST_[i], LATS_TEST_[i])\n",
    "        d_km_baseline5[i] = get_distance_km(baseline_5_y[i], baseline_5_x[i], LONS_TEST_[i], LATS_TEST_[i])\n",
    "        d_km_baseline6[i] = get_distance_km(baseline_6_y[i], baseline_6_x[i], LONS_TEST_[i], LATS_TEST_[i])\n",
    "        d_km_baseline7[i] = get_distance_km(baseline_7_y[i], baseline_7_x[i], LONS_TEST_[i], LATS_TEST_[i])\n",
    "    print(\"Number of timesteps:\", len(LATS_PRED_))\n",
    "    print(basin, 'Model | MAE | std | %age busts (>200km)')\n",
    "    print(\"Hurricast\", np.around(d_km_pred.mean(), decimals = 2), np.around(d_km_pred.std(), decimals = 2), np.around(sum(d_km_pred > 200)*100/len(LATS_PRED_), decimals = 2))\n",
    "    print(forecast, np.around(d_km_baseline.mean(), decimals = 2), np.around(d_km_baseline.std(), decimals = 2), np.around(sum(d_km_baseline > 200)*100/len(LATS_PRED_), decimals = 2))\n",
    "    print(forecast2, np.around(d_km_baseline2.mean(), decimals = 2), np.around(d_km_baseline2.std(), decimals = 2), np.around(sum(d_km_baseline2 > 200)*100/len(LATS_PRED_), decimals = 2))\n",
    "    print(str(forecast3), np.around(d_km_baseline3.mean(), decimals = 2), np.around(d_km_baseline3.std(), decimals = 2), np.around(sum(d_km_baseline3 > 200)*100/len(LATS_PRED_), decimals = 2))\n",
    "    print(str(forecast4), np.around(d_km_baseline4.mean(), decimals = 2), np.around(d_km_baseline4.std(), decimals = 2), np.around(sum(d_km_baseline4 > 200)*100/len(LATS_PRED_), decimals = 2))\n",
    "    print(str(forecast5), np.around(d_km_baseline5.mean(), decimals = 2), np.around(d_km_baseline5.std(), decimals = 2), np.around(sum(d_km_baseline5 > 200)*100/len(LATS_PRED_), decimals = 2))\n",
    "    print(forecast6, np.around(d_km_baseline6.mean(), decimals = 2), np.around(d_km_baseline6.std(), decimals = 2), np.around(sum(d_km_baseline6 > 200)*100/len(LATS_PRED_), decimals = 2))\n",
    "    print(forecast7, np.around(d_km_baseline7.mean(), decimals = 2), np.around(d_km_baseline7.std(), decimals = 2), np.around(sum(d_km_baseline7 > 200)*100/len(LATS_PRED_), decimals = 2))\n",
    "    consensus_ofcl_x = (baseline_1_x+baseline_2_x+baseline_3_x+baseline_4_x + baseline_5_x + baseline_6_x)/6\n",
    "    consensus_ofcl_y = (baseline_1_y+baseline_2_y+baseline_3_y+baseline_4_y + baseline_5_y + baseline_6_y)/6\n",
    "    consensus_hurr_x = (consensus_ofcl_x*6+LATS_PRED_)/7\n",
    "    consensus_hurr_y = (consensus_ofcl_y*6+LONS_PRED_)/7\n",
    "    for i in range(len(LATS_PRED_)):\n",
    "        d_km_consensus_ofcl[i] = get_distance_km(consensus_ofcl_y[i], consensus_ofcl_x[i], LONS_TEST_[i], LATS_TEST_[i])\n",
    "        d_km_consensus_hurr[i] = get_distance_km(consensus_hurr_y[i], consensus_hurr_x[i], LONS_TEST_[i], LATS_TEST_[i])\n",
    "    print(\"Consensus OFCL only\", np.around(d_km_consensus_ofcl.mean(), decimals = 2), np.around(d_km_consensus_ofcl.std(), decimals = 2), np.around(sum(d_km_consensus_ofcl > 200)*100/len(LATS_PRED_), decimals = 2))\n",
    "    print(\"Consensus OFCL + Hurricast\", np.around(d_km_consensus_hurr.mean(), decimals = 2), np.around(d_km_consensus_hurr.std(), decimals = 2), np.around(sum(d_km_consensus_hurr > 200)*100/len(LATS_PRED_), decimals = 2))\n",
    "    #return LONS_PRED_, baseline_1_y, baseline_2_y, baseline_3_y, baseline_4_y, baseline_5_y, baseline_6_y\n",
    "    #return d_km_pred, np.array(X_test)[index]\n",
    "    append_dict_track_7cast(dict, d_km_pred, d_km_baseline, d_km_baseline2, d_km_baseline3, d_km_baseline4, d_km_baseline5, d_km_baseline6, d_km_baseline7, year)\n"
   ]
  },
  {
   "cell_type": "code",
   "execution_count": null,
   "metadata": {},
   "outputs": [],
   "source": [
    "def append_dict_track_7cast(dict, d_km_pred, d_km_baseline, d_km_baseline2, d_km_baseline3, d_km_baseline4, d_km_baseline5, d_km_baseline6, d_km_baseline7, year):\n",
    "    dict['year'].append(year)\n",
    "    dict['num_samples'].append(len(d_km_pred))\n",
    "    dict['MAEs_full'].append(np.around(d_km_pred.mean(), decimals = 2))\n",
    "    dict['std_full'].append(np.around(d_km_pred.std(), decimals = 2))\n",
    "    \n",
    "    dict['MAES_SHIP'].append(np.around(d_km_baseline.mean(), decimals = 2))\n",
    "    dict['std_SHIP'].append(np.around(d_km_baseline.std(), decimals = 2))\n",
    "    \n",
    "    dict['MAES_HWRF'].append(np.around(d_km_baseline2.mean(), decimals = 2))\n",
    "    dict['std_HWRF'].append(np.around(d_km_baseline2.std(), decimals = 2))\n",
    "    \n",
    "    dict['MAES_OFCL'].append(np.around(d_km_baseline3.mean(), decimals = 2))\n",
    "    dict['std_OFCL'].append(np.around(d_km_baseline3.std(), decimals = 2))\n",
    "    \n",
    "    dict['MAES_FSSE'].append(np.around(d_km_baseline4.mean(), decimals = 2))\n",
    "    dict['std_FSSE'].append(np.around(d_km_baseline4.std(), decimals = 2))\n",
    "    \n",
    "    dict['MAES_AEMN'].append(np.around(d_km_baseline5.mean(), decimals = 2))\n",
    "    dict['std_AEMN'].append(np.around(d_km_baseline5.std(), decimals = 2))\n",
    "    \n",
    "    dict['MAES_GFSO'].append(np.around(d_km_baseline6.mean(), decimals = 2))\n",
    "    dict['std_GFSO'].append(np.around(d_km_baseline6.std(), decimals = 2))\n",
    "    \n",
    "    dict['MAES_CLP5'].append(np.around(d_km_baseline7.mean(), decimals = 2))\n",
    "    dict['std_CLP5'].append(np.around(d_km_baseline7.std(), decimals = 2))"
   ]
  },
  {
   "cell_type": "markdown",
   "metadata": {
    "heading_collapsed": true
   },
   "source": [
    "# Plots"
   ]
  },
  {
   "cell_type": "code",
   "execution_count": 22,
   "metadata": {
    "hidden": true
   },
   "outputs": [
    {
     "name": "stdout",
     "output_type": "stream",
     "text": [
      "YEAR 2012\n",
      "Number of timesteps: 43\n",
      "AN Model | MAE | std | %age busts (>200km)\n",
      "Hurricast 136.79 99.34 23.26\n",
      "OFCL 67.4 45.01 4.65\n",
      "OFCL 67.4 45.01 4.65\n",
      "OFCL 67.4 45.01 4.65\n",
      "OFCL 67.4 45.01 4.65\n",
      "OFCL 67.4 45.01 4.65\n",
      "OFCL 67.4 45.01 4.65\n",
      "OFCL 67.4 45.01 4.65\n",
      "Consensus OFCL only 67.4 45.01 4.65\n",
      "Consensus OFCL + Hurricast 63.38 46.36 2.33\n",
      "\n",
      "\n",
      "YEAR 2013\n",
      "Number of timesteps: 8\n",
      "AN Model | MAE | std | %age busts (>200km)\n",
      "Hurricast 157.83 51.39 12.5\n",
      "OFCL 77.01 33.67 0.0\n",
      "OFCL 77.01 33.67 0.0\n",
      "OFCL 77.01 33.67 0.0\n",
      "OFCL 77.01 33.67 0.0\n",
      "OFCL 77.01 33.67 0.0\n",
      "OFCL 77.01 33.67 0.0\n",
      "OFCL 77.01 33.67 0.0\n",
      "Consensus OFCL only 77.01 33.67 0.0\n",
      "Consensus OFCL + Hurricast 55.28 19.96 0.0\n",
      "\n",
      "\n",
      "YEAR 2014\n",
      "Number of timesteps: 75\n",
      "AN Model | MAE | std | %age busts (>200km)\n",
      "Hurricast 134.34 98.88 20.0\n",
      "OFCL 80.35 61.28 5.33\n",
      "OFCL 80.35 61.28 5.33\n",
      "OFCL 80.35 61.28 5.33\n",
      "OFCL 80.35 61.28 5.33\n",
      "OFCL 80.35 61.28 5.33\n",
      "OFCL 80.35 61.28 5.33\n",
      "OFCL 80.35 61.28 5.33\n",
      "Consensus OFCL only 80.35 61.28 5.33\n",
      "Consensus OFCL + Hurricast 75.72 55.81 2.67\n",
      "\n",
      "\n",
      "YEAR 2015\n",
      "Number of timesteps: 136\n",
      "AN Model | MAE | std | %age busts (>200km)\n",
      "Hurricast 112.17 83.93 13.24\n",
      "OFCL 72.08 47.01 2.21\n",
      "OFCL 72.08 47.01 2.21\n",
      "OFCL 72.08 47.01 2.21\n",
      "OFCL 72.08 47.01 2.21\n",
      "OFCL 72.08 47.01 2.21\n",
      "OFCL 72.08 47.01 2.21\n",
      "OFCL 72.08 47.01 2.21\n",
      "Consensus OFCL only 72.08 47.01 2.21\n",
      "Consensus OFCL + Hurricast 66.85 47.96 2.94\n",
      "\n",
      "\n",
      "YEAR 2016\n",
      "Number of timesteps: 280\n",
      "AN Model | MAE | std | %age busts (>200km)\n",
      "Hurricast 127.0 94.92 17.14\n",
      "OFCL 78.57 52.49 3.93\n",
      "OFCL 78.57 52.49 3.93\n",
      "OFCL 78.57 52.49 3.93\n",
      "OFCL 78.57 52.49 3.93\n",
      "OFCL 78.57 52.49 3.93\n",
      "OFCL 78.57 52.49 3.93\n",
      "OFCL 78.57 52.49 3.93\n",
      "Consensus OFCL only 78.57 52.49 3.93\n",
      "Consensus OFCL + Hurricast 74.38 47.57 1.07\n",
      "\n",
      "\n",
      "YEAR 2017\n",
      "Number of timesteps: 250\n",
      "AN Model | MAE | std | %age busts (>200km)\n",
      "Hurricast 93.7 59.11 5.6\n",
      "OFCL 65.08 45.94 1.6\n",
      "OFCL 65.08 45.94 1.6\n",
      "OFCL 65.08 45.94 1.6\n",
      "OFCL 65.08 45.94 1.6\n",
      "OFCL 65.08 45.94 1.6\n",
      "OFCL 65.08 45.94 1.6\n",
      "OFCL 65.08 45.94 1.6\n",
      "Consensus OFCL only 65.08 45.94 1.6\n",
      "Consensus OFCL + Hurricast 60.71 43.93 1.6\n",
      "\n",
      "\n",
      "YEAR 2018\n",
      "Number of timesteps: 264\n",
      "AN Model | MAE | std | %age busts (>200km)\n",
      "Hurricast 111.85 72.42 10.98\n",
      "OFCL 69.32 49.32 1.52\n",
      "OFCL 69.32 49.32 1.52\n",
      "OFCL 69.32 49.32 1.52\n",
      "OFCL 69.32 49.32 1.52\n",
      "OFCL 69.32 49.32 1.52\n",
      "OFCL 69.32 49.32 1.52\n",
      "OFCL 69.32 49.32 1.52\n",
      "Consensus OFCL only 69.32 49.32 1.52\n",
      "Consensus OFCL + Hurricast 67.4 46.53 0.76\n",
      "\n",
      "\n",
      "YEAR 2019\n",
      "Number of timesteps: 227\n",
      "AN Model | MAE | std | %age busts (>200km)\n",
      "Hurricast 129.19 90.2 18.06\n",
      "OFCL 84.85 75.01 7.05\n",
      "OFCL 84.85 75.01 7.05\n",
      "OFCL 84.85 75.01 7.05\n",
      "OFCL 84.85 75.01 7.05\n",
      "OFCL 84.85 75.01 7.05\n",
      "OFCL 84.85 75.01 7.05\n",
      "OFCL 84.85 75.01 7.05\n",
      "Consensus OFCL only 84.85 75.01 7.05\n",
      "Consensus OFCL + Hurricast 78.88 69.19 5.73\n",
      "\n",
      "\n"
     ]
    }
   ],
   "source": [
    "d1 = train_xgb_track_all_years(max_depth=8, learning_rate=0.03, n_estimators=200, subsample=0.8, forecast7 = 'OFCL', forecast6 = 'OFCL', forecast5 = 'OFCL', forecast = 'OFCL', forecast4 = 'OFCL', forecast3 = 'OFCL', forecast2 = 'OFCL')"
   ]
  },
  {
   "cell_type": "code",
   "execution_count": 23,
   "metadata": {
    "hidden": true
   },
   "outputs": [
    {
     "name": "stdout",
     "output_type": "stream",
     "text": [
      "YEAR 2012\n",
      "Number of timesteps: 0\n",
      "EP Model | MAE | std | %age busts (>200km)\n",
      "\n",
      " No forecasts for year  2012\n",
      "YEAR 2013\n",
      "Number of timesteps: 10\n",
      "EP Model | MAE | std | %age busts (>200km)\n",
      "Hurricast 91.78 38.97 0.0\n",
      "OFCL 63.87 22.18 0.0\n",
      "OFCL 63.87 22.18 0.0\n",
      "OFCL 63.87 22.18 0.0\n",
      "OFCL 63.87 22.18 0.0\n",
      "OFCL 63.87 22.18 0.0\n",
      "OFCL 63.87 22.18 0.0\n",
      "OFCL 63.87 22.18 0.0\n",
      "Consensus OFCL only 63.87 22.18 0.0\n",
      "Consensus OFCL + Hurricast 63.32 21.52 0.0\n",
      "\n",
      "\n",
      "YEAR 2014\n",
      "Number of timesteps: 386\n",
      "EP Model | MAE | std | %age busts (>200km)\n",
      "Hurricast 75.99 43.42 1.3\n",
      "OFCL 57.96 37.77 0.52\n",
      "OFCL 57.96 37.77 0.52\n",
      "OFCL 57.96 37.77 0.52\n",
      "OFCL 57.96 37.77 0.52\n",
      "OFCL 57.96 37.77 0.52\n",
      "OFCL 57.96 37.77 0.52\n",
      "OFCL 57.96 37.77 0.52\n",
      "Consensus OFCL only 123.76 643.12 1.55\n",
      "Consensus OFCL + Hurricast 109.48 551.39 1.55\n",
      "\n",
      "\n",
      "YEAR 2015\n",
      "Number of timesteps: 301\n",
      "EP Model | MAE | std | %age busts (>200km)\n",
      "Hurricast 76.64 63.67 3.65\n",
      "OFCL 69.56 42.64 1.0\n",
      "OFCL 69.56 42.64 1.0\n",
      "OFCL 69.56 42.64 1.0\n",
      "OFCL 69.56 42.64 1.0\n",
      "OFCL 69.56 42.64 1.0\n",
      "OFCL 69.56 42.64 1.0\n",
      "OFCL 69.56 42.64 1.0\n",
      "Consensus OFCL only 69.56 42.64 1.0\n",
      "Consensus OFCL + Hurricast 64.77 40.84 0.66\n",
      "\n",
      "\n",
      "YEAR 2016\n",
      "Number of timesteps: 350\n",
      "EP Model | MAE | std | %age busts (>200km)\n",
      "Hurricast 73.01 41.1 0.86\n",
      "OFCL 55.31 35.57 0.0\n",
      "OFCL 55.31 35.57 0.0\n",
      "OFCL 55.31 35.57 0.0\n",
      "OFCL 55.31 35.57 0.0\n",
      "OFCL 55.31 35.57 0.0\n",
      "OFCL 55.31 35.57 0.0\n",
      "OFCL 55.31 35.57 0.0\n",
      "Consensus OFCL only 55.31 35.57 0.0\n",
      "Consensus OFCL + Hurricast 52.46 34.3 0.0\n",
      "\n",
      "\n",
      "YEAR 2017\n",
      "Number of timesteps: 205\n",
      "EP Model | MAE | std | %age busts (>200km)\n",
      "Hurricast 68.64 41.68 0.0\n",
      "OFCL 57.05 33.62 0.0\n",
      "OFCL 57.05 33.62 0.0\n",
      "OFCL 57.05 33.62 0.0\n",
      "OFCL 57.05 33.62 0.0\n",
      "OFCL 57.05 33.62 0.0\n",
      "OFCL 57.05 33.62 0.0\n",
      "OFCL 57.05 33.62 0.0\n",
      "Consensus OFCL only 57.05 33.62 0.0\n",
      "Consensus OFCL + Hurricast 53.64 30.08 0.0\n",
      "\n",
      "\n",
      "YEAR 2018\n",
      "Number of timesteps: 378\n",
      "EP Model | MAE | std | %age busts (>200km)\n",
      "Hurricast 73.55 46.46 1.59\n",
      "OFCL 54.75 31.68 0.26\n",
      "OFCL 54.75 31.68 0.26\n",
      "OFCL 54.75 31.68 0.26\n",
      "OFCL 54.75 31.68 0.26\n",
      "OFCL 54.75 31.68 0.26\n",
      "OFCL 54.75 31.68 0.26\n",
      "OFCL 54.75 31.68 0.26\n",
      "Consensus OFCL only 116.73 601.27 1.32\n",
      "Consensus OFCL + Hurricast 104.42 516.78 1.32\n",
      "\n",
      "\n",
      "YEAR 2019\n",
      "Number of timesteps: 54\n",
      "EP Model | MAE | std | %age busts (>200km)\n",
      "Hurricast 112.69 66.64 16.67\n",
      "OFCL 69.59 43.59 0.0\n",
      "OFCL 69.59 43.59 0.0\n",
      "OFCL 69.59 43.59 0.0\n",
      "OFCL 69.59 43.59 0.0\n",
      "OFCL 69.59 43.59 0.0\n",
      "OFCL 69.59 43.59 0.0\n",
      "OFCL 69.59 43.59 0.0\n",
      "Consensus OFCL only 69.59 43.59 0.0\n",
      "Consensus OFCL + Hurricast 69.71 44.33 1.85\n",
      "\n",
      "\n"
     ]
    }
   ],
   "source": [
    "d1 = train_xgb_track_all_years(basin = 'EP', max_depth=8, learning_rate=0.03, n_estimators=200, subsample=0.8, forecast7 = 'OFCL', forecast6 = 'OFCL', forecast5 = 'OFCL', forecast = 'OFCL', forecast4 = 'OFCL', forecast3 = 'OFCL', forecast2 = 'OFCL')"
   ]
  },
  {
   "cell_type": "code",
   "execution_count": null,
   "metadata": {
    "hidden": true
   },
   "outputs": [],
   "source": [
    "d1 = train_xgb_track_all_years(max_depth=8, learning_rate=0.03, n_estimators=200, subsample=0.8)"
   ]
  },
  {
   "cell_type": "code",
   "execution_count": 54,
   "metadata": {
    "hidden": true
   },
   "outputs": [
    {
     "data": {
      "text/plain": [
       "[150.19, 167.25, 142.25, 144.53, 150.51]"
      ]
     },
     "execution_count": 54,
     "metadata": {},
     "output_type": "execute_result"
    }
   ],
   "source": [
    "d1['MAEs_full']"
   ]
  },
  {
   "cell_type": "code",
   "execution_count": 44,
   "metadata": {
    "hidden": true
   },
   "outputs": [],
   "source": [
    "a = [113.34, 118.3, 89.07, 108.7, 121.65]"
   ]
  },
  {
   "cell_type": "code",
   "execution_count": 56,
   "metadata": {
    "hidden": true
   },
   "outputs": [
    {
     "data": {
      "image/png": "[encoded data removed]",
      "text/plain": [
       "<Figure size 1440x720 with 1 Axes>"
      ]
     },
     "metadata": {
      "needs_background": "light"
     },
     "output_type": "display_data"
    }
   ],
   "source": [
    "import matplotlib.pyplot as plt\n",
    "years = [i for i in range(2015, 2020)]\n",
    "plt.figure(figsize=(20,10))\n",
    "plt.xticks(years, fontsize = 20)\n",
    "plt.yticks([i for i in range(60, 220, 10)], fontsize = 20)\n",
    "#plt.figtext(.5,.9,\"Mean Average Error in km between 2015 and 2019 for different \\n North Atlantic track forecast models with lead time 24h\", fontsize=30, ha='center')\n",
    "plt.plot(years, d1['MAES_CLP5'], label = 'CLP5', marker='o')\n",
    "plt.plot(years, a, label = 'Hurricast', marker='o')\n",
    "plt.plot(years, d1['MAES_SHIP'], label = 'SHIPS', marker='o')\n",
    "plt.plot(years, d1['MAES_AEMN'], label = 'AEMN', marker='o')\n",
    "plt.plot(years, d1['MAES_HWRF'], label = 'HWRF', marker='o')\n",
    "plt.plot(years, d1['MAES_GFSO'], label = 'GFSO', marker='o')\n",
    "plt.plot(years, d1['MAES_OFCL'], label = 'OFCL', marker='o')\n",
    "plt.plot(years, d1['MAES_FSSE'], label = 'FSSE', marker='o')\n",
    "plt.xlabel(\"Year\", fontsize = 30)\n",
    "plt.ylabel(\"MAE in km\", fontsize = 30)\n",
    "plt.legend(loc=1, prop={'size': 20})\n",
    "plt.grid(linestyle='--')\n",
    "plt.savefig(\"MAE_AN_track_24.jpg\", dpi = 300)\n",
    "#plt.title(\"Mean Average Error in km between 2015 and 2019 for each forecast model\")\n",
    "plt.show()"
   ]
  },
  {
   "cell_type": "code",
   "execution_count": 40,
   "metadata": {
    "hidden": true
   },
   "outputs": [
    {
     "name": "stdout",
     "output_type": "stream",
     "text": [
      "YEAR 2015\n",
      "Number of timesteps: 255\n",
      "EP Model | MAE | std | %age busts (>200km)\n",
      "Hurricast 74.5 55.29 2.75\n",
      "SHIP 72.68 44.07 0.78\n",
      "HWRF 82.06 55.85 4.71\n",
      "OFCL 69.07 43.77 1.18\n",
      "FSSE 65.21 45.88 1.18\n",
      "AEMN 73.39 44.35 1.96\n",
      "GFSO 68.66 46.09 1.57\n",
      "CLP5 139.5 77.24 17.25\n",
      "Consensus OFCL only 63.58 40.15 0.39\n",
      "Consensus OFCL + Hurricast 58.57 37.94 0.78\n",
      "\n",
      "\n",
      "YEAR 2016\n",
      "Number of timesteps: 315\n",
      "EP Model | MAE | std | %age busts (>200km)\n",
      "Hurricast 73.11 40.59 0.95\n",
      "SHIP 57.85 34.92 0.32\n",
      "HWRF 61.82 40.02 1.9\n",
      "OFCL 54.09 34.1 0.0\n",
      "FSSE 55.8 33.86 0.32\n",
      "AEMN 56.33 37.91 0.63\n",
      "GFSO 60.33 44.6 1.9\n",
      "CLP5 113.55 58.53 7.62\n",
      "Consensus OFCL only 50.84 33.91 0.0\n",
      "Consensus OFCL + Hurricast 48.64 32.24 0.0\n",
      "\n",
      "\n",
      "YEAR 2017\n",
      "Number of timesteps: 167\n",
      "EP Model | MAE | std | %age busts (>200km)\n",
      "Hurricast 69.28 41.91 0.0\n",
      "SHIP 59.96 35.47 0.6\n",
      "HWRF 74.58 40.85 2.4\n",
      "OFCL 55.2 33.37 0.0\n",
      "FSSE 54.98 35.64 0.6\n",
      "AEMN 68.34 40.13 1.2\n",
      "GFSO 73.68 45.78 1.2\n",
      "CLP5 108.57 61.48 8.38\n",
      "Consensus OFCL only 57.64 34.02 0.6\n",
      "Consensus OFCL + Hurricast 53.8 30.38 0.0\n",
      "\n",
      "\n",
      "YEAR 2018\n",
      "Number of timesteps: 355\n",
      "EP Model | MAE | std | %age busts (>200km)\n",
      "Hurricast 73.46 45.82 1.41\n",
      "SHIP 56.76 32.53 0.28\n",
      "HWRF 67.99 44.14 1.97\n",
      "OFCL 53.6 30.77 0.28\n",
      "FSSE 56.26 60.66 1.13\n",
      "AEMN 59.09 34.78 0.28\n",
      "GFSO 64.01 44.34 1.41\n",
      "CLP5 133.27 73.69 18.31\n",
      "Consensus OFCL only 50.88 32.97 0.28\n",
      "Consensus OFCL + Hurricast 47.25 29.9 0.28\n",
      "\n",
      "\n",
      "YEAR 2019\n",
      "Number of timesteps: 40\n",
      "EP Model | MAE | std | %age busts (>200km)\n",
      "Hurricast 107.09 66.2 12.5\n",
      "SHIP 78.51 51.99 5.0\n",
      "HWRF 85.8 46.78 0.0\n",
      "OFCL 67.13 42.95 0.0\n",
      "FSSE 62.74 42.03 0.0\n",
      "AEMN 82.92 51.86 5.0\n",
      "GFSO 82.21 55.33 5.0\n",
      "CLP5 149.35 90.93 22.5\n",
      "Consensus OFCL only 61.33 36.43 0.0\n",
      "Consensus OFCL + Hurricast 61.91 36.38 0.0\n",
      "\n",
      "\n"
     ]
    }
   ],
   "source": [
    "d2 = train_xgb_track_all_years(max_depth=5, learning_rate=0.03, n_estimators=300, subsample=0.8, basin = 'EP')"
   ]
  },
  {
   "cell_type": "code",
   "execution_count": 46,
   "metadata": {
    "hidden": true
   },
   "outputs": [
    {
     "data": {
      "text/plain": [
       "[74.5, 73.11, 69.28, 73.46]"
      ]
     },
     "execution_count": 46,
     "metadata": {},
     "output_type": "execute_result"
    }
   ],
   "source": []
  },
  {
   "cell_type": "code",
   "execution_count": 33,
   "metadata": {
    "hidden": true
   },
   "outputs": [],
   "source": [
    "b = [72.32, 71.1, 67.85, 73.14]"
   ]
  },
  {
   "cell_type": "code",
   "execution_count": 57,
   "metadata": {
    "hidden": true
   },
   "outputs": [
    {
     "data": {
      "image/png": "[encoded data removed]",
      "text/plain": [
       "<Figure size 1440x720 with 1 Axes>"
      ]
     },
     "metadata": {
      "needs_background": "light"
     },
     "output_type": "display_data"
    }
   ],
   "source": [
    "years = [i for i in range(2015, 2019)]\n",
    "plt.figure(figsize=(20,10))\n",
    "plt.xticks(years, fontsize = 20)\n",
    "plt.yticks([i for i in range(50, 140, 10)], fontsize = 20)\n",
    "#plt.figtext(.5,.9,\"Mean Average Error in km between 2015 and 2018 for different \\n East Pacific track forecast models with lead time 24h\", fontsize=30, ha='center')\n",
    "\n",
    "plt.plot(years, d2['MAES_CLP5'][:-1], label = 'CLP5', marker ='o')\n",
    "plt.plot(years, b, label = 'Hurricast', marker ='o')\n",
    "plt.plot(years, d2['MAES_SHIP'][:-1], label = 'SHIPS', marker ='o')\n",
    "plt.plot(years, d2['MAES_AEMN'][:-1], label = 'AEMN', marker ='o')\n",
    "plt.plot(years, d2['MAES_HWRF'][:-1], label = 'HWRF', marker ='o')\n",
    "plt.plot(years, d2['MAES_GFSO'][:-1], label = 'GFSO', marker ='o')\n",
    "plt.plot(years, d2['MAES_OFCL'][:-1], label = 'OFCL', marker ='o')\n",
    "plt.plot(years, d2['MAES_FSSE'][:-1], label = 'FSSE', marker ='o')\n",
    "\n",
    "plt.xlabel(\"Year\", fontsize = 30)\n",
    "plt.ylabel(\"MAE in km\", fontsize = 30)\n",
    "plt.legend(loc=1, prop={'size': 20})\n",
    "plt.grid(linestyle='--')\n",
    "plt.savefig(\"MAE_EP_track_24.jpg\", dpi = 300)\n",
    "plt.show()"
   ]
  },
  {
   "cell_type": "markdown",
   "metadata": {
    "heading_collapsed": true
   },
   "source": [
    "# Get results old"
   ]
  },
  {
   "cell_type": "code",
   "execution_count": 450,
   "metadata": {
    "hidden": true
   },
   "outputs": [
    {
     "name": "stdout",
     "output_type": "stream",
     "text": [
      "Number of timesteps: 669\n",
      "AN Model | MAE | std | %age busts (>200km)\n",
      "Hurricast 107.59 74.55 10.31\n",
      "SHIP 77.06 64.11 4.04\n",
      "HWRF 72.01 47.85 2.39\n",
      "OFCL 70.36 57.78 2.84\n",
      "FSSE 67.53 53.48 3.44\n",
      "AEMN 72.81 57.98 2.54\n",
      "GFSO 70.47 56.01 3.74\n",
      "CLP5 197.76 142.19 36.17\n",
      "Consensus OFCL only 62.67 50.49 2.09\n",
      "Consensus OFCL + Hurricast 60.38 47.39 1.49\n",
      "Number of timesteps: 522\n",
      "EP Model | MAE | std | %age busts (>200km)\n",
      "Hurricast 71.38 44.01 0.96\n",
      "SHIP 57.78 33.53 0.38\n",
      "HWRF 70.1 43.23 2.11\n",
      "OFCL 54.11 31.63 0.19\n",
      "FSSE 55.85 53.93 0.96\n",
      "AEMN 62.05 36.83 0.57\n",
      "GFSO 67.11 45.03 1.34\n",
      "CLP5 125.37 70.95 15.13\n",
      "Consensus OFCL only 53.04 33.46 0.38\n",
      "Consensus OFCL + Hurricast 49.3 30.13 0.19\n"
     ]
    }
   ],
   "source": [
    "#TRAIN TOTAL\n",
    "max_depth = 7\n",
    "n_estimators = 200\n",
    "learning_rate = 0.03\n",
    "subsample = 0.8\n",
    "min_child_weight=5\n",
    "#col_sample_by_tree = 0.7\n",
    "train_x = X_train_total\n",
    "train_y = X_train_total\n",
    "test_x = X_test_total\n",
    "test_y = X_test_total\n",
    "tgt_train = tgt_displacement_train\n",
    "    \n",
    "xgb_x = XGBRegressor(max_depth=max_depth, n_estimators=n_estimators, learning_rate=learning_rate, subsample=subsample, min_child_weight=min_child_weight)\n",
    "xgb_x.fit(train_x, tgt_train[:, 0])\n",
    "xgb_y = XGBRegressor(max_depth=max_depth, n_estimators=n_estimators, learning_rate=learning_rate, subsample=subsample, min_child_weight=min_child_weight)\n",
    "xgb_y.fit(train_y, tgt_train[:, 1])\n",
    "DLATS_PRED = np.array(xgb_x.predict(test_x)) * std_dx + mean_dx\n",
    "DLONS_PRED = np.array(xgb_y.predict(test_y)) * std_dy + mean_dy\n",
    "LATS_PRED_ = X_test['LAT_7'] + DLATS_PRED\n",
    "LONS_PRED_ = X_test['LON_7'] + DLONS_PRED\n",
    "compare_perf_track_7cast(year = 2017, basin='AN', forecast='SHIP', forecast2 = 'HWRF', forecast3='OFCL', forecast4 = 'FSSE', forecast5='AEMN', forecast6 = 'GFSO', forecast7 = 'CLP5', LATS_PRED_= LATS_PRED_, LONS_PRED_=LONS_PRED_)\n",
    "compare_perf_track_7cast(year = 2017, basin='EP', forecast='SHIP', forecast2 = 'HWRF', forecast3='OFCL', forecast4 = 'FSSE', forecast5='AEMN', forecast6 = 'GFSO', forecast7 = 'CLP5', LATS_PRED_= LATS_PRED_, LONS_PRED_=LONS_PRED_)"
   ]
  },
  {
   "cell_type": "code",
   "execution_count": 430,
   "metadata": {
    "hidden": true
   },
   "outputs": [
    {
     "name": "stdout",
     "output_type": "stream",
     "text": [
      "Number of timesteps: 669\n",
      "AN Model | MAE | std | %age busts (>200km)\n",
      "Hurricast 107.16 74.34 11.36\n",
      "SHIP 77.06 64.11 4.04\n",
      "HWRF 72.01 47.85 2.39\n",
      "OFCL 70.36 57.78 2.84\n",
      "FSSE 67.53 53.48 3.44\n",
      "AEMN 72.81 57.98 2.54\n",
      "GFSO 70.47 56.01 3.74\n",
      "CLP5 197.76 142.19 36.17\n",
      "Consensus OFCL only 62.67 50.49 2.09\n",
      "Consensus OFCL + Hurricast 60.23 47.42 1.49\n",
      "Number of timesteps: 522\n",
      "EP Model | MAE | std | %age busts (>200km)\n",
      "Hurricast 71.55 44.65 0.96\n",
      "SHIP 57.78 33.53 0.38\n",
      "HWRF 70.1 43.23 2.11\n",
      "OFCL 54.11 31.63 0.19\n",
      "FSSE 55.85 53.93 0.96\n",
      "AEMN 62.05 36.83 0.57\n",
      "GFSO 67.11 45.03 1.34\n",
      "CLP5 125.37 70.95 15.13\n",
      "Consensus OFCL only 53.04 33.46 0.38\n",
      "Consensus OFCL + Hurricast 49.3 29.91 0.19\n"
     ]
    }
   ],
   "source": [
    "compare_perf_track_7cast(year = 2017, basin='AN', forecast='SHIP', forecast2 = 'HWRF', forecast3='OFCL', forecast4 = 'FSSE', forecast5='AEMN', forecast6 = 'GFSO', forecast7 = 'CLP5', LATS_PRED_= LATS_PRED_, LONS_PRED_=LONS_PRED_)\n",
    "compare_perf_track_7cast(year = 2017, basin='EP', forecast='SHIP', forecast2 = 'HWRF', forecast3='OFCL', forecast4 = 'FSSE', forecast5='AEMN', forecast6 = 'GFSO', forecast7 = 'CLP5', LATS_PRED_= LATS_PRED_, LONS_PRED_=LONS_PRED_)"
   ]
  },
  {
   "cell_type": "code",
   "execution_count": 192,
   "metadata": {
    "hidden": true
   },
   "outputs": [
    {
     "name": "stdout",
     "output_type": "stream",
     "text": [
      "Number of timesteps: 669\n",
      "AN Model | MAE | std | %age busts (>200km)\n",
      "Hurricast 106.61 73.49 10.46\n",
      "SHIP 77.06 64.11 4.04\n",
      "HWRF 72.01 47.85 2.39\n",
      "OFCL 70.36 57.78 2.84\n",
      "FSSE 67.53 53.48 3.44\n",
      "AEMN 72.81 57.98 2.54\n",
      "GFSO 70.47 56.01 3.74\n",
      "CLP5 197.76 142.19 36.17\n",
      "Consensus OFCL only 62.67 50.49 2.09\n",
      "Consensus OFCL + Hurricast 60.35 47.4 1.49\n"
     ]
    }
   ],
   "source": [
    "compare_perf_track_7cast(year = 2017, basin='AN', forecast='SHIP', forecast2 = 'HWRF', forecast3='OFCL', forecast4 = 'FSSE', forecast5='AEMN', forecast6 = 'GFSO', forecast7 = 'CLP5', LATS_PRED_=LATS_PRED_, LONS_PRED_=LONS_PRED_)\n",
    "compare_perf_track_7cast(year = 2017, basin='EP', forecast='SHIP', forecast2 = 'HWRF', forecast3='OFCL', forecast4 = 'FSSE', forecast5='AEMN', forecast6 = 'GFSO', forecast7 = 'CLP5', LATS_PRED_=LATS_PRED_, LONS_PRED_=LONS_PRED_)"
   ]
  },
  {
   "cell_type": "code",
   "execution_count": 445,
   "metadata": {
    "hidden": true
   },
   "outputs": [
    {
     "name": "stdout",
     "output_type": "stream",
     "text": [
      "Number of timesteps: 669\n",
      "AN Model | MAE | std | %age busts (>200km)\n",
      "Hurricast 173.49 120.58 29.45\n",
      "SHIP 77.06 64.11 4.04\n",
      "HWRF 72.01 47.85 2.39\n",
      "OFCL 70.36 57.78 2.84\n",
      "FSSE 67.53 53.48 3.44\n",
      "AEMN 72.81 57.98 2.54\n",
      "GFSO 70.47 56.01 3.74\n",
      "CLP5 197.76 142.19 36.17\n",
      "Consensus OFCL only 62.67 50.49 2.09\n",
      "Consensus OFCL + Hurricast 67.65 49.37 2.54\n",
      "Number of timesteps: 522\n",
      "EP Model | MAE | std | %age busts (>200km)\n",
      "Hurricast 125.54 78.41 14.18\n",
      "SHIP 57.78 33.53 0.38\n",
      "HWRF 70.1 43.23 2.11\n",
      "OFCL 54.11 31.63 0.19\n",
      "FSSE 55.85 53.93 0.96\n",
      "AEMN 62.05 36.83 0.57\n",
      "GFSO 67.11 45.03 1.34\n",
      "CLP5 125.37 70.95 15.13\n",
      "Consensus OFCL only 53.04 33.46 0.38\n",
      "Consensus OFCL + Hurricast 52.92 31.36 0.19\n"
     ]
    }
   ],
   "source": [
    "#TRAIN TABULAR ONLY\n",
    "max_depth = 7\n",
    "n_estimators = 150\n",
    "learning_rate = 0.03\n",
    "subsample = 0.7\n",
    "min_child_weight=5\n",
    "#col_sample_by_tree = 0.7\n",
    "train_x = np.array(X_train)[:,1:]\n",
    "train_y = train_x\n",
    "test_x = np.array(X_test)\n",
    "test_y = test_x\n",
    "tgt_train = tgt_displacement_train\n",
    "    \n",
    "xgb_x = XGBRegressor(max_depth=max_depth, n_estimators=n_estimators, learning_rate=learning_rate, subsample=subsample, min_child_weight=min_child_weight)\n",
    "xgb_x.fit(train_x, tgt_train[:, 0])\n",
    "xgb_y = XGBRegressor(max_depth=max_depth, n_estimators=n_estimators, learning_rate=learning_rate, subsample=subsample, min_child_weight=min_child_weight)\n",
    "xgb_y.fit(train_y, tgt_train[:, 1])\n",
    "DLATS_PRED = np.array(xgb_x.predict(test_x)) * std_dx + mean_dx\n",
    "DLONS_PRED = np.array(xgb_y.predict(test_y)) * std_dy + mean_dy\n",
    "LATS_PRED_ = X_test['LAT_7'] + DLATS_PRED\n",
    "LONS_PRED_ = X_test['LON_7'] + DLONS_PRED\n",
    "compare_perf_track_7cast(year = 2017, basin='AN', forecast='SHIP', forecast2 = 'HWRF', forecast3='OFCL', forecast4 = 'FSSE', forecast5='AEMN', forecast6 = 'GFSO', forecast7 = 'CLP5', LATS_PRED_= LATS_PRED_, LONS_PRED_=LONS_PRED_)\n",
    "compare_perf_track_7cast(year = 2017, basin='EP', forecast='SHIP', forecast2 = 'HWRF', forecast3='OFCL', forecast4 = 'FSSE', forecast5='AEMN', forecast6 = 'GFSO', forecast7 = 'CLP5', LATS_PRED_= LATS_PRED_, LONS_PRED_=LONS_PRED_)"
   ]
  },
  {
   "cell_type": "code",
   "execution_count": 457,
   "metadata": {
    "hidden": true
   },
   "outputs": [
    {
     "name": "stdout",
     "output_type": "stream",
     "text": [
      "Number of timesteps: 669\n",
      "AN Model | MAE | std | %age busts (>200km)\n",
      "Hurricast 110.88 79.15 11.51\n",
      "SHIP 77.06 64.11 4.04\n",
      "HWRF 72.01 47.85 2.39\n",
      "OFCL 70.36 57.78 2.84\n",
      "FSSE 67.53 53.48 3.44\n",
      "AEMN 72.81 57.98 2.54\n",
      "GFSO 70.47 56.01 3.74\n",
      "CLP5 197.76 142.19 36.17\n",
      "Consensus OFCL only 62.67 50.49 2.09\n",
      "Consensus OFCL + Hurricast 60.8 47.42 1.49\n",
      "Number of timesteps: 522\n",
      "EP Model | MAE | std | %age busts (>200km)\n",
      "Hurricast 71.69 43.7 0.57\n",
      "SHIP 57.78 33.53 0.38\n",
      "HWRF 70.1 43.23 2.11\n",
      "OFCL 54.11 31.63 0.19\n",
      "FSSE 55.85 53.93 0.96\n",
      "AEMN 62.05 36.83 0.57\n",
      "GFSO 67.11 45.03 1.34\n",
      "CLP5 125.37 70.95 15.13\n",
      "Consensus OFCL only 53.04 33.46 0.38\n",
      "Consensus OFCL + Hurricast 49.44 30.22 0.19\n"
     ]
    }
   ],
   "source": [
    "#TRAIN EMBED ONLY\n",
    "max_depth = 7\n",
    "n_estimators = 150\n",
    "learning_rate = 0.05\n",
    "subsample = 0.7\n",
    "min_child_weight=5\n",
    "#col_sample_by_tree = 0.7\n",
    "train_x = X_train_embed\n",
    "train_y = train_x\n",
    "test_x = X_test_embed\n",
    "test_y = test_x\n",
    "tgt_train = tgt_displacement_train\n",
    "    \n",
    "xgb_x = XGBRegressor(max_depth=max_depth, n_estimators=n_estimators, learning_rate=learning_rate, subsample=subsample, min_child_weight=min_child_weight)\n",
    "xgb_x.fit(train_x, tgt_train[:, 0])\n",
    "xgb_y = XGBRegressor(max_depth=max_depth, n_estimators=n_estimators, learning_rate=learning_rate, subsample=subsample, min_child_weight=min_child_weight)\n",
    "xgb_y.fit(train_y, tgt_train[:, 1])\n",
    "DLATS_PRED = np.array(xgb_x.predict(test_x)) * std_dx + mean_dx\n",
    "DLONS_PRED = np.array(xgb_y.predict(test_y)) * std_dy + mean_dy\n",
    "LATS_PRED_ = X_test['LAT_7'] + DLATS_PRED\n",
    "LONS_PRED_ = X_test['LON_7'] + DLONS_PRED\n",
    "compare_perf_track_7cast(year = 2017, basin='AN', forecast='SHIP', forecast2 = 'HWRF', forecast3='OFCL', forecast4 = 'FSSE', forecast5='AEMN', forecast6 = 'GFSO', forecast7 = 'CLP5', LATS_PRED_= LATS_PRED_, LONS_PRED_=LONS_PRED_)\n",
    "compare_perf_track_7cast(year = 2017, basin='EP', forecast='SHIP', forecast2 = 'HWRF', forecast3='OFCL', forecast4 = 'FSSE', forecast5='AEMN', forecast6 = 'GFSO', forecast7 = 'CLP5', LATS_PRED_= LATS_PRED_, LONS_PRED_=LONS_PRED_)"
   ]
  },
  {
   "cell_type": "code",
   "execution_count": 461,
   "metadata": {
    "hidden": true
   },
   "outputs": [
    {
     "name": "stdout",
     "output_type": "stream",
     "text": [
      "Number of timesteps: 669\n",
      "AN Model | MAE | std | %age busts (>200km)\n",
      "Hurricast 125.48 89.75 15.25\n",
      "SHIP 77.06 64.11 4.04\n",
      "HWRF 72.01 47.85 2.39\n",
      "OFCL 70.36 57.78 2.84\n",
      "FSSE 67.53 53.48 3.44\n",
      "AEMN 72.81 57.98 2.54\n",
      "GFSO 70.47 56.01 3.74\n",
      "CLP5 197.76 142.19 36.17\n",
      "Consensus OFCL only 62.67 50.49 2.09\n",
      "Consensus OFCL + Hurricast 64.15 48.08 1.79\n",
      "Number of timesteps: 522\n",
      "EP Model | MAE | std | %age busts (>200km)\n",
      "Hurricast 73.56 44.74 1.53\n",
      "SHIP 57.78 33.53 0.38\n",
      "HWRF 70.1 43.23 2.11\n",
      "OFCL 54.11 31.63 0.19\n",
      "FSSE 55.85 53.93 0.96\n",
      "AEMN 62.05 36.83 0.57\n",
      "GFSO 67.11 45.03 1.34\n",
      "CLP5 125.37 70.95 15.13\n",
      "Consensus OFCL only 53.04 33.46 0.38\n",
      "Consensus OFCL + Hurricast 50.55 31.22 0.19\n"
     ]
    }
   ],
   "source": [
    "#OFCL + TABULAR ONLY\n",
    "max_depth = 6\n",
    "n_estimators = 150\n",
    "learning_rate = 0.05\n",
    "subsample = 0.7\n",
    "min_child_weight=5\n",
    "#col_sample_by_tree = 0.7\n",
    "train_x = X_test_baseline[:m]\n",
    "train_y = train_x\n",
    "test_x = X_test_baseline\n",
    "test_y = test_x\n",
    "tgt_train = tgt_displacement_test[:m]\n",
    "    \n",
    "xgb_x = XGBRegressor(max_depth=max_depth, n_estimators=n_estimators, learning_rate=learning_rate, subsample=subsample, min_child_weight=min_child_weight)\n",
    "xgb_x.fit(train_x, tgt_train[:, 0])\n",
    "xgb_y = XGBRegressor(max_depth=max_depth, n_estimators=n_estimators, learning_rate=learning_rate, subsample=subsample, min_child_weight=min_child_weight)\n",
    "xgb_y.fit(train_y, tgt_train[:, 1])\n",
    "DLATS_PRED = np.array(xgb_x.predict(test_x)) * std_dx + mean_dx\n",
    "DLONS_PRED = np.array(xgb_y.predict(test_y)) * std_dy + mean_dy\n",
    "LATS_PRED_ = X_test['LAT_7'] + DLATS_PRED\n",
    "LONS_PRED_ = X_test['LON_7'] + DLONS_PRED\n",
    "compare_perf_track_7cast(year = 2017, basin='AN', forecast='SHIP', forecast2 = 'HWRF', forecast3='OFCL', forecast4 = 'FSSE', forecast5='AEMN', forecast6 = 'GFSO', forecast7 = 'CLP5', LATS_PRED_= LATS_PRED_, LONS_PRED_=LONS_PRED_)\n",
    "compare_perf_track_7cast(year = 2017, basin='EP', forecast='SHIP', forecast2 = 'HWRF', forecast3='OFCL', forecast4 = 'FSSE', forecast5='AEMN', forecast6 = 'GFSO', forecast7 = 'CLP5', LATS_PRED_= LATS_PRED_, LONS_PRED_=LONS_PRED_)"
   ]
  },
  {
   "cell_type": "code",
   "execution_count": 470,
   "metadata": {
    "hidden": true
   },
   "outputs": [
    {
     "name": "stdout",
     "output_type": "stream",
     "text": [
      "Number of timesteps: 669\n",
      "AN Model | MAE | std | %age busts (>200km)\n",
      "Hurricast 94.98 65.2 7.03\n",
      "SHIP 77.06 64.11 4.04\n",
      "HWRF 72.01 47.85 2.39\n",
      "OFCL 70.36 57.78 2.84\n",
      "FSSE 67.53 53.48 3.44\n",
      "AEMN 72.81 57.98 2.54\n",
      "GFSO 70.47 56.01 3.74\n",
      "CLP5 197.76 142.19 36.17\n",
      "Consensus OFCL only 62.67 50.49 2.09\n",
      "Consensus OFCL + Hurricast 60.85 47.9 1.49\n",
      "Number of timesteps: 522\n",
      "EP Model | MAE | std | %age busts (>200km)\n",
      "Hurricast 62.99 37.23 0.38\n",
      "SHIP 57.78 33.53 0.38\n",
      "HWRF 70.1 43.23 2.11\n",
      "OFCL 54.11 31.63 0.19\n",
      "FSSE 55.85 53.93 0.96\n",
      "AEMN 62.05 36.83 0.57\n",
      "GFSO 67.11 45.03 1.34\n",
      "CLP5 125.37 70.95 15.13\n",
      "Consensus OFCL only 53.04 33.46 0.38\n",
      "Consensus OFCL + Hurricast 49.97 30.82 0.19\n"
     ]
    }
   ],
   "source": [
    "#OFCL + EMBED\n",
    "max_depth = 7\n",
    "n_estimators = 200\n",
    "learning_rate = 0.05\n",
    "subsample = 0.8\n",
    "min_child_weight=5\n",
    "#col_sample_by_tree = 0.7\n",
    "train_x = np.concatenate((X_test_baseline[:m], X_test_embed[:m]), axis = 1)\n",
    "train_y = train_x\n",
    "test_x = np.concatenate((X_test_baseline, X_test_embed), axis = 1)\n",
    "test_y = test_x\n",
    "tgt_train = tgt_displacement_test[:m]\n",
    "    \n",
    "xgb_x = XGBRegressor(max_depth=max_depth, n_estimators=n_estimators, learning_rate=learning_rate, subsample=subsample, min_child_weight=min_child_weight)\n",
    "xgb_x.fit(train_x, tgt_train[:, 0])\n",
    "xgb_y = XGBRegressor(max_depth=max_depth, n_estimators=n_estimators, learning_rate=learning_rate, subsample=subsample, min_child_weight=min_child_weight)\n",
    "xgb_y.fit(train_y, tgt_train[:, 1])\n",
    "DLATS_PRED = np.array(xgb_x.predict(test_x)) * std_dx + mean_dx\n",
    "DLONS_PRED = np.array(xgb_y.predict(test_y)) * std_dy + mean_dy\n",
    "LATS_PRED_ = X_test['LAT_7'] + DLATS_PRED\n",
    "LONS_PRED_ = X_test['LON_7'] + DLONS_PRED\n",
    "compare_perf_track_7cast(year = 2017, basin='AN', forecast='SHIP', forecast2 = 'HWRF', forecast3='OFCL', forecast4 = 'FSSE', forecast5='AEMN', forecast6 = 'GFSO', forecast7 = 'CLP5', LATS_PRED_= LATS_PRED_, LONS_PRED_=LONS_PRED_)\n",
    "compare_perf_track_7cast(year = 2017, basin='EP', forecast='SHIP', forecast2 = 'HWRF', forecast3='OFCL', forecast4 = 'FSSE', forecast5='AEMN', forecast6 = 'GFSO', forecast7 = 'CLP5', LATS_PRED_= LATS_PRED_, LONS_PRED_=LONS_PRED_)"
   ]
  },
  {
   "cell_type": "code",
   "execution_count": 490,
   "metadata": {
    "hidden": true
   },
   "outputs": [],
   "source": [
    "x_viz_train = np.load('../data/X_train_vision_comp_1980_34_20_120.npy', allow_pickle=True).reshape(-1, 3*5*3*3)\n",
    "x_viz_test = np.load('../data/X_test_vision_comp_1980_34_20_120.npy', allow_pickle=True).reshape(-1, 3*5*3*3)[-n:]\n",
    "x_viz_train = np.concatenate((x_viz_train, x_viz_test[:m]), axis = 0)\n",
    "X_train_total_comp = np.concatenate((X_train, x_viz_train), axis = 1)\n",
    "X_test_total_comp = np.concatenate((X_test, x_viz_test), axis = 1)"
   ]
  },
  {
   "cell_type": "code",
   "execution_count": 498,
   "metadata": {
    "hidden": true
   },
   "outputs": [
    {
     "name": "stdout",
     "output_type": "stream",
     "text": [
      "Number of timesteps: 669\n",
      "AN Model | MAE | std | %age busts (>200km)\n",
      "Hurricast 134.37 96.2 17.64\n",
      "SHIP 77.06 64.11 4.04\n",
      "HWRF 72.01 47.85 2.39\n",
      "OFCL 70.36 57.78 2.84\n",
      "FSSE 67.53 53.48 3.44\n",
      "AEMN 72.81 57.98 2.54\n",
      "GFSO 70.47 56.01 3.74\n",
      "CLP5 197.76 142.19 36.17\n",
      "Consensus OFCL only 62.67 50.49 2.09\n",
      "Consensus OFCL + Hurricast 63.73 47.34 2.24\n",
      "Number of timesteps: 522\n",
      "EP Model | MAE | std | %age busts (>200km)\n",
      "Hurricast 83.35 47.74 1.53\n",
      "SHIP 57.78 33.53 0.38\n",
      "HWRF 70.1 43.23 2.11\n",
      "OFCL 54.11 31.63 0.19\n",
      "FSSE 55.85 53.93 0.96\n",
      "AEMN 62.05 36.83 0.57\n",
      "GFSO 67.11 45.03 1.34\n",
      "CLP5 125.37 70.95 15.13\n",
      "Consensus OFCL only 53.04 33.46 0.38\n",
      "Consensus OFCL + Hurricast 49.45 30.4 0.19\n"
     ]
    }
   ],
   "source": [
    "#TRAIN TOTAL COMP\n",
    "max_depth = 9\n",
    "n_estimators = 150\n",
    "learning_rate = 0.05\n",
    "subsample = 0.8\n",
    "min_child_weight=5\n",
    "#col_sample_by_tree = 0.7\n",
    "train_x = X_train_total_comp\n",
    "train_y = train_x\n",
    "test_x = X_test_total_comp\n",
    "test_y = test_x\n",
    "tgt_train = tgt_displacement_train\n",
    "    \n",
    "xgb_x = XGBRegressor(max_depth=max_depth, n_estimators=n_estimators, learning_rate=learning_rate, subsample=subsample, min_child_weight=min_child_weight)\n",
    "xgb_x.fit(train_x, tgt_train[:, 0])\n",
    "xgb_y = XGBRegressor(max_depth=max_depth, n_estimators=n_estimators, learning_rate=learning_rate, subsample=subsample, min_child_weight=min_child_weight)\n",
    "xgb_y.fit(train_y, tgt_train[:, 1])\n",
    "DLATS_PRED = np.array(xgb_x.predict(test_x)) * std_dx + mean_dx\n",
    "DLONS_PRED = np.array(xgb_y.predict(test_y)) * std_dy + mean_dy\n",
    "LATS_PRED_ = X_test['LAT_7'] + DLATS_PRED\n",
    "LONS_PRED_ = X_test['LON_7'] + DLONS_PRED\n",
    "compare_perf_track_7cast(year = 2017, basin='AN', forecast='SHIP', forecast2 = 'HWRF', forecast3='OFCL', forecast4 = 'FSSE', forecast5='AEMN', forecast6 = 'GFSO', forecast7 = 'CLP5', LATS_PRED_= LATS_PRED_, LONS_PRED_=LONS_PRED_)\n",
    "compare_perf_track_7cast(year = 2017, basin='EP', forecast='SHIP', forecast2 = 'HWRF', forecast3='OFCL', forecast4 = 'FSSE', forecast5='AEMN', forecast6 = 'GFSO', forecast7 = 'CLP5', LATS_PRED_= LATS_PRED_, LONS_PRED_=LONS_PRED_)"
   ]
  },
  {
   "cell_type": "code",
   "execution_count": 193,
   "metadata": {
    "hidden": true
   },
   "outputs": [
    {
     "name": "stdout",
     "output_type": "stream",
     "text": [
      "Number of timesteps: 522\n",
      "EP Model | MAE | std | %age busts (>200km)\n",
      "Hurricast 71.63 45.09 1.15\n",
      "SHIP 57.78 33.53 0.38\n",
      "HWRF 70.1 43.23 2.11\n",
      "OFCL 54.11 31.63 0.19\n",
      "FSSE 55.85 53.93 0.96\n",
      "AEMN 62.05 36.83 0.57\n",
      "GFSO 67.11 45.03 1.34\n",
      "CLP5 125.37 70.95 15.13\n",
      "Consensus OFCL only 53.04 33.46 0.38\n",
      "Consensus OFCL + Hurricast 49.34 30.18 0.19\n"
     ]
    }
   ],
   "source": [
    "compare_perf_track_7cast(year = 2017, basin='EP', forecast='SHIP', forecast2 = 'HWRF', forecast3='OFCL', forecast4 = 'FSSE', forecast5='AEMN', forecast6 = 'GFSO', forecast7 = 'CLP5', LATS_PRED_=LATS_PRED_, LONS_PRED_=LONS_PRED_)"
   ]
  },
  {
   "cell_type": "code",
   "execution_count": 171,
   "metadata": {
    "hidden": true
   },
   "outputs": [
    {
     "name": "stdout",
     "output_type": "stream",
     "text": [
      "Number of timesteps: 522\n",
      "EP Model | MAE | std | %age busts (>200km)\n",
      "Hurricast 72.12 44.77 1.15\n",
      "SHIP 57.78 33.53 0.38\n",
      "HWRF 70.1 43.23 2.11\n",
      "OFCL 54.11 31.63 0.19\n",
      "FSSE 55.85 53.93 0.96\n",
      "AEMN 62.05 36.83 0.57\n",
      "GFSO 67.11 45.03 1.34\n",
      "CLP5 125.37 70.95 15.13\n",
      "Consensus OFCL only 53.04 33.46 0.38\n",
      "Consensus OFCL + Hurricast 49.34 30.08 0.19\n"
     ]
    }
   ],
   "source": [
    "compare_perf_track_7cast(year = 2017, basin='EP', forecast='SHIP', forecast2 = 'HWRF', forecast3='OFCL', forecast4 = 'FSSE', forecast5='AEMN', forecast6 = 'GFSO', forecast7 = 'CLP5', LATS_PRED_=LATS_PRED_, LONS_PRED_=LONS_PRED_)"
   ]
  },
  {
   "cell_type": "markdown",
   "metadata": {},
   "source": [
    "# Consensus"
   ]
  },
  {
   "cell_type": "code",
   "execution_count": 101,
   "metadata": {},
   "outputs": [
    {
     "data": {
      "text/plain": [
       "XGBRegressor(base_score=0.5, booster='gbtree', colsample_bylevel=1,\n",
       "       colsample_bynode=1, colsample_bytree=1, gamma=0, gpu_id=-1,\n",
       "       importance_type='gain', interaction_constraints='',\n",
       "       learning_rate=0.03, max_delta_step=0, max_depth=7,\n",
       "       min_child_weight=5, missing=nan, monotone_constraints='()',\n",
       "       n_estimators=300, n_jobs=0, num_parallel_tree=1,\n",
       "       objective='reg:squarederror', random_state=0, reg_alpha=0,\n",
       "       reg_lambda=1, scale_pos_weight=1, subsample=0.8,\n",
       "       tree_method='exact', validate_parameters=1, verbosity=None)"
      ]
     },
     "execution_count": 101,
     "metadata": {},
     "output_type": "execute_result"
    }
   ],
   "source": [
    "max_depth = 7\n",
    "n_estimators = 300\n",
    "learning_rate = 0.03\n",
    "subsample = 0.8\n",
    "min_child_weight=5\n",
    "#col_sample_by_tree = 0.7\n",
    "train_x = X_train_total\n",
    "train_y = X_train_total\n",
    "test_x = X_test_total\n",
    "test_y = test_x\n",
    "tgt_train = tgt_displacement_train\n",
    "    \n",
    "xgb_x = XGBRegressor(max_depth=max_depth, n_estimators=n_estimators, learning_rate=learning_rate, subsample=subsample, min_child_weight=min_child_weight)\n",
    "xgb_x.fit(train_x, tgt_train[:, 0])\n",
    "xgb_y = XGBRegressor(max_depth=max_depth, n_estimators=n_estimators, learning_rate=learning_rate, subsample=subsample, min_child_weight=min_child_weight)\n",
    "xgb_y.fit(train_y, tgt_train[:, 1])"
   ]
  },
  {
   "cell_type": "code",
   "execution_count": 169,
   "metadata": {},
   "outputs": [],
   "source": [
    "year = 2016\n",
    "forecast='SHIP'\n",
    "forecast2 = 'HWRF'\n",
    "forecast3 = 'OFCL'\n",
    "forecast4 = 'FSSE'\n",
    "forecast5 = 'GFSO'\n",
    "forecast6 = 'AEMN'\n",
    "forecast7 = 'CLP5'\n",
    "mode = 'lat'\n",
    "basin = 'EP'\n",
    "test = X_test_total\n",
    "DLATS_PRED = np.array(xgb_x.predict(test_x)) * std_dx + mean_dx\n",
    "DLONS_PRED = np.array(xgb_y.predict(test_y)) * std_dy + mean_dy\n",
    "LATS_PRED_ = X_test['LAT_7'] + DLATS_PRED\n",
    "LONS_PRED_ = X_test['LON_7'] + DLONS_PRED\n",
    "\n",
    "if forecast2 != None:\n",
    "    if True: \n",
    "        baseline_ = X_test_baseline.loc[X_test_baseline['YEAR_0'] < year].loc[\n",
    "            X_test_baseline[forecast7 + '_24_' + mode + '_7'] > -320].loc[\n",
    "            X_test_baseline[forecast6 + '_24_' + mode + '_7'] > -320].loc[\n",
    "            X_test_baseline[forecast5 + '_24_' + mode + '_7'] > -320].loc[\n",
    "            X_test_baseline[forecast4 + '_24_' + mode + '_7'] > -320].loc[\n",
    "            X_test_baseline[forecast3 + '_24_' + mode + '_7'] > -320].loc[\n",
    "            X_test_baseline[forecast2 + '_24_' + mode + '_7'] > -320].loc[\n",
    "            X_test_baseline[forecast + '_24_' + mode + '_7'] > -320].loc[X_test_baseline['cat_basin_' + basin + '_0'] == 1]  # .loc[#X_test_baseline['SHIP_24_'+mode+'_7'] > 0].index\n",
    "        if basin == 'EP':\n",
    "            baseline_ = baseline_.loc[X_test_baseline['YEAR_0'] < 2019]\n",
    "        index = baseline_.index\n",
    "        LATS_BASE_2 = np.array(baseline_[forecast2 + '_24_lat_7'])\n",
    "        LONS_BASE_2 = np.array(baseline_[forecast2 + '_24_lon_7'])\n",
    "        LATS_BASE_3 = np.array(baseline_[forecast3 + '_24_lat_7'])\n",
    "        LONS_BASE_3 = np.array(baseline_[forecast3 + '_24_lon_7'])\n",
    "        LATS_BASE_4 = np.array(baseline_[forecast4 + '_24_lat_7'])\n",
    "        LONS_BASE_4 = np.array(baseline_[forecast4 + '_24_lon_7'])\n",
    "        LATS_BASE_5 = np.array(baseline_[forecast5 + '_24_lat_7'])\n",
    "        LONS_BASE_5 = np.array(baseline_[forecast5 + '_24_lon_7'])\n",
    "        LATS_BASE_6 = np.array(baseline_[forecast6 + '_24_lat_7'])\n",
    "        LONS_BASE_6 = np.array(baseline_[forecast6 + '_24_lon_7'])\n",
    "        LATS_BASE_7 = np.array(baseline_[forecast7 + '_24_lat_7'])\n",
    "        LONS_BASE_7 = np.array(baseline_[forecast7 + '_24_lon_7'])\n",
    "        \n",
    "    LATS_TEST_t = np.array(X_test['LAT_7'] + np.array(tgt_displacement_test[:, 0])*std_dx+mean_dx)[index]\n",
    "    LONS_TEST_t = np.array(X_test['LON_7'] + np.array(tgt_displacement_test[:, 1])*std_dy+mean_dy)[index]\n",
    "    tgt_x = (np.array(tgt_displacement_test[:, 0])*std_dx+mean_dx)[index]\n",
    "    tgt_y = (np.array(tgt_displacement_test[:, 1])*std_dy+mean_dy)[index]\n",
    "    baseline_1_x = np.array(baseline_[forecast + '_24_'+mode+'_7'])\n",
    "    baseline_1_y = np.array(baseline_[forecast + '_24_lon_7'])\n",
    "    baseline_2_x = np.array(baseline_[forecast2 + '_24_'+mode+'_7'])\n",
    "    baseline_2_y = np.array(baseline_[forecast2 + '_24_lon_7'])\n",
    "    baseline_3_x = np.array(baseline_[forecast3 + '_24_'+mode+'_7'])\n",
    "    baseline_3_y = np.array(baseline_[forecast3 + '_24_lon_7'])\n",
    "    baseline_4_x = np.array(baseline_[forecast4 + '_24_'+mode+'_7'])\n",
    "    baseline_4_y = np.array(baseline_[forecast4 + '_24_lon_7'])\n",
    "    baseline_5_x = np.array(baseline_[forecast5 + '_24_'+mode+'_7'])\n",
    "    baseline_5_y = np.array(baseline_[forecast5 + '_24_lon_7'])\n",
    "    baseline_6_x = np.array(baseline_[forecast6 + '_24_'+mode+'_7'])\n",
    "    baseline_6_y = np.array(baseline_[forecast6 + '_24_lon_7'])\n",
    "    baseline_7_x = np.array(baseline_[forecast7 + '_24_'+mode+'_7'])\n",
    "    baseline_7_y = np.array(baseline_[forecast7 + '_24_lon_7'])\n",
    "    LATS_PRED_t = np.array(LATS_PRED_)[index]\n",
    "    LONS_PRED_t = np.array(LONS_PRED_)[index]\n",
    "    \n",
    "    for i in range(len(LATS_PRED_t)):\n",
    "        if baseline_2_y[i] > 160:\n",
    "            baseline_1_y[i] -= 360\n",
    "            baseline_6_y[i] -= 360\n",
    "            baseline_5_y[i] -= 360\n",
    "            baseline_2_y[i] -= 360\n",
    "            baseline_3_y[i] -= 360\n",
    "        if LONS_PRED_t[i] > 160:\n",
    "            LONS_PRED_t[i] -= 360\n",
    "            \n",
    "            \n",
    "    train_consensus_x = np.stack((baseline_1_x, baseline_2_x, baseline_3_x, baseline_4_x, baseline_5_x, baseline_6_x), axis = 1)\n",
    "    train_consensus_y = np.stack((baseline_1_y, baseline_2_y, baseline_3_y, baseline_4_y, baseline_5_y, baseline_6_y), axis = 1)\n",
    "    train_consensus_hurr_x = np.stack((baseline_1_x, baseline_2_x, baseline_3_x, baseline_4_x, baseline_5_x, baseline_6_x, LATS_PRED_t), axis = 1)\n",
    "    train_consensus_hurr_y = np.stack((baseline_1_y, baseline_2_y, baseline_3_y, baseline_4_y, baseline_5_y, baseline_6_y, LONS_PRED_t), axis = 1)\n",
    "\n",
    "base = np.array(X_test['LAT_7'])[index]\n",
    "for a in base:\n",
    "    if a > 160:\n",
    "        a-=360\n",
    "base_x = np.stack((base, base, base, base, base, base), axis = 1)\n",
    "train_consensus_x = train_consensus_x - base_x\n",
    "base_x = np.stack((base, base, base, base, base, base, base), axis = 1)\n",
    "train_consensus_hurr_x = train_consensus_hurr_x - base_x\n",
    "\n",
    "base = np.array(X_test['LON_7'])[index]\n",
    "for a in base:\n",
    "    if a > 160:\n",
    "        a-=360\n",
    "base_y = np.stack((base, base, base, base, base, base), axis = 1)\n",
    "train_consensus_y = train_consensus_y - base_y\n",
    "base_y = np.stack((base, base, base, base, base, base, base), axis = 1)\n",
    "train_consensus_hurr_y = train_consensus_hurr_y - base_y\n",
    "\n",
    "if forecast2 != None:\n",
    "    if True:\n",
    "        baseline_ = X_test_baseline.loc[X_test_baseline['YEAR_0'] == year].loc[\n",
    "            X_test_baseline[forecast7 + '_24_' + mode + '_7'] > -320].loc[\n",
    "            X_test_baseline[forecast6 + '_24_' + mode + '_7'] > -320].loc[\n",
    "            X_test_baseline[forecast5 + '_24_' + mode + '_7'] > -320].loc[\n",
    "            X_test_baseline[forecast4 + '_24_' + mode + '_7'] > -320].loc[\n",
    "            X_test_baseline[forecast3 + '_24_' + mode + '_7'] > -320].loc[\n",
    "            X_test_baseline[forecast2 + '_24_' + mode + '_7'] > -320].loc[\n",
    "            X_test_baseline[forecast + '_24_' + mode + '_7'] > -320].loc[X_test_baseline['cat_basin_' + basin + '_0'] == 1]  # .loc[#X_test_baseline['SHIP_24_'+mode+'_7'] > 0].index\n",
    "        if basin == 'EP':\n",
    "            baseline_ = baseline_.loc[X_test_baseline['YEAR_0'] < 2019]\n",
    "        index = baseline_.index\n",
    "        LATS_BASE_2 = np.array(baseline_[forecast2 + '_24_lat_7'])\n",
    "        LONS_BASE_2 = np.array(baseline_[forecast2 + '_24_lon_7'])\n",
    "        LATS_BASE_3 = np.array(baseline_[forecast3 + '_24_lat_7'])\n",
    "        LONS_BASE_3 = np.array(baseline_[forecast3 + '_24_lon_7'])\n",
    "        LATS_BASE_4 = np.array(baseline_[forecast4 + '_24_lat_7'])\n",
    "        LONS_BASE_4 = np.array(baseline_[forecast4 + '_24_lon_7'])\n",
    "        LATS_BASE_5 = np.array(baseline_[forecast5 + '_24_lat_7'])\n",
    "        LONS_BASE_5 = np.array(baseline_[forecast5 + '_24_lon_7'])\n",
    "        LATS_BASE_6 = np.array(baseline_[forecast6 + '_24_lat_7'])\n",
    "        LONS_BASE_6 = np.array(baseline_[forecast6 + '_24_lon_7'])\n",
    "        LATS_BASE_7 = np.array(baseline_[forecast7 + '_24_lat_7'])\n",
    "        LONS_BASE_7 = np.array(baseline_[forecast7 + '_24_lon_7'])\n",
    "        \n",
    "    LATS_TEST_te = np.array(X_test['LAT_7'] + np.array(tgt_displacement_test[:, 0])*std_dx+mean_dx)[index]\n",
    "    LONS_TEST_te = np.array(X_test['LON_7'] + np.array(tgt_displacement_test[:, 1])*std_dy+mean_dy)[index]\n",
    "    or_te_x = np.array(X_test['LAT_7'])[index]\n",
    "    or_te_y = np.array(X_test['LON_7'])[index]\n",
    "    baseline_1_x = np.array(baseline_[forecast + '_24_'+mode+'_7'])\n",
    "    baseline_1_y = np.array(baseline_[forecast + '_24_lon_7'])\n",
    "    baseline_2_x = np.array(baseline_[forecast2 + '_24_'+mode+'_7'])\n",
    "    baseline_2_y = np.array(baseline_[forecast2 + '_24_lon_7'])\n",
    "    baseline_3_x = np.array(baseline_[forecast3 + '_24_'+mode+'_7'])\n",
    "    baseline_3_y = np.array(baseline_[forecast3 + '_24_lon_7'])\n",
    "    baseline_4_x = np.array(baseline_[forecast4 + '_24_'+mode+'_7'])\n",
    "    baseline_4_y = np.array(baseline_[forecast4 + '_24_lon_7'])\n",
    "    baseline_5_x = np.array(baseline_[forecast5 + '_24_'+mode+'_7'])\n",
    "    baseline_5_y = np.array(baseline_[forecast5 + '_24_lon_7'])\n",
    "    baseline_6_x = np.array(baseline_[forecast6 + '_24_'+mode+'_7'])\n",
    "    baseline_6_y = np.array(baseline_[forecast6 + '_24_lon_7'])\n",
    "    baseline_7_x = np.array(baseline_[forecast7 + '_24_'+mode+'_7'])\n",
    "    baseline_7_y = np.array(baseline_[forecast7 + '_24_lon_7'])\n",
    "    LATS_PRED_te = np.array(LATS_PRED_)[index]\n",
    "    LONS_PRED_te = np.array(LONS_PRED_)[index]\n",
    "    \n",
    "    for i in range(len(LATS_PRED_te)):\n",
    "        if baseline_2_y[i] > 160:\n",
    "            baseline_1_y[i] -= 360\n",
    "            baseline_6_y[i] -= 360\n",
    "            baseline_5_y[i] -= 360\n",
    "            baseline_2_y[i] -= 360\n",
    "            baseline_3_y[i] -= 360\n",
    "        if LONS_PRED_te[i] > 160:\n",
    "            LONS_PRED_te[i] -= 360\n",
    "            \n",
    "            \n",
    "    test_consensus_x = np.stack((baseline_1_x, baseline_2_x, baseline_3_x, baseline_4_x, baseline_5_x, baseline_6_x), axis = 1)\n",
    "    test_consensus_y = np.stack((baseline_1_y, baseline_2_y, baseline_3_y, baseline_4_y, baseline_5_y, baseline_6_y), axis = 1)\n",
    "    test_consensus_hurr_x = np.stack((baseline_1_x, baseline_2_x, baseline_3_x, baseline_4_x, baseline_5_x, baseline_6_x, LATS_PRED_te), axis = 1)\n",
    "    test_consensus_hurr_y = np.stack((baseline_1_y, baseline_2_y, baseline_3_y, baseline_4_y, baseline_5_y, baseline_6_y, LONS_PRED_te), axis = 1)"
   ]
  },
  {
   "cell_type": "code",
   "execution_count": 170,
   "metadata": {},
   "outputs": [],
   "source": [
    "base = np.array(X_test['LAT_7'])[index]\n",
    "for a in base:\n",
    "    if a > 160:\n",
    "        a-=360\n",
    "base_x = np.stack((base, base, base, base, base, base), axis = 1)\n",
    "test_consensus_x = test_consensus_x - base_x\n",
    "base_x = np.stack((base, base, base, base, base, base, base), axis = 1)\n",
    "test_consensus_hurr_x = test_consensus_hurr_x - base_x\n",
    "\n",
    "base = np.array(X_test['LON_7'])[index]\n",
    "for i in range(len(base)):\n",
    "    if base[i] > 160:\n",
    "        base[i]-=360\n",
    "base_y = np.stack((base, base, base, base, base, base), axis = 1)\n",
    "test_consensus_y = test_consensus_y - base_y\n",
    "base_y = np.stack((base, base, base, base, base, base, base), axis = 1)\n",
    "test_consensus_hurr_y = test_consensus_hurr_y - base_y"
   ]
  },
  {
   "cell_type": "code",
   "execution_count": 171,
   "metadata": {},
   "outputs": [
    {
     "data": {
      "image/png": "[encoded data removed]",
      "text/plain": [
       "<Figure size 432x288 with 1 Axes>"
      ]
     },
     "metadata": {
      "needs_background": "light"
     },
     "output_type": "display_data"
    }
   ],
   "source": [
    "plt.plot(train_consensus_hurr_y)\n",
    "plt.show()"
   ]
  },
  {
   "cell_type": "code",
   "execution_count": 172,
   "metadata": {},
   "outputs": [],
   "source": [
    "ss = StandardScaler()\n",
    "train_consensus_x = ss.fit_transform(train_consensus_x)\n",
    "test_consensus_x = ss.transform(test_consensus_x)\n",
    "ss2 = StandardScaler()\n",
    "train_consensus_y = ss.fit_transform(train_consensus_y)\n",
    "test_consensus_y = ss.transform(test_consensus_y)\n",
    "\n",
    "ss3 = StandardScaler()\n",
    "train_consensus_hurr_x = ss3.fit_transform(train_consensus_hurr_x)\n",
    "test_consensus_hurr_x = ss3.transform(test_consensus_hurr_x)\n",
    "\n",
    "ss4 = StandardScaler()\n",
    "train_consensus_hurr_y = ss4.fit_transform(train_consensus_hurr_y)\n",
    "test_consensus_hurr_y = ss4.transform(test_consensus_hurr_y)"
   ]
  },
  {
   "cell_type": "code",
   "execution_count": 173,
   "metadata": {},
   "outputs": [
    {
     "name": "stdout",
     "output_type": "stream",
     "text": [
      "Number of timesteps: 315\n",
      "EP Model | MAE | std | %age busts (>200km)\n",
      "Lasso consensus w/o hurricast 52.92 33.75 0.0\n"
     ]
    }
   ],
   "source": [
    "#AN\n",
    "m_x = Lasso(alpha = 1e-2)\n",
    "m_x.fit(train_consensus_x, tgt_x)\n",
    "preds_x = np.array(m_x.predict(test_consensus_x))+np.array(X_test['LAT_7'])[index]\n",
    "\n",
    "m_y = Lasso(alpha = 1e-2)\n",
    "m_y.fit(train_consensus_y, tgt_y)\n",
    "preds_y = np.array(m_y.predict(test_consensus_y)) + base\n",
    "d_km_pred = np.zeros(len(preds_y))\n",
    "for i in range(len(LATS_PRED_te)):\n",
    "    d_km_pred[i] = get_distance_km(preds_y[i], preds_x[i], LONS_TEST_te[i], LATS_TEST_te[i])\n",
    "    \n",
    "print(\"Number of timesteps:\", len(LATS_PRED_te))\n",
    "print(basin, 'Model | MAE | std | %age busts (>200km)')\n",
    "print(\"Lasso consensus w/o hurricast\", np.around(d_km_pred.mean(), decimals = 2), np.around(d_km_pred.std(), decimals = 2), np.around(sum(d_km_pred > 200)*100/len(LATS_PRED_te), decimals = 2))"
   ]
  },
  {
   "cell_type": "code",
   "execution_count": 160,
   "metadata": {},
   "outputs": [
    {
     "data": {
      "text/plain": [
       "array([0.11675539, 0.12194418, 0.06753393, 0.04809728, 0.        ,\n",
       "       0.4216699 , 0.42720285], dtype=float32)"
      ]
     },
     "execution_count": 160,
     "metadata": {},
     "output_type": "execute_result"
    }
   ],
   "source": [
    "m_x.coef_"
   ]
  },
  {
   "cell_type": "code",
   "execution_count": 176,
   "metadata": {},
   "outputs": [
    {
     "name": "stdout",
     "output_type": "stream",
     "text": [
      "Number of timesteps: 315\n",
      "EP Model | MAE | std | %age busts (>200km)\n",
      "Lasso consensus w/ hurricast 50.36 32.77 0.0\n"
     ]
    }
   ],
   "source": [
    "#AN\n",
    "m_x = Lasso(alpha = 1e-2)\n",
    "m_x.fit(train_consensus_hurr_x, tgt_x)\n",
    "preds_x = np.array(m_x.predict(test_consensus_hurr_x))+np.array(X_test['LAT_7'])[index]\n",
    "\n",
    "m_y = Lasso(alpha = 1e-2)\n",
    "m_y.fit(train_consensus_hurr_y, tgt_y)\n",
    "preds_y = np.array(m_y.predict(test_consensus_hurr_y)) + base\n",
    "d_km_pred = np.zeros(len(preds_y))\n",
    "for i in range(len(LATS_PRED_te)):\n",
    "    d_km_pred[i] = get_distance_km(preds_y[i], preds_x[i], LONS_TEST_te[i], LATS_TEST_te[i])\n",
    "    \n",
    "print(\"Number of timesteps:\", len(LATS_PRED_te))\n",
    "print(basin, 'Model | MAE | std | %age busts (>200km)')\n",
    "print(\"Lasso consensus w/ hurricast\", np.around(d_km_pred.mean(), decimals = 2), np.around(d_km_pred.std(), decimals = 2), np.around(sum(d_km_pred > 200)*100/len(LATS_PRED_te), decimals = 2))"
   ]
  },
  {
   "cell_type": "code",
   "execution_count": 258,
   "metadata": {},
   "outputs": [
    {
     "data": {
      "text/plain": [
       "0.274074074074074"
      ]
     },
     "execution_count": 258,
     "metadata": {},
     "output_type": "execute_result"
    }
   ],
   "source": [
    "1 - 9.8/13.5"
   ]
  },
  {
   "cell_type": "markdown",
   "metadata": {
    "heading_collapsed": true
   },
   "source": [
    "# Old again"
   ]
  },
  {
   "cell_type": "code",
   "execution_count": 510,
   "metadata": {
    "hidden": true
   },
   "outputs": [],
   "source": [
    "index_t = X_train.loc[X_train['cat_basin_AN_0'] + X_train['cat_basin_EP_0'] == 1].index\n",
    "index_te = X_test[:17094].loc[X_test['cat_basin_AN_0'] + X_test['cat_basin_EP_0'] == 1].index\n",
    "train = np.concatenate((X_train_total[index_t], X_test_total[index_te]), axis = 0)\n",
    "tgt_train_ = np.concatenate((tgt_displacement_train[index_t], tgt_displacement_test[index_te]), axis = 0)"
   ]
  },
  {
   "cell_type": "code",
   "execution_count": 514,
   "metadata": {
    "hidden": true
   },
   "outputs": [
    {
     "name": "stdout",
     "output_type": "stream",
     "text": [
      "Number of timesteps: 669\n",
      "AN Model | MAE | std | %age busts (>200km)\n",
      "Hurricast 109.44 75.91 11.36\n",
      "SHIP 77.06 64.11 4.04\n",
      "HWRF 72.01 47.85 2.39\n",
      "OFCL 70.36 57.78 2.84\n",
      "FSSE 67.53 53.48 3.44\n",
      "AEMN 72.81 57.98 2.54\n",
      "GFSO 70.47 56.01 3.74\n",
      "CLP5 197.76 142.19 36.17\n",
      "Consensus OFCL only 62.67 50.49 2.09\n",
      "Consensus OFCL + Hurricast 60.48 47.27 1.49\n",
      "Number of timesteps: 522\n",
      "EP Model | MAE | std | %age busts (>200km)\n",
      "Hurricast 71.31 43.96 0.77\n",
      "SHIP 57.78 33.53 0.38\n",
      "HWRF 70.1 43.23 2.11\n",
      "OFCL 54.11 31.63 0.19\n",
      "FSSE 55.85 53.93 0.96\n",
      "AEMN 62.05 36.83 0.57\n",
      "GFSO 67.11 45.03 1.34\n",
      "CLP5 125.37 70.95 15.13\n",
      "Consensus OFCL only 53.04 33.46 0.38\n",
      "Consensus OFCL + Hurricast 49.29 30.13 0.19\n"
     ]
    }
   ],
   "source": [
    "#TRAIN TOTAL\n",
    "max_depth = 7\n",
    "n_estimators = 150\n",
    "learning_rate = 0.05\n",
    "subsample = 0.8\n",
    "min_child_weight=5\n",
    "#col_sample_by_tree = 0.7\n",
    "train_x = train\n",
    "train_y = train_x\n",
    "test_x = X_test_total\n",
    "test_y = X_test_total\n",
    "tgt_train = tgt_train_\n",
    "    \n",
    "xgb_x = XGBRegressor(max_depth=max_depth, n_estimators=n_estimators, learning_rate=learning_rate, subsample=subsample, min_child_weight=min_child_weight)\n",
    "xgb_x.fit(train_x, tgt_train[:, 0])\n",
    "xgb_y = XGBRegressor(max_depth=max_depth, n_estimators=n_estimators, learning_rate=learning_rate, subsample=subsample, min_child_weight=min_child_weight)\n",
    "xgb_y.fit(train_y, tgt_train[:, 1])\n",
    "DLATS_PRED = np.array(xgb_x.predict(test_x)) * std_dx + mean_dx\n",
    "DLONS_PRED = np.array(xgb_y.predict(test_y)) * std_dy + mean_dy\n",
    "LATS_PRED_ = X_test['LAT_7'] + DLATS_PRED\n",
    "LONS_PRED_ = X_test['LON_7'] + DLONS_PRED\n",
    "compare_perf_track_7cast(year = 2017, basin='AN', forecast='SHIP', forecast2 = 'HWRF', forecast3='OFCL', forecast4 = 'FSSE', forecast5='AEMN', forecast6 = 'GFSO', forecast7 = 'CLP5', LATS_PRED_= LATS_PRED_, LONS_PRED_=LONS_PRED_)\n",
    "compare_perf_track_7cast(year = 2017, basin='EP', forecast='SHIP', forecast2 = 'HWRF', forecast3='OFCL', forecast4 = 'FSSE', forecast5='AEMN', forecast6 = 'GFSO', forecast7 = 'CLP5', LATS_PRED_= LATS_PRED_, LONS_PRED_=LONS_PRED_)"
   ]
  },
  {
   "cell_type": "code",
   "execution_count": 518,
   "metadata": {
    "hidden": true
   },
   "outputs": [],
   "source": [
    "index_t = X_test_baseline[:m].loc[X_test_baseline['cat_basin_AN_0'] + X_test_baseline['cat_basin_EP_0'] == 1].index\n",
    "train = np.concatenate((np.array(X_test_baseline[:m])[index_t], X_test_embed[index_t]), axis = 1)\n",
    "tgt_train_ = tgt_displacement_test[index_t]"
   ]
  },
  {
   "cell_type": "code",
   "execution_count": 555,
   "metadata": {
    "hidden": true
   },
   "outputs": [
    {
     "name": "stdout",
     "output_type": "stream",
     "text": [
      "Number of timesteps: 669\n",
      "AN Model | MAE | std | %age busts (>200km)\n",
      "Hurricast 100.64 82.46 8.52\n",
      "SHIP 77.06 64.11 4.04\n",
      "HWRF 72.01 47.85 2.39\n",
      "OFCL 70.36 57.78 2.84\n",
      "FSSE 67.53 53.48 3.44\n",
      "AEMN 72.81 57.98 2.54\n",
      "GFSO 70.47 56.01 3.74\n",
      "CLP5 197.76 142.19 36.17\n",
      "Consensus OFCL only 62.67 50.49 2.09\n",
      "Consensus OFCL + Hurricast 61.57 48.15 1.49\n",
      "Number of timesteps: 522\n",
      "EP Model | MAE | std | %age busts (>200km)\n",
      "Hurricast 58.91 32.78 0.38\n",
      "SHIP 57.78 33.53 0.38\n",
      "HWRF 70.1 43.23 2.11\n",
      "OFCL 54.11 31.63 0.19\n",
      "FSSE 55.85 53.93 0.96\n",
      "AEMN 62.05 36.83 0.57\n",
      "GFSO 67.11 45.03 1.34\n",
      "CLP5 125.37 70.95 15.13\n",
      "Consensus OFCL only 53.04 33.46 0.38\n",
      "Consensus OFCL + Hurricast 50.4 31.16 0.38\n"
     ]
    }
   ],
   "source": [
    "#TRAIN TOTAL\n",
    "max_depth = 8\n",
    "n_estimators = 150\n",
    "learning_rate = 0.07\n",
    "subsample = 0.7\n",
    "min_child_weight=1\n",
    "#col_sample_by_tree = 0.7\n",
    "train_x = train\n",
    "train_y = train_x\n",
    "test_x = np.concatenate((X_test_baseline, X_test_embed), axis = 1)\n",
    "test_y = test_x\n",
    "tgt_train = tgt_train_\n",
    "    \n",
    "xgb_x = XGBRegressor(max_depth=max_depth, n_estimators=n_estimators, learning_rate=learning_rate, subsample=subsample, min_child_weight=min_child_weight)\n",
    "xgb_x.fit(train_x, tgt_train[:, 0])\n",
    "xgb_y = XGBRegressor(max_depth=max_depth, n_estimators=n_estimators, learning_rate=learning_rate, subsample=subsample, min_child_weight=min_child_weight)\n",
    "xgb_y.fit(train_y, tgt_train[:, 1])\n",
    "DLATS_PRED = np.array(xgb_x.predict(test_x)) * std_dx + mean_dx\n",
    "DLONS_PRED = np.array(xgb_y.predict(test_y)) * std_dy + mean_dy\n",
    "LATS_PRED_ = X_test['LAT_7'] + DLATS_PRED\n",
    "LONS_PRED_ = X_test['LON_7'] + DLONS_PRED\n",
    "a, b = compare_perf_track_7cast(year = 2017, basin='AN', forecast='SHIP', forecast2 = 'HWRF', forecast3='OFCL', forecast4 = 'FSSE', forecast5='AEMN', forecast6 = 'GFSO', forecast7 = 'CLP5', LATS_PRED_= LATS_PRED_, LONS_PRED_=LONS_PRED_)\n",
    "c, d = compare_perf_track_7cast(year = 2017, basin='EP', forecast='SHIP', forecast2 = 'HWRF', forecast3='OFCL', forecast4 = 'FSSE', forecast5='AEMN', forecast6 = 'GFSO', forecast7 = 'CLP5', LATS_PRED_= LATS_PRED_, LONS_PRED_=LONS_PRED_)"
   ]
  },
  {
   "cell_type": "code",
   "execution_count": 610,
   "metadata": {
    "hidden": true
   },
   "outputs": [
    {
     "data": {
      "text/plain": [
       "array([ True,  True,  True])"
      ]
     },
     "execution_count": 610,
     "metadata": {},
     "output_type": "execute_result"
    }
   ],
   "source": [
    "a[217:220] > 400"
   ]
  },
  {
   "cell_type": "code",
   "execution_count": 556,
   "metadata": {
    "hidden": true
   },
   "outputs": [],
   "source": [
    "b = pd.DataFrame(b)\n",
    "b.columns = cols"
   ]
  },
  {
   "cell_type": "code",
   "execution_count": 599,
   "metadata": {
    "hidden": true
   },
   "outputs": [
    {
     "data": {
      "text/plain": [
       "[<matplotlib.lines.Line2D at 0x7f6e75b29160>]"
      ]
     },
     "execution_count": 599,
     "metadata": {},
     "output_type": "execute_result"
    },
    {
     "data": {
      "image/png": "[encoded data removed]",
      "text/plain": [
       "<Figure size 432x288 with 1 Axes>"
      ]
     },
     "metadata": {
      "needs_background": "light"
     },
     "output_type": "display_data"
    }
   ],
   "source": [
    "plt.plot(a, b['STORM_DISPLACEMENT_Y_7'], 'bo')"
   ]
  },
  {
   "cell_type": "code",
   "execution_count": 587,
   "metadata": {
    "hidden": true
   },
   "outputs": [
    {
     "data": {
      "text/html": [
       "<div>\n",
       "<style scoped>\n",
       "    .dataframe tbody tr th:only-of-type {\n",
       "        vertical-align: middle;\n",
       "    }\n",
       "\n",
       "    .dataframe tbody tr th {\n",
       "        vertical-align: top;\n",
       "    }\n",
       "\n",
       "    .dataframe thead th {\n",
       "        text-align: right;\n",
       "    }\n",
       "</style>\n",
       "<table border=\"1\" class=\"dataframe\">\n",
       "  <thead>\n",
       "    <tr style=\"text-align: right;\">\n",
       "      <th></th>\n",
       "      <th>Target</th>\n",
       "    </tr>\n",
       "  </thead>\n",
       "  <tbody>\n",
       "    <tr>\n",
       "      <th>0</th>\n",
       "      <td>29.570558</td>\n",
       "    </tr>\n",
       "    <tr>\n",
       "      <th>1</th>\n",
       "      <td>94.404688</td>\n",
       "    </tr>\n",
       "    <tr>\n",
       "      <th>2</th>\n",
       "      <td>144.106247</td>\n",
       "    </tr>\n",
       "    <tr>\n",
       "      <th>3</th>\n",
       "      <td>110.543451</td>\n",
       "    </tr>\n",
       "    <tr>\n",
       "      <th>4</th>\n",
       "      <td>30.600302</td>\n",
       "    </tr>\n",
       "    <tr>\n",
       "      <th>...</th>\n",
       "      <td>...</td>\n",
       "    </tr>\n",
       "    <tr>\n",
       "      <th>664</th>\n",
       "      <td>356.724132</td>\n",
       "    </tr>\n",
       "    <tr>\n",
       "      <th>665</th>\n",
       "      <td>81.134094</td>\n",
       "    </tr>\n",
       "    <tr>\n",
       "      <th>666</th>\n",
       "      <td>306.872005</td>\n",
       "    </tr>\n",
       "    <tr>\n",
       "      <th>667</th>\n",
       "      <td>303.261238</td>\n",
       "    </tr>\n",
       "    <tr>\n",
       "      <th>668</th>\n",
       "      <td>391.611776</td>\n",
       "    </tr>\n",
       "  </tbody>\n",
       "</table>\n",
       "<p>669 rows × 1 columns</p>\n",
       "</div>"
      ],
      "text/plain": [
       "         Target\n",
       "0     29.570558\n",
       "1     94.404688\n",
       "2    144.106247\n",
       "3    110.543451\n",
       "4     30.600302\n",
       "..          ...\n",
       "664  356.724132\n",
       "665   81.134094\n",
       "666  306.872005\n",
       "667  303.261238\n",
       "668  391.611776\n",
       "\n",
       "[669 rows x 1 columns]"
      ]
     },
     "execution_count": 587,
     "metadata": {},
     "output_type": "execute_result"
    }
   ],
   "source": [
    "e = pd.DataFrame(a)\n",
    "e.columns = ['Target']"
   ]
  },
  {
   "cell_type": "code",
   "execution_count": 593,
   "metadata": {
    "hidden": true
   },
   "outputs": [],
   "source": [
    "df = pd.concat((b, e), axis = 1)"
   ]
  },
  {
   "cell_type": "code",
   "execution_count": 616,
   "metadata": {
    "hidden": true
   },
   "outputs": [
    {
     "data": {
      "text/plain": [
       "STORM_DISPLACEMENT_Y_5       0.566200\n",
       "LAT_6                       32.985100\n",
       "LON_6                      -30.674999\n",
       "WMO_WIND_6                  90.000000\n",
       "WMO_PRES_6                 966.500000\n",
       "DIST2LAND_6               1425.000000\n",
       "STORM_SPEED_6               17.000000\n",
       "COS_STORM_DIR_6              0.469472\n",
       "SIN_STORM_DIR_6              0.882948\n",
       "COS_LAT_6                    0.838812\n",
       "SIN_LAT_6                    0.544421\n",
       "COS_LON_6                    0.860075\n",
       "SIN_LON_6                   -0.510168\n",
       "STORM_DISPLACEMENT_X_6       0.385100\n",
       "STORM_DISPLACEMENT_Y_6       0.825000\n",
       "LAT_7                       33.400002\n",
       "LON_7                      -29.700001\n",
       "WMO_WIND_7                  95.000000\n",
       "WMO_PRES_7                 963.000000\n",
       "DIST2LAND_7               1353.000000\n",
       "STORM_SPEED_7               18.000000\n",
       "COS_STORM_DIR_7              0.438371\n",
       "SIN_STORM_DIR_7              0.898794\n",
       "COS_LAT_7                    0.834848\n",
       "SIN_LAT_7                    0.550481\n",
       "COS_LON_7                    0.868632\n",
       "SIN_LON_7                   -0.495459\n",
       "STORM_DISPLACEMENT_X_7       0.414900\n",
       "STORM_DISPLACEMENT_Y_7       0.975000\n",
       "Target                     417.674352\n",
       "Name: 217, dtype: float64"
      ]
     },
     "execution_count": 616,
     "metadata": {},
     "output_type": "execute_result"
    }
   ],
   "source": [
    "df.iloc[217][-30:]"
   ]
  },
  {
   "cell_type": "code",
   "execution_count": 598,
   "metadata": {
    "hidden": true
   },
   "outputs": [
    {
     "data": {
      "text/plain": [
       "STORM_DISPLACEMENT_Y_5    0.528886\n",
       "LAT_6                     0.361303\n",
       "LON_6                     0.257946\n",
       "WMO_WIND_6               -0.213017\n",
       "WMO_PRES_6                0.156788\n",
       "DIST2LAND_6               0.181879\n",
       "STORM_SPEED_6             0.430201\n",
       "COS_STORM_DIR_6           0.030040\n",
       "SIN_STORM_DIR_6           0.443096\n",
       "COS_LAT_6                -0.404716\n",
       "SIN_LAT_6                 0.349151\n",
       "COS_LON_6                 0.249357\n",
       "SIN_LON_6                 0.263808\n",
       "STORM_DISPLACEMENT_X_6    0.304211\n",
       "STORM_DISPLACEMENT_Y_6    0.543905\n",
       "LAT_7                     0.369798\n",
       "LON_7                     0.274303\n",
       "WMO_WIND_7               -0.215459\n",
       "WMO_PRES_7                0.160926\n",
       "DIST2LAND_7               0.183372\n",
       "STORM_SPEED_7             0.450341\n",
       "COS_STORM_DIR_7           0.029825\n",
       "SIN_STORM_DIR_7           0.435316\n",
       "COS_LAT_7                -0.414633\n",
       "SIN_LAT_7                 0.356799\n",
       "COS_LON_7                 0.263034\n",
       "SIN_LON_7                 0.285186\n",
       "STORM_DISPLACEMENT_X_7    0.318487\n",
       "STORM_DISPLACEMENT_Y_7    0.552833\n",
       "Target                    1.000000\n",
       "dtype: float64"
      ]
     },
     "execution_count": 598,
     "metadata": {},
     "output_type": "execute_result"
    }
   ],
   "source": [
    "df.corrwith(df['Target'])[-30:]"
   ]
  },
  {
   "cell_type": "markdown",
   "metadata": {},
   "source": [
    "# New results"
   ]
  },
  {
   "cell_type": "markdown",
   "metadata": {
    "heading_collapsed": true
   },
   "source": [
    "## STAT ONLY"
   ]
  },
  {
   "cell_type": "code",
   "execution_count": 30,
   "metadata": {
    "hidden": true
   },
   "outputs": [
    {
     "name": "stdout",
     "output_type": "stream",
     "text": [
      "YEAR 2016\n",
      "Number of timesteps: 315\n",
      "EP Model | MAE | std | %age busts (>200km)\n",
      "Hurricast 83.34 49.27 3.49\n",
      "SHIP 57.85 34.92 0.32\n",
      "HWRF 61.82 40.02 1.9\n",
      "OFCL 54.09 34.1 0.0\n",
      "FSSE 55.8 33.86 0.32\n",
      "GFSO 60.33 44.6 1.9\n",
      "AEMN 56.33 37.91 0.63\n",
      "CLP5 113.55 58.53 7.62\n",
      "Consensus OFCL only 50.84 33.91 0.0\n",
      "Consensus OFCL + Hurricast 47.71 31.79 0.0\n",
      "\n",
      "\n",
      "YEAR 2017\n",
      "Number of timesteps: 167\n",
      "EP Model | MAE | std | %age busts (>200km)\n",
      "Hurricast 74.73 41.61 0.6\n",
      "SHIP 59.96 35.47 0.6\n",
      "HWRF 74.58 40.85 2.4\n",
      "OFCL 55.2 33.37 0.0\n",
      "FSSE 54.98 35.64 0.6\n",
      "GFSO 73.68 45.78 1.2\n",
      "AEMN 68.34 40.13 1.2\n",
      "CLP5 108.57 61.48 8.38\n",
      "Consensus OFCL only 57.64 34.02 0.6\n",
      "Consensus OFCL + Hurricast 51.59 31.34 0.0\n",
      "\n",
      "\n",
      "YEAR 2018\n",
      "Number of timesteps: 355\n",
      "EP Model | MAE | std | %age busts (>200km)\n",
      "Hurricast 93.21 52.67 3.94\n",
      "SHIP 56.76 32.53 0.28\n",
      "HWRF 67.99 44.14 1.97\n",
      "OFCL 53.6 30.77 0.28\n",
      "FSSE 56.26 60.66 1.13\n",
      "GFSO 64.01 44.34 1.41\n",
      "AEMN 59.09 34.78 0.28\n",
      "CLP5 133.27 73.69 18.31\n",
      "Consensus OFCL only 50.88 32.97 0.28\n",
      "Consensus OFCL + Hurricast 49.14 30.38 0.28\n",
      "\n",
      "\n"
     ]
    },
    {
     "data": {
      "text/plain": [
       "{'MAES_AEMN': [60.33, 73.68, 64.01],\n",
       " 'MAES_CLP5': [113.55, 108.57, 133.27],\n",
       " 'MAES_FSSE': [55.8, 54.98, 56.26],\n",
       " 'MAES_GFSO': [56.33, 68.34, 59.09],\n",
       " 'MAES_HWRF': [61.82, 74.58, 67.99],\n",
       " 'MAES_OFCL': [54.09, 55.2, 53.6],\n",
       " 'MAES_SHIP': [57.85, 59.96, 56.76],\n",
       " 'MAEs_full': [83.34, 74.73, 93.21],\n",
       " 'num_samples': [315, 167, 355],\n",
       " 'std_AEMN': [44.6, 45.78, 44.34],\n",
       " 'std_CLP5': [58.53, 61.48, 73.69],\n",
       " 'std_FSSE': [33.86, 35.64, 60.66],\n",
       " 'std_GFSO': [37.91, 40.13, 34.78],\n",
       " 'std_HWRF': [40.02, 40.85, 44.14],\n",
       " 'std_OFCL': [34.1, 33.37, 30.77],\n",
       " 'std_SHIP': [34.92, 35.47, 32.53],\n",
       " 'std_full': [49.27, 41.61, 52.67],\n",
       " 'year': [2016, 2017, 2018]}"
      ]
     },
     "execution_count": 30,
     "metadata": {},
     "output_type": "execute_result"
    }
   ],
   "source": [
    "train_xgb_track_all_years(X_train, X_test, tgt_displacement_train, max_depth=6, learning_rate=0.03, n_estimators=200, subsample=0.8, min_child_weight = 5, basin = 'EP')"
   ]
  },
  {
   "cell_type": "markdown",
   "metadata": {},
   "source": [
    "## TENSOR COMP"
   ]
  },
  {
   "cell_type": "code",
   "execution_count": 182,
   "metadata": {},
   "outputs": [
    {
     "name": "stdout",
     "output_type": "stream",
     "text": [
      "YEAR 2016\n",
      "Number of timesteps: 315\n",
      "EP Model | MAE | std | %age busts (>200km)\n",
      "Hurricast 80.45 48.16 3.49\n",
      "SHIP 57.85 34.92 0.32\n",
      "HWRF 61.82 40.02 1.9\n",
      "OFCL 54.09 34.1 0.0\n",
      "FSSE 55.8 33.86 0.32\n",
      "GFSO 60.33 44.6 1.9\n",
      "AEMN 56.33 37.91 0.63\n",
      "CLP5 113.55 58.53 7.62\n",
      "Consensus OFCL only 50.84 33.91 0.0\n",
      "Consensus OFCL + Hurricast 47.32 31.6 0.0\n",
      "\n",
      "\n",
      "YEAR 2017\n",
      "Number of timesteps: 167\n",
      "EP Model | MAE | std | %age busts (>200km)\n",
      "Hurricast 72.09 39.81 0.6\n",
      "SHIP 59.96 35.47 0.6\n",
      "HWRF 74.58 40.85 2.4\n",
      "OFCL 55.2 33.37 0.0\n",
      "FSSE 54.98 35.64 0.6\n",
      "GFSO 73.68 45.78 1.2\n",
      "AEMN 68.34 40.13 1.2\n",
      "CLP5 108.57 61.48 8.38\n",
      "Consensus OFCL only 57.64 34.02 0.6\n",
      "Consensus OFCL + Hurricast 51.81 31.04 0.0\n",
      "\n",
      "\n",
      "YEAR 2018\n",
      "Number of timesteps: 355\n",
      "EP Model | MAE | std | %age busts (>200km)\n",
      "Hurricast 88.19 50.13 2.25\n",
      "SHIP 56.76 32.53 0.28\n",
      "HWRF 67.99 44.14 1.97\n",
      "OFCL 53.6 30.77 0.28\n",
      "FSSE 56.26 60.66 1.13\n",
      "GFSO 64.01 44.34 1.41\n",
      "AEMN 59.09 34.78 0.28\n",
      "CLP5 133.27 73.69 18.31\n",
      "Consensus OFCL only 50.88 32.97 0.28\n",
      "Consensus OFCL + Hurricast 48.48 29.96 0.28\n",
      "\n",
      "\n"
     ]
    },
    {
     "data": {
      "text/plain": [
       "{'MAES_AEMN': [60.33, 73.68, 64.01],\n",
       " 'MAES_CLP5': [113.55, 108.57, 133.27],\n",
       " 'MAES_FSSE': [55.8, 54.98, 56.26],\n",
       " 'MAES_GFSO': [56.33, 68.34, 59.09],\n",
       " 'MAES_HWRF': [61.82, 74.58, 67.99],\n",
       " 'MAES_OFCL': [54.09, 55.2, 53.6],\n",
       " 'MAES_SHIP': [57.85, 59.96, 56.76],\n",
       " 'MAEs_full': [80.45, 72.09, 88.19],\n",
       " 'num_samples': [315, 167, 355],\n",
       " 'std_AEMN': [44.6, 45.78, 44.34],\n",
       " 'std_CLP5': [58.53, 61.48, 73.69],\n",
       " 'std_FSSE': [33.86, 35.64, 60.66],\n",
       " 'std_GFSO': [37.91, 40.13, 34.78],\n",
       " 'std_HWRF': [40.02, 40.85, 44.14],\n",
       " 'std_OFCL': [34.1, 33.37, 30.77],\n",
       " 'std_SHIP': [34.92, 35.47, 32.53],\n",
       " 'std_full': [48.16, 39.81, 50.13],\n",
       " 'year': [2016, 2017, 2018]}"
      ]
     },
     "execution_count": 182,
     "metadata": {},
     "output_type": "execute_result"
    }
   ],
   "source": [
    "train_xgb_track_all_years(X_train_total_comp, X_test_total_comp, tgt_displacement_train, max_depth=9, learning_rate=0.03, n_estimators=200, subsample=0.8, min_child_weight = 5, basin = 'EP')"
   ]
  },
  {
   "cell_type": "markdown",
   "metadata": {
    "heading_collapsed": true
   },
   "source": [
    "## TOTAL"
   ]
  },
  {
   "cell_type": "code",
   "execution_count": 49,
   "metadata": {
    "hidden": true
   },
   "outputs": [
    {
     "name": "stdout",
     "output_type": "stream",
     "text": [
      "YEAR 2016\n",
      "Number of timesteps: 315\n",
      "EP Model | MAE | std | %age busts (>200km)\n",
      "Hurricast 71.68 39.17 0.63\n",
      "SHIP 57.85 34.92 0.32\n",
      "HWRF 61.82 40.02 1.9\n",
      "OFCL 54.09 34.1 0.0\n",
      "FSSE 55.8 33.86 0.32\n",
      "GFSO 60.33 44.6 1.9\n",
      "AEMN 56.33 37.91 0.63\n",
      "CLP5 113.55 58.53 7.62\n",
      "Consensus OFCL only 50.84 33.91 0.0\n",
      "Consensus OFCL + Hurricast 48.25 32.11 0.0\n",
      "\n",
      "\n",
      "YEAR 2017\n",
      "Number of timesteps: 167\n",
      "EP Model | MAE | std | %age busts (>200km)\n",
      "Hurricast 68.68 42.09 0.0\n",
      "SHIP 59.96 35.47 0.6\n",
      "HWRF 74.58 40.85 2.4\n",
      "OFCL 55.2 33.37 0.0\n",
      "FSSE 54.98 35.64 0.6\n",
      "GFSO 73.68 45.78 1.2\n",
      "AEMN 68.34 40.13 1.2\n",
      "CLP5 108.57 61.48 8.38\n",
      "Consensus OFCL only 57.64 34.02 0.6\n",
      "Consensus OFCL + Hurricast 53.79 30.42 0.0\n",
      "\n",
      "\n",
      "YEAR 2018\n",
      "Number of timesteps: 355\n",
      "EP Model | MAE | std | %age busts (>200km)\n",
      "Hurricast 72.9 45.92 1.97\n",
      "SHIP 56.76 32.53 0.28\n",
      "HWRF 67.99 44.14 1.97\n",
      "OFCL 53.6 30.77 0.28\n",
      "FSSE 56.26 60.66 1.13\n",
      "GFSO 64.01 44.34 1.41\n",
      "AEMN 59.09 34.78 0.28\n",
      "CLP5 133.27 73.69 18.31\n",
      "Consensus OFCL only 50.88 32.97 0.28\n",
      "Consensus OFCL + Hurricast 47.29 29.89 0.28\n",
      "\n",
      "\n"
     ]
    },
    {
     "data": {
      "text/plain": [
       "{'MAES_AEMN': [60.33, 73.68, 64.01],\n",
       " 'MAES_CLP5': [113.55, 108.57, 133.27],\n",
       " 'MAES_FSSE': [55.8, 54.98, 56.26],\n",
       " 'MAES_GFSO': [56.33, 68.34, 59.09],\n",
       " 'MAES_HWRF': [61.82, 74.58, 67.99],\n",
       " 'MAES_OFCL': [54.09, 55.2, 53.6],\n",
       " 'MAES_SHIP': [57.85, 59.96, 56.76],\n",
       " 'MAEs_full': [71.68, 68.68, 72.9],\n",
       " 'num_samples': [315, 167, 355],\n",
       " 'std_AEMN': [44.6, 45.78, 44.34],\n",
       " 'std_CLP5': [58.53, 61.48, 73.69],\n",
       " 'std_FSSE': [33.86, 35.64, 60.66],\n",
       " 'std_GFSO': [37.91, 40.13, 34.78],\n",
       " 'std_HWRF': [40.02, 40.85, 44.14],\n",
       " 'std_OFCL': [34.1, 33.37, 30.77],\n",
       " 'std_SHIP': [34.92, 35.47, 32.53],\n",
       " 'std_full': [39.17, 42.09, 45.92],\n",
       " 'year': [2016, 2017, 2018]}"
      ]
     },
     "execution_count": 49,
     "metadata": {},
     "output_type": "execute_result"
    }
   ],
   "source": [
    "train_xgb_track_all_years(X_train_total, X_test_total, tgt_displacement_train, max_depth=9, learning_rate=0.03, n_estimators=200, subsample=0.8, min_child_weight = 5, basin = 'EP')"
   ]
  },
  {
   "cell_type": "code",
   "execution_count": 37,
   "metadata": {
    "hidden": true
   },
   "outputs": [
    {
     "name": "stdout",
     "output_type": "stream",
     "text": [
      "YEAR 2016\n",
      "Number of timesteps: 315\n",
      "EP Model | MAE | std | %age busts (>200km)\n",
      "Hurricast 74.88 40.81 0.95\n",
      "SHIP 57.85 34.92 0.32\n",
      "HWRF 61.82 40.02 1.9\n",
      "OFCL 54.09 34.1 0.0\n",
      "FSSE 55.8 33.86 0.32\n",
      "GFSO 60.33 44.6 1.9\n",
      "AEMN 56.33 37.91 0.63\n",
      "CLP5 113.55 58.53 7.62\n",
      "Consensus OFCL only 50.84 33.91 0.0\n",
      "Consensus OFCL + Hurricast 48.88 32.6 0.0\n",
      "\n",
      "\n",
      "YEAR 2017\n",
      "Number of timesteps: 167\n",
      "EP Model | MAE | std | %age busts (>200km)\n",
      "Hurricast 69.6 41.85 0.0\n",
      "SHIP 59.96 35.47 0.6\n",
      "HWRF 74.58 40.85 2.4\n",
      "OFCL 55.2 33.37 0.0\n",
      "FSSE 54.98 35.64 0.6\n",
      "GFSO 73.68 45.78 1.2\n",
      "AEMN 68.34 40.13 1.2\n",
      "CLP5 108.57 61.48 8.38\n",
      "Consensus OFCL only 57.64 34.02 0.6\n",
      "Consensus OFCL + Hurricast 54.17 30.51 0.0\n",
      "\n",
      "\n",
      "YEAR 2018\n",
      "Number of timesteps: 355\n",
      "EP Model | MAE | std | %age busts (>200km)\n",
      "Hurricast 72.77 44.06 0.56\n",
      "SHIP 56.76 32.53 0.28\n",
      "HWRF 67.99 44.14 1.97\n",
      "OFCL 53.6 30.77 0.28\n",
      "FSSE 56.26 60.66 1.13\n",
      "GFSO 64.01 44.34 1.41\n",
      "AEMN 59.09 34.78 0.28\n",
      "CLP5 133.27 73.69 18.31\n",
      "Consensus OFCL only 50.88 32.97 0.28\n",
      "Consensus OFCL + Hurricast 47.31 29.81 0.28\n",
      "\n",
      "\n"
     ]
    },
    {
     "data": {
      "text/plain": [
       "{'MAES_AEMN': [60.33, 73.68, 64.01],\n",
       " 'MAES_CLP5': [113.55, 108.57, 133.27],\n",
       " 'MAES_FSSE': [55.8, 54.98, 56.26],\n",
       " 'MAES_GFSO': [56.33, 68.34, 59.09],\n",
       " 'MAES_HWRF': [61.82, 74.58, 67.99],\n",
       " 'MAES_OFCL': [54.09, 55.2, 53.6],\n",
       " 'MAES_SHIP': [57.85, 59.96, 56.76],\n",
       " 'MAEs_full': [74.88, 69.6, 72.77],\n",
       " 'num_samples': [315, 167, 355],\n",
       " 'std_AEMN': [44.6, 45.78, 44.34],\n",
       " 'std_CLP5': [58.53, 61.48, 73.69],\n",
       " 'std_FSSE': [33.86, 35.64, 60.66],\n",
       " 'std_GFSO': [37.91, 40.13, 34.78],\n",
       " 'std_HWRF': [40.02, 40.85, 44.14],\n",
       " 'std_OFCL': [34.1, 33.37, 30.77],\n",
       " 'std_SHIP': [34.92, 35.47, 32.53],\n",
       " 'std_full': [40.81, 41.85, 44.06],\n",
       " 'year': [2016, 2017, 2018]}"
      ]
     },
     "execution_count": 37,
     "metadata": {},
     "output_type": "execute_result"
    }
   ],
   "source": [
    "#EMBED\n",
    "train_xgb_track_all_years(X_train_embed, X_test_embed, tgt_displacement_train, max_depth=6, learning_rate=0.03, n_estimators=300, subsample=0.8, basin = 'EP')"
   ]
  },
  {
   "cell_type": "code",
   "execution_count": 38,
   "metadata": {
    "hidden": true
   },
   "outputs": [
    {
     "name": "stdout",
     "output_type": "stream",
     "text": [
      "YEAR 2016\n",
      "Number of timesteps: 315\n",
      "EP Model | MAE | std | %age busts (>200km)\n",
      "Hurricast 74.33 40.68 0.95\n",
      "SHIP 57.85 34.92 0.32\n",
      "HWRF 61.82 40.02 1.9\n",
      "OFCL 54.09 34.1 0.0\n",
      "FSSE 55.8 33.86 0.32\n",
      "GFSO 60.33 44.6 1.9\n",
      "AEMN 56.33 37.91 0.63\n",
      "CLP5 113.55 58.53 7.62\n",
      "Consensus OFCL only 50.84 33.91 0.0\n",
      "Consensus OFCL + Hurricast 48.79 32.58 0.0\n",
      "\n",
      "\n",
      "YEAR 2017\n",
      "Number of timesteps: 167\n",
      "EP Model | MAE | std | %age busts (>200km)\n",
      "Hurricast 69.69 41.88 0.0\n",
      "SHIP 59.96 35.47 0.6\n",
      "HWRF 74.58 40.85 2.4\n",
      "OFCL 55.2 33.37 0.0\n",
      "FSSE 54.98 35.64 0.6\n",
      "GFSO 73.68 45.78 1.2\n",
      "AEMN 68.34 40.13 1.2\n",
      "CLP5 108.57 61.48 8.38\n",
      "Consensus OFCL only 57.64 34.02 0.6\n",
      "Consensus OFCL + Hurricast 54.14 30.56 0.0\n",
      "\n",
      "\n",
      "YEAR 2018\n",
      "Number of timesteps: 355\n",
      "EP Model | MAE | std | %age busts (>200km)\n",
      "Hurricast 72.93 44.42 0.85\n",
      "SHIP 56.76 32.53 0.28\n",
      "HWRF 67.99 44.14 1.97\n",
      "OFCL 53.6 30.77 0.28\n",
      "FSSE 56.26 60.66 1.13\n",
      "GFSO 64.01 44.34 1.41\n",
      "AEMN 59.09 34.78 0.28\n",
      "CLP5 133.27 73.69 18.31\n",
      "Consensus OFCL only 50.88 32.97 0.28\n",
      "Consensus OFCL + Hurricast 47.28 29.8 0.28\n",
      "\n",
      "\n"
     ]
    },
    {
     "data": {
      "text/plain": [
       "{'MAES_AEMN': [60.33, 73.68, 64.01],\n",
       " 'MAES_CLP5': [113.55, 108.57, 133.27],\n",
       " 'MAES_FSSE': [55.8, 54.98, 56.26],\n",
       " 'MAES_GFSO': [56.33, 68.34, 59.09],\n",
       " 'MAES_HWRF': [61.82, 74.58, 67.99],\n",
       " 'MAES_OFCL': [54.09, 55.2, 53.6],\n",
       " 'MAES_SHIP': [57.85, 59.96, 56.76],\n",
       " 'MAEs_full': [74.33, 69.69, 72.93],\n",
       " 'num_samples': [315, 167, 355],\n",
       " 'std_AEMN': [44.6, 45.78, 44.34],\n",
       " 'std_CLP5': [58.53, 61.48, 73.69],\n",
       " 'std_FSSE': [33.86, 35.64, 60.66],\n",
       " 'std_GFSO': [37.91, 40.13, 34.78],\n",
       " 'std_HWRF': [40.02, 40.85, 44.14],\n",
       " 'std_OFCL': [34.1, 33.37, 30.77],\n",
       " 'std_SHIP': [34.92, 35.47, 32.53],\n",
       " 'std_full': [40.68, 41.88, 44.42],\n",
       " 'year': [2016, 2017, 2018]}"
      ]
     },
     "execution_count": 38,
     "metadata": {},
     "output_type": "execute_result"
    }
   ],
   "source": [
    "train_xgb_track_all_years(X_train_embed, X_test_embed, tgt_displacement_train, max_depth=7, learning_rate=0.03, n_estimators=300, subsample=0.8, basin = 'EP')"
   ]
  },
  {
   "cell_type": "code",
   "execution_count": 39,
   "metadata": {
    "hidden": true
   },
   "outputs": [
    {
     "name": "stdout",
     "output_type": "stream",
     "text": [
      "YEAR 2016\n",
      "Number of timesteps: 315\n",
      "EP Model | MAE | std | %age busts (>200km)\n",
      "Hurricast 74.32 40.44 0.95\n",
      "SHIP 57.85 34.92 0.32\n",
      "HWRF 61.82 40.02 1.9\n",
      "OFCL 54.09 34.1 0.0\n",
      "FSSE 55.8 33.86 0.32\n",
      "GFSO 60.33 44.6 1.9\n",
      "AEMN 56.33 37.91 0.63\n",
      "CLP5 113.55 58.53 7.62\n",
      "Consensus OFCL only 50.84 33.91 0.0\n",
      "Consensus OFCL + Hurricast 48.74 32.58 0.0\n",
      "\n",
      "\n",
      "YEAR 2017\n",
      "Number of timesteps: 167\n",
      "EP Model | MAE | std | %age busts (>200km)\n",
      "Hurricast 69.34 41.96 0.0\n",
      "SHIP 59.96 35.47 0.6\n",
      "HWRF 74.58 40.85 2.4\n",
      "OFCL 55.2 33.37 0.0\n",
      "FSSE 54.98 35.64 0.6\n",
      "GFSO 73.68 45.78 1.2\n",
      "AEMN 68.34 40.13 1.2\n",
      "CLP5 108.57 61.48 8.38\n",
      "Consensus OFCL only 57.64 34.02 0.6\n",
      "Consensus OFCL + Hurricast 54.13 30.56 0.0\n",
      "\n",
      "\n",
      "YEAR 2018\n",
      "Number of timesteps: 355\n",
      "EP Model | MAE | std | %age busts (>200km)\n",
      "Hurricast 72.71 44.64 0.85\n",
      "SHIP 56.76 32.53 0.28\n",
      "HWRF 67.99 44.14 1.97\n",
      "OFCL 53.6 30.77 0.28\n",
      "FSSE 56.26 60.66 1.13\n",
      "GFSO 64.01 44.34 1.41\n",
      "AEMN 59.09 34.78 0.28\n",
      "CLP5 133.27 73.69 18.31\n",
      "Consensus OFCL only 50.88 32.97 0.28\n",
      "Consensus OFCL + Hurricast 47.29 29.77 0.28\n",
      "\n",
      "\n"
     ]
    },
    {
     "data": {
      "text/plain": [
       "{'MAES_AEMN': [60.33, 73.68, 64.01],\n",
       " 'MAES_CLP5': [113.55, 108.57, 133.27],\n",
       " 'MAES_FSSE': [55.8, 54.98, 56.26],\n",
       " 'MAES_GFSO': [56.33, 68.34, 59.09],\n",
       " 'MAES_HWRF': [61.82, 74.58, 67.99],\n",
       " 'MAES_OFCL': [54.09, 55.2, 53.6],\n",
       " 'MAES_SHIP': [57.85, 59.96, 56.76],\n",
       " 'MAEs_full': [74.32, 69.34, 72.71],\n",
       " 'num_samples': [315, 167, 355],\n",
       " 'std_AEMN': [44.6, 45.78, 44.34],\n",
       " 'std_CLP5': [58.53, 61.48, 73.69],\n",
       " 'std_FSSE': [33.86, 35.64, 60.66],\n",
       " 'std_GFSO': [37.91, 40.13, 34.78],\n",
       " 'std_HWRF': [40.02, 40.85, 44.14],\n",
       " 'std_OFCL': [34.1, 33.37, 30.77],\n",
       " 'std_SHIP': [34.92, 35.47, 32.53],\n",
       " 'std_full': [40.44, 41.96, 44.64],\n",
       " 'year': [2016, 2017, 2018]}"
      ]
     },
     "execution_count": 39,
     "metadata": {},
     "output_type": "execute_result"
    }
   ],
   "source": [
    "train_xgb_track_all_years(X_train_embed, X_test_embed, tgt_displacement_train, max_depth=9, learning_rate=0.03, n_estimators=300, subsample=0.8, basin = 'EP')"
   ]
  },
  {
   "cell_type": "markdown",
   "metadata": {},
   "source": [
    "## OPERATIONAL FORECASTS"
   ]
  },
  {
   "cell_type": "markdown",
   "metadata": {
    "heading_collapsed": true
   },
   "source": [
    "### X_test_baseline only"
   ]
  },
  {
   "cell_type": "code",
   "execution_count": 40,
   "metadata": {
    "hidden": true
   },
   "outputs": [
    {
     "name": "stdout",
     "output_type": "stream",
     "text": [
      "YEAR 2017\n",
      "Number of timesteps: 227\n",
      "AN Model | MAE | std | %age busts (>200km)\n",
      "Hurricast 110.27 78.78 12.78\n",
      "SHIP 69.37 47.68 2.2\n",
      "HWRF 68.37 43.9 1.32\n",
      "OFCL 62.04 43.55 0.88\n",
      "FSSE 61.54 40.54 0.88\n",
      "GFSO 65.42 44.95 2.2\n",
      "AEMN 70.04 42.93 0.44\n",
      "CLP5 188.66 135.42 31.72\n",
      "Consensus OFCL only 58.32 39.58 0.88\n",
      "Consensus OFCL + Hurricast 57.84 39.01 0.44\n",
      "\n",
      "\n",
      "\n",
      " No forecasts for year  2017\n",
      "YEAR 2018\n",
      "Number of timesteps: 234\n",
      "AN Model | MAE | std | %age busts (>200km)\n",
      "Hurricast 121.96 73.26 11.11\n",
      "SHIP 72.49 53.06 1.71\n",
      "HWRF 66.66 47.18 2.56\n",
      "OFCL 66.41 48.47 1.28\n",
      "FSSE 63.42 44.21 2.14\n",
      "GFSO 61.83 48.23 2.56\n",
      "AEMN 61.86 47.43 0.85\n",
      "CLP5 198.56 118.19 41.03\n",
      "Consensus OFCL only 55.09 43.11 0.85\n",
      "Consensus OFCL + Hurricast 59.1 41.51 1.28\n",
      "\n",
      "\n",
      "\n",
      " No forecasts for year  2018\n",
      "YEAR 2019\n",
      "Number of timesteps: 208\n",
      "AN Model | MAE | std | %age busts (>200km)\n",
      "Hurricast 108.12 83.21 10.1\n",
      "SHIP 90.58 85.44 8.65\n",
      "HWRF 82.0 51.08 3.37\n",
      "OFCL 83.88 75.84 6.73\n",
      "FSSE 78.68 70.89 7.69\n",
      "GFSO 85.71 70.17 6.73\n",
      "AEMN 88.13 76.76 6.73\n",
      "CLP5 206.79 170.66 35.58\n",
      "Consensus OFCL only 75.94 64.34 4.81\n",
      "Consensus OFCL + Hurricast 74.92 60.58 4.81\n",
      "\n",
      "\n",
      "\n",
      " No forecasts for year  2019\n"
     ]
    },
    {
     "data": {
      "text/plain": [
       "{'MAES_AEMN': [65.42, 61.83, 85.71],\n",
       " 'MAES_CLP5': [188.66, 198.56, 206.79],\n",
       " 'MAES_FSSE': [61.54, 63.42, 78.68],\n",
       " 'MAES_GFSO': [70.04, 61.86, 88.13],\n",
       " 'MAES_HWRF': [68.37, 66.66, 82.0],\n",
       " 'MAES_OFCL': [62.04, 66.41, 83.88],\n",
       " 'MAES_SHIP': [69.37, 72.49, 90.58],\n",
       " 'MAEs_full': [110.27, 121.96, 108.12],\n",
       " 'num_samples': [227, 234, 208],\n",
       " 'std_AEMN': [44.95, 48.23, 70.17],\n",
       " 'std_CLP5': [135.42, 118.19, 170.66],\n",
       " 'std_FSSE': [40.54, 44.21, 70.89],\n",
       " 'std_GFSO': [42.93, 47.43, 76.76],\n",
       " 'std_HWRF': [43.9, 47.18, 51.08],\n",
       " 'std_OFCL': [43.55, 48.47, 75.84],\n",
       " 'std_SHIP': [47.68, 53.06, 85.44],\n",
       " 'std_full': [78.78, 73.26, 83.21],\n",
       " 'year': [2017, 2018, 2019]}"
      ]
     },
     "execution_count": 40,
     "metadata": {},
     "output_type": "execute_result"
    }
   ],
   "source": [
    "train_xgb_track_all_years(X_test_baseline[:m], X_test_baseline, tgt_displacement_test[:m], max_depth=6, learning_rate=0.03, n_estimators=300, subsample=0.8, basin = 'AN')"
   ]
  },
  {
   "cell_type": "code",
   "execution_count": 47,
   "metadata": {
    "hidden": true
   },
   "outputs": [
    {
     "name": "stdout",
     "output_type": "stream",
     "text": [
      "YEAR 2017\n",
      "Number of timesteps: 227\n",
      "AN Model | MAE | std | %age busts (>200km)\n",
      "Hurricast 104.05 78.06 9.25\n",
      "SHIP 69.37 47.68 2.2\n",
      "HWRF 68.37 43.9 1.32\n",
      "OFCL 62.04 43.55 0.88\n",
      "FSSE 61.54 40.54 0.88\n",
      "GFSO 65.42 44.95 2.2\n",
      "AEMN 70.04 42.93 0.44\n",
      "CLP5 188.66 135.42 31.72\n",
      "Consensus OFCL only 58.32 39.58 0.88\n",
      "Consensus OFCL + Hurricast 58.12 39.22 0.44\n",
      "\n",
      "\n",
      "\n",
      " No forecasts for year  2017\n",
      "YEAR 2018\n",
      "Number of timesteps: 234\n",
      "AN Model | MAE | std | %age busts (>200km)\n",
      "Hurricast 115.79 79.58 11.54\n",
      "SHIP 72.49 53.06 1.71\n",
      "HWRF 66.66 47.18 2.56\n",
      "OFCL 66.41 48.47 1.28\n",
      "FSSE 63.42 44.21 2.14\n",
      "GFSO 61.83 48.23 2.56\n",
      "AEMN 61.86 47.43 0.85\n",
      "CLP5 198.56 118.19 41.03\n",
      "Consensus OFCL only 55.09 43.11 0.85\n",
      "Consensus OFCL + Hurricast 58.63 41.64 1.28\n",
      "\n",
      "\n",
      "\n",
      " No forecasts for year  2018\n",
      "YEAR 2019\n",
      "Number of timesteps: 208\n",
      "AN Model | MAE | std | %age busts (>200km)\n",
      "Hurricast 102.44 88.96 10.1\n",
      "SHIP 90.58 85.44 8.65\n",
      "HWRF 82.0 51.08 3.37\n",
      "OFCL 83.88 75.84 6.73\n",
      "FSSE 78.68 70.89 7.69\n",
      "GFSO 85.71 70.17 6.73\n",
      "AEMN 88.13 76.76 6.73\n",
      "CLP5 206.79 170.66 35.58\n",
      "Consensus OFCL only 75.94 64.34 4.81\n",
      "Consensus OFCL + Hurricast 75.16 62.3 4.33\n",
      "\n",
      "\n",
      "\n",
      " No forecasts for year  2019\n"
     ]
    },
    {
     "data": {
      "text/plain": [
       "{'MAES_AEMN': [65.42, 61.83, 85.71],\n",
       " 'MAES_CLP5': [188.66, 198.56, 206.79],\n",
       " 'MAES_FSSE': [61.54, 63.42, 78.68],\n",
       " 'MAES_GFSO': [70.04, 61.86, 88.13],\n",
       " 'MAES_HWRF': [68.37, 66.66, 82.0],\n",
       " 'MAES_OFCL': [62.04, 66.41, 83.88],\n",
       " 'MAES_SHIP': [69.37, 72.49, 90.58],\n",
       " 'MAEs_full': [104.05, 115.79, 102.44],\n",
       " 'num_samples': [227, 234, 208],\n",
       " 'std_AEMN': [44.95, 48.23, 70.17],\n",
       " 'std_CLP5': [135.42, 118.19, 170.66],\n",
       " 'std_FSSE': [40.54, 44.21, 70.89],\n",
       " 'std_GFSO': [42.93, 47.43, 76.76],\n",
       " 'std_HWRF': [43.9, 47.18, 51.08],\n",
       " 'std_OFCL': [43.55, 48.47, 75.84],\n",
       " 'std_SHIP': [47.68, 53.06, 85.44],\n",
       " 'std_full': [78.06, 79.58, 88.96],\n",
       " 'year': [2017, 2018, 2019]}"
      ]
     },
     "execution_count": 47,
     "metadata": {},
     "output_type": "execute_result"
    }
   ],
   "source": [
    "train = X_test_baseline[:m].loc[X_test_baseline['cat_basin_AN_0'] +  X_test_baseline['cat_basin_EP_0'] == 1]\n",
    "tgt_train = tgt_displacement_test[:m][train.index]\n",
    "train_xgb_track_all_years(train, X_test_baseline, tgt_train, max_depth=7, learning_rate=0.03, n_estimators=300, subsample=0.8, basin = 'AN')"
   ]
  },
  {
   "cell_type": "markdown",
   "metadata": {},
   "source": [
    "### X_test_baseline + Embeds"
   ]
  },
  {
   "cell_type": "code",
   "execution_count": 177,
   "metadata": {},
   "outputs": [
    {
     "name": "stdout",
     "output_type": "stream",
     "text": [
      "YEAR 2016\n",
      "Number of timesteps: 315\n",
      "EP Model | MAE | std | %age busts (>200km)\n",
      "Hurricast 64.57 38.42 0.32\n",
      "SHIP 57.85 34.92 0.32\n",
      "HWRF 61.82 40.02 1.9\n",
      "OFCL 54.09 34.1 0.0\n",
      "FSSE 55.8 33.86 0.32\n",
      "GFSO 60.33 44.6 1.9\n",
      "AEMN 56.33 37.91 0.63\n",
      "CLP5 113.55 58.53 7.62\n",
      "Consensus OFCL only 50.84 33.91 0.0\n",
      "Consensus OFCL + Hurricast 49.03 32.55 0.0\n",
      "\n",
      "\n",
      "YEAR 2017\n",
      "Number of timesteps: 167\n",
      "EP Model | MAE | std | %age busts (>200km)\n",
      "Hurricast 57.23 31.75 0.0\n",
      "SHIP 59.96 35.47 0.6\n",
      "HWRF 74.58 40.85 2.4\n",
      "OFCL 55.2 33.37 0.0\n",
      "FSSE 54.98 35.64 0.6\n",
      "GFSO 73.68 45.78 1.2\n",
      "AEMN 68.34 40.13 1.2\n",
      "CLP5 108.57 61.48 8.38\n",
      "Consensus OFCL only 57.64 34.02 0.6\n",
      "Consensus OFCL + Hurricast 54.31 30.64 0.0\n",
      "\n",
      "\n",
      "YEAR 2018\n",
      "Number of timesteps: 355\n",
      "EP Model | MAE | std | %age busts (>200km)\n",
      "Hurricast 61.82 37.28 1.13\n",
      "SHIP 56.76 32.53 0.28\n",
      "HWRF 67.99 44.14 1.97\n",
      "OFCL 53.6 30.77 0.28\n",
      "FSSE 56.26 60.66 1.13\n",
      "GFSO 64.01 44.34 1.41\n",
      "AEMN 59.09 34.78 0.28\n",
      "CLP5 133.27 73.69 18.31\n",
      "Consensus OFCL only 50.88 32.97 0.28\n",
      "Consensus OFCL + Hurricast 48.37 30.68 0.28\n",
      "\n",
      "\n"
     ]
    },
    {
     "data": {
      "text/plain": [
       "{'MAES_AEMN': [60.33, 73.68, 64.01],\n",
       " 'MAES_CLP5': [113.55, 108.57, 133.27],\n",
       " 'MAES_FSSE': [55.8, 54.98, 56.26],\n",
       " 'MAES_GFSO': [56.33, 68.34, 59.09],\n",
       " 'MAES_HWRF': [61.82, 74.58, 67.99],\n",
       " 'MAES_OFCL': [54.09, 55.2, 53.6],\n",
       " 'MAES_SHIP': [57.85, 59.96, 56.76],\n",
       " 'MAEs_full': [64.57, 57.23, 61.82],\n",
       " 'num_samples': [315, 167, 355],\n",
       " 'std_AEMN': [44.6, 45.78, 44.34],\n",
       " 'std_CLP5': [58.53, 61.48, 73.69],\n",
       " 'std_FSSE': [33.86, 35.64, 60.66],\n",
       " 'std_GFSO': [37.91, 40.13, 34.78],\n",
       " 'std_HWRF': [40.02, 40.85, 44.14],\n",
       " 'std_OFCL': [34.1, 33.37, 30.77],\n",
       " 'std_SHIP': [34.92, 35.47, 32.53],\n",
       " 'std_full': [38.42, 31.75, 37.28],\n",
       " 'year': [2016, 2017, 2018]}"
      ]
     },
     "execution_count": 177,
     "metadata": {},
     "output_type": "execute_result"
    }
   ],
   "source": [
    "train_xgb_track_all_years(np.concatenate((X_test_baseline[:m], X_test_embed[:m]), axis =1), np.concatenate((X_test_baseline, X_test_embed), axis =1), tgt_displacement_test[:m], \n",
    "                          max_depth=9, learning_rate=0.03, n_estimators=300, subsample=0.9, min_child_weight = 5, basin = 'EP')"
   ]
  },
  {
   "cell_type": "code",
   "execution_count": 178,
   "metadata": {},
   "outputs": [
    {
     "name": "stdout",
     "output_type": "stream",
     "text": [
      "YEAR 2016\n",
      "Number of timesteps: 315\n",
      "EP Model | MAE | std | %age busts (>200km)\n",
      "Hurricast 65.99 38.71 0.32\n",
      "SHIP 57.85 34.92 0.32\n",
      "HWRF 61.82 40.02 1.9\n",
      "OFCL 54.09 34.1 0.0\n",
      "FSSE 55.8 33.86 0.32\n",
      "GFSO 60.33 44.6 1.9\n",
      "AEMN 56.33 37.91 0.63\n",
      "CLP5 113.55 58.53 7.62\n",
      "Consensus OFCL only 50.84 33.91 0.0\n",
      "Consensus OFCL + Hurricast 49.15 32.81 0.0\n",
      "\n",
      "\n",
      "YEAR 2017\n",
      "Number of timesteps: 167\n",
      "EP Model | MAE | std | %age busts (>200km)\n",
      "Hurricast 58.01 32.72 0.0\n",
      "SHIP 59.96 35.47 0.6\n",
      "HWRF 74.58 40.85 2.4\n",
      "OFCL 55.2 33.37 0.0\n",
      "FSSE 54.98 35.64 0.6\n",
      "GFSO 73.68 45.78 1.2\n",
      "AEMN 68.34 40.13 1.2\n",
      "CLP5 108.57 61.48 8.38\n",
      "Consensus OFCL only 57.64 34.02 0.6\n",
      "Consensus OFCL + Hurricast 54.36 30.43 0.0\n",
      "\n",
      "\n",
      "YEAR 2018\n",
      "Number of timesteps: 355\n",
      "EP Model | MAE | std | %age busts (>200km)\n",
      "Hurricast 60.41 36.15 0.56\n",
      "SHIP 56.76 32.53 0.28\n",
      "HWRF 67.99 44.14 1.97\n",
      "OFCL 53.6 30.77 0.28\n",
      "FSSE 56.26 60.66 1.13\n",
      "GFSO 64.01 44.34 1.41\n",
      "AEMN 59.09 34.78 0.28\n",
      "CLP5 133.27 73.69 18.31\n",
      "Consensus OFCL only 50.88 32.97 0.28\n",
      "Consensus OFCL + Hurricast 48.21 30.71 0.28\n",
      "\n",
      "\n"
     ]
    },
    {
     "data": {
      "text/plain": [
       "{'MAES_AEMN': [60.33, 73.68, 64.01],\n",
       " 'MAES_CLP5': [113.55, 108.57, 133.27],\n",
       " 'MAES_FSSE': [55.8, 54.98, 56.26],\n",
       " 'MAES_GFSO': [56.33, 68.34, 59.09],\n",
       " 'MAES_HWRF': [61.82, 74.58, 67.99],\n",
       " 'MAES_OFCL': [54.09, 55.2, 53.6],\n",
       " 'MAES_SHIP': [57.85, 59.96, 56.76],\n",
       " 'MAEs_full': [65.99, 58.01, 60.41],\n",
       " 'num_samples': [315, 167, 355],\n",
       " 'std_AEMN': [44.6, 45.78, 44.34],\n",
       " 'std_CLP5': [58.53, 61.48, 73.69],\n",
       " 'std_FSSE': [33.86, 35.64, 60.66],\n",
       " 'std_GFSO': [37.91, 40.13, 34.78],\n",
       " 'std_HWRF': [40.02, 40.85, 44.14],\n",
       " 'std_OFCL': [34.1, 33.37, 30.77],\n",
       " 'std_SHIP': [34.92, 35.47, 32.53],\n",
       " 'std_full': [38.71, 32.72, 36.15],\n",
       " 'year': [2016, 2017, 2018]}"
      ]
     },
     "execution_count": 178,
     "metadata": {},
     "output_type": "execute_result"
    }
   ],
   "source": [
    "train_xgb_track_all_years(np.concatenate((X_test_baseline[:m], X_test_embed[:m]), axis =1), np.concatenate((X_test_baseline, X_test_embed), axis =1), tgt_displacement_test[:m], \n",
    "                          max_depth=9, learning_rate=0.05, n_estimators=300, subsample=0.9, min_child_weight = 5, basin = 'EP')"
   ]
  },
  {
   "cell_type": "code",
   "execution_count": 179,
   "metadata": {},
   "outputs": [
    {
     "name": "stdout",
     "output_type": "stream",
     "text": [
      "YEAR 2016\n",
      "Number of timesteps: 315\n",
      "EP Model | MAE | std | %age busts (>200km)\n",
      "Hurricast 62.65 38.43 0.32\n",
      "SHIP 57.85 34.92 0.32\n",
      "HWRF 61.82 40.02 1.9\n",
      "OFCL 54.09 34.1 0.0\n",
      "FSSE 55.8 33.86 0.32\n",
      "GFSO 60.33 44.6 1.9\n",
      "AEMN 56.33 37.91 0.63\n",
      "CLP5 113.55 58.53 7.62\n",
      "Consensus OFCL only 50.84 33.91 0.0\n",
      "Consensus OFCL + Hurricast 49.45 32.3 0.0\n",
      "\n",
      "\n",
      "YEAR 2017\n",
      "Number of timesteps: 167\n",
      "EP Model | MAE | std | %age busts (>200km)\n",
      "Hurricast 52.68 29.25 0.0\n",
      "SHIP 59.96 35.47 0.6\n",
      "HWRF 74.58 40.85 2.4\n",
      "OFCL 55.2 33.37 0.0\n",
      "FSSE 54.98 35.64 0.6\n",
      "GFSO 73.68 45.78 1.2\n",
      "AEMN 68.34 40.13 1.2\n",
      "CLP5 108.57 61.48 8.38\n",
      "Consensus OFCL only 57.64 34.02 0.6\n",
      "Consensus OFCL + Hurricast 53.9 31.73 0.6\n",
      "\n",
      "\n",
      "YEAR 2018\n",
      "Number of timesteps: 355\n",
      "EP Model | MAE | std | %age busts (>200km)\n",
      "Hurricast 60.98 37.67 1.13\n",
      "SHIP 56.76 32.53 0.28\n",
      "HWRF 67.99 44.14 1.97\n",
      "OFCL 53.6 30.77 0.28\n",
      "FSSE 56.26 60.66 1.13\n",
      "GFSO 64.01 44.34 1.41\n",
      "AEMN 59.09 34.78 0.28\n",
      "CLP5 133.27 73.69 18.31\n",
      "Consensus OFCL only 50.88 32.97 0.28\n",
      "Consensus OFCL + Hurricast 49.21 30.66 0.28\n",
      "\n",
      "\n"
     ]
    },
    {
     "data": {
      "text/plain": [
       "{'MAES_AEMN': [60.33, 73.68, 64.01],\n",
       " 'MAES_CLP5': [113.55, 108.57, 133.27],\n",
       " 'MAES_FSSE': [55.8, 54.98, 56.26],\n",
       " 'MAES_GFSO': [56.33, 68.34, 59.09],\n",
       " 'MAES_HWRF': [61.82, 74.58, 67.99],\n",
       " 'MAES_OFCL': [54.09, 55.2, 53.6],\n",
       " 'MAES_SHIP': [57.85, 59.96, 56.76],\n",
       " 'MAEs_full': [62.65, 52.68, 60.98],\n",
       " 'num_samples': [315, 167, 355],\n",
       " 'std_AEMN': [44.6, 45.78, 44.34],\n",
       " 'std_CLP5': [58.53, 61.48, 73.69],\n",
       " 'std_FSSE': [33.86, 35.64, 60.66],\n",
       " 'std_GFSO': [37.91, 40.13, 34.78],\n",
       " 'std_HWRF': [40.02, 40.85, 44.14],\n",
       " 'std_OFCL': [34.1, 33.37, 30.77],\n",
       " 'std_SHIP': [34.92, 35.47, 32.53],\n",
       " 'std_full': [38.43, 29.25, 37.67],\n",
       " 'year': [2016, 2017, 2018]}"
      ]
     },
     "execution_count": 179,
     "metadata": {},
     "output_type": "execute_result"
    }
   ],
   "source": [
    "train = X_test_baseline[:m].loc[X_test_baseline['cat_basin_AN_0'] +  X_test_baseline['cat_basin_EP_0'] == 1]\n",
    "tgt_train = tgt_displacement_test[:m][train.index]\n",
    "train = np.concatenate((train, X_train_embed[train.index]), axis = 1)\n",
    "train_xgb_track_all_years(train, np.concatenate((X_test_baseline, X_test_embed), axis =1), tgt_train, max_depth=9, learning_rate=0.03, n_estimators=300, subsample=0.8, basin = 'EP')"
   ]
  },
  {
   "cell_type": "markdown",
   "metadata": {
    "heading_collapsed": true
   },
   "source": [
    "# Table intensity AN"
   ]
  },
  {
   "cell_type": "code",
   "execution_count": 10,
   "metadata": {
    "hidden": true
   },
   "outputs": [],
   "source": [
    "from sklearn.feature_selection import SelectFromModel\n",
    "\n",
    "n = X_test_baseline.shape[0]\n",
    "X_test_total = X_test_total[-n:]\n",
    "tgt_intensity_test = tgt_intensity_test[-n:]\n",
    "X_test = X_test[-n:]\n",
    "X_test_embed = X_test_embed[-n:]\n",
    "tgt_displacement_test = tgt_displacement_test[-n:]"
   ]
  },
  {
   "cell_type": "code",
   "execution_count": 11,
   "metadata": {
    "hidden": true
   },
   "outputs": [],
   "source": []
  },
  {
   "cell_type": "code",
   "execution_count": 78,
   "metadata": {
    "hidden": true
   },
   "outputs": [],
   "source": [
    "dict6 = {'year':[], 'num_samples':[], 'MAEs_full':[], 'std_full':[], 'MAES_2012':[], 'std_2012':[], 'MAES_SHIP':[], 'std_SHIP':[], 'MAES_HWRF':[], 'std_HWRF':[], 'MAES_OFCL':[], 'std_OFCL':[], 'MAES_FSSE':[], 'std_FSSE':[], 'MAES_GFSO':[], 'std_GFSO':[], 'MAES_DSHP':[], 'std_DSHP':[]}"
   ]
  },
  {
   "cell_type": "code",
   "execution_count": 79,
   "metadata": {
    "hidden": true
   },
   "outputs": [],
   "source": [
    "tgt_train = np.concatenate((tgt_intensity_train, tgt_intensity_test[:17094]), axis = 0)\n",
    "tgt_train5 = tgt_train*std_+mean_\n",
    "mean_intensity2 = tgt_train5.mean()\n",
    "std_intensity2 = tgt_train5.std()\n",
    "tgt_train5 = (tgt_train5 - mean_intensity2)/std_intensity2\n",
    "tgt_intensity_test = (tgt_intensity_test*std_+mean_ - mean_intensity2)/std_intensity2\n",
    "std_ = float(std_intensity2)\n",
    "mean_ = float(mean_intensity2)"
   ]
  },
  {
   "cell_type": "code",
   "execution_count": 62,
   "metadata": {
    "hidden": true
   },
   "outputs": [
    {
     "name": "stdout",
     "output_type": "stream",
     "text": [
      "Total number of steps for comparison:  669\n",
      "Year 2017 Basin AN MAE intensity | std | busts > 20kn %\n",
      "Hurr full:  10.93 14.14 14.65\n",
      "Hurr until 2012:  10.93 14.14 14.65\n",
      "SHIP 11.29 15.51 17.34\n",
      "HWRF 9.59 12.59 11.21\n",
      "OFCL 8.55 11.85 7.32\n",
      "FSSE 8.44 11.29 7.32\n",
      "GFSO 14.0 15.64 22.42\n",
      "DSHP 10.28 13.59 14.8\n",
      "Consensus ofcl 8.27\n",
      "Consensus Hurr 10.09\n",
      "Total number of steps for comparison:  522\n",
      "Year 2017 Basin EP MAE intensity | std | busts > 20kn %\n",
      "Hurr full:  11.36 15.31 18.01\n",
      "Hurr until 2012:  11.36 15.31 18.01\n",
      "SHIP 11.97 15.22 16.86\n",
      "HWRF 9.95 14.02 14.18\n",
      "OFCL 9.55 12.99 7.85\n",
      "FSSE 9.22 12.38 9.96\n",
      "GFSO 16.95 19.67 31.99\n",
      "DSHP 11.85 15.13 16.86\n",
      "Consensus ofcl 9.24\n",
      "Consensus Hurr 10.98\n"
     ]
    }
   ],
   "source": [
    "#FULL TRAIN WITH CNN/GRU EMBEDS + ONLY AN EP in training + only more than. 40kn winds\n",
    "index_t = X_train.loc[X_train['cat_basin_AN_0'] + X_train['cat_basin_EP_0'] == 1].loc[X_train['WMO_WIND_7'] > 34].index\n",
    "index_te = X_test[:17094].loc[X_test['cat_basin_AN_0'] + X_test['cat_basin_EP_0'] == 1].loc[X_test['WMO_WIND_7'] > 34].index\n",
    "train = np.concatenate((X_train_total[index_t], X_test_total[index_te]), axis = 0)\n",
    "#tgt_train = np.concatenate((tgt_intensity_train[index_t], tgt_intensity_test[index_te]), axis = 0)\n",
    "\n",
    "xgb_total = XGBRegressor(max_depth=6, n_estimators=150, learning_rate=0.03, subsample=0.8, min_child_weight=1)\n",
    "xgb_total.fit(train, tgt_train)\n",
    "compare_perf_intensity_per_year_6cast(X_test_total, dict6, xgb_total = xgb_total, xgb_tot = xgb_total, basin='AN', forecast='SHIP', forecast2 = 'HWRF', forecast3 = 'OFCL', forecast4 = 'FSSE', forecast5 = 'GFSO', forecast6 = 'DSHP', year = 2017)\n",
    "compare_perf_intensity_per_year_6cast(X_test_total, dict6, xgb_total = xgb_total, xgb_tot = xgb_total, basin='EP', forecast='SHIP', forecast2 = 'HWRF', forecast3 = 'OFCL', forecast4 = 'FSSE', forecast5 = 'GFSO', forecast6 = 'DSHP', year = 2017)"
   ]
  },
  {
   "cell_type": "code",
   "execution_count": 63,
   "metadata": {
    "hidden": true
   },
   "outputs": [
    {
     "name": "stdout",
     "output_type": "stream",
     "text": [
      "Total number of steps for comparison:  669\n",
      "Year 2017 Basin AN MAE intensity | std | busts > 20kn %\n",
      "Hurr full:  10.8 13.98 14.5\n",
      "Hurr until 2012:  10.8 13.98 14.5\n",
      "SHIP 11.29 15.51 17.34\n",
      "HWRF 9.59 12.59 11.21\n",
      "OFCL 8.55 11.85 7.32\n",
      "FSSE 8.44 11.29 7.32\n",
      "GFSO 14.0 15.64 22.42\n",
      "DSHP 10.28 13.59 14.8\n",
      "Consensus ofcl 8.27\n",
      "Consensus Hurr 10.3\n",
      "Total number of steps for comparison:  522\n",
      "Year 2017 Basin EP MAE intensity | std | busts > 20kn %\n",
      "Hurr full:  11.13 15.08 16.09\n",
      "Hurr until 2012:  11.13 15.08 16.09\n",
      "SHIP 11.97 15.22 16.86\n",
      "HWRF 9.95 14.02 14.18\n",
      "OFCL 9.55 12.99 7.85\n",
      "FSSE 9.22 12.38 9.96\n",
      "GFSO 16.95 19.67 31.99\n",
      "DSHP 11.85 15.13 16.86\n",
      "Consensus ofcl 9.24\n",
      "Consensus Hurr 11.18\n"
     ]
    }
   ],
   "source": [
    "index_t = X_train.loc[X_train['cat_basin_AN_0'] + X_train['cat_basin_EP_0'] == 1].loc[X_train['WMO_WIND_7'] > 34].index\n",
    "index_te = X_test[:17094].loc[X_test['cat_basin_AN_0'] + X_test['cat_basin_EP_0'] == 1].loc[X_test['WMO_WIND_7'] > 34].index\n",
    "train = np.concatenate((X_train_total[index_t], X_test_total[index_te]), axis = 0)\n",
    "tgt_train = np.array(((np.concatenate((tgt_intensity_train[index_t], tgt_intensity_test[index_te]), axis = 0))*float(std_intensity)+float(mean_intensity)-mean_)/std_)\n",
    "xgb_total = XGBRegressor(max_depth=8, n_estimators=150, learning_rate=0.03, subsample=0.8, min_child_weight=1)\n",
    "xgb_total.fit(train, tgt_train)\n",
    "compare_perf_intensity_per_year_6cast(X_test_total, dict6, xgb_total = xgb_total, xgb_tot = xgb_total, basin='AN', forecast='SHIP', forecast2 = 'HWRF', forecast3 = 'OFCL', forecast4 = 'FSSE', forecast5 = 'GFSO', forecast6 = 'DSHP', year = 2017)\n",
    "compare_perf_intensity_per_year_6cast(X_test_total, dict6, xgb_total = xgb_total, xgb_tot = xgb_total, basin='EP', forecast='SHIP', forecast2 = 'HWRF', forecast3 = 'OFCL', forecast4 = 'FSSE', forecast5 = 'GFSO', forecast6 = 'DSHP', year = 2017)"
   ]
  },
  {
   "cell_type": "code",
   "execution_count": 64,
   "metadata": {
    "hidden": true
   },
   "outputs": [
    {
     "name": "stdout",
     "output_type": "stream",
     "text": [
      "Total number of steps for comparison:  669\n",
      "Year 2017 Basin AN MAE intensity | std | busts > 20kn %\n",
      "Hurr full:  10.68 13.84 12.71\n",
      "Hurr until 2012:  10.68 13.84 12.71\n",
      "SHIP 11.29 15.51 17.34\n",
      "HWRF 9.59 12.59 11.21\n",
      "OFCL 8.55 11.85 7.32\n",
      "FSSE 8.44 11.29 7.32\n",
      "GFSO 14.0 15.64 22.42\n",
      "DSHP 10.28 13.59 14.8\n",
      "Consensus ofcl 8.27\n",
      "Consensus Hurr 10.08\n",
      "Total number of steps for comparison:  522\n",
      "Year 2017 Basin EP MAE intensity | std | busts > 20kn %\n",
      "Hurr full:  11.24 15.15 17.05\n",
      "Hurr until 2012:  11.24 15.15 17.05\n",
      "SHIP 11.97 15.22 16.86\n",
      "HWRF 9.95 14.02 14.18\n",
      "OFCL 9.55 12.99 7.85\n",
      "FSSE 9.22 12.38 9.96\n",
      "GFSO 16.95 19.67 31.99\n",
      "DSHP 11.85 15.13 16.86\n",
      "Consensus ofcl 9.24\n",
      "Consensus Hurr 11.0\n"
     ]
    }
   ],
   "source": [
    "#FULL TRAIN WITH CNN/GRU EMBEDS\n",
    "index_t = X_train.loc[X_train['WMO_WIND_7'] > 40].index\n",
    "index_te = X_test[:17094].loc[X_test['WMO_WIND_7'] > 40].index\n",
    "train = np.concatenate((X_train_total[index_t], X_test_total[index_te]), axis = 0)\n",
    "tgt_train = np.concatenate((tgt_intensity_train[index_t], tgt_intensity_test[index_te]), axis = 0)\n",
    "\n",
    "xgb_total = XGBRegressor(max_depth=8, n_estimators=150, learning_rate=0.05, subsample=0.8, min_child_weight=5)\n",
    "xgb_total.fit(train, tgt_train)\n",
    "compare_perf_intensity_per_year_6cast(X_test_total, dict6, xgb_total = xgb_total, xgb_tot = xgb_total, basin='AN', forecast='SHIP', forecast2 = 'HWRF', forecast3 = 'OFCL', forecast4 = 'FSSE', forecast5 = 'GFSO', forecast6 = 'DSHP', year = 2017)\n",
    "compare_perf_intensity_per_year_6cast(X_test_total, dict6, xgb_total = xgb_total, xgb_tot = xgb_total, basin='EP', forecast='SHIP', forecast2 = 'HWRF', forecast3 = 'OFCL', forecast4 = 'FSSE', forecast5 = 'GFSO', forecast6 = 'DSHP', year = 2017)"
   ]
  },
  {
   "cell_type": "code",
   "execution_count": 85,
   "metadata": {
    "hidden": true
   },
   "outputs": [
    {
     "name": "stdout",
     "output_type": "stream",
     "text": [
      "Total number of steps for comparison:  669\n",
      "Year 2017 Basin AN MAE intensity | std | busts > 20kn %\n",
      "Hurr full:  10.54 13.79 13.0\n",
      "Hurr until 2012:  10.54 13.79 13.0\n",
      "SHIP 11.29 15.51 17.34\n",
      "HWRF 9.59 12.59 11.21\n",
      "OFCL 8.55 11.85 7.32\n",
      "FSSE 8.44 11.29 7.32\n",
      "GFSO 14.0 15.64 22.42\n",
      "DSHP 10.28 13.59 14.8\n",
      "Consensus ofcl 8.39\n",
      "Consensus Hurr 8.27\n",
      "Total number of steps for comparison:  522\n",
      "Year 2017 Basin EP MAE intensity | std | busts > 20kn %\n",
      "Hurr full:  11.27 15.24 16.28\n",
      "Hurr until 2012:  11.27 15.24 16.28\n",
      "SHIP 11.97 15.22 16.86\n",
      "HWRF 9.95 14.02 14.18\n",
      "OFCL 9.55 12.99 7.85\n",
      "FSSE 9.22 12.38 9.96\n",
      "GFSO 16.95 19.67 31.99\n",
      "DSHP 11.85 15.13 16.86\n",
      "Consensus ofcl 9.79\n",
      "Consensus Hurr 9.64\n"
     ]
    }
   ],
   "source": [
    "#FULL TRAIN WITH CNN/GRU EMBEDS\n",
    "train = np.concatenate((X_train_total, X_test_total[:17094]), axis = 0)\n",
    "#tgt_train = np.concatenate((tgt_intensity_train, tgt_intensity_test[:17094]), axis = 0)\n",
    "\n",
    "xgb_total = XGBRegressor(max_depth=8, n_estimators=250, learning_rate=0.07, subsample=0.8, min_child_weight=1, colsample_bytree = 0.7)\n",
    "xgb_total.fit(train, tgt_train5)\n",
    "compare_perf_intensity_per_year_6cast(X_test_total, dict6, xgb_total = xgb_total, xgb_tot = xgb_total, basin='AN', forecast='SHIP', forecast2 = 'HWRF', forecast3 = 'OFCL', forecast4 = 'FSSE', forecast5 = 'GFSO', forecast6 = 'DSHP', year = 2017)\n",
    "compare_perf_intensity_per_year_6cast(X_test_total, dict6, xgb_total = xgb_total, xgb_tot = xgb_total, basin='EP', forecast='SHIP', forecast2 = 'HWRF', forecast3 = 'OFCL', forecast4 = 'FSSE', forecast5 = 'GFSO', forecast6 = 'DSHP', year = 2017)"
   ]
  },
  {
   "cell_type": "code",
   "execution_count": 92,
   "metadata": {
    "hidden": true
   },
   "outputs": [
    {
     "name": "stdout",
     "output_type": "stream",
     "text": [
      "Total number of steps for comparison:  669\n",
      "Year 2017 Basin AN MAE intensity | std | busts > 20kn %\n",
      "Hurr full:  10.54 13.79 13.0\n",
      "Hurr until 2012:  10.54 13.79 13.0\n",
      "SHIP 11.29 15.51 17.34\n",
      "HWRF 9.59 12.59 11.21\n",
      "OFCL 8.55 11.85 7.32\n",
      "FSSE 8.44 11.29 7.32\n",
      "GFSO 14.0 15.64 22.42\n",
      "DSHP 10.28 13.59 14.8\n",
      "Consensus ofcl 8.44 11.35 8.52\n",
      "Consensus Hurr 8.33 11.21 8.37\n",
      "Total number of steps for comparison:  522\n",
      "Year 2017 Basin EP MAE intensity | std | busts > 20kn %\n",
      "Hurr full:  11.27 15.24 16.28\n",
      "Hurr until 2012:  11.27 15.24 16.28\n",
      "SHIP 11.97 15.22 16.86\n",
      "HWRF 9.95 14.02 14.18\n",
      "OFCL 9.55 12.99 7.85\n",
      "FSSE 9.22 12.38 9.96\n",
      "GFSO 16.95 19.67 31.99\n",
      "DSHP 11.85 15.13 16.86\n",
      "Consensus ofcl 9.39 12.52 10.73\n",
      "Consensus Hurr 9.35 12.54 10.73\n"
     ]
    }
   ],
   "source": [
    "compare_perf_intensity_per_year_6cast(X_test_total, dict6, xgb_total = xgb_total, xgb_tot = xgb_total, basin='AN', forecast='SHIP', forecast2 = 'HWRF', forecast3 = 'OFCL', forecast4 = 'FSSE', forecast5 = 'GFSO', forecast6 = 'DSHP', year = 2017)\n",
    "compare_perf_intensity_per_year_6cast(X_test_total, dict6, xgb_total = xgb_total, xgb_tot = xgb_total, basin='EP', forecast='SHIP', forecast2 = 'HWRF', forecast3 = 'OFCL', forecast4 = 'FSSE', forecast5 = 'GFSO', forecast6 = 'DSHP', year = 2017)"
   ]
  },
  {
   "cell_type": "code",
   "execution_count": 211,
   "metadata": {
    "hidden": true
   },
   "outputs": [],
   "source": [
    "year = 2017\n",
    "forecast='SHIP'\n",
    "forecast2 = 'HWRF'\n",
    "forecast3 = 'OFCL'\n",
    "forecast4 = 'FSSE'\n",
    "forecast5 = 'GFSO'\n",
    "forecast6 = 'AEMN'\n",
    "mode = 'vmax'\n",
    "basin = 'AN'\n",
    "test = X_test_total\n",
    "if True:\n",
    "    baseline_ = X_test_baseline.loc[X_test_baseline['YEAR_0'] < year].loc[\n",
    "            X_test_baseline[forecast6 + '_24_' + mode + '_7'] > -320].loc[\n",
    "            X_test_baseline[forecast5 + '_24_' + mode + '_7'] > -320].loc[\n",
    "            X_test_baseline[forecast4 + '_24_' + mode + '_7'] > -320].loc[\n",
    "            X_test_baseline[forecast3 + '_24_' + mode + '_7'] > -320].loc[\n",
    "            X_test_baseline[forecast2 + '_24_' + mode + '_7'] > -320].loc[\n",
    "            X_test_baseline[forecast + '_24_' + mode + '_7'] > -320].loc[X_test_baseline['cat_basin_' + basin + '_0'] == 1]  # .loc[#X_test_baseline['SHIP_24_'+mode+'_7'] > 0].index\n",
    "    if basin == 'EP':\n",
    "        baseline_ = X_test_baseline.loc[X_test_baseline['YEAR_0'] < year].loc[\n",
    "            X_test_baseline[forecast6 + '_24_' + mode + '_7'] > -320].loc[\n",
    "            X_test_baseline[forecast5 + '_24_' + mode + '_7'] > -320].loc[\n",
    "            X_test_baseline[forecast4 + '_24_' + mode + '_7'] > -320].loc[\n",
    "            X_test_baseline[forecast3 + '_24_' + mode + '_7'] > -320].loc[\n",
    "            X_test_baseline[forecast2 + '_24_' + mode + '_7'] > -320].loc[\n",
    "            X_test_baseline[forecast + '_24_' + mode + '_7'] > -320].loc[X_test_baseline['cat_basin_' + basin + '_0'] == 1]\n",
    "    index = baseline_.index\n",
    "    baseline_1 = baseline_[forecast + '_24_'+ mode + '_7']\n",
    "    baseline_2 = baseline_[forecast2 + '_24_' + mode + '_7']\n",
    "    baseline_3 = baseline_[forecast3 + '_24_' + mode + '_7']\n",
    "    baseline_4 = baseline_[forecast4 + '_24_' + mode + '_7']\n",
    "    baseline_5 = baseline_[forecast5 + '_24_' + mode + '_7']\n",
    "    baseline_6 = baseline_[forecast6 + '_24_' + mode + '_7']\n",
    "    X_test_withBASELINE_total = np.array(test)[index]\n",
    "    \n",
    "    tgt_ = np.array(tgt_intensity_test[index] * std_ + mean_)\n",
    "    preds = xgb_total.predict(X_test_withBASELINE_total) * std_ + mean_\n",
    "    train_consensus = np.stack((baseline_1, baseline_2, baseline_3, baseline_4, baseline_5, baseline_6), axis = 1)\n",
    "    train_consensus_hurr = np.stack((baseline_1, baseline_2, baseline_3, baseline_4, baseline_5, baseline_6, preds), axis = 1)\n",
    "   \n",
    "if True:\n",
    "    baseline_ = X_test_baseline.loc[X_test_baseline['YEAR_0'] >= year].loc[\n",
    "            X_test_baseline[forecast6 + '_24_' + mode + '_7'] > -320].loc[\n",
    "            X_test_baseline[forecast5 + '_24_' + mode + '_7'] > -320].loc[\n",
    "            X_test_baseline[forecast4 + '_24_' + mode + '_7'] > -320].loc[\n",
    "            X_test_baseline[forecast3 + '_24_' + mode + '_7'] > -320].loc[\n",
    "            X_test_baseline[forecast2 + '_24_' + mode + '_7'] > -320].loc[\n",
    "            X_test_baseline[forecast + '_24_' + mode + '_7'] > -320].loc[X_test_baseline['cat_basin_' + basin + '_0'] == 1]  # .loc[#X_test_baseline['SHIP_24_'+mode+'_7'] > 0].index\n",
    "    if basin == 'EP':\n",
    "        baseline_ = X_test_baseline.loc[X_test_baseline['YEAR_0'] < 2019].loc[X_test_baseline['YEAR_0'] >= year].loc[\n",
    "            X_test_baseline[forecast6 + '_24_' + mode + '_7'] > -320].loc[\n",
    "            X_test_baseline[forecast5 + '_24_' + mode + '_7'] > -320].loc[\n",
    "            X_test_baseline[forecast4 + '_24_' + mode + '_7'] > -320].loc[\n",
    "            X_test_baseline[forecast3 + '_24_' + mode + '_7'] > -320].loc[\n",
    "            X_test_baseline[forecast2 + '_24_' + mode + '_7'] > -320].loc[\n",
    "            X_test_baseline[forecast + '_24_' + mode + '_7'] > -320].loc[X_test_baseline['cat_basin_' + basin + '_0'] == 1]\n",
    "    index = baseline_.index\n",
    "    baseline_1 = baseline_[forecast + '_24_'+ mode + '_7']\n",
    "    baseline_2 = baseline_[forecast2 + '_24_' + mode + '_7']\n",
    "    baseline_3 = baseline_[forecast3 + '_24_' + mode + '_7']\n",
    "    baseline_4 = baseline_[forecast4 + '_24_' + mode + '_7']\n",
    "    baseline_5 = baseline_[forecast5 + '_24_' + mode + '_7']\n",
    "    baseline_6 = baseline_[forecast6 + '_24_' + mode + '_7']\n",
    "    X_test_withBASELINE_total = np.array(test)[index]\n",
    "    \n",
    "    tgt_test = np.array(tgt_intensity_test[index] * std_ + mean_)\n",
    "    preds = xgb_total.predict(X_test_withBASELINE_total) * std_ + mean_\n",
    "    test_consensus = np.stack((baseline_1, baseline_2, baseline_3, baseline_4, baseline_5, baseline_6), axis = 1)\n",
    "    test_consensus_hurr = np.stack((baseline_1, baseline_2, baseline_3, baseline_4, baseline_5, baseline_6, preds), axis = 1)\n",
    "        "
   ]
  },
  {
   "cell_type": "code",
   "execution_count": 63,
   "metadata": {
    "hidden": true
   },
   "outputs": [],
   "source": [
    "from sklearn.linear_model import Lasso"
   ]
  },
  {
   "cell_type": "code",
   "execution_count": 184,
   "metadata": {
    "hidden": true
   },
   "outputs": [
    {
     "name": "stdout",
     "output_type": "stream",
     "text": [
      "MAE intensity:  8.195159\n",
      "[ 0.          0.13361378  0.64414746  0.2184808   0.06403179 -0.        ]\n",
      "MAE intensity:  8.025881\n",
      "[-0.          0.11876066  0.5839296   0.28978214  0.11706416 -0.23846142\n",
      "  0.25588316]\n"
     ]
    }
   ],
   "source": [
    "#AN\n",
    "m = Lasso(alpha = 10)\n",
    "m.fit(train_consensus, tgt_)\n",
    "preds = np.array(m.predict(test_consensus))\n",
    "\n",
    "print(\"consensus without Hurricast\",\n",
    "                np.around(mean_absolute_error(np.array(tgt_test), preds), decimals=2),\n",
    "                np.around(np.std(tgt_test - preds), decimals=2),\n",
    "                np.around(sum(abs(tgt_test - preds) > 20)/len(preds) * 100, decimals = 2))print(m.coef_)\n",
    "\n",
    "m = Lasso(alpha = 3)\n",
    "m.fit(train_consensus_hurr, tgt_)\n",
    "preds = np.array(m.predict(test_consensus_hurr))\n",
    "\n",
    "\n",
    "print(\"consensus with Hurricast\",\n",
    "                np.around(mean_absolute_error(np.array(tgt_test), preds), decimals=2),\n",
    "                np.around(np.std(tgt_test - preds), decimals=2),\n",
    "                np.around(sum(abs(tgt_test - preds) > 20)/len(preds) * 100, decimals = 2))print(m.coef_)"
   ]
  },
  {
   "cell_type": "code",
   "execution_count": 213,
   "metadata": {
    "hidden": true
   },
   "outputs": [
    {
     "name": "stdout",
     "output_type": "stream",
     "text": [
      "consensus without Hurricast 8.2 11.0 8.67\n",
      "consensus with Hurricast 8.02 10.74 8.37\n"
     ]
    }
   ],
   "source": [
    "#AN\n",
    "m = Lasso(alpha = 10)\n",
    "m.fit(train_consensus, tgt_)\n",
    "preds = np.array(m.predict(test_consensus))\n",
    "\n",
    "print(\"consensus without Hurricast\",\n",
    "                np.around(mean_absolute_error(np.array(tgt_test), preds), decimals=2),\n",
    "                np.around(np.std(tgt_test - preds), decimals=2),\n",
    "                np.around(sum(abs(tgt_test - preds) > 20)/len(preds) * 100, decimals = 2))\n",
    "\n",
    "m = Lasso(alpha = 3)\n",
    "m.fit(train_consensus_hurr, tgt_)\n",
    "preds = np.array(m.predict(test_consensus_hurr))\n",
    "\n",
    "\n",
    "print(\"consensus with Hurricast\",\n",
    "                np.around(mean_absolute_error(np.array(tgt_test), preds), decimals=2),\n",
    "                np.around(np.std(tgt_test - preds), decimals=2),\n",
    "                np.around(sum(abs(tgt_test - preds) > 20)/len(preds) * 100, decimals = 2))"
   ]
  },
  {
   "cell_type": "code",
   "execution_count": 210,
   "metadata": {
    "hidden": true
   },
   "outputs": [
    {
     "name": "stdout",
     "output_type": "stream",
     "text": [
      "consensus without Hurricast 8.6 11.93 10.73\n",
      "consensus with Hurricast 8.56 11.76 10.34\n"
     ]
    }
   ],
   "source": [
    "#EP\n",
    "m = Lasso(alpha = 0.9)\n",
    "m.fit(train_consensus, tgt_)\n",
    "#print(\"MAE intensity: \", mean_absolute_error(np.array(tgt_test), np.array(m.predict(test_consensus))))\n",
    "#print(m.coef_)\n",
    "preds = np.array(m.predict(test_consensus))\n",
    "print(\"consensus without Hurricast\",\n",
    "                np.around(mean_absolute_error(np.array(tgt_test), preds), decimals=2),\n",
    "                np.around(np.std(tgt_test - preds), decimals=2),\n",
    "                np.around(sum(abs(tgt_test - preds) > 20)/len(preds) * 100, decimals = 2))\n",
    "\n",
    "m = Lasso(alpha = 2.)\n",
    "m.fit(train_consensus_hurr, tgt_)\n",
    "#print(\"MAE intensity: \", mean_absolute_error(np.array(tgt_test), np.array(m.predict(test_consensus_hurr))))\n",
    "#print(m.coef_)\n",
    "preds = np.array(m.predict(test_consensus_hurr))\n",
    "print(\"consensus with Hurricast\",\n",
    "                np.around(mean_absolute_error(np.array(tgt_test), preds), decimals=2),\n",
    "                np.around(np.std(tgt_test - preds), decimals=2),\n",
    "                np.around(sum(abs(tgt_test - preds) > 20)/len(preds) * 100, decimals = 2))"
   ]
  },
  {
   "cell_type": "code",
   "execution_count": 46,
   "metadata": {
    "hidden": true
   },
   "outputs": [
    {
     "ename": "KeyboardInterrupt",
     "evalue": "",
     "output_type": "error",
     "traceback": [
      "\u001b[0;31m---------------------------------------------------------------------------\u001b[0m",
      "\u001b[0;31mKeyboardInterrupt\u001b[0m                         Traceback (most recent call last)",
      "\u001b[0;32m<ipython-input-46-808056b18fb1>\u001b[0m in \u001b[0;36m<module>\u001b[0;34m()\u001b[0m\n\u001b[1;32m      1\u001b[0m \u001b[0mxgb_total\u001b[0m \u001b[0;34m=\u001b[0m \u001b[0mRandomForestRegressor\u001b[0m\u001b[0;34m(\u001b[0m\u001b[0mmax_depth\u001b[0m\u001b[0;34m=\u001b[0m\u001b[0;36m8\u001b[0m\u001b[0;34m,\u001b[0m \u001b[0mn_estimators\u001b[0m\u001b[0;34m=\u001b[0m\u001b[0;36m250\u001b[0m\u001b[0;34m)\u001b[0m\u001b[0;34m\u001b[0m\u001b[0;34m\u001b[0m\u001b[0m\n\u001b[0;32m----> 2\u001b[0;31m \u001b[0mxgb_total\u001b[0m\u001b[0;34m.\u001b[0m\u001b[0mfit\u001b[0m\u001b[0;34m(\u001b[0m\u001b[0mtrain\u001b[0m\u001b[0;34m,\u001b[0m \u001b[0mtgt_train5\u001b[0m\u001b[0;34m)\u001b[0m\u001b[0;34m\u001b[0m\u001b[0;34m\u001b[0m\u001b[0m\n\u001b[0m",
      "\u001b[0;32m/state/partition1/llgrid/pkg/anaconda/anaconda3-2020a/lib/python3.6/site-packages/sklearn/ensemble/forest.py\u001b[0m in \u001b[0;36mfit\u001b[0;34m(self, X, y, sample_weight)\u001b[0m\n\u001b[1;32m    331\u001b[0m                     \u001b[0mt\u001b[0m\u001b[0;34m,\u001b[0m \u001b[0mself\u001b[0m\u001b[0;34m,\u001b[0m \u001b[0mX\u001b[0m\u001b[0;34m,\u001b[0m \u001b[0my\u001b[0m\u001b[0;34m,\u001b[0m \u001b[0msample_weight\u001b[0m\u001b[0;34m,\u001b[0m \u001b[0mi\u001b[0m\u001b[0;34m,\u001b[0m \u001b[0mlen\u001b[0m\u001b[0;34m(\u001b[0m\u001b[0mtrees\u001b[0m\u001b[0;34m)\u001b[0m\u001b[0;34m,\u001b[0m\u001b[0;34m\u001b[0m\u001b[0;34m\u001b[0m\u001b[0m\n\u001b[1;32m    332\u001b[0m                     verbose=self.verbose, class_weight=self.class_weight)\n\u001b[0;32m--> 333\u001b[0;31m                 for i, t in enumerate(trees))\n\u001b[0m\u001b[1;32m    334\u001b[0m \u001b[0;34m\u001b[0m\u001b[0m\n\u001b[1;32m    335\u001b[0m             \u001b[0;31m# Collect newly grown trees\u001b[0m\u001b[0;34m\u001b[0m\u001b[0;34m\u001b[0m\u001b[0;34m\u001b[0m\u001b[0m\n",
      "\u001b[0;32m/state/partition1/llgrid/pkg/anaconda/anaconda3-2020a/lib/python3.6/site-packages/sklearn/externals/joblib/parallel.py\u001b[0m in \u001b[0;36m__call__\u001b[0;34m(self, iterable)\u001b[0m\n\u001b[1;32m    918\u001b[0m                 \u001b[0mself\u001b[0m\u001b[0;34m.\u001b[0m\u001b[0m_iterating\u001b[0m \u001b[0;34m=\u001b[0m \u001b[0mself\u001b[0m\u001b[0;34m.\u001b[0m\u001b[0m_original_iterator\u001b[0m \u001b[0;32mis\u001b[0m \u001b[0;32mnot\u001b[0m \u001b[0;32mNone\u001b[0m\u001b[0;34m\u001b[0m\u001b[0;34m\u001b[0m\u001b[0m\n\u001b[1;32m    919\u001b[0m \u001b[0;34m\u001b[0m\u001b[0m\n\u001b[0;32m--> 920\u001b[0;31m             \u001b[0;32mwhile\u001b[0m \u001b[0mself\u001b[0m\u001b[0;34m.\u001b[0m\u001b[0mdispatch_one_batch\u001b[0m\u001b[0;34m(\u001b[0m\u001b[0miterator\u001b[0m\u001b[0;34m)\u001b[0m\u001b[0;34m:\u001b[0m\u001b[0;34m\u001b[0m\u001b[0;34m\u001b[0m\u001b[0m\n\u001b[0m\u001b[1;32m    921\u001b[0m                 \u001b[0;32mpass\u001b[0m\u001b[0;34m\u001b[0m\u001b[0;34m\u001b[0m\u001b[0m\n\u001b[1;32m    922\u001b[0m \u001b[0;34m\u001b[0m\u001b[0m\n",
      "\u001b[0;32m/state/partition1/llgrid/pkg/anaconda/anaconda3-2020a/lib/python3.6/site-packages/sklearn/externals/joblib/parallel.py\u001b[0m in \u001b[0;36mdispatch_one_batch\u001b[0;34m(self, iterator)\u001b[0m\n\u001b[1;32m    757\u001b[0m                 \u001b[0;32mreturn\u001b[0m \u001b[0;32mFalse\u001b[0m\u001b[0;34m\u001b[0m\u001b[0;34m\u001b[0m\u001b[0m\n\u001b[1;32m    758\u001b[0m             \u001b[0;32melse\u001b[0m\u001b[0;34m:\u001b[0m\u001b[0;34m\u001b[0m\u001b[0;34m\u001b[0m\u001b[0m\n\u001b[0;32m--> 759\u001b[0;31m                 \u001b[0mself\u001b[0m\u001b[0;34m.\u001b[0m\u001b[0m_dispatch\u001b[0m\u001b[0;34m(\u001b[0m\u001b[0mtasks\u001b[0m\u001b[0;34m)\u001b[0m\u001b[0;34m\u001b[0m\u001b[0;34m\u001b[0m\u001b[0m\n\u001b[0m\u001b[1;32m    760\u001b[0m                 \u001b[0;32mreturn\u001b[0m \u001b[0;32mTrue\u001b[0m\u001b[0;34m\u001b[0m\u001b[0;34m\u001b[0m\u001b[0m\n\u001b[1;32m    761\u001b[0m \u001b[0;34m\u001b[0m\u001b[0m\n",
      "\u001b[0;32m/state/partition1/llgrid/pkg/anaconda/anaconda3-2020a/lib/python3.6/site-packages/sklearn/externals/joblib/parallel.py\u001b[0m in \u001b[0;36m_dispatch\u001b[0;34m(self, batch)\u001b[0m\n\u001b[1;32m    714\u001b[0m         \u001b[0;32mwith\u001b[0m \u001b[0mself\u001b[0m\u001b[0;34m.\u001b[0m\u001b[0m_lock\u001b[0m\u001b[0;34m:\u001b[0m\u001b[0;34m\u001b[0m\u001b[0;34m\u001b[0m\u001b[0m\n\u001b[1;32m    715\u001b[0m             \u001b[0mjob_idx\u001b[0m \u001b[0;34m=\u001b[0m \u001b[0mlen\u001b[0m\u001b[0;34m(\u001b[0m\u001b[0mself\u001b[0m\u001b[0;34m.\u001b[0m\u001b[0m_jobs\u001b[0m\u001b[0;34m)\u001b[0m\u001b[0;34m\u001b[0m\u001b[0;34m\u001b[0m\u001b[0m\n\u001b[0;32m--> 716\u001b[0;31m             \u001b[0mjob\u001b[0m \u001b[0;34m=\u001b[0m \u001b[0mself\u001b[0m\u001b[0;34m.\u001b[0m\u001b[0m_backend\u001b[0m\u001b[0;34m.\u001b[0m\u001b[0mapply_async\u001b[0m\u001b[0;34m(\u001b[0m\u001b[0mbatch\u001b[0m\u001b[0;34m,\u001b[0m \u001b[0mcallback\u001b[0m\u001b[0;34m=\u001b[0m\u001b[0mcb\u001b[0m\u001b[0;34m)\u001b[0m\u001b[0;34m\u001b[0m\u001b[0;34m\u001b[0m\u001b[0m\n\u001b[0m\u001b[1;32m    717\u001b[0m             \u001b[0;31m# A job can complete so quickly than its callback is\u001b[0m\u001b[0;34m\u001b[0m\u001b[0;34m\u001b[0m\u001b[0;34m\u001b[0m\u001b[0m\n\u001b[1;32m    718\u001b[0m             \u001b[0;31m# called before we get here, causing self._jobs to\u001b[0m\u001b[0;34m\u001b[0m\u001b[0;34m\u001b[0m\u001b[0;34m\u001b[0m\u001b[0m\n",
      "\u001b[0;32m/state/partition1/llgrid/pkg/anaconda/anaconda3-2020a/lib/python3.6/site-packages/sklearn/externals/joblib/_parallel_backends.py\u001b[0m in \u001b[0;36mapply_async\u001b[0;34m(self, func, callback)\u001b[0m\n\u001b[1;32m    180\u001b[0m     \u001b[0;32mdef\u001b[0m \u001b[0mapply_async\u001b[0m\u001b[0;34m(\u001b[0m\u001b[0mself\u001b[0m\u001b[0;34m,\u001b[0m \u001b[0mfunc\u001b[0m\u001b[0;34m,\u001b[0m \u001b[0mcallback\u001b[0m\u001b[0;34m=\u001b[0m\u001b[0;32mNone\u001b[0m\u001b[0;34m)\u001b[0m\u001b[0;34m:\u001b[0m\u001b[0;34m\u001b[0m\u001b[0;34m\u001b[0m\u001b[0m\n\u001b[1;32m    181\u001b[0m         \u001b[0;34m\"\"\"Schedule a func to be run\"\"\"\u001b[0m\u001b[0;34m\u001b[0m\u001b[0;34m\u001b[0m\u001b[0m\n\u001b[0;32m--> 182\u001b[0;31m         \u001b[0mresult\u001b[0m \u001b[0;34m=\u001b[0m \u001b[0mImmediateResult\u001b[0m\u001b[0;34m(\u001b[0m\u001b[0mfunc\u001b[0m\u001b[0;34m)\u001b[0m\u001b[0;34m\u001b[0m\u001b[0;34m\u001b[0m\u001b[0m\n\u001b[0m\u001b[1;32m    183\u001b[0m         \u001b[0;32mif\u001b[0m \u001b[0mcallback\u001b[0m\u001b[0;34m:\u001b[0m\u001b[0;34m\u001b[0m\u001b[0;34m\u001b[0m\u001b[0m\n\u001b[1;32m    184\u001b[0m             \u001b[0mcallback\u001b[0m\u001b[0;34m(\u001b[0m\u001b[0mresult\u001b[0m\u001b[0;34m)\u001b[0m\u001b[0;34m\u001b[0m\u001b[0;34m\u001b[0m\u001b[0m\n",
      "\u001b[0;32m/state/partition1/llgrid/pkg/anaconda/anaconda3-2020a/lib/python3.6/site-packages/sklearn/externals/joblib/_parallel_backends.py\u001b[0m in \u001b[0;36m__init__\u001b[0;34m(self, batch)\u001b[0m\n\u001b[1;32m    547\u001b[0m         \u001b[0;31m# Don't delay the application, to avoid keeping the input\u001b[0m\u001b[0;34m\u001b[0m\u001b[0;34m\u001b[0m\u001b[0;34m\u001b[0m\u001b[0m\n\u001b[1;32m    548\u001b[0m         \u001b[0;31m# arguments in memory\u001b[0m\u001b[0;34m\u001b[0m\u001b[0;34m\u001b[0m\u001b[0;34m\u001b[0m\u001b[0m\n\u001b[0;32m--> 549\u001b[0;31m         \u001b[0mself\u001b[0m\u001b[0;34m.\u001b[0m\u001b[0mresults\u001b[0m \u001b[0;34m=\u001b[0m \u001b[0mbatch\u001b[0m\u001b[0;34m(\u001b[0m\u001b[0;34m)\u001b[0m\u001b[0;34m\u001b[0m\u001b[0;34m\u001b[0m\u001b[0m\n\u001b[0m\u001b[1;32m    550\u001b[0m \u001b[0;34m\u001b[0m\u001b[0m\n\u001b[1;32m    551\u001b[0m     \u001b[0;32mdef\u001b[0m \u001b[0mget\u001b[0m\u001b[0;34m(\u001b[0m\u001b[0mself\u001b[0m\u001b[0;34m)\u001b[0m\u001b[0;34m:\u001b[0m\u001b[0;34m\u001b[0m\u001b[0;34m\u001b[0m\u001b[0m\n",
      "\u001b[0;32m/state/partition1/llgrid/pkg/anaconda/anaconda3-2020a/lib/python3.6/site-packages/sklearn/externals/joblib/parallel.py\u001b[0m in \u001b[0;36m__call__\u001b[0;34m(self)\u001b[0m\n\u001b[1;32m    223\u001b[0m         \u001b[0;32mwith\u001b[0m \u001b[0mparallel_backend\u001b[0m\u001b[0;34m(\u001b[0m\u001b[0mself\u001b[0m\u001b[0;34m.\u001b[0m\u001b[0m_backend\u001b[0m\u001b[0;34m,\u001b[0m \u001b[0mn_jobs\u001b[0m\u001b[0;34m=\u001b[0m\u001b[0mself\u001b[0m\u001b[0;34m.\u001b[0m\u001b[0m_n_jobs\u001b[0m\u001b[0;34m)\u001b[0m\u001b[0;34m:\u001b[0m\u001b[0;34m\u001b[0m\u001b[0;34m\u001b[0m\u001b[0m\n\u001b[1;32m    224\u001b[0m             return [func(*args, **kwargs)\n\u001b[0;32m--> 225\u001b[0;31m                     for func, args, kwargs in self.items]\n\u001b[0m\u001b[1;32m    226\u001b[0m \u001b[0;34m\u001b[0m\u001b[0m\n\u001b[1;32m    227\u001b[0m     \u001b[0;32mdef\u001b[0m \u001b[0m__len__\u001b[0m\u001b[0;34m(\u001b[0m\u001b[0mself\u001b[0m\u001b[0;34m)\u001b[0m\u001b[0;34m:\u001b[0m\u001b[0;34m\u001b[0m\u001b[0;34m\u001b[0m\u001b[0m\n",
      "\u001b[0;32m/state/partition1/llgrid/pkg/anaconda/anaconda3-2020a/lib/python3.6/site-packages/sklearn/externals/joblib/parallel.py\u001b[0m in \u001b[0;36m<listcomp>\u001b[0;34m(.0)\u001b[0m\n\u001b[1;32m    223\u001b[0m         \u001b[0;32mwith\u001b[0m \u001b[0mparallel_backend\u001b[0m\u001b[0;34m(\u001b[0m\u001b[0mself\u001b[0m\u001b[0;34m.\u001b[0m\u001b[0m_backend\u001b[0m\u001b[0;34m,\u001b[0m \u001b[0mn_jobs\u001b[0m\u001b[0;34m=\u001b[0m\u001b[0mself\u001b[0m\u001b[0;34m.\u001b[0m\u001b[0m_n_jobs\u001b[0m\u001b[0;34m)\u001b[0m\u001b[0;34m:\u001b[0m\u001b[0;34m\u001b[0m\u001b[0;34m\u001b[0m\u001b[0m\n\u001b[1;32m    224\u001b[0m             return [func(*args, **kwargs)\n\u001b[0;32m--> 225\u001b[0;31m                     for func, args, kwargs in self.items]\n\u001b[0m\u001b[1;32m    226\u001b[0m \u001b[0;34m\u001b[0m\u001b[0m\n\u001b[1;32m    227\u001b[0m     \u001b[0;32mdef\u001b[0m \u001b[0m__len__\u001b[0m\u001b[0;34m(\u001b[0m\u001b[0mself\u001b[0m\u001b[0;34m)\u001b[0m\u001b[0;34m:\u001b[0m\u001b[0;34m\u001b[0m\u001b[0;34m\u001b[0m\u001b[0m\n",
      "\u001b[0;32m/state/partition1/llgrid/pkg/anaconda/anaconda3-2020a/lib/python3.6/site-packages/sklearn/ensemble/forest.py\u001b[0m in \u001b[0;36m_parallel_build_trees\u001b[0;34m(tree, forest, X, y, sample_weight, tree_idx, n_trees, verbose, class_weight)\u001b[0m\n\u001b[1;32m    117\u001b[0m             \u001b[0mcurr_sample_weight\u001b[0m \u001b[0;34m*=\u001b[0m \u001b[0mcompute_sample_weight\u001b[0m\u001b[0;34m(\u001b[0m\u001b[0;34m'balanced'\u001b[0m\u001b[0;34m,\u001b[0m \u001b[0my\u001b[0m\u001b[0;34m,\u001b[0m \u001b[0mindices\u001b[0m\u001b[0;34m)\u001b[0m\u001b[0;34m\u001b[0m\u001b[0;34m\u001b[0m\u001b[0m\n\u001b[1;32m    118\u001b[0m \u001b[0;34m\u001b[0m\u001b[0m\n\u001b[0;32m--> 119\u001b[0;31m         \u001b[0mtree\u001b[0m\u001b[0;34m.\u001b[0m\u001b[0mfit\u001b[0m\u001b[0;34m(\u001b[0m\u001b[0mX\u001b[0m\u001b[0;34m,\u001b[0m \u001b[0my\u001b[0m\u001b[0;34m,\u001b[0m \u001b[0msample_weight\u001b[0m\u001b[0;34m=\u001b[0m\u001b[0mcurr_sample_weight\u001b[0m\u001b[0;34m,\u001b[0m \u001b[0mcheck_input\u001b[0m\u001b[0;34m=\u001b[0m\u001b[0;32mFalse\u001b[0m\u001b[0;34m)\u001b[0m\u001b[0;34m\u001b[0m\u001b[0;34m\u001b[0m\u001b[0m\n\u001b[0m\u001b[1;32m    120\u001b[0m     \u001b[0;32melse\u001b[0m\u001b[0;34m:\u001b[0m\u001b[0;34m\u001b[0m\u001b[0;34m\u001b[0m\u001b[0m\n\u001b[1;32m    121\u001b[0m         \u001b[0mtree\u001b[0m\u001b[0;34m.\u001b[0m\u001b[0mfit\u001b[0m\u001b[0;34m(\u001b[0m\u001b[0mX\u001b[0m\u001b[0;34m,\u001b[0m \u001b[0my\u001b[0m\u001b[0;34m,\u001b[0m \u001b[0msample_weight\u001b[0m\u001b[0;34m=\u001b[0m\u001b[0msample_weight\u001b[0m\u001b[0;34m,\u001b[0m \u001b[0mcheck_input\u001b[0m\u001b[0;34m=\u001b[0m\u001b[0;32mFalse\u001b[0m\u001b[0;34m)\u001b[0m\u001b[0;34m\u001b[0m\u001b[0;34m\u001b[0m\u001b[0m\n",
      "\u001b[0;32m/state/partition1/llgrid/pkg/anaconda/anaconda3-2020a/lib/python3.6/site-packages/sklearn/tree/tree.py\u001b[0m in \u001b[0;36mfit\u001b[0;34m(self, X, y, sample_weight, check_input, X_idx_sorted)\u001b[0m\n\u001b[1;32m   1140\u001b[0m             \u001b[0msample_weight\u001b[0m\u001b[0;34m=\u001b[0m\u001b[0msample_weight\u001b[0m\u001b[0;34m,\u001b[0m\u001b[0;34m\u001b[0m\u001b[0;34m\u001b[0m\u001b[0m\n\u001b[1;32m   1141\u001b[0m             \u001b[0mcheck_input\u001b[0m\u001b[0;34m=\u001b[0m\u001b[0mcheck_input\u001b[0m\u001b[0;34m,\u001b[0m\u001b[0;34m\u001b[0m\u001b[0;34m\u001b[0m\u001b[0m\n\u001b[0;32m-> 1142\u001b[0;31m             X_idx_sorted=X_idx_sorted)\n\u001b[0m\u001b[1;32m   1143\u001b[0m         \u001b[0;32mreturn\u001b[0m \u001b[0mself\u001b[0m\u001b[0;34m\u001b[0m\u001b[0;34m\u001b[0m\u001b[0m\n\u001b[1;32m   1144\u001b[0m \u001b[0;34m\u001b[0m\u001b[0m\n",
      "\u001b[0;32m/state/partition1/llgrid/pkg/anaconda/anaconda3-2020a/lib/python3.6/site-packages/sklearn/tree/tree.py\u001b[0m in \u001b[0;36mfit\u001b[0;34m(self, X, y, sample_weight, check_input, X_idx_sorted)\u001b[0m\n\u001b[1;32m    364\u001b[0m                                            min_impurity_split)\n\u001b[1;32m    365\u001b[0m \u001b[0;34m\u001b[0m\u001b[0m\n\u001b[0;32m--> 366\u001b[0;31m         \u001b[0mbuilder\u001b[0m\u001b[0;34m.\u001b[0m\u001b[0mbuild\u001b[0m\u001b[0;34m(\u001b[0m\u001b[0mself\u001b[0m\u001b[0;34m.\u001b[0m\u001b[0mtree_\u001b[0m\u001b[0;34m,\u001b[0m \u001b[0mX\u001b[0m\u001b[0;34m,\u001b[0m \u001b[0my\u001b[0m\u001b[0;34m,\u001b[0m \u001b[0msample_weight\u001b[0m\u001b[0;34m,\u001b[0m \u001b[0mX_idx_sorted\u001b[0m\u001b[0;34m)\u001b[0m\u001b[0;34m\u001b[0m\u001b[0;34m\u001b[0m\u001b[0m\n\u001b[0m\u001b[1;32m    367\u001b[0m \u001b[0;34m\u001b[0m\u001b[0m\n\u001b[1;32m    368\u001b[0m         \u001b[0;32mif\u001b[0m \u001b[0mself\u001b[0m\u001b[0;34m.\u001b[0m\u001b[0mn_outputs_\u001b[0m \u001b[0;34m==\u001b[0m \u001b[0;36m1\u001b[0m\u001b[0;34m:\u001b[0m\u001b[0;34m\u001b[0m\u001b[0;34m\u001b[0m\u001b[0m\n",
      "\u001b[0;31mKeyboardInterrupt\u001b[0m: "
     ]
    }
   ],
   "source": [
    "xgb_total = RandomForestRegressor(max_depth=8, n_estimators=250, criterion = 'mae')\n",
    "xgb_total.fit(train, tgt_train5)\n",
    "compare_perf_intensity_per_year_6cast(X_test_total, dict6, xgb_total = xgb_total, xgb_tot = xgb_total, basin='AN', forecast='SHIP', forecast2 = 'HWRF', forecast3 = 'OFCL', forecast4 = 'FSSE', forecast5 = 'GFSO', forecast6 = 'DSHP', year = 2017)\n",
    "compare_perf_intensity_per_year_6cast(X_test_total, dict6, xgb_total = xgb_total, xgb_tot = xgb_total, basin='EP', forecast='SHIP', forecast2 = 'HWRF', forecast3 = 'OFCL', forecast4 = 'FSSE', forecast5 = 'GFSO', forecast6 = 'DSHP', year = 2017)"
   ]
  },
  {
   "cell_type": "code",
   "execution_count": 39,
   "metadata": {
    "hidden": true
   },
   "outputs": [
    {
     "name": "stdout",
     "output_type": "stream",
     "text": [
      "Total number of steps for comparison:  42\n",
      "Year 2017 Basin EP MAE intensity | std | busts > 20kn %\n",
      "Hurr full:  11.55 14.03 16.67\n",
      "Hurr until 2012:  11.55 14.03 16.67\n",
      "SHIP 10.74 12.94 11.9\n",
      "HWRF 7.74 10.23 14.29\n",
      "OFCL 8.45 10.79 2.38\n",
      "FSSE 6.64 8.01 0.0\n",
      "GFDL 17.38 18.83 33.33\n",
      "DSHP 10.74 12.94 11.9\n"
     ]
    }
   ],
   "source": [
    "compare_perf_intensity_per_year_6cast(X_test_total, dict6, xgb_total = xgb_total, xgb_tot = xgb_total, basin='EP', forecast='SHIP', forecast2 = 'HWRF', forecast3 = 'OFCL', forecast4 = 'FSSE', forecast5 = 'GFDL', forecast6 = 'DSHP', year = 2017)"
   ]
  },
  {
   "cell_type": "code",
   "execution_count": 82,
   "metadata": {
    "hidden": true
   },
   "outputs": [
    {
     "name": "stdout",
     "output_type": "stream",
     "text": [
      "Total number of steps for comparison:  669\n",
      "Year 2017 Basin AN MAE intensity | std | busts > 20kn %\n",
      "Hurr full:  10.8 13.91 14.5\n",
      "Hurr until 2012:  10.8 13.91 14.5\n",
      "SHIP 11.29 15.51 17.34\n",
      "HWRF 9.59 12.59 11.21\n",
      "OFCL 8.55 11.85 7.32\n",
      "FSSE 8.44 11.29 7.32\n",
      "GFSO 14.0 15.64 22.42\n",
      "DSHP 10.28 13.59 14.8\n",
      "Consensus ofcl 8.27\n",
      "Consensus Hurr 10.03\n",
      "Total number of steps for comparison:  522\n",
      "Year 2017 Basin EP MAE intensity | std | busts > 20kn %\n",
      "Hurr full:  11.59 15.67 19.16\n",
      "Hurr until 2012:  11.59 15.67 19.16\n",
      "SHIP 11.97 15.22 16.86\n",
      "HWRF 9.95 14.02 14.18\n",
      "OFCL 9.55 12.99 7.85\n",
      "FSSE 9.22 12.38 9.96\n",
      "GFSO 16.95 19.67 31.99\n",
      "DSHP 11.85 15.13 16.86\n",
      "Consensus ofcl 9.24\n",
      "Consensus Hurr 11.0\n"
     ]
    }
   ],
   "source": [
    "#TRAIN UNTIL 2012\n",
    "#AN\n",
    "#xgb_total = XGBRegressor(max_depth=8, n_estimators=150, learning_rate=0.07, subsample=0.8, min_child_weight=5, colsample_bytree = 0.7)\n",
    "#EP\n",
    "#xgb_total = XGBRegressor(max_depth=8, n_estimators=150, learning_rate=0.05, subsample=0.7, min_child_weight=5, colsample_bytree = 0.7)\n",
    "xgb_total = XGBRegressor(max_depth=8, n_estimators=150, learning_rate=0.07, subsample=0.8, min_child_weight=5, colsample_bytree = 0.7)\n",
    "xgb_total.fit(X_train_total, tgt_intensity_train)\n",
    "compare_perf_intensity_per_year_6cast(X_test_total, dict6, xgb_total = xgb_total, xgb_tot = xgb_total, basin='AN', forecast='SHIP', forecast2 = 'HWRF', forecast3 = 'OFCL', forecast4 = 'FSSE', forecast5 = 'GFSO', forecast6 = 'DSHP', year = 2017)\n",
    "compare_perf_intensity_per_year_6cast(X_test_total, dict6, xgb_total = xgb_total, xgb_tot = xgb_total, basin='EP', forecast='SHIP', forecast2 = 'HWRF', forecast3 = 'OFCL', forecast4 = 'FSSE', forecast5 = 'GFSO', forecast6 = 'DSHP', year = 2017)"
   ]
  },
  {
   "cell_type": "code",
   "execution_count": 161,
   "metadata": {
    "hidden": true
   },
   "outputs": [
    {
     "name": "stdout",
     "output_type": "stream",
     "text": [
      "Total number of steps for comparison:  669\n",
      "Year 2017 Basin AN MAE intensity | std | busts > 20kn %\n",
      "Hurr full:  10.68 13.82 14.05\n",
      "Hurr until 2012:  10.68 13.82 14.05\n",
      "SHIP 11.29 15.51 17.34\n",
      "HWRF 9.59 12.59 11.21\n",
      "OFCL 8.55 11.85 7.32\n",
      "FSSE 8.44 11.29 7.32\n",
      "GFSO 14.0 15.64 22.42\n",
      "DSHP 10.28 13.59 14.8\n",
      "Total number of steps for comparison:  522\n",
      "Year 2017 Basin EP MAE intensity | std | busts > 20kn %\n",
      "Hurr full:  11.45 15.63 18.01\n",
      "Hurr until 2012:  11.45 15.63 18.01\n",
      "SHIP 11.97 15.22 16.86\n",
      "HWRF 9.95 14.02 14.18\n",
      "OFCL 9.55 12.99 7.85\n",
      "FSSE 9.22 12.38 9.96\n",
      "GFSO 16.95 19.67 31.99\n",
      "DSHP 11.85 15.13 16.86\n"
     ]
    }
   ],
   "source": [
    "#TABULAR ONLY\n",
    "train2 = np.concatenate((X_train, X_test[:17094]), axis = 0)\n",
    "#tgt_train = np.concatenate((tgt_intensity_train, tgt_intensity_test[:17094]), axis = 0)\n",
    "xgb_total = XGBRegressor(max_depth=7, n_estimators=150, learning_rate=0.07, subsample=0.7, min_child_weight=5)\n",
    "xgb_total.fit(train2, tgt_train5)\n",
    "compare_perf_intensity_per_year_6cast(X_test, dict6, xgb_total = xgb_total, xgb_tot = xgb_total, basin='AN', forecast='SHIP', forecast2 = 'HWRF', forecast3 = 'OFCL', forecast4 = 'FSSE', forecast5 = 'GFSO', forecast6 = 'DSHP', year = 2017)\n",
    "compare_perf_intensity_per_year_6cast(X_test, dict6, xgb_total = xgb_total, xgb_tot = xgb_total, basin='EP', forecast='SHIP', forecast2 = 'HWRF', forecast3 = 'OFCL', forecast4 = 'FSSE', forecast5 = 'GFSO', forecast6 = 'DSHP', year = 2017)"
   ]
  },
  {
   "cell_type": "code",
   "execution_count": 162,
   "metadata": {
    "hidden": true
   },
   "outputs": [
    {
     "name": "stdout",
     "output_type": "stream",
     "text": [
      "Total number of steps for comparison:  669\n",
      "Year 2017 Basin AN MAE intensity | std | busts > 20kn %\n",
      "Hurr full:  11.27 14.57 15.4\n",
      "Hurr until 2012:  11.27 14.57 15.4\n",
      "SHIP 11.29 15.51 17.34\n",
      "HWRF 9.59 12.59 11.21\n",
      "OFCL 8.55 11.85 7.32\n",
      "FSSE 8.44 11.29 7.32\n",
      "GFSO 14.0 15.64 22.42\n",
      "DSHP 10.28 13.59 14.8\n",
      "Total number of steps for comparison:  522\n",
      "Year 2017 Basin EP MAE intensity | std | busts > 20kn %\n",
      "Hurr full:  11.28 15.42 18.01\n",
      "Hurr until 2012:  11.28 15.42 18.01\n",
      "SHIP 11.97 15.22 16.86\n",
      "HWRF 9.95 14.02 14.18\n",
      "OFCL 9.55 12.99 7.85\n",
      "FSSE 9.22 12.38 9.96\n",
      "GFSO 16.95 19.67 31.99\n",
      "DSHP 11.85 15.13 16.86\n"
     ]
    }
   ],
   "source": [
    "#EMBED ONLY\n",
    "train2 = np.concatenate((X_train_embed, X_test_embed[:17094]), axis = 0)\n",
    "#tgt_train = np.concatenate((tgt_intensity_train, tgt_intensity_test[:17094]), axis = 0)\n",
    "xgb_total = XGBRegressor(max_depth=7, n_estimators=150, learning_rate=0.07, subsample=0.7, min_child_weight=5)\n",
    "xgb_total.fit(train2, tgt_train5)\n",
    "compare_perf_intensity_per_year_6cast(X_test_embed, dict6, xgb_total = xgb_total, xgb_tot = xgb_total, basin='AN', forecast='SHIP', forecast2 = 'HWRF', forecast3 = 'OFCL', forecast4 = 'FSSE', forecast5 = 'GFSO', forecast6 = 'DSHP', year = 2017)\n",
    "compare_perf_intensity_per_year_6cast(X_test_embed, dict6, xgb_total = xgb_total, xgb_tot = xgb_total, basin='EP', forecast='SHIP', forecast2 = 'HWRF', forecast3 = 'OFCL', forecast4 = 'FSSE', forecast5 = 'GFSO', forecast6 = 'DSHP', year = 2017)"
   ]
  },
  {
   "cell_type": "code",
   "execution_count": 68,
   "metadata": {
    "hidden": true
   },
   "outputs": [
    {
     "name": "stdout",
     "output_type": "stream",
     "text": [
      "Total number of steps for comparison:  669\n",
      "Year 2017 Basin AN MAE intensity | std | busts > 20kn %\n",
      "Hurr full:  10.83 14.65 15.7\n",
      "Hurr until 2012:  10.83 14.65 15.7\n",
      "SHIP 11.29 15.51 17.34\n",
      "HWRF 9.59 12.59 11.21\n",
      "OFCL 8.55 11.85 7.32\n",
      "FSSE 8.44 11.29 7.32\n",
      "GFSO 14.0 15.64 22.42\n",
      "DSHP 10.28 13.59 14.8\n",
      "Total number of steps for comparison:  522\n",
      "Year 2017 Basin EP MAE intensity | std | busts > 20kn %\n",
      "Hurr full:  10.03 13.29 12.64\n",
      "Hurr until 2012:  10.03 13.29 12.64\n",
      "SHIP 11.97 15.22 16.86\n",
      "HWRF 9.95 14.02 14.18\n",
      "OFCL 9.55 12.99 7.85\n",
      "FSSE 9.22 12.38 9.96\n",
      "GFSO 16.95 19.67 31.99\n",
      "DSHP 11.85 15.13 16.86\n"
     ]
    }
   ],
   "source": [
    "#USING OFCL\n",
    "train = np.concatenate((X_test_baseline[:17094], X_test_total[:17094]), axis = 1)\n",
    "tgt_train3 = tgt_intensity_test[:17094]\n",
    "test = np.concatenate((X_test_baseline, X_test_total), axis = 1)\n",
    "xgb_total = XGBRegressor(max_depth=8, n_estimators=150, learning_rate=0.07, subsample=0.8, min_child_weight=5)\n",
    "xgb_total.fit(train, tgt_train3)\n",
    "compare_perf_intensity_per_year_6cast(test, dict6, xgb_total = xgb_total, xgb_tot = xgb_total, basin='AN', forecast='SHIP', forecast2 = 'HWRF', forecast3 = 'OFCL', forecast4 = 'FSSE', forecast5 = 'GFSO', forecast6 = 'DSHP', year = 2017)\n",
    "compare_perf_intensity_per_year_6cast(test, dict6, xgb_total = xgb_total, xgb_tot = xgb_total, basin='EP', forecast='SHIP', forecast2 = 'HWRF', forecast3 = 'OFCL', forecast4 = 'FSSE', forecast5 = 'GFSO', forecast6 = 'DSHP', year = 2017)"
   ]
  },
  {
   "cell_type": "code",
   "execution_count": 112,
   "metadata": {
    "hidden": true
   },
   "outputs": [
    {
     "name": "stdout",
     "output_type": "stream",
     "text": [
      "Total number of steps for comparison:  669\n",
      "Year 2017 Basin AN MAE intensity | std | busts > 20kn %\n",
      "Hurr full:  9.46 13.28 11.66\n",
      "Hurr until 2012:  9.46 13.28 11.66\n",
      "SHIP 11.29 15.51 17.34\n",
      "HWRF 9.59 12.59 11.21\n",
      "OFCL 8.55 11.85 7.32\n",
      "FSSE 8.44 11.29 7.32\n",
      "GFSO 14.0 15.64 22.42\n",
      "DSHP 10.28 13.59 14.8\n",
      "Total number of steps for comparison:  522\n",
      "Year 2017 Basin EP MAE intensity | std | busts > 20kn %\n",
      "Hurr full:  9.29 12.46 11.88\n",
      "Hurr until 2012:  9.29 12.46 11.88\n",
      "SHIP 11.97 15.22 16.86\n",
      "HWRF 9.95 14.02 14.18\n",
      "OFCL 9.55 12.99 7.85\n",
      "FSSE 9.22 12.38 9.96\n",
      "GFSO 16.95 19.67 31.99\n",
      "DSHP 11.85 15.13 16.86\n"
     ]
    }
   ],
   "source": [
    "#OFCL ONLY\n",
    "#train = np.array(X_test_baseline[:17094])\n",
    "#tgt_train3 = tgt_intensity_test[:17094]\n",
    "train = X_test_baseline[:17094].loc[X_test_baseline['cat_basin_AN_0'] + X_test_baseline['cat_basin_EP_0'] == 1]\n",
    "tgt_train3 = tgt_intensity_test[train.index]\n",
    "xgb_total = XGBRegressor(max_depth=7, n_estimators=300, learning_rate=0.03, subsample=0.55, min_child_weight=1)\n",
    "xgb_total.fit(np.array(train), tgt_train3)\n",
    "#xgb_total = XGBRegressor(max_depth=7, n_estimators=300, learning_rate=0.03, subsample=0.55, min_child_weight=1)\n",
    "#xgb_total.fit(np.array(train), tgt_train3)\n",
    "compare_perf_intensity_per_year_6cast(X_test_baseline, dict6, xgb_total = xgb_total, xgb_tot = xgb_total, basin='AN', forecast='SHIP', forecast2 = 'HWRF', forecast3 = 'OFCL', forecast4 = 'FSSE', forecast5 = 'GFSO', forecast6 = 'DSHP', year = 2017)\n",
    "compare_perf_intensity_per_year_6cast(X_test_baseline, dict6, xgb_total = xgb_total, xgb_tot = xgb_total, basin='EP', forecast='SHIP', forecast2 = 'HWRF', forecast3 = 'OFCL', forecast4 = 'FSSE', forecast5 = 'GFSO', forecast6 = 'DSHP', year = 2017)\n",
    "#compare_perf_intensity_per_year_4cast(X_test_baseline, dict = {'year':[], 'num_samples':[], 'MAEs_full':[], 'std_full':[], 'MAES_2012':[], 'std_2012':[], 'MAES_SHIP':[], 'std_SHIP':[], 'MAES_HWRF':[], 'std_HWRF':[], 'MAES_OFCL':[], 'std_OFCL':[], 'MAES_FSSE':[], 'std_FSSE':[]}, xgb_total = xgb_total, xgb_tot = xgb_total, basin='AN', forecast='SHIP', mode='vmax', forecast2 = 'HWRF', forecast3 = 'OFCL', forecast4 = 'FSSE', year = 2017)\n",
    "#xgb_total = XGBRegressor(max_depth=9, n_estimators=150, learning_rate=0.05, subsample=0.7, min_child_weight=7)\n",
    "#xgb_total.fit(train, tgt_train3)\n",
    "#compare_perf_intensity_per_year_4cast(X_test_baseline, dict = {'year':[], 'num_samples':[], 'MAEs_full':[], 'std_full':[], 'MAES_2012':[], 'std_2012':[], 'MAES_SHIP':[], 'std_SHIP':[], 'MAES_HWRF':[], 'std_HWRF':[], 'MAES_OFCL':[], 'std_OFCL':[], 'MAES_FSSE':[], 'std_FSSE':[]}, xgb_total = xgb_total, xgb_tot = xgb_total, basin='EP', forecast='SHIP', mode='vmax', forecast2 = 'HWRF', forecast3 = 'OFCL', forecast4 = 'FSSE', year = 2017)"
   ]
  },
  {
   "cell_type": "code",
   "execution_count": 117,
   "metadata": {
    "hidden": true
   },
   "outputs": [
    {
     "data": {
      "text/plain": [
       "92.9957805907173"
      ]
     },
     "execution_count": 117,
     "metadata": {},
     "output_type": "execute_result"
    }
   ],
   "source": [
    "11.02/11.85*100"
   ]
  },
  {
   "cell_type": "code",
   "execution_count": 113,
   "metadata": {
    "hidden": true
   },
   "outputs": [
    {
     "name": "stdout",
     "output_type": "stream",
     "text": [
      "Total number of steps for comparison:  669\n",
      "Year 2017 Basin AN MAE intensity | std | busts > 20kn %\n",
      "Hurr full:  10.32 13.99 13.75\n",
      "Hurr until 2012:  10.32 13.99 13.75\n",
      "SHIP 11.29 15.51 17.34\n",
      "HWRF 9.59 12.59 11.21\n",
      "OFCL 8.55 11.85 7.32\n",
      "FSSE 8.44 11.29 7.32\n",
      "GFSO 14.0 15.64 22.42\n",
      "DSHP 10.28 13.59 14.8\n",
      "Total number of steps for comparison:  522\n",
      "Year 2017 Basin EP MAE intensity | std | busts > 20kn %\n",
      "Hurr full:  9.44 12.7 10.54\n",
      "Hurr until 2012:  9.44 12.7 10.54\n",
      "SHIP 11.97 15.22 16.86\n",
      "HWRF 9.95 14.02 14.18\n",
      "OFCL 9.55 12.99 7.85\n",
      "FSSE 9.22 12.38 9.96\n",
      "GFSO 16.95 19.67 31.99\n",
      "DSHP 11.85 15.13 16.86\n"
     ]
    }
   ],
   "source": [
    "#OFCL with AN EP ONLY\n",
    "train_0 = X_test_baseline[:17094].loc[X_test_baseline['cat_basin_AN_0'] + X_test_baseline['cat_basin_EP_0'] == 1]\n",
    "train = np.concatenate((train_0, X_test_total[train_0.index]), axis = 1)\n",
    "tgt_train3 = tgt_intensity_test[train_0.index]\n",
    "test = np.concatenate((X_test_baseline, X_test_total), axis = 1)\n",
    "#xgb_total = XGBRegressor(max_depth=5, n_estimators=150, learning_rate=0.05, subsample=0.8, min_child_weight=1, colsample_bytree = 0.7)\n",
    "#xgb_total.fit(train, tgt_train3)\n",
    "xgb_total = XGBRegressor(max_depth=7, n_estimators=300, learning_rate=0.03, subsample=0.55, min_child_weight=1)\n",
    "xgb_total.fit(np.array(train), tgt_train3)\n",
    "compare_perf_intensity_per_year_6cast(test, dict6, xgb_total = xgb_total, xgb_tot = xgb_total, basin='AN', forecast='SHIP', forecast2 = 'HWRF', forecast3 = 'OFCL', forecast4 = 'FSSE', forecast5 = 'GFSO', forecast6 = 'DSHP', year = 2017)\n",
    "compare_perf_intensity_per_year_6cast(test, dict6, xgb_total = xgb_total, xgb_tot = xgb_total, basin='EP', forecast='SHIP', forecast2 = 'HWRF', forecast3 = 'OFCL', forecast4 = 'FSSE', forecast5 = 'GFSO', forecast6 = 'DSHP', year = 2017)"
   ]
  },
  {
   "cell_type": "code",
   "execution_count": 109,
   "metadata": {
    "hidden": true
   },
   "outputs": [
    {
     "name": "stdout",
     "output_type": "stream",
     "text": [
      "Total number of steps for comparison:  669\n",
      "Year 2017 Basin AN MAE intensity | std | busts > 20kn %\n",
      "Hurr full:  10.27 13.92 13.9\n",
      "Hurr until 2012:  10.27 13.92 13.9\n",
      "SHIP 11.29 15.51 17.34\n",
      "HWRF 9.59 12.59 11.21\n",
      "OFCL 8.55 11.85 7.32\n",
      "FSSE 8.44 11.29 7.32\n",
      "GFSO 14.0 15.64 22.42\n",
      "DSHP 10.28 13.59 14.8\n",
      "Total number of steps for comparison:  522\n",
      "Year 2017 Basin EP MAE intensity | std | busts > 20kn %\n",
      "Hurr full:  9.25 12.56 10.73\n",
      "Hurr until 2012:  9.25 12.56 10.73\n",
      "SHIP 11.97 15.22 16.86\n",
      "HWRF 9.95 14.02 14.18\n",
      "OFCL 9.55 12.99 7.85\n",
      "FSSE 9.22 12.38 9.96\n",
      "GFSO 16.95 19.67 31.99\n",
      "DSHP 11.85 15.13 16.86\n"
     ]
    }
   ],
   "source": [
    "#OFCL with AN EP ONLY\n",
    "train_0 = X_test_baseline[:17094].loc[X_test_baseline['cat_basin_AN_0'] + X_test_baseline['cat_basin_EP_0'] == 1]\n",
    "train = np.concatenate((train_0, X_test_total[train_0.index]), axis = 1)\n",
    "tgt_train3 = tgt_intensity_test[train_0.index]\n",
    "test = np.concatenate((X_test_baseline, X_test_total), axis = 1)\n",
    "#xgb_total = XGBRegressor(max_depth=5, n_estimators=150, learning_rate=0.05, subsample=0.8, min_child_weight=1, colsample_bytree = 0.7)\n",
    "#xgb_total.fit(train, tgt_train3)\n",
    "xgb_total = XGBRegressor(max_depth=6, n_estimators=200, learning_rate=0.03, subsample=0.8, min_child_weight=3, colsample_bytree = 1)\n",
    "xgb_total.fit(train, tgt_train3)\n",
    "compare_perf_intensity_per_year_6cast(test, dict6, xgb_total = xgb_total, xgb_tot = xgb_total, basin='AN', forecast='SHIP', forecast2 = 'HWRF', forecast3 = 'OFCL', forecast4 = 'FSSE', forecast5 = 'GFSO', forecast6 = 'DSHP', year = 2017)\n",
    "#xgb_total = XGBRegressor(max_depth=7, n_estimators=200, learning_rate=0.03, subsample=0.8, min_child_weight=3, colsample_bytree = 1)\n",
    "#xgb_total.fit(train, tgt_train3)\n",
    "#reached 9.1§\n",
    "compare_perf_intensity_per_year_6cast(test, dict6, xgb_total = xgb_total, xgb_tot = xgb_total, basin='EP', forecast='SHIP', forecast2 = 'HWRF', forecast3 = 'OFCL', forecast4 = 'FSSE', forecast5 = 'GFSO', forecast6 = 'DSHP', year = 2017)"
   ]
  },
  {
   "cell_type": "code",
   "execution_count": 116,
   "metadata": {
    "hidden": true
   },
   "outputs": [
    {
     "name": "stdout",
     "output_type": "stream",
     "text": [
      "Total number of steps for comparison:  669\n",
      "Year 2017 Basin AN MAE intensity | std | busts > 20kn %\n",
      "Hurr full:  10.41 14.01 14.05\n",
      "Hurr until 2012:  10.41 14.01 14.05\n",
      "SHIP 11.29 15.51 17.34\n",
      "HWRF 9.59 12.59 11.21\n",
      "OFCL 8.55 11.85 7.32\n",
      "FSSE 8.44 11.29 7.32\n",
      "GFSO 14.0 15.64 22.42\n",
      "DSHP 10.28 13.59 14.8\n",
      "Total number of steps for comparison:  522\n",
      "Year 2017 Basin EP MAE intensity | std | busts > 20kn %\n",
      "Hurr full:  9.64 13.04 11.88\n",
      "Hurr until 2012:  9.64 13.04 11.88\n",
      "SHIP 11.97 15.22 16.86\n",
      "HWRF 9.95 14.02 14.18\n",
      "OFCL 9.55 12.99 7.85\n",
      "FSSE 9.22 12.38 9.96\n",
      "GFSO 16.95 19.67 31.99\n",
      "DSHP 11.85 15.13 16.86\n"
     ]
    }
   ],
   "source": [
    "#OFCL with AN EP ONLY\n",
    "train_0 = X_test_baseline[:17094].loc[X_test_baseline['cat_basin_AN_0'] + X_test_baseline['cat_basin_EP_0'] == 1]\n",
    "train = np.concatenate((train_0, X_test_embed[train_0.index]), axis = 1)\n",
    "tgt_train3 = tgt_intensity_test[train_0.index]\n",
    "test = np.concatenate((X_test_baseline, X_test_embed), axis = 1)\n",
    "xgb_total = XGBRegressor(max_depth=6, n_estimators=300, learning_rate=0.03, subsample=0.55, min_child_weight=1)\n",
    "xgb_total.fit(np.array(train), tgt_train3)\n",
    "#xgb_total = XGBRegressor(max_depth=6, n_estimators=150, learning_rate=0.03, subsample=0.8, min_child_weight=2)\n",
    "#xgb_total.fit(train, tgt_train3)\n",
    "compare_perf_intensity_per_year_6cast(test, dict6, xgb_total = xgb_total, xgb_tot = xgb_total, basin='AN', forecast='SHIP', forecast2 = 'HWRF', forecast3 = 'OFCL', forecast4 = 'FSSE', forecast5 = 'GFSO', forecast6 = 'DSHP', year = 2017)\n",
    "compare_perf_intensity_per_year_6cast(test, dict6, xgb_total = xgb_total, xgb_tot = xgb_total, basin='EP', forecast='SHIP', forecast2 = 'HWRF', forecast3 = 'OFCL', forecast4 = 'FSSE', forecast5 = 'GFSO', forecast6 = 'DSHP', year = 2017)"
   ]
  },
  {
   "cell_type": "code",
   "execution_count": 75,
   "metadata": {
    "hidden": true
   },
   "outputs": [],
   "source": [
    "#problem with NaN\n",
    "#xgb2 = XGBRegressor(max_depth=8, n_estimators=140, learning_rate = 0.07, subsample = 0.7, min_child_weight = 5)\n",
    "#xgb2.fit(train, tgt_train3)\n",
    "#select = SelectFromModel(xgb2, prefit=True)\n",
    "#X_train_sparse = select.transform(train)\n",
    "#X_test_sparse = select.transform(test)\n",
    "#xgb_sparse2 = XGBRegressor(max_depth=3, n_estimators=150, learning_rate=0.07, subsample=0.8, min_child_weight=2, colsample_bytree = 0.7)\n",
    "#xgb_sparse2.fit(X_train_sparse, tgt_train3)\n",
    "#compare_perf_intensity_per_year_4cast(X_test_sparse, dict = {'year':[], 'num_samples':[], 'MAEs_full':[], 'std_full':[], 'MAES_2012':[], 'std_2012':[], 'MAES_SHIP':[], 'std_SHIP':[], 'MAES_HWRF':[], 'std_HWRF':[], 'MAES_OFCL':[], 'std_OFCL':[], 'MAES_FSSE':[], 'std_FSSE':[]}, xgb_total = xgb_sparse2, xgb_tot = xgb_sparse2, basin='AN', forecast='SHIP', mode='vmax', forecast2 = 'HWRF', forecast3 = 'OFCL', forecast4 = 'FSSE', year = 2017)"
   ]
  },
  {
   "cell_type": "code",
   "execution_count": 76,
   "metadata": {
    "hidden": true
   },
   "outputs": [
    {
     "name": "stdout",
     "output_type": "stream",
     "text": [
      "Total number of steps for comparison:  669\n",
      "Year 2017 Basin AN MAE intensity | std | busts > 20kn %\n",
      "Hurr full:  10.88 14.64 15.25\n",
      "Hurr until 2012:  10.88 14.64 15.25\n",
      "SHIP 11.29 15.51 17.34\n",
      "HWRF 9.59 12.59 11.21\n",
      "OFCL 8.55 11.85 7.32\n",
      "FSSE 8.44 11.29 7.32\n",
      "GFSO 14.0 15.64 22.42\n",
      "DSHP 10.28 13.59 14.8\n",
      "Total number of steps for comparison:  522\n",
      "Year 2017 Basin EP MAE intensity | std | busts > 20kn %\n",
      "Hurr full:  9.93 13.43 12.45\n",
      "Hurr until 2012:  9.93 13.43 12.45\n",
      "SHIP 11.97 15.22 16.86\n",
      "HWRF 9.95 14.02 14.18\n",
      "OFCL 9.55 12.99 7.85\n",
      "FSSE 9.22 12.38 9.96\n",
      "GFSO 16.95 19.67 31.99\n",
      "DSHP 11.85 15.13 16.86\n"
     ]
    }
   ],
   "source": [
    "#FULL TRAIN WITH CNN/GRU EMBEDS\n",
    "train = np.concatenate((X_test_baseline[:17094], X_test_embed[:17094]), axis = 1)\n",
    "tgt_train3 = tgt_intensity_test[:17094]\n",
    "test = np.concatenate((X_test_baseline, X_test_embed), axis = 1)\n",
    "xgb_total = XGBRegressor(max_depth=9, n_estimators=150, learning_rate=0.05, subsample=0.7, min_child_weight=7)\n",
    "xgb_total.fit(train, tgt_train3)\n",
    "compare_perf_intensity_per_year_6cast(test, dict6, xgb_total = xgb_total, xgb_tot = xgb_total, basin='AN', forecast='SHIP', forecast2 = 'HWRF', forecast3 = 'OFCL', forecast4 = 'FSSE', forecast5 = 'GFSO', forecast6 = 'DSHP', year = 2017)\n",
    "compare_perf_intensity_per_year_6cast(test, dict6, xgb_total = xgb_total, xgb_tot = xgb_total, basin='EP', forecast='SHIP', forecast2 = 'HWRF', forecast3 = 'OFCL', forecast4 = 'FSSE', forecast5 = 'GFSO', forecast6 = 'DSHP', year = 2017)"
   ]
  },
  {
   "cell_type": "code",
   "execution_count": 32,
   "metadata": {
    "hidden": true
   },
   "outputs": [
    {
     "name": "stdout",
     "output_type": "stream",
     "text": [
      "Total number of steps for comparison:  41\n",
      "Year  2012  MAE intensity basin AN Hurricast trained full:  9.13 with std  11.62\n",
      "Year  2012  MAE intensity basin AN Hurricast trained until 2012:  9.19 with std  11.32\n",
      "Year  2012  MAE intensity basin AN Official Forecast SHIP :  9.56 with std  10.79\n",
      "Year  2012  MAE intensity basin AN Official Forecast HWRF :  8.1 with std  11.14\n",
      "Year  2012  MAE intensity basin AN Official Forecast OFCL :  9.02 with std  11.36\n",
      "Year  2012  MAE intensity basin AN Official Forecast FSSE :  10.37 with std  11.62\n",
      "\n",
      "\n",
      "Total number of steps for comparison:  8\n",
      "Year  2013  MAE intensity basin AN Hurricast trained full:  12.06 with std  11.75\n",
      "Year  2013  MAE intensity basin AN Hurricast trained until 2012:  11.28 with std  10.57\n",
      "Year  2013  MAE intensity basin AN Official Forecast SHIP :  19.31 with std  12.82\n",
      "Year  2013  MAE intensity basin AN Official Forecast HWRF :  9.31 with std  9.22\n",
      "Year  2013  MAE intensity basin AN Official Forecast OFCL :  14.06 with std  5.44\n",
      "Year  2013  MAE intensity basin AN Official Forecast FSSE :  8.56 with std  8.28\n",
      "\n",
      "\n",
      "Total number of steps for comparison:  72\n",
      "Year  2014  MAE intensity basin AN Hurricast trained full:  6.73 with std  8.32\n",
      "Year  2014  MAE intensity basin AN Hurricast trained until 2012:  6.36 with std  8.0\n",
      "Year  2014  MAE intensity basin AN Official Forecast SHIP :  7.02 with std  8.36\n",
      "Year  2014  MAE intensity basin AN Official Forecast HWRF :  12.13 with std  13.58\n",
      "Year  2014  MAE intensity basin AN Official Forecast OFCL :  6.7 with std  8.39\n",
      "Year  2014  MAE intensity basin AN Official Forecast FSSE :  8.16 with std  8.09\n",
      "\n",
      "\n",
      "Total number of steps for comparison:  122\n",
      "Year  2015  MAE intensity basin AN Hurricast trained full:  8.29 with std  11.25\n",
      "Year  2015  MAE intensity basin AN Hurricast trained until 2012:  8.48 with std  11.76\n",
      "Year  2015  MAE intensity basin AN Official Forecast SHIP :  9.52 with std  12.95\n",
      "Year  2015  MAE intensity basin AN Official Forecast HWRF :  9.44 with std  13.77\n",
      "Year  2015  MAE intensity basin AN Official Forecast OFCL :  7.93 with std  11.75\n",
      "Year  2015  MAE intensity basin AN Official Forecast FSSE :  8.0 with std  11.84\n",
      "\n",
      "\n",
      "Total number of steps for comparison:  231\n",
      "Year  2016  MAE intensity basin AN Hurricast trained full:  11.42 with std  14.84\n",
      "Year  2016  MAE intensity basin AN Hurricast trained until 2012:  11.36 with std  14.99\n",
      "Year  2016  MAE intensity basin AN Official Forecast SHIP :  10.38 with std  14.57\n",
      "Year  2016  MAE intensity basin AN Official Forecast HWRF :  10.11 with std  14.34\n",
      "Year  2016  MAE intensity basin AN Official Forecast OFCL :  8.42 with std  11.4\n",
      "Year  2016  MAE intensity basin AN Official Forecast FSSE :  8.87 with std  12.22\n",
      "\n",
      "\n",
      "Total number of steps for comparison:  228\n",
      "Year  2017  MAE intensity basin AN Hurricast trained full:  12.37 with std  15.73\n",
      "Year  2017  MAE intensity basin AN Hurricast trained until 2012:  12.42 with std  15.8\n",
      "Year  2017  MAE intensity basin AN Official Forecast SHIP :  12.32 with std  17.27\n",
      "Year  2017  MAE intensity basin AN Official Forecast HWRF :  10.05 with std  12.65\n",
      "Year  2017  MAE intensity basin AN Official Forecast OFCL :  8.59 with std  11.83\n",
      "Year  2017  MAE intensity basin AN Official Forecast FSSE :  7.72 with std  10.07\n",
      "\n",
      "\n",
      "Total number of steps for comparison:  236\n",
      "Year  2018  MAE intensity basin AN Hurricast trained full:  9.78 with std  12.7\n",
      "Year  2018  MAE intensity basin AN Hurricast trained until 2012:  9.89 with std  12.82\n",
      "Year  2018  MAE intensity basin AN Official Forecast SHIP :  10.79 with std  14.97\n",
      "Year  2018  MAE intensity basin AN Official Forecast HWRF :  8.8 with std  12.37\n",
      "Year  2018  MAE intensity basin AN Official Forecast OFCL :  8.53 with std  12.1\n",
      "Year  2018  MAE intensity basin AN Official Forecast FSSE :  8.82 with std  12.16\n",
      "\n",
      "\n",
      "Total number of steps for comparison:  208\n",
      "Year  2019  MAE intensity basin AN Hurricast trained full:  10.36 with std  13.38\n",
      "Year  2019  MAE intensity basin AN Hurricast trained until 2012:  10.52 with std  13.46\n",
      "Year  2019  MAE intensity basin AN Official Forecast SHIP :  10.89 with std  14.22\n",
      "Year  2019  MAE intensity basin AN Official Forecast HWRF :  9.89 with std  12.68\n",
      "Year  2019  MAE intensity basin AN Official Forecast OFCL :  8.55 with std  11.53\n",
      "Year  2019  MAE intensity basin AN Official Forecast FSSE :  8.73 with std  11.42\n",
      "\n",
      "\n"
     ]
    },
    {
     "data": {
      "text/plain": [
       "{'MAES_2012': [9.19, 11.28, 6.36, 8.48, 11.36, 12.42, 9.89, 10.52],\n",
       " 'MAES_FSSE': [10.37, 8.56, 8.16, 8.0, 8.87, 7.72, 8.82, 8.73],\n",
       " 'MAES_HWRF': [8.1, 9.31, 12.13, 9.44, 10.11, 10.05, 8.8, 9.89],\n",
       " 'MAES_OFCL': [9.02, 14.06, 6.7, 7.93, 8.42, 8.59, 8.53, 8.55],\n",
       " 'MAES_SHIP': [9.56, 19.31, 7.02, 9.52, 10.38, 12.32, 10.79, 10.89],\n",
       " 'MAEs_full': [9.13, 12.06, 6.73, 8.29, 11.42, 12.37, 9.78, 10.36],\n",
       " 'num_samples': [41, 8, 72, 122, 231, 228, 236, 208],\n",
       " 'std_2012': [11.32, 10.57, 8.0, 11.76, 14.99, 15.8, 12.82, 13.46],\n",
       " 'std_FSSE': [11.62, 8.28, 8.09, 11.84, 12.22, 10.07, 12.16, 11.42],\n",
       " 'std_HWRF': [11.14, 9.22, 13.58, 13.77, 14.34, 12.65, 12.37, 12.68],\n",
       " 'std_OFCL': [11.36, 5.44, 8.39, 11.75, 11.4, 11.83, 12.1, 11.53],\n",
       " 'std_SHIP': [10.79, 12.82, 8.36, 12.95, 14.57, 17.27, 14.97, 14.22],\n",
       " 'std_full': [11.62, 11.75, 8.32, 11.25, 14.84, 15.73, 12.7, 13.38],\n",
       " 'year': [2012, 2013, 2014, 2015, 2016, 2017, 2018, 2019]}"
      ]
     },
     "execution_count": 32,
     "metadata": {},
     "output_type": "execute_result"
    }
   ],
   "source": [
    "train_xgb_intensity_all_years_full_train_4cast(forecast = 'SHIP', basin_only = False, sparse = False, max_depth = 8, n_estimators = 100, learning_rate = 0.07, subsample = 0.7, min_child_weight=5, basin = 'AN', forecast2 = 'HWRF', forecast3 = 'OFCL', forecast4 = 'FSSE')"
   ]
  },
  {
   "cell_type": "code",
   "execution_count": 141,
   "metadata": {
    "hidden": true
   },
   "outputs": [],
   "source": []
  },
  {
   "cell_type": "code",
   "execution_count": 88,
   "metadata": {
    "hidden": true
   },
   "outputs": [
    {
     "name": "stdout",
     "output_type": "stream",
     "text": [
      "Total number of steps for comparison:  0\n",
      "Year 2012 Basin AN MAE intensity | std | busts > 20kn %\n",
      "\n",
      " No forecasts for year  2012\n",
      "Total number of steps for comparison:  0\n",
      "Year 2013 Basin AN MAE intensity | std | busts > 20kn %\n",
      "\n",
      " No forecasts for year  2013\n",
      "Total number of steps for comparison:  0\n",
      "Year 2014 Basin AN MAE intensity | std | busts > 20kn %\n",
      "\n",
      " No forecasts for year  2014\n",
      "Total number of steps for comparison:  113\n",
      "Year 2015 Basin AN MAE intensity | std | busts > 20kn %\n",
      "Hurr full:  8.25 11.46 11.5\n",
      "Hurr until 2012:  8.48 11.83 11.5\n",
      "SHIP 9.88 13.33 11.5\n",
      "HWRF 9.86 14.21 9.73\n",
      "OFCL 8.5 12.2 8.85\n",
      "FSSE 8.35 12.25 10.62\n",
      "GFSO 13.36 16.04 22.12\n",
      "DSHP 9.87 13.33 11.5\n",
      "\n",
      "\n",
      "Total number of steps for comparison:  230\n",
      "Year 2016 Basin AN MAE intensity | std | busts > 20kn %\n",
      "Hurr full:  11.49 15.0 16.09\n",
      "Hurr until 2012:  11.41 15.03 15.65\n",
      "SHIP 10.36 14.57 11.74\n",
      "HWRF 10.06 14.32 13.48\n",
      "OFCL 8.37 11.36 4.78\n",
      "FSSE 8.83 12.2 7.83\n",
      "GFSO 14.74 18.35 23.48\n",
      "DSHP 10.1 13.78 10.87\n",
      "\n",
      "\n",
      "Total number of steps for comparison:  227\n",
      "Year 2017 Basin AN MAE intensity | std | busts > 20kn %\n",
      "Hurr full:  12.17 15.41 20.26\n",
      "Hurr until 2012:  12.3 15.56 18.94\n",
      "SHIP 12.13 16.94 19.82\n",
      "HWRF 10.06 12.67 12.33\n",
      "OFCL 8.56 11.82 6.61\n",
      "FSSE 7.74 10.09 5.73\n",
      "GFSO 17.29 17.77 31.28\n",
      "DSHP 10.02 13.38 13.66\n",
      "\n",
      "\n",
      "Total number of steps for comparison:  234\n",
      "Year 2018 Basin AN MAE intensity | std | busts > 20kn %\n",
      "Hurr full:  9.8 12.75 12.82\n",
      "Hurr until 2012:  9.82 12.8 12.82\n",
      "SHIP 10.84 15.02 14.53\n",
      "HWRF 8.85 12.42 9.83\n",
      "OFCL 8.56 12.13 8.12\n",
      "FSSE 8.87 12.21 8.97\n",
      "GFSO 11.21 12.87 14.96\n",
      "DSHP 10.24 13.42 14.1\n",
      "\n",
      "\n",
      "Total number of steps for comparison:  208\n",
      "Year 2019 Basin AN MAE intensity | std | busts > 20kn %\n",
      "Hurr full:  10.35 13.28 10.58\n",
      "Hurr until 2012:  10.42 13.34 12.02\n",
      "SHIP 10.89 14.22 17.79\n",
      "HWRF 9.89 12.68 11.54\n",
      "OFCL 8.55 11.53 7.21\n",
      "FSSE 8.73 11.42 7.21\n",
      "GFSO 13.54 15.47 21.15\n",
      "DSHP 10.6 13.9 16.83\n",
      "\n",
      "\n"
     ]
    },
    {
     "data": {
      "text/plain": [
       "{'MAES_2012': [8.48, 11.41, 12.3, 9.82, 10.42],\n",
       " 'MAES_DSHP': [9.87, 10.1, 10.02, 10.24, 10.6],\n",
       " 'MAES_FSSE': [8.35, 8.83, 7.74, 8.87, 8.73],\n",
       " 'MAES_GFSO': [13.36, 14.74, 17.29, 11.21, 13.54],\n",
       " 'MAES_HWRF': [9.86, 10.06, 10.06, 8.85, 9.89],\n",
       " 'MAES_OFCL': [8.5, 8.37, 8.56, 8.56, 8.55],\n",
       " 'MAES_SHIP': [9.88, 10.36, 12.13, 10.84, 10.89],\n",
       " 'MAEs_full': [8.25, 11.49, 12.17, 9.8, 10.35],\n",
       " 'num_samples': [113, 230, 227, 234, 208],\n",
       " 'std_2012': [11.83, 15.03, 15.56, 12.8, 13.34],\n",
       " 'std_DSHP': [13.33, 13.78, 13.38, 13.42, 13.9],\n",
       " 'std_FSSE': [12.25, 12.2, 10.09, 12.21, 11.42],\n",
       " 'std_GFSO': [16.04, 18.35, 17.77, 12.87, 15.47],\n",
       " 'std_HWRF': [14.21, 14.32, 12.67, 12.42, 12.68],\n",
       " 'std_OFCL': [12.2, 11.36, 11.82, 12.13, 11.53],\n",
       " 'std_SHIP': [13.33, 14.57, 16.94, 15.02, 14.22],\n",
       " 'std_full': [11.46, 15.0, 15.41, 12.75, 13.28],\n",
       " 'year': [2015, 2016, 2017, 2018, 2019]}"
      ]
     },
     "execution_count": 88,
     "metadata": {},
     "output_type": "execute_result"
    }
   ],
   "source": [
    "train_xgb_intensity_all_years_full_train_6cast(forecast = 'SHIP', max_depth = 8, n_estimators = 150, learning_rate = 0.07, subsample = 0.7, min_child_weight=5, basin = 'AN', forecast2 = 'HWRF', forecast3 = 'OFCL', forecast4 = 'FSSE', forecast5 = 'GFSO', forecast6 = 'DSHP')"
   ]
  },
  {
   "cell_type": "code",
   "execution_count": 89,
   "metadata": {
    "hidden": true
   },
   "outputs": [
    {
     "name": "stdout",
     "output_type": "stream",
     "text": [
      "Total number of steps for comparison:  0\n",
      "Year 2012 Basin EP MAE intensity | std | busts > 20kn %\n",
      "\n",
      " No forecasts for year  2012\n",
      "Total number of steps for comparison:  0\n",
      "Year 2013 Basin EP MAE intensity | std | busts > 20kn %\n",
      "\n",
      " No forecasts for year  2013\n",
      "Total number of steps for comparison:  0\n",
      "Year 2014 Basin EP MAE intensity | std | busts > 20kn %\n",
      "\n",
      " No forecasts for year  2014\n",
      "Total number of steps for comparison:  255\n",
      "Year 2015 Basin EP MAE intensity | std | busts > 20kn %\n",
      "Hurr full:  11.65 16.07 17.65\n",
      "Hurr until 2012:  11.83 16.22 17.65\n",
      "SHIP 12.75 17.89 17.65\n",
      "HWRF 11.79 17.29 16.86\n",
      "OFCL 10.42 15.35 11.37\n",
      "FSSE 9.93 13.96 11.76\n",
      "GFSO 15.62 20.14 25.49\n",
      "DSHP 12.41 16.99 17.65\n",
      "\n",
      "\n",
      "Total number of steps for comparison:  315\n",
      "Year 2016 Basin EP MAE intensity | std | busts > 20kn %\n",
      "Hurr full:  9.64 13.24 13.97\n",
      "Hurr until 2012:  9.95 13.44 14.29\n",
      "SHIP 9.87 12.84 10.79\n",
      "HWRF 10.38 13.74 11.75\n",
      "OFCL 8.72 11.89 6.67\n",
      "FSSE 8.51 11.53 8.57\n",
      "GFSO 13.02 16.38 21.27\n",
      "DSHP 9.69 12.58 10.16\n",
      "\n",
      "\n",
      "Total number of steps for comparison:  167\n",
      "Year 2017 Basin EP MAE intensity | std | busts > 20kn %\n",
      "Hurr full:  9.02 12.96 8.98\n",
      "Hurr until 2012:  9.1 13.04 10.18\n",
      "SHIP 9.97 13.0 10.78\n",
      "HWRF 7.87 11.61 8.38\n",
      "OFCL 8.14 11.67 4.79\n",
      "FSSE 7.92 10.67 4.79\n",
      "GFSO 11.93 16.27 17.96\n",
      "DSHP 9.49 12.71 10.18\n",
      "\n",
      "\n",
      "Total number of steps for comparison:  355\n",
      "Year 2018 Basin EP MAE intensity | std | busts > 20kn %\n",
      "Hurr full:  12.09 15.73 20.0\n",
      "Hurr until 2012:  12.4 16.1 21.13\n",
      "SHIP 12.91 15.83 19.72\n",
      "HWRF 10.94 14.86 16.9\n",
      "OFCL 10.22 13.48 9.3\n",
      "FSSE 9.83 12.64 12.39\n",
      "GFSO 19.32 20.45 38.59\n",
      "DSHP 12.96 15.85 20.0\n",
      "\n",
      "\n",
      "Total number of steps for comparison:  0\n",
      "Year 2019 Basin EP MAE intensity | std | busts > 20kn %\n",
      "\n",
      " No forecasts for year  2019\n"
     ]
    },
    {
     "data": {
      "text/plain": [
       "{'MAES_2012': [11.83, 9.95, 9.1, 12.4],\n",
       " 'MAES_DSHP': [12.41, 9.69, 9.49, 12.96],\n",
       " 'MAES_FSSE': [9.93, 8.51, 7.92, 9.83],\n",
       " 'MAES_GFSO': [15.62, 13.02, 11.93, 19.32],\n",
       " 'MAES_HWRF': [11.79, 10.38, 7.87, 10.94],\n",
       " 'MAES_OFCL': [10.42, 8.72, 8.14, 10.22],\n",
       " 'MAES_SHIP': [12.75, 9.87, 9.97, 12.91],\n",
       " 'MAEs_full': [11.65, 9.64, 9.02, 12.09],\n",
       " 'num_samples': [255, 315, 167, 355],\n",
       " 'std_2012': [16.22, 13.44, 13.04, 16.1],\n",
       " 'std_DSHP': [16.99, 12.58, 12.71, 15.85],\n",
       " 'std_FSSE': [13.96, 11.53, 10.67, 12.64],\n",
       " 'std_GFSO': [20.14, 16.38, 16.27, 20.45],\n",
       " 'std_HWRF': [17.29, 13.74, 11.61, 14.86],\n",
       " 'std_OFCL': [15.35, 11.89, 11.67, 13.48],\n",
       " 'std_SHIP': [17.89, 12.84, 13.0, 15.83],\n",
       " 'std_full': [16.07, 13.24, 12.96, 15.73],\n",
       " 'year': [2015, 2016, 2017, 2018]}"
      ]
     },
     "execution_count": 89,
     "metadata": {},
     "output_type": "execute_result"
    }
   ],
   "source": [
    "train_xgb_intensity_all_years_full_train_6cast(forecast = 'SHIP', max_depth = 8, n_estimators = 150, learning_rate = 0.07, subsample = 0.7, min_child_weight=5, basin = 'EP', forecast2 = 'HWRF', forecast3 = 'OFCL', forecast4 = 'FSSE', forecast5 = 'GFSO', forecast6 = 'DSHP')"
   ]
  },
  {
   "cell_type": "code",
   "execution_count": 68,
   "metadata": {
    "hidden": true
   },
   "outputs": [],
   "source": [
    "baseline_1 = X_test_baseline.loc[X_test_baseline['YEAR_0'] <= 2016].loc[X_test_baseline['cat_basin_' + 'AN' + '_0'] == 1].loc[\n",
    "            X_test_baseline['SHIP' + '_24_' + 'lat' + '_7'] > -320]"
   ]
  },
  {
   "cell_type": "markdown",
   "metadata": {},
   "source": [
    "# NEW RESULTS"
   ]
  }
 ],
 "metadata": {
  "kernelspec": {
   "display_name": "Python 3",
   "language": "python",
   "name": "python3"
  },
  "language_info": {
   "codemirror_mode": {
    "name": "ipython",
    "version": 3
   },
   "file_extension": ".py",
   "mimetype": "text/x-python",
   "name": "python",
   "nbconvert_exporter": "python",
   "pygments_lexer": "ipython3",
   "version": "3.6.9"
  },
  "latex_envs": {
   "LaTeX_envs_menu_present": true,
   "autoclose": false,
   "autocomplete": true,
   "bibliofile": "biblio.bib",
   "cite_by": "apalike",
   "current_citInitial": 1,
   "eqLabelWithNumbers": true,
   "eqNumInitial": 1,
   "hotkeys": {
    "equation": "Ctrl-E",
    "itemize": "Ctrl-I"
   },
   "labels_anchors": false,
   "latex_user_defs": false,
   "report_style_numbering": false,
   "user_envs_cfg": false
  },
  "toc": {
   "base_numbering": 1,
   "nav_menu": {},
   "number_sections": true,
   "sideBar": true,
   "skip_h1_title": false,
   "title_cell": "Table of Contents",
   "title_sidebar": "Contents",
   "toc_cell": false,
   "toc_position": {},
   "toc_section_display": true,
   "toc_window_display": false
  },
  "varInspector": {
   "cols": {
    "lenName": 16,
    "lenType": 16,
    "lenVar": 40
   },
   "kernels_config": {
    "python": {
     "delete_cmd_postfix": "",
     "delete_cmd_prefix": "del ",
     "library": "var_list.py",
     "varRefreshCmd": "print(var_dic_list())"
    },
    "r": {
     "delete_cmd_postfix": ") ",
     "delete_cmd_prefix": "rm(",
     "library": "var_list.r",
     "varRefreshCmd": "cat(var_dic_list()) "
    }
   },
   "types_to_exclude": [
    "module",
    "function",
    "builtin_function_or_method",
    "instance",
    "_Feature"
   ],
   "window_display": false
  }
 },
 "nbformat": 4,
 "nbformat_minor": 2
}
